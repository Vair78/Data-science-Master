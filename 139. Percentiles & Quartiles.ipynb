{
 "cells": [
  {
   "cell_type": "markdown",
   "id": "7382c78c-72ce-4f0f-b388-615a4f11e16e",
   "metadata": {},
   "source": [
    "# 139. Percentiles & Quartiles"
   ]
  },
  {
   "cell_type": "markdown",
   "id": "529c6407-da68-468b-8c2d-82aee0d4168d",
   "metadata": {},
   "source": [
    "* Percentiles\n",
    "\n",
    "A percentile is a measure at which that percentage of the total values are the same as or below that measure. For example, 90% of the data values lie below the 90th percentile, whereas 10% of the data values lie below the 10th percentile.\n",
    "\n",
    "Percentage = 1,2,3,4,5,6\n",
    "% of the numbers that are odd:  % of the odd = 3/6 =1/2 = 50%\n",
    "\n",
    "* Percentiles :\" A percentiles is a values below which a centain percentage of observation or data points lie\"\n",
    "\n",
    "\n",
    "\n",
    "\n",
    "\n",
    "* Quartiles\n",
    "\n",
    "Quartiles are values that divide a (part of a) data table into four groups containing an approximately equal number of observations. The total of 100% is split into four equal parts: 25%, 50%, 75% and 100%."
   ]
  },
  {
   "cell_type": "markdown",
   "id": "ab7fce89-883a-4a50-ad40-dbfb44c94aaa",
   "metadata": {},
   "source": [
    "* Percentiles\n",
    "\n",
    "x = {2,3,3,4,6,6,6,7,8,8,9,9,10,11,12}\n",
    "\n",
    "Q 1. 75 percentiles = 75% of the entire distribution fall belwo the  75 percentile values\n",
    "x =10\n",
    "\n",
    "Perntile  range  of 10 = # of vallues belwo 10 / n * 100\n",
    "= 12/15/*100    # number below 10\n",
    "Outcome = 80 Percntiles\n",
    "\n",
    "\n",
    "Q2. What values exist at precntiles 25 ?\n",
    "\n",
    "\n",
    "formula = perntiles /100 * (n+1)\n",
    "\n",
    "= 25/100 * 15\n",
    "= 4 = Index values ( start with 1 so in x at 4th number is  4)"
   ]
  },
  {
   "cell_type": "markdown",
   "id": "857b1c87-a570-4b1b-855b-99233e4fa5cb",
   "metadata": {},
   "source": [
    "## Percentiles\n",
    "Percentiles are values that separate the data into 100 equal parts.\n",
    "\n",
    "For example, The 95th percentile separates the lowest 95% of the values from the top 5%\n",
    "\n",
    "The 25th percentile (P25%) is the same as the first quartile (Q1).\n",
    "\n",
    "The 50th percentile (P50%) is the same as the second quartile (Q2) and the median.\n",
    "\n",
    "The 75th percentile (P75%) is the same as the third quartile (Q3)"
   ]
  },
  {
   "cell_type": "markdown",
   "id": "0e71d4b6-e789-4a2c-9d02-acddfc504244",
   "metadata": {},
   "source": [
    "Example1. \n",
    "With Python use the NumPy library percentile() method to find the 65th percentile of the values 13, 21, 21, 40, 42, 48, 55, 72:"
   ]
  },
  {
   "cell_type": "code",
   "execution_count": 18,
   "id": "bf9394cc-1cd2-4403-80f8-003bae650349",
   "metadata": {},
   "outputs": [
    {
     "name": "stdout",
     "output_type": "stream",
     "text": [
      "41.0\n"
     ]
    }
   ],
   "source": [
    "import numpy as np\n",
    "values =[ 13,21,21,40,42,48,55,72]\n",
    "\n",
    "X = np.percentile(values,50)   # 50th percentile \n",
    "\n",
    "print(X)"
   ]
  },
  {
   "cell_type": "code",
   "execution_count": null,
   "id": "7c719935-173e-450b-a518-e68b110d79d4",
   "metadata": {},
   "outputs": [],
   "source": []
  },
  {
   "cell_type": "markdown",
   "id": "8bee539b-388e-4ea0-a3c9-ca212bbdf43d",
   "metadata": {},
   "source": [
    "# Quartiles\n",
    "\n",
    "Q1 = 25 percentile \n",
    "Q2 = 50 (Medion)\n",
    "Q3 = 75 percentile\n",
    "\n",
    "Quartiles\n",
    "Quartiles are values that separate the data into four equal parts.\n",
    "\n"
   ]
  },
  {
   "cell_type": "markdown",
   "id": "091be25e-4942-4d35-aec7-2daa30e17416",
   "metadata": {},
   "source": [
    "The quartiles (Q0,Q1,Q2,Q3,Q4) are the values that separate each quarter.\n",
    "\n",
    "Between Q0 and Q1 are the 25% lowest values in the data. Between Q1 and Q2 are the next 25%. And so on.\n",
    "\n",
    "- Q0 is the smallest value in the data.\n",
    "- Q1 is the value separating the first quarter from the second quarter of the data.\n",
    "- Q2 is the middle value (median), separating the bottom from the top half.\n",
    "- Q3 is the value separating the third quarter from the fourth quarter\n",
    "- Q4 is the largest value in the data.\n"
   ]
  },
  {
   "cell_type": "markdown",
   "id": "b52b35ab-0ce5-45b4-8aec-a926800abc20",
   "metadata": {},
   "source": [
    "# # Calculating Quartiles with Programming\n",
    "Quartiles can easily be found with many programming languages."
   ]
  },
  {
   "cell_type": "markdown",
   "id": "dafafb8c-8d34-4b57-bbd9-65ef654c9651",
   "metadata": {},
   "source": [
    "Q1.Example\n",
    "With Python use the NumPy library quantile() method to find the quartiles of the values 13, 21, 21, 40, 42, 48, 55, 72:"
   ]
  },
  {
   "cell_type": "code",
   "execution_count": 16,
   "id": "2e4562aa-59dc-4c0a-b30c-ae6721ac42a8",
   "metadata": {},
   "outputs": [
    {
     "name": "stdout",
     "output_type": "stream",
     "text": [
      "47.4\n"
     ]
    }
   ],
   "source": [
    "import numpy as np\n",
    "values = [13,21,21,40,42,48,55,72]\n",
    "\n",
    "x = np.quantile(values,0.7)   # 0.7 it can be = 0,0.25,0.50,0.75,1 (0 to 1)\n",
    "\n",
    "print(x)"
   ]
  },
  {
   "cell_type": "code",
   "execution_count": null,
   "id": "f1174656-a393-4c8c-92e6-f5b7da18c33e",
   "metadata": {},
   "outputs": [],
   "source": []
  }
 ],
 "metadata": {
  "kernelspec": {
   "display_name": "Python 3 (ipykernel)",
   "language": "python",
   "name": "python3"
  },
  "language_info": {
   "codemirror_mode": {
    "name": "ipython",
    "version": 3
   },
   "file_extension": ".py",
   "mimetype": "text/x-python",
   "name": "python",
   "nbconvert_exporter": "python",
   "pygments_lexer": "ipython3",
   "version": "3.10.8"
  }
 },
 "nbformat": 4,
 "nbformat_minor": 5
}
