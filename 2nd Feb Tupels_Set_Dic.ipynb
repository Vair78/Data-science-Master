{
 "cells": [
  {
   "cell_type": "markdown",
   "id": "90b5460e-85ba-49c7-a835-c25b1d1c605f",
   "metadata": {},
   "source": [
    "### Tuples"
   ]
  },
  {
   "cell_type": "code",
   "execution_count": 270,
   "id": "f7c96515-4496-446a-9271-6df2ccde6fd4",
   "metadata": {},
   "outputs": [],
   "source": [
    "t=()"
   ]
  },
  {
   "cell_type": "code",
   "execution_count": 271,
   "id": "3ea359c5-c766-46af-9345-1212bd264c08",
   "metadata": {},
   "outputs": [
    {
     "data": {
      "text/plain": [
       "tuple"
      ]
     },
     "execution_count": 271,
     "metadata": {},
     "output_type": "execute_result"
    }
   ],
   "source": [
    "type(t)"
   ]
  },
  {
   "cell_type": "markdown",
   "id": "4ab085fe-9494-4222-97dd-3d5cd7d2ecf2",
   "metadata": {},
   "source": [
    "t1=(1,2,3,4,45,45.4,45+7j,\"sudh\",True)"
   ]
  },
  {
   "cell_type": "code",
   "execution_count": 272,
   "id": "137ef144-1c0c-4b42-9b5d-93caeb1b1c7b",
   "metadata": {},
   "outputs": [],
   "source": [
    "t1=(1,2,3,4,45,45.4,45+7j,\"sudh\",True)"
   ]
  },
  {
   "cell_type": "code",
   "execution_count": 273,
   "id": "22fb5119-355e-4733-8d2b-ee3dc4754ba7",
   "metadata": {},
   "outputs": [
    {
     "data": {
      "text/plain": [
       "tuple"
      ]
     },
     "execution_count": 273,
     "metadata": {},
     "output_type": "execute_result"
    }
   ],
   "source": [
    "type(t1)"
   ]
  },
  {
   "cell_type": "code",
   "execution_count": 274,
   "id": "c82ed2b9-5530-41e5-af4c-053fad140dce",
   "metadata": {},
   "outputs": [],
   "source": [
    "I=[1,2,3,4]"
   ]
  },
  {
   "cell_type": "code",
   "execution_count": 275,
   "id": "c7e63c72-83f2-41b1-ab07-4b01fa859511",
   "metadata": {},
   "outputs": [
    {
     "data": {
      "text/plain": [
       "list"
      ]
     },
     "execution_count": 275,
     "metadata": {},
     "output_type": "execute_result"
    }
   ],
   "source": [
    "type(I)"
   ]
  },
  {
   "cell_type": "code",
   "execution_count": 276,
   "id": "497b2278-d75e-4e00-bc12-628e29ab0b45",
   "metadata": {},
   "outputs": [
    {
     "data": {
      "text/plain": [
       "(1, 2, 3, 4, 45, 45.4, (45+7j), 'sudh', True)"
      ]
     },
     "execution_count": 276,
     "metadata": {},
     "output_type": "execute_result"
    }
   ],
   "source": [
    "t1"
   ]
  },
  {
   "cell_type": "code",
   "execution_count": 277,
   "id": "76858b40-6f35-4543-8850-91fd7dcb9f95",
   "metadata": {},
   "outputs": [
    {
     "data": {
      "text/plain": [
       "(45+7j)"
      ]
     },
     "execution_count": 277,
     "metadata": {},
     "output_type": "execute_result"
    }
   ],
   "source": [
    "t1[6]"
   ]
  },
  {
   "cell_type": "code",
   "execution_count": 278,
   "id": "66692aa1-15f1-4979-91cd-2dc63e8df72c",
   "metadata": {},
   "outputs": [],
   "source": [
    "t1= t1[::-1]  # Reverse order"
   ]
  },
  {
   "cell_type": "code",
   "execution_count": 279,
   "id": "3e00fc4d-ec00-4777-a1ea-b9dc05c380c5",
   "metadata": {},
   "outputs": [
    {
     "data": {
      "text/plain": [
       "(True, 'sudh', (45+7j), 45.4, 45, 4, 3, 2, 1)"
      ]
     },
     "execution_count": 279,
     "metadata": {},
     "output_type": "execute_result"
    }
   ],
   "source": [
    "t1"
   ]
  },
  {
   "cell_type": "code",
   "execution_count": 280,
   "id": "1f0a6df9-294e-4922-8055-e7d63bb3ccee",
   "metadata": {},
   "outputs": [
    {
     "data": {
      "text/plain": [
       "(True, 'sudh', (45+7j))"
      ]
     },
     "execution_count": 280,
     "metadata": {},
     "output_type": "execute_result"
    }
   ],
   "source": [
    "t1[0:3]         # This is called Slicing"
   ]
  },
  {
   "cell_type": "code",
   "execution_count": 281,
   "id": "6d4c1473-aab1-4e80-a922-a1f2435f4921",
   "metadata": {},
   "outputs": [
    {
     "data": {
      "text/plain": [
       "1"
      ]
     },
     "execution_count": 281,
     "metadata": {},
     "output_type": "execute_result"
    }
   ],
   "source": [
    "t1.count(4)   # how many time 4 is appear in t1"
   ]
  },
  {
   "cell_type": "code",
   "execution_count": 282,
   "id": "0b7a3b91-dcb7-4ddc-a59c-e7b15ac95b62",
   "metadata": {},
   "outputs": [
    {
     "data": {
      "text/plain": [
       "0"
      ]
     },
     "execution_count": 282,
     "metadata": {},
     "output_type": "execute_result"
    }
   ],
   "source": [
    "t1.count(\"abc\")"
   ]
  },
  {
   "cell_type": "code",
   "execution_count": 283,
   "id": "47cf510e-74ee-43ae-80ed-b27367530561",
   "metadata": {},
   "outputs": [
    {
     "data": {
      "text/plain": [
       "4"
      ]
     },
     "execution_count": 283,
     "metadata": {},
     "output_type": "execute_result"
    }
   ],
   "source": [
    "t1.index(45)   # it show where 45 in above tuples location"
   ]
  },
  {
   "cell_type": "code",
   "execution_count": 284,
   "id": "167319a4-52ed-44cc-b7f6-9752c789468e",
   "metadata": {},
   "outputs": [
    {
     "data": {
      "text/plain": [
       "(True, 'sudh', (45+7j), 45.4, 45, 4, 3, 2, 1)"
      ]
     },
     "execution_count": 284,
     "metadata": {},
     "output_type": "execute_result"
    }
   ],
   "source": [
    "t1"
   ]
  },
  {
   "cell_type": "code",
   "execution_count": 285,
   "id": "9f487994-72f0-4c2b-951d-9829801de80e",
   "metadata": {},
   "outputs": [
    {
     "data": {
      "text/plain": [
       "2"
      ]
     },
     "execution_count": 285,
     "metadata": {},
     "output_type": "execute_result"
    }
   ],
   "source": [
    "t1.count(True)   # its show True as output2 because system consider 1 as TRUE as"
   ]
  },
  {
   "cell_type": "code",
   "execution_count": 286,
   "id": "a8503608-0e29-4d7f-91ef-dd3980adf6c8",
   "metadata": {},
   "outputs": [
    {
     "data": {
      "text/plain": [
       "2"
      ]
     },
     "execution_count": 286,
     "metadata": {},
     "output_type": "execute_result"
    }
   ],
   "source": [
    "t1.count(1)        #its show True as output2 because system consider 1 as TRUE as"
   ]
  },
  {
   "cell_type": "code",
   "execution_count": 287,
   "id": "a2bb967f-3149-495a-a30b-db42ef5d92d9",
   "metadata": {},
   "outputs": [
    {
     "data": {
      "text/plain": [
       "[1, 2, 3, 4]"
      ]
     },
     "execution_count": 287,
     "metadata": {},
     "output_type": "execute_result"
    }
   ],
   "source": [
    "I"
   ]
  },
  {
   "cell_type": "code",
   "execution_count": 288,
   "id": "e28b89e7-93a3-4f71-8977-dd231f188e40",
   "metadata": {},
   "outputs": [
    {
     "data": {
      "text/plain": [
       "True"
      ]
     },
     "execution_count": 288,
     "metadata": {},
     "output_type": "execute_result"
    }
   ],
   "source": [
    "t1[0]"
   ]
  },
  {
   "cell_type": "markdown",
   "id": "2dd918c4-0241-4467-81b3-6923f39c45b9",
   "metadata": {},
   "source": [
    "\"\"\"Tuple are basically follow Imutability Concepts Where it is not going to allow to change\n",
    "element at a particular index\"\"\""
   ]
  },
  {
   "cell_type": "code",
   "execution_count": 289,
   "id": "006161ee-d08d-4fd1-8fe9-f8bfb4f3a59c",
   "metadata": {},
   "outputs": [
    {
     "ename": "TypeError",
     "evalue": "'tuple' object does not support item assignment",
     "output_type": "error",
     "traceback": [
      "\u001b[0;31m---------------------------------------------------------------------------\u001b[0m",
      "\u001b[0;31mTypeError\u001b[0m                                 Traceback (most recent call last)",
      "Cell \u001b[0;32mIn[289], line 1\u001b[0m\n\u001b[0;32m----> 1\u001b[0m \u001b[43mt1\u001b[49m\u001b[43m[\u001b[49m\u001b[38;5;241;43m0\u001b[39;49m\u001b[43m]\u001b[49m \u001b[38;5;241m=\u001b[39m \u001b[38;5;241m345\u001b[39m\n",
      "\u001b[0;31mTypeError\u001b[0m: 'tuple' object does not support item assignment"
     ]
    }
   ],
   "source": [
    "t1[0] = 345"
   ]
  },
  {
   "cell_type": "code",
   "execution_count": 290,
   "id": "7835b5d0-d8e3-495d-9a55-18ee76cd3cb0",
   "metadata": {},
   "outputs": [
    {
     "data": {
      "text/plain": [
       "[1, 2, 3, 4]"
      ]
     },
     "execution_count": 290,
     "metadata": {},
     "output_type": "execute_result"
    }
   ],
   "source": [
    "I"
   ]
  },
  {
   "cell_type": "code",
   "execution_count": 291,
   "id": "a08c5847-26d5-4870-8737-15bc76c4ae27",
   "metadata": {},
   "outputs": [
    {
     "data": {
      "text/plain": [
       "1"
      ]
     },
     "execution_count": 291,
     "metadata": {},
     "output_type": "execute_result"
    }
   ],
   "source": [
    "I[0]"
   ]
  },
  {
   "cell_type": "code",
   "execution_count": 292,
   "id": "60e1cd16-b1df-46a8-a8bb-1108c06f67eb",
   "metadata": {},
   "outputs": [],
   "source": [
    "I[0]=100"
   ]
  },
  {
   "cell_type": "code",
   "execution_count": 293,
   "id": "9f597810-4258-4d28-9f86-47ed60d3000a",
   "metadata": {},
   "outputs": [
    {
     "data": {
      "text/plain": [
       "[100, 2, 3, 4]"
      ]
     },
     "execution_count": 293,
     "metadata": {},
     "output_type": "execute_result"
    }
   ],
   "source": [
    "I"
   ]
  },
  {
   "cell_type": "code",
   "execution_count": 294,
   "id": "af084699-b923-4ec9-8bf7-9c3df7336b12",
   "metadata": {},
   "outputs": [
    {
     "data": {
      "text/plain": [
       "(True, 'sudh', (45+7j), 45.4, 45, 4, 3, 2, 1)"
      ]
     },
     "execution_count": 294,
     "metadata": {},
     "output_type": "execute_result"
    }
   ],
   "source": [
    "t1"
   ]
  },
  {
   "cell_type": "code",
   "execution_count": 295,
   "id": "73b00499-1ac4-47e5-b150-e2395b66e696",
   "metadata": {},
   "outputs": [
    {
     "name": "stdout",
     "output_type": "stream",
     "text": [
      "True\n",
      "sudh\n",
      "(45+7j)\n",
      "45.4\n",
      "45\n",
      "4\n",
      "3\n",
      "2\n",
      "1\n"
     ]
    }
   ],
   "source": [
    "for i in t1:\n",
    "    print(i)"
   ]
  },
  {
   "cell_type": "code",
   "execution_count": 296,
   "id": "d1497793-70ad-48a9-8d79-746623b9ecf4",
   "metadata": {},
   "outputs": [
    {
     "name": "stdout",
     "output_type": "stream",
     "text": [
      "True <class 'bool'>\n",
      "sudh <class 'str'>\n",
      "(45+7j) <class 'complex'>\n",
      "45.4 <class 'float'>\n",
      "45 <class 'int'>\n",
      "4 <class 'int'>\n",
      "3 <class 'int'>\n",
      "2 <class 'int'>\n",
      "1 <class 'int'>\n"
     ]
    }
   ],
   "source": [
    "for i in t1:          #it will show data type\n",
    "    print(i, type(i))"
   ]
  },
  {
   "cell_type": "code",
   "execution_count": 297,
   "id": "ae328d7d-e21f-49ca-a84a-dc57c9999797",
   "metadata": {},
   "outputs": [],
   "source": [
    "t2 = (1,2,3,3,4)"
   ]
  },
  {
   "cell_type": "code",
   "execution_count": 298,
   "id": "56fe8400-b973-4413-af78-6e59fba9fccc",
   "metadata": {},
   "outputs": [
    {
     "data": {
      "text/plain": [
       "(1, 2, 3, 3, 4)"
      ]
     },
     "execution_count": 298,
     "metadata": {},
     "output_type": "execute_result"
    }
   ],
   "source": [
    "t2"
   ]
  },
  {
   "cell_type": "code",
   "execution_count": 299,
   "id": "d83a5a23-8994-49c8-b1af-e9120674faf4",
   "metadata": {},
   "outputs": [
    {
     "data": {
      "text/plain": [
       "(1, 2, 3, 3, 4, 1, 2, 3, 3, 4, 1, 2, 3, 3, 4)"
      ]
     },
     "execution_count": 299,
     "metadata": {},
     "output_type": "execute_result"
    }
   ],
   "source": [
    "t2 * 3"
   ]
  },
  {
   "cell_type": "code",
   "execution_count": 300,
   "id": "f606464d-667a-4fe8-ad4a-4b5557cf522d",
   "metadata": {},
   "outputs": [
    {
     "data": {
      "text/plain": [
       "4"
      ]
     },
     "execution_count": 300,
     "metadata": {},
     "output_type": "execute_result"
    }
   ],
   "source": [
    "max(t2)"
   ]
  },
  {
   "cell_type": "code",
   "execution_count": 301,
   "id": "2285dbe8-1420-401c-8c2b-5a5e5e41c44c",
   "metadata": {},
   "outputs": [
    {
     "data": {
      "text/plain": [
       "1"
      ]
     },
     "execution_count": 301,
     "metadata": {},
     "output_type": "execute_result"
    }
   ],
   "source": [
    "min(t2)"
   ]
  },
  {
   "cell_type": "code",
   "execution_count": 302,
   "id": "12a208af-5ac5-4827-9edf-72fb3337be72",
   "metadata": {},
   "outputs": [],
   "source": [
    "t1 = (1,2,32,4)      ## Tuples inside tuples\n",
    "t2 = (4,5,6,7,8)"
   ]
  },
  {
   "cell_type": "code",
   "execution_count": 303,
   "id": "998a16ea-5af6-4a16-a2a8-055fd40d2e50",
   "metadata": {},
   "outputs": [],
   "source": [
    "t3 = (t1,t2)"
   ]
  },
  {
   "cell_type": "code",
   "execution_count": 304,
   "id": "1f4ec971-e682-49e2-b75b-8d2f8ecf493c",
   "metadata": {},
   "outputs": [
    {
     "data": {
      "text/plain": [
       "((1, 2, 32, 4), (4, 5, 6, 7, 8))"
      ]
     },
     "execution_count": 304,
     "metadata": {},
     "output_type": "execute_result"
    }
   ],
   "source": [
    "t3"
   ]
  },
  {
   "cell_type": "code",
   "execution_count": 305,
   "id": "644e924f-6731-4019-90a8-1800adaedc15",
   "metadata": {},
   "outputs": [],
   "source": [
    "t4= ((1,2,3,4,5,6),[1,2,3,45,6,88])"
   ]
  },
  {
   "cell_type": "code",
   "execution_count": 306,
   "id": "9272c4e4-a2b3-4ad0-8935-435add5c490e",
   "metadata": {},
   "outputs": [],
   "source": [
    "del t3              # this del can delete t3"
   ]
  },
  {
   "cell_type": "code",
   "execution_count": 307,
   "id": "8c18862f-93e1-4a37-bacf-abd1b0ccaebe",
   "metadata": {},
   "outputs": [
    {
     "ename": "NameError",
     "evalue": "name 't3' is not defined",
     "output_type": "error",
     "traceback": [
      "\u001b[0;31m---------------------------------------------------------------------------\u001b[0m",
      "\u001b[0;31mNameError\u001b[0m                                 Traceback (most recent call last)",
      "Cell \u001b[0;32mIn[307], line 1\u001b[0m\n\u001b[0;32m----> 1\u001b[0m \u001b[43mt3\u001b[49m         \u001b[38;5;66;03m#after that t3 are deleted\u001b[39;00m\n",
      "\u001b[0;31mNameError\u001b[0m: name 't3' is not defined"
     ]
    }
   ],
   "source": [
    "t3         #after that t3 are deleted"
   ]
  },
  {
   "cell_type": "code",
   "execution_count": 308,
   "id": "b63580b9-2657-4f22-bca5-0f42bc8b407c",
   "metadata": {},
   "outputs": [
    {
     "data": {
      "text/plain": [
       "(1, 2, 32, 4)"
      ]
     },
     "execution_count": 308,
     "metadata": {},
     "output_type": "execute_result"
    }
   ],
   "source": [
    "t1"
   ]
  },
  {
   "cell_type": "code",
   "execution_count": 309,
   "id": "61200c55-6789-4292-acd8-773c88a8ff70",
   "metadata": {},
   "outputs": [
    {
     "data": {
      "text/plain": [
       "4"
      ]
     },
     "execution_count": 309,
     "metadata": {},
     "output_type": "execute_result"
    }
   ],
   "source": [
    "len(t1)          # Lengh of t1"
   ]
  },
  {
   "cell_type": "code",
   "execution_count": 310,
   "id": "5b045068-c3c5-4c8c-a098-f5425e2c4e1f",
   "metadata": {},
   "outputs": [
    {
     "data": {
      "text/plain": [
       "(1, 2, 32, 4)"
      ]
     },
     "execution_count": 310,
     "metadata": {},
     "output_type": "execute_result"
    }
   ],
   "source": [
    "t1"
   ]
  },
  {
   "cell_type": "code",
   "execution_count": 311,
   "id": "4e734853-22e9-4700-a12f-914a025e9407",
   "metadata": {},
   "outputs": [
    {
     "data": {
      "text/plain": [
       "False"
      ]
     },
     "execution_count": 311,
     "metadata": {},
     "output_type": "execute_result"
    }
   ],
   "source": [
    "\"sudh\" in t1    # where can find any value is present or not in tuples."
   ]
  },
  {
   "cell_type": "code",
   "execution_count": 312,
   "id": "6ecdf2a5-a347-47c1-9f30-e203f98677f9",
   "metadata": {},
   "outputs": [
    {
     "data": {
      "text/plain": [
       "True"
      ]
     },
     "execution_count": 312,
     "metadata": {},
     "output_type": "execute_result"
    }
   ],
   "source": [
    "2 in t1              # We can find any value is present or not in tuples."
   ]
  },
  {
   "cell_type": "markdown",
   "id": "92f1f7f8-e70e-40b1-9905-1dd4228a212e",
   "metadata": {},
   "source": [
    "### SET"
   ]
  },
  {
   "cell_type": "code",
   "execution_count": 313,
   "id": "72a0efff-1f68-4114-af53-fac0e9358911",
   "metadata": {},
   "outputs": [],
   "source": [
    "##list = [ ]\n",
    "##tuple = ( )\n",
    "##dic = s{ }\n",
    "##Set = s {1}\n",
    "\n",
    "\n",
    "## Set alwasy keep only unique values in output mean it will delete duplicate values in output"
   ]
  },
  {
   "cell_type": "code",
   "execution_count": 314,
   "id": "2d5529f4-7e28-46ab-8ef6-f55b0a25e918",
   "metadata": {},
   "outputs": [],
   "source": [
    "s = { } "
   ]
  },
  {
   "cell_type": "code",
   "execution_count": 315,
   "id": "cd724039-be78-47b2-aea7-34db65152210",
   "metadata": {},
   "outputs": [
    {
     "data": {
      "text/plain": [
       "dict"
      ]
     },
     "execution_count": 315,
     "metadata": {},
     "output_type": "execute_result"
    }
   ],
   "source": [
    "type(s)"
   ]
  },
  {
   "cell_type": "code",
   "execution_count": 316,
   "id": "32790be3-af79-4939-bf51-a729653d47ae",
   "metadata": {},
   "outputs": [],
   "source": [
    "s1 = {1,2,3,45,6}"
   ]
  },
  {
   "cell_type": "code",
   "execution_count": 317,
   "id": "910c478c-5508-4643-bba2-06d2b4f9d8d8",
   "metadata": {},
   "outputs": [
    {
     "data": {
      "text/plain": [
       "set"
      ]
     },
     "execution_count": 317,
     "metadata": {},
     "output_type": "execute_result"
    }
   ],
   "source": [
    "type(s1)"
   ]
  },
  {
   "cell_type": "code",
   "execution_count": 318,
   "id": "2a5ee06a-acfe-41fc-8858-6ae2ab36d489",
   "metadata": {},
   "outputs": [],
   "source": [
    "s2 = {1,1,12,3,3,3,4,5,5,5,55,523,34,3,45,6,67}"
   ]
  },
  {
   "cell_type": "code",
   "execution_count": 319,
   "id": "fc959c51-50e4-4246-b5f0-03253b4e48ad",
   "metadata": {},
   "outputs": [
    {
     "data": {
      "text/plain": [
       "{1, 3, 4, 5, 6, 12, 34, 45, 55, 67, 523}"
      ]
     },
     "execution_count": 319,
     "metadata": {},
     "output_type": "execute_result"
    }
   ],
   "source": [
    "s2          # SEt is alwasy remove duplicate values and show only one in result"
   ]
  },
  {
   "cell_type": "code",
   "execution_count": 320,
   "id": "a8b0909b-7fe2-4646-af2a-a3834015d6ad",
   "metadata": {},
   "outputs": [
    {
     "data": {
      "text/plain": [
       "[1, 34, 3, 4, 5, 6, 67, 523, 12, 45, 55]"
      ]
     },
     "execution_count": 320,
     "metadata": {},
     "output_type": "execute_result"
    }
   ],
   "source": [
    "## Set convert into List\n",
    "\n",
    "list(s2)"
   ]
  },
  {
   "cell_type": "code",
   "execution_count": 321,
   "id": "e6e7d7c5-0621-4a76-b887-e0db8e44ba14",
   "metadata": {},
   "outputs": [
    {
     "data": {
      "text/plain": [
       "(1, 34, 3, 4, 5, 6, 67, 523, 12, 45, 55)"
      ]
     },
     "execution_count": 321,
     "metadata": {},
     "output_type": "execute_result"
    }
   ],
   "source": [
    "## Set convert into Tuples\n",
    "tuple(s2)"
   ]
  },
  {
   "cell_type": "code",
   "execution_count": 322,
   "id": "d851924b-f76c-448d-a239-2e4e89f80169",
   "metadata": {},
   "outputs": [],
   "source": [
    "l=list(s2)"
   ]
  },
  {
   "cell_type": "code",
   "execution_count": 323,
   "id": "f06f470b-e4f7-428c-898d-97eb31b26389",
   "metadata": {},
   "outputs": [
    {
     "data": {
      "text/plain": [
       "[1, 34, 3, 4, 5, 6, 67, 523, 12, 45, 55]"
      ]
     },
     "execution_count": 323,
     "metadata": {},
     "output_type": "execute_result"
    }
   ],
   "source": [
    "l"
   ]
  },
  {
   "cell_type": "code",
   "execution_count": 324,
   "id": "eceff27d-3522-4743-b0e9-747cb96db043",
   "metadata": {},
   "outputs": [
    {
     "data": {
      "text/plain": [
       "{1, 3, 4, 5, 6, 12, 34, 45, 55, 67, 523}"
      ]
     },
     "execution_count": 324,
     "metadata": {},
     "output_type": "execute_result"
    }
   ],
   "source": [
    "set(l)          # list convert into set"
   ]
  },
  {
   "cell_type": "code",
   "execution_count": 325,
   "id": "d36f11fe-14bc-4228-80d6-7e0e23fcf040",
   "metadata": {},
   "outputs": [
    {
     "ename": "TypeError",
     "evalue": "unhashable type: 'list'",
     "output_type": "error",
     "traceback": [
      "\u001b[0;31m---------------------------------------------------------------------------\u001b[0m",
      "\u001b[0;31mTypeError\u001b[0m                                 Traceback (most recent call last)",
      "Cell \u001b[0;32mIn[325], line 1\u001b[0m\n\u001b[0;32m----> 1\u001b[0m s4 \u001b[38;5;241m=\u001b[39m {\u001b[38;5;241m1\u001b[39m,\u001b[38;5;241m2\u001b[39m,\u001b[38;5;241m3\u001b[39m,\u001b[38;5;241m4\u001b[39m,[\u001b[38;5;241m1\u001b[39m,\u001b[38;5;241m2\u001b[39m,\u001b[38;5;241m3\u001b[39m,\u001b[38;5;241m4\u001b[39m]}      \u001b[38;5;66;03m# it does not allow list into set\u001b[39;00m\n",
      "\u001b[0;31mTypeError\u001b[0m: unhashable type: 'list'"
     ]
    }
   ],
   "source": [
    "s4 = {1,2,3,4,[1,2,3,4]}      # it does not allow list into set"
   ]
  },
  {
   "cell_type": "code",
   "execution_count": 326,
   "id": "e902d44c-4a44-4952-bad7-8f19dd588058",
   "metadata": {},
   "outputs": [],
   "source": [
    "s5 = {1,2,3,4,(1,2,3,4)}        # it allows set into tuples"
   ]
  },
  {
   "cell_type": "code",
   "execution_count": 327,
   "id": "c145a4fe-b7bf-4bb3-ad88-6cf04449df2a",
   "metadata": {},
   "outputs": [
    {
     "data": {
      "text/plain": [
       "{(1, 2, 3, 4), 1, 2, 3, 4}"
      ]
     },
     "execution_count": 327,
     "metadata": {},
     "output_type": "execute_result"
    }
   ],
   "source": [
    "s5"
   ]
  },
  {
   "cell_type": "code",
   "execution_count": 328,
   "id": "bb99920f-6934-4203-91d2-af6c3f3b9547",
   "metadata": {},
   "outputs": [],
   "source": [
    "s6 = {\"sudh\",\"SUDH\", 2,3,4,5}"
   ]
  },
  {
   "cell_type": "code",
   "execution_count": 329,
   "id": "88604fae-471a-4911-a844-9036740091b5",
   "metadata": {},
   "outputs": [
    {
     "data": {
      "text/plain": [
       "{2, 3, 4, 5, 'SUDH', 'sudh'}"
      ]
     },
     "execution_count": 329,
     "metadata": {},
     "output_type": "execute_result"
    }
   ],
   "source": [
    "s6           # Python is Case sensitive that why its keep both sudh and SUDH"
   ]
  },
  {
   "cell_type": "code",
   "execution_count": 330,
   "id": "7edcee5b-8810-423a-8bcd-0d5af66af21c",
   "metadata": {},
   "outputs": [],
   "source": [
    "s7 = {\"sudh\",\"sudh\", 2,3,4,5}"
   ]
  },
  {
   "cell_type": "code",
   "execution_count": 331,
   "id": "3260ff6d-8cf5-4379-a3a8-9098606d9d94",
   "metadata": {},
   "outputs": [
    {
     "ename": "TypeError",
     "evalue": "'set' object is not subscriptable",
     "output_type": "error",
     "traceback": [
      "\u001b[0;31m---------------------------------------------------------------------------\u001b[0m",
      "\u001b[0;31mTypeError\u001b[0m                                 Traceback (most recent call last)",
      "Cell \u001b[0;32mIn[331], line 1\u001b[0m\n\u001b[0;32m----> 1\u001b[0m \u001b[43ms7\u001b[49m\u001b[43m[\u001b[49m\u001b[38;5;241;43m0\u001b[39;49m\u001b[43m]\u001b[49m     \u001b[38;5;66;03m## Set object is not do indexing\u001b[39;00m\n",
      "\u001b[0;31mTypeError\u001b[0m: 'set' object is not subscriptable"
     ]
    }
   ],
   "source": [
    "s7[0]     ## Set object is not do indexing"
   ]
  },
  {
   "cell_type": "code",
   "execution_count": 332,
   "id": "0368e2f3-ef33-4630-aa35-f8c406b8c1fb",
   "metadata": {},
   "outputs": [
    {
     "ename": "TypeError",
     "evalue": "'set' object is not subscriptable",
     "output_type": "error",
     "traceback": [
      "\u001b[0;31m---------------------------------------------------------------------------\u001b[0m",
      "\u001b[0;31mTypeError\u001b[0m                                 Traceback (most recent call last)",
      "Cell \u001b[0;32mIn[332], line 1\u001b[0m\n\u001b[0;32m----> 1\u001b[0m \u001b[43ms7\u001b[49m\u001b[43m[\u001b[49m\u001b[43m:\u001b[49m\u001b[43m:\u001b[49m\u001b[38;5;241;43m-\u001b[39;49m\u001b[38;5;241;43m1\u001b[39;49m\u001b[43m]\u001b[49m         \u001b[38;5;66;03m# Reverse it not done in set operation\u001b[39;00m\n",
      "\u001b[0;31mTypeError\u001b[0m: 'set' object is not subscriptable"
     ]
    }
   ],
   "source": [
    "s7[::-1]         # Reverse it not done in set operation"
   ]
  },
  {
   "cell_type": "code",
   "execution_count": 333,
   "id": "d69e2045-1bd0-4769-aef4-e36fe5292c22",
   "metadata": {},
   "outputs": [
    {
     "data": {
      "text/plain": [
       "{2, 3, 4, 5, 'sudh'}"
      ]
     },
     "execution_count": 333,
     "metadata": {},
     "output_type": "execute_result"
    }
   ],
   "source": [
    "s7     ## with the help of for loop you can subtrack the value in set"
   ]
  },
  {
   "cell_type": "code",
   "execution_count": 334,
   "id": "19f0107a-4333-4a08-8255-8334cd4be9a9",
   "metadata": {},
   "outputs": [
    {
     "name": "stdout",
     "output_type": "stream",
     "text": [
      "2\n",
      "3\n",
      "4\n",
      "5\n",
      "sudh\n"
     ]
    }
   ],
   "source": [
    "for i in s7:\n",
    "    print(i)"
   ]
  },
  {
   "cell_type": "code",
   "execution_count": 335,
   "id": "8d1ab142-213c-49b0-8b92-8f4c59ed9856",
   "metadata": {},
   "outputs": [],
   "source": [
    "s7.add(12)        # Set can allow to add values"
   ]
  },
  {
   "cell_type": "code",
   "execution_count": 336,
   "id": "24856ea5-8ac3-47dc-b01d-04be5f69b74e",
   "metadata": {},
   "outputs": [
    {
     "data": {
      "text/plain": [
       "{12, 2, 3, 4, 5, 'sudh'}"
      ]
     },
     "execution_count": 336,
     "metadata": {},
     "output_type": "execute_result"
    }
   ],
   "source": [
    "s7"
   ]
  },
  {
   "cell_type": "code",
   "execution_count": 337,
   "id": "b3d5a0e8-55d3-4039-94e9-cc8ba584748d",
   "metadata": {},
   "outputs": [
    {
     "data": {
      "text/plain": [
       "6"
      ]
     },
     "execution_count": 337,
     "metadata": {},
     "output_type": "execute_result"
    }
   ],
   "source": [
    "len(s7)"
   ]
  },
  {
   "cell_type": "code",
   "execution_count": 338,
   "id": "afbb1659-092e-4e0e-a7fe-025f2aaeeded",
   "metadata": {},
   "outputs": [
    {
     "data": {
      "text/plain": [
       "2"
      ]
     },
     "execution_count": 338,
     "metadata": {},
     "output_type": "execute_result"
    }
   ],
   "source": [
    "s7.pop()      # it will delete lower value"
   ]
  },
  {
   "cell_type": "code",
   "execution_count": 339,
   "id": "178859e1-0e02-40a7-9339-0f1f1ea53a2b",
   "metadata": {},
   "outputs": [
    {
     "data": {
      "text/plain": [
       "3"
      ]
     },
     "execution_count": 339,
     "metadata": {},
     "output_type": "execute_result"
    }
   ],
   "source": [
    "s7.pop()     # it will delete lower value"
   ]
  },
  {
   "cell_type": "code",
   "execution_count": 340,
   "id": "59cd807a-c8c5-4f58-b859-bd7eb5416849",
   "metadata": {},
   "outputs": [
    {
     "data": {
      "text/plain": [
       "4"
      ]
     },
     "execution_count": 340,
     "metadata": {},
     "output_type": "execute_result"
    }
   ],
   "source": [
    "s7.pop() "
   ]
  },
  {
   "cell_type": "code",
   "execution_count": 341,
   "id": "05443c12-98bf-45a4-bb9d-a56aaf926c32",
   "metadata": {},
   "outputs": [
    {
     "data": {
      "text/plain": [
       "{12, 5, 'sudh'}"
      ]
     },
     "execution_count": 341,
     "metadata": {},
     "output_type": "execute_result"
    }
   ],
   "source": [
    "s7"
   ]
  },
  {
   "cell_type": "code",
   "execution_count": 342,
   "id": "1f26780d-9553-4374-9865-ce75c93e7925",
   "metadata": {},
   "outputs": [],
   "source": [
    "s7.clear()        # it will clear all the element or delete all the value"
   ]
  },
  {
   "cell_type": "code",
   "execution_count": 343,
   "id": "1c1e14aa-8123-4418-8fbb-b3c8297a485a",
   "metadata": {},
   "outputs": [
    {
     "data": {
      "text/plain": [
       "set()"
      ]
     },
     "execution_count": 343,
     "metadata": {},
     "output_type": "execute_result"
    }
   ],
   "source": [
    "s7"
   ]
  },
  {
   "cell_type": "code",
   "execution_count": 344,
   "id": "209779da-6b43-411d-9281-a889fe07cbae",
   "metadata": {},
   "outputs": [],
   "source": [
    "s8= {1,2,3,6}\n",
    "s9= {1,2,3,4}"
   ]
  },
  {
   "cell_type": "code",
   "execution_count": 345,
   "id": "7784eb17-472a-41cf-b6bd-6bfbe883e36c",
   "metadata": {},
   "outputs": [
    {
     "data": {
      "text/plain": [
       "{6}"
      ]
     },
     "execution_count": 345,
     "metadata": {},
     "output_type": "execute_result"
    }
   ],
   "source": [
    "s8.difference(s9)"
   ]
  },
  {
   "cell_type": "code",
   "execution_count": 346,
   "id": "468f2e82-b1c2-41a6-9710-04e51a524b1d",
   "metadata": {},
   "outputs": [
    {
     "data": {
      "text/plain": [
       "{4}"
      ]
     },
     "execution_count": 346,
     "metadata": {},
     "output_type": "execute_result"
    }
   ],
   "source": [
    "s9.difference(s8)"
   ]
  },
  {
   "cell_type": "code",
   "execution_count": null,
   "id": "d14e3ddc-6358-437f-a57d-b8068cb0afa2",
   "metadata": {},
   "outputs": [],
   "source": []
  },
  {
   "cell_type": "markdown",
   "id": "83d9280a-3728-4069-a24a-6bcc69ddc8f4",
   "metadata": {},
   "source": [
    "### DICTIONARY"
   ]
  },
  {
   "cell_type": "code",
   "execution_count": 347,
   "id": "4d8cfd20-c362-42b0-811c-84dbc401e2d9",
   "metadata": {},
   "outputs": [],
   "source": [
    " d = {} "
   ]
  },
  {
   "cell_type": "code",
   "execution_count": 348,
   "id": "d571656f-bbf3-4516-a278-fbf95ecbb17e",
   "metadata": {},
   "outputs": [
    {
     "data": {
      "text/plain": [
       "dict"
      ]
     },
     "execution_count": 348,
     "metadata": {},
     "output_type": "execute_result"
    }
   ],
   "source": [
    "type(d)"
   ]
  },
  {
   "cell_type": "code",
   "execution_count": 349,
   "id": "bbaef9c6-e1ca-4d5b-a1da-567c6c693398",
   "metadata": {},
   "outputs": [],
   "source": [
    "d1 = {\"name\" : \"Sudh\", \"email_id\" : \"ss@gmail.com\", \"number\": 123456789}"
   ]
  },
  {
   "cell_type": "code",
   "execution_count": 350,
   "id": "f877c144-fdd3-45af-8a14-ea11069f00d5",
   "metadata": {},
   "outputs": [
    {
     "data": {
      "text/plain": [
       "dict"
      ]
     },
     "execution_count": 350,
     "metadata": {},
     "output_type": "execute_result"
    }
   ],
   "source": [
    "type(d1)"
   ]
  },
  {
   "cell_type": "code",
   "execution_count": 351,
   "id": "0c0a9cdf-2072-4ea1-b9d2-021cc355d52a",
   "metadata": {},
   "outputs": [
    {
     "data": {
      "text/plain": [
       "{'name': 'Sudh', 'email_id': 'ss@gmail.com', 'number': 123456789}"
      ]
     },
     "execution_count": 351,
     "metadata": {},
     "output_type": "execute_result"
    }
   ],
   "source": [
    "d1       # Key : value , key : value , key : value"
   ]
  },
  {
   "cell_type": "code",
   "execution_count": 352,
   "id": "68a5fcb9-f0da-4f26-a6db-2af65e61f5da",
   "metadata": {},
   "outputs": [],
   "source": [
    "d2 = {\"name\" : \"Sudh\" , \" name \" : \"sudhanshu\"}"
   ]
  },
  {
   "cell_type": "code",
   "execution_count": 353,
   "id": "befe93c5-1dfa-42e8-8373-0c4e84df1ae1",
   "metadata": {},
   "outputs": [
    {
     "data": {
      "text/plain": [
       "{'name': 'Sudh', ' name ': 'sudhanshu'}"
      ]
     },
     "execution_count": 353,
     "metadata": {},
     "output_type": "execute_result"
    }
   ],
   "source": [
    "d2       # key cannot be duplicate "
   ]
  },
  {
   "cell_type": "code",
   "execution_count": 354,
   "id": "8f129191-2647-4837-82e6-efd8c07aa039",
   "metadata": {},
   "outputs": [],
   "source": [
    "d3 = { 234234 : \"abc\"}"
   ]
  },
  {
   "cell_type": "code",
   "execution_count": 355,
   "id": "0586cd50-ffaf-49f5-a790-6b38fed4c4cf",
   "metadata": {},
   "outputs": [
    {
     "data": {
      "text/plain": [
       "{234234: 'abc'}"
      ]
     },
     "execution_count": 355,
     "metadata": {},
     "output_type": "execute_result"
    }
   ],
   "source": [
    "d3"
   ]
  },
  {
   "cell_type": "code",
   "execution_count": 356,
   "id": "87ed98eb-35d1-41bc-a710-beb3d0b74cd7",
   "metadata": {},
   "outputs": [],
   "source": [
    "d4 = {234.45 : \"abl\"}"
   ]
  },
  {
   "cell_type": "code",
   "execution_count": 357,
   "id": "fa803288-df6d-43ac-bc7b-025430e3513c",
   "metadata": {},
   "outputs": [],
   "source": [
    "d5 ={True : \" ABE\"}"
   ]
  },
  {
   "cell_type": "code",
   "execution_count": 358,
   "id": "fc591c52-b226-45eb-829d-e8485a219086",
   "metadata": {},
   "outputs": [],
   "source": [
    "# in DIC Key can be boolen, string, float, integer"
   ]
  },
  {
   "cell_type": "code",
   "execution_count": 359,
   "id": "3d0c0cb5-0aeb-4875-8a21-c819337dfe8a",
   "metadata": {},
   "outputs": [
    {
     "ename": "SyntaxError",
     "evalue": "incomplete input (3632194232.py, line 1)",
     "output_type": "error",
     "traceback": [
      "\u001b[0;36m  Cell \u001b[0;32mIn[359], line 1\u001b[0;36m\u001b[0m\n\u001b[0;31m    d6 = { # : \"abc\"}         #Key cannot be special charater\u001b[0m\n\u001b[0m                                                             ^\u001b[0m\n\u001b[0;31mSyntaxError\u001b[0m\u001b[0;31m:\u001b[0m incomplete input\n"
     ]
    }
   ],
   "source": [
    "d6 = { # : \"abc\"}         #Key cannot be special charater"
   ]
  },
  {
   "cell_type": "code",
   "execution_count": null,
   "id": "ebba74f3-0c10-407a-9093-66f40e5d7c55",
   "metadata": {},
   "outputs": [],
   "source": [
    "d7 = {@ : \"abce\"}        #Key cannot be special charater but you can od in \" @\" "
   ]
  },
  {
   "cell_type": "code",
   "execution_count": null,
   "id": "fb3403f6-0b20-4834-950c-3efbe77829d0",
   "metadata": {},
   "outputs": [],
   "source": [
    "d8 = {[1,2,3] : \"ABC\"}          #list cannot be as KEY"
   ]
  },
  {
   "cell_type": "code",
   "execution_count": null,
   "id": "7928d878-d3f3-4b98-b506-6594802ac9e0",
   "metadata": {},
   "outputs": [],
   "source": [
    "d9 = {(1,2,3) : \"ABC\"}          #Tuples can be Key it will work"
   ]
  },
  {
   "cell_type": "code",
   "execution_count": null,
   "id": "dce60119-e4d6-496c-b326-fbe3b3fd366f",
   "metadata": {},
   "outputs": [],
   "source": [
    "d9"
   ]
  },
  {
   "cell_type": "code",
   "execution_count": null,
   "id": "c723ec40-0f02-4a5c-9b83-f7832b6049a6",
   "metadata": {},
   "outputs": [],
   "source": [
    "d10 = {{1,2,3,4} : \"ABC\"}     #Set cannot be Key in Dic"
   ]
  },
  {
   "cell_type": "code",
   "execution_count": null,
   "id": "34df83e6-a19a-4e68-9f28-4083abfb8c21",
   "metadata": {},
   "outputs": [],
   "source": [
    "d11 = {{\"key\":234}: \"abce\"}     "
   ]
  },
  {
   "cell_type": "code",
   "execution_count": null,
   "id": "be1d9fb6-4239-4c79-884b-1f05b4778ddf",
   "metadata": {},
   "outputs": [],
   "source": [
    "d12 = {\"course_name\": [\"data science\", \"web dec\" , \"java with sda\" ]}"
   ]
  },
  {
   "cell_type": "code",
   "execution_count": null,
   "id": "75ec724d-349c-4660-bc1d-e6694b0826c0",
   "metadata": {},
   "outputs": [],
   "source": [
    "d12"
   ]
  },
  {
   "cell_type": "code",
   "execution_count": null,
   "id": "21375cc9-8b7a-4b0f-8a23-ba12a67a3c48",
   "metadata": {},
   "outputs": [],
   "source": [
    "d13 = { \" key\" : (1,2,3,4,5)}   # Value can be Tuples"
   ]
  },
  {
   "cell_type": "code",
   "execution_count": null,
   "id": "eb0870a0-e10b-406d-a45e-2d24470f1701",
   "metadata": {},
   "outputs": [],
   "source": [
    "d14 = {\"key\" : {1,2,3,4}}      # Value can be Set, list"
   ]
  },
  {
   "cell_type": "code",
   "execution_count": null,
   "id": "4b3928bd-5834-4a38-b4a3-c6c337f3d846",
   "metadata": {},
   "outputs": [],
   "source": [
    "d15 = {\"key\": {\"name\" : \"sudhanshu\", \" class\" : \"DSM\"}}"
   ]
  },
  {
   "cell_type": "code",
   "execution_count": null,
   "id": "ca7ac519-c313-4c60-a9d2-52153ec34bf5",
   "metadata": {},
   "outputs": [],
   "source": [
    "d15       # Value can be dic  mean dic in dic its called nested dictionary"
   ]
  },
  {
   "cell_type": "code",
   "execution_count": null,
   "id": "d7b203b7-158d-4e23-9992-7959ba01416a",
   "metadata": {},
   "outputs": [],
   "source": [
    "d16 = {\"batch_name\" : [\"data science master\", \"web dev\", \" JDS\"], \"start_date\":(28,14,21), \"mentor_name\" :{ \"Krish Naik\", \"Sudhanshu\", \"hitesh\", \"Naveen\", \"Haider\"}}"
   ]
  },
  {
   "cell_type": "code",
   "execution_count": null,
   "id": "b9cc3b99-24fd-4016-852e-bdb6cfaa5c91",
   "metadata": {},
   "outputs": [],
   "source": [
    "d16"
   ]
  },
  {
   "cell_type": "code",
   "execution_count": null,
   "id": "1d7257d2-76ca-4293-aa3c-0815e79410af",
   "metadata": {},
   "outputs": [],
   "source": [
    "## Can you add new key andvalue in above dic\n",
    "\n",
    "d16[\"timing\"]= (8,8,8,)"
   ]
  },
  {
   "cell_type": "code",
   "execution_count": null,
   "id": "5176e516-69b0-4f34-b2e5-89c16b8a650a",
   "metadata": {},
   "outputs": [],
   "source": [
    "d16"
   ]
  },
  {
   "cell_type": "code",
   "execution_count": null,
   "id": "698d511e-e89c-49a5-abcf-805a8e7276d2",
   "metadata": {},
   "outputs": [],
   "source": [
    "# can you please extract the particular data from dic\n",
    "# key is behave like index\n",
    "\n",
    "d16[\"batch_name\"]\n",
    "\n"
   ]
  },
  {
   "cell_type": "code",
   "execution_count": null,
   "id": "1b2aa15f-a937-4065-a140-bf2c1f14f3a5",
   "metadata": {},
   "outputs": [],
   "source": [
    "d16[\"mentor_name\"]"
   ]
  },
  {
   "cell_type": "code",
   "execution_count": null,
   "id": "d7151c91-ac1a-4c6d-8ce3-225c82e66a14",
   "metadata": {},
   "outputs": [],
   "source": [
    "d16[\"key\"]            # if you find invalide value or key in dic"
   ]
  },
  {
   "cell_type": "code",
   "execution_count": null,
   "id": "6ab16f5a-02e3-40b5-8c96-3e8e0fd7f05e",
   "metadata": {},
   "outputs": [],
   "source": [
    "d16[\"name\"]= \"vaibhav\""
   ]
  },
  {
   "cell_type": "code",
   "execution_count": null,
   "id": "ad86f362-4398-4451-a867-fa2e8adf2c2b",
   "metadata": {},
   "outputs": [],
   "source": [
    "d16"
   ]
  },
  {
   "cell_type": "code",
   "execution_count": null,
   "id": "2b44ca22-826d-401f-be6a-46f77482c182",
   "metadata": {},
   "outputs": [],
   "source": [
    "d16[\"name\"].upper()"
   ]
  },
  {
   "cell_type": "code",
   "execution_count": null,
   "id": "01478b9f-7e64-437c-a35e-2c89c11b38b3",
   "metadata": {},
   "outputs": [],
   "source": [
    "d15"
   ]
  },
  {
   "cell_type": "code",
   "execution_count": null,
   "id": "6cbbfa91-031a-4a35-ae89-f6b0b9229a57",
   "metadata": {},
   "outputs": [],
   "source": [
    "d15[\"key\"]"
   ]
  },
  {
   "cell_type": "code",
   "execution_count": null,
   "id": "621afeec-e13e-45ef-a2ec-d307a2fc522b",
   "metadata": {},
   "outputs": [],
   "source": [
    "type(d15[\"key\"])"
   ]
  },
  {
   "cell_type": "code",
   "execution_count": null,
   "id": "6a9a0e43-a940-4982-8d31-3fa057d8e155",
   "metadata": {},
   "outputs": [],
   "source": [
    "d15['key'][' class']"
   ]
  },
  {
   "cell_type": "code",
   "execution_count": null,
   "id": "0af1b78a-ce39-465f-9a10-4cf7eafa6986",
   "metadata": {},
   "outputs": [],
   "source": [
    "d15"
   ]
  },
  {
   "cell_type": "code",
   "execution_count": null,
   "id": "754978b3-8530-4088-847c-db855db79fd0",
   "metadata": {},
   "outputs": [],
   "source": [
    "d15[\"key1\"]=\"AVC\""
   ]
  },
  {
   "cell_type": "code",
   "execution_count": null,
   "id": "d5ad1422-1237-45a0-a213-0a9a51446e96",
   "metadata": {},
   "outputs": [],
   "source": [
    "d15"
   ]
  },
  {
   "cell_type": "code",
   "execution_count": null,
   "id": "8d87a634-a4a9-4670-91c8-1ed0408d2a79",
   "metadata": {},
   "outputs": [],
   "source": [
    "# delete or not key1\n",
    "\n",
    "del d15[\"key1\"]"
   ]
  },
  {
   "cell_type": "code",
   "execution_count": null,
   "id": "2fb0d8aa-5956-4d9f-82d2-d2e5643fb84b",
   "metadata": {},
   "outputs": [],
   "source": [
    "d15"
   ]
  },
  {
   "cell_type": "code",
   "execution_count": null,
   "id": "2d7edd66-14b1-4009-9b13-21a868029fca",
   "metadata": {},
   "outputs": [],
   "source": [
    "d15.clear()     ## it will clear all the dic"
   ]
  },
  {
   "cell_type": "code",
   "execution_count": null,
   "id": "3db8e71d-ce5c-415e-bd09-16f30926bcb1",
   "metadata": {},
   "outputs": [],
   "source": [
    "d15"
   ]
  },
  {
   "cell_type": "code",
   "execution_count": null,
   "id": "ab7fb77a-edff-4fc8-b634-b7a283c74ae2",
   "metadata": {},
   "outputs": [],
   "source": [
    "len(d16)"
   ]
  },
  {
   "cell_type": "code",
   "execution_count": null,
   "id": "84259626-7dde-47f0-a261-a0c91131bc8a",
   "metadata": {},
   "outputs": [],
   "source": [
    "d16"
   ]
  },
  {
   "cell_type": "code",
   "execution_count": null,
   "id": "846d7870-4514-4d65-ab1d-f5bd6e1215e1",
   "metadata": {},
   "outputs": [],
   "source": [
    "# Can you extract all the key from dic using kyes function\n",
    "\n",
    "d16.keys()"
   ]
  },
  {
   "cell_type": "code",
   "execution_count": null,
   "id": "de0edf2f-2b37-4981-8fba-410e3534bc02",
   "metadata": {},
   "outputs": [],
   "source": [
    "d16.values()     # extracted all the values from dic"
   ]
  },
  {
   "cell_type": "code",
   "execution_count": null,
   "id": "9799b86d-36c2-4a92-8087-ed4908aceb69",
   "metadata": {},
   "outputs": [],
   "source": [
    "## Do convert values into list \n",
    "\n",
    "list(d16.values())"
   ]
  },
  {
   "cell_type": "code",
   "execution_count": null,
   "id": "ff5c9013-729f-4ed5-aca8-f86436ec5a84",
   "metadata": {},
   "outputs": [],
   "source": [
    "list(d16.keys())    ## Converted all keys into Lists"
   ]
  },
  {
   "cell_type": "code",
   "execution_count": null,
   "id": "0fc2ce24-3f22-4a53-97df-388457d67795",
   "metadata": {},
   "outputs": [],
   "source": [
    "# Try to extract Key and values into list both one time\n",
    "\n",
    "d16.items()"
   ]
  },
  {
   "cell_type": "code",
   "execution_count": null,
   "id": "776d8ffd-d053-48b5-aacd-e6cb1c80d4a8",
   "metadata": {},
   "outputs": [],
   "source": [
    "list(d16.items())"
   ]
  },
  {
   "cell_type": "code",
   "execution_count": null,
   "id": "51eb7ec7-b569-4caa-bcdc-2e8a582ae6cc",
   "metadata": {},
   "outputs": [],
   "source": [
    "d16"
   ]
  },
  {
   "cell_type": "code",
   "execution_count": null,
   "id": "7650303a-b487-4d28-b23c-c32c982ff934",
   "metadata": {},
   "outputs": [],
   "source": [
    "# Please make REplica of d16 dic\n",
    "# this is deep copy and resver new space and copy the data if you do change it will not effect in new copied data\n",
    "\n",
    "d17 = d16.copy()"
   ]
  },
  {
   "cell_type": "code",
   "execution_count": null,
   "id": "34054067-fdc7-40e4-98d9-6668567fb54d",
   "metadata": {},
   "outputs": [],
   "source": [
    "d17"
   ]
  },
  {
   "cell_type": "code",
   "execution_count": null,
   "id": "0f9cb0a9-7bd8-4003-ba57-4335d61d6a61",
   "metadata": {},
   "outputs": [],
   "source": [
    "del d16['name']"
   ]
  },
  {
   "cell_type": "code",
   "execution_count": null,
   "id": "963e3cd4-2e2d-452b-8bc2-2b7643defb5e",
   "metadata": {},
   "outputs": [],
   "source": [
    "d18 = d16        # create REplica of d16 dic This will not create new memoer or space"
   ]
  },
  {
   "cell_type": "code",
   "execution_count": null,
   "id": "678bd50b-894d-402b-ab51-7eff87619676",
   "metadata": {},
   "outputs": [],
   "source": [
    "d18"
   ]
  },
  {
   "cell_type": "code",
   "execution_count": null,
   "id": "f7d2d04c-f465-4e22-8925-ecf4d2d7b167",
   "metadata": {},
   "outputs": [],
   "source": [
    "d16.pop('timing')         # it will delete the timing key"
   ]
  },
  {
   "cell_type": "code",
   "execution_count": null,
   "id": "7123f215-7cdd-4848-9889-bbcbccdc8fbd",
   "metadata": {},
   "outputs": [],
   "source": [
    "d16\n"
   ]
  },
  {
   "cell_type": "code",
   "execution_count": null,
   "id": "8bd50239-6500-49dd-a9cb-d91b6a092496",
   "metadata": {},
   "outputs": [],
   "source": [
    "d.fromkeys((1,2,3),('a','b','v'))"
   ]
  },
  {
   "cell_type": "code",
   "execution_count": null,
   "id": "ab66289d-ddd8-4e52-9da4-770a400d399e",
   "metadata": {},
   "outputs": [],
   "source": [
    "d19 = {\"key1\": \"value\", \"key2\": \"value2\" }\n",
    "d20  = {\"key3\": \"value3\", \"key4\": \"value4\" }"
   ]
  },
  {
   "cell_type": "code",
   "execution_count": null,
   "id": "c2e6c90b-7783-4964-9f73-b920c87a2876",
   "metadata": {},
   "outputs": [],
   "source": [
    "(d19,d20)      # dic inside tuple it allowed"
   ]
  },
  {
   "cell_type": "code",
   "execution_count": null,
   "id": "d4e14e81-4001-4a82-a260-c5d578e35793",
   "metadata": {},
   "outputs": [],
   "source": [
    "d19.update(d20)"
   ]
  },
  {
   "cell_type": "code",
   "execution_count": null,
   "id": "48895446-4a2a-4dec-984e-12bba6c40315",
   "metadata": {},
   "outputs": [],
   "source": [
    "d19"
   ]
  },
  {
   "cell_type": "code",
   "execution_count": null,
   "id": "4a20e1c4-cc55-4c1b-b1a7-e4837319aaa0",
   "metadata": {},
   "outputs": [],
   "source": [
    "d20.update(d19)"
   ]
  },
  {
   "cell_type": "code",
   "execution_count": null,
   "id": "714393d1-c982-4eab-95d8-a037e3855c05",
   "metadata": {},
   "outputs": [],
   "source": [
    "d20"
   ]
  },
  {
   "cell_type": "code",
   "execution_count": null,
   "id": "d12a5c83-eb0f-4c2e-a3d9-7c3651e3897b",
   "metadata": {},
   "outputs": [],
   "source": [
    "d20.get(\"sudh\")      # get function not show error like d20[\"sudh\"] "
   ]
  },
  {
   "cell_type": "code",
   "execution_count": null,
   "id": "7cee0fc1-3abe-4598-9f23-53cd74222728",
   "metadata": {},
   "outputs": [],
   "source": [
    "d20.get(\"key3\")         # d20[\"key3\"] are same things"
   ]
  },
  {
   "cell_type": "code",
   "execution_count": null,
   "id": "4f5d8f11-6fef-40be-a472-3f8a8f4aee19",
   "metadata": {},
   "outputs": [],
   "source": [
    "d20[\"key3\"]"
   ]
  },
  {
   "cell_type": "code",
   "execution_count": null,
   "id": "7d15af59-c1bc-48b8-b9c5-12a2c8672004",
   "metadata": {},
   "outputs": [],
   "source": [
    "d20[\"sudh\"]      # d20.get(\"sudh\") doesnot show error "
   ]
  },
  {
   "cell_type": "markdown",
   "id": "ee2be48d-75ff-4990-9c3f-6bc9dce28821",
   "metadata": {},
   "source": [
    "### Dictionary Comprehensions"
   ]
  },
  {
   "cell_type": "code",
   "execution_count": null,
   "id": "e428e18e-3576-4909-ae62-dff93bfd6795",
   "metadata": {},
   "outputs": [],
   "source": [
    "{ i : i**2  for i in range(1,11) }"
   ]
  },
  {
   "cell_type": "code",
   "execution_count": null,
   "id": "5c217a22-b6c5-49dd-887d-0ca93e814b7e",
   "metadata": {},
   "outputs": [],
   "source": [
    "list(range(1,11))"
   ]
  },
  {
   "cell_type": "code",
   "execution_count": null,
   "id": "9122b1ef-9c48-4583-8f83-1b16bda52b49",
   "metadata": {},
   "outputs": [],
   "source": [
    "{ i : i+10  for i in range(1,11) }"
   ]
  },
  {
   "cell_type": "code",
   "execution_count": null,
   "id": "9a70055a-f5eb-4bb7-b033-6d2d0fc80b16",
   "metadata": {},
   "outputs": [],
   "source": [
    "# Try to generate key to arthmatic\n",
    "import math\n",
    "{ i :math.log10(i) for i in range(1,11)}"
   ]
  },
  {
   "cell_type": "code",
   "execution_count": null,
   "id": "ae37e007-c75d-4e5f-8896-14cde0de6e11",
   "metadata": {},
   "outputs": [],
   "source": [
    "# Try to generate key to arthmatic\n",
    "import math\n",
    "d21 ={ i :math.log10(i) for i in range(1,11)}"
   ]
  },
  {
   "cell_type": "code",
   "execution_count": null,
   "id": "b92aaa11-2f67-4b6b-acec-54bbc8d137ee",
   "metadata": {},
   "outputs": [],
   "source": [
    "d16"
   ]
  },
  {
   "cell_type": "code",
   "execution_count": null,
   "id": "adedd6fa-1c2d-4888-911a-4acb893ad33a",
   "metadata": {},
   "outputs": [],
   "source": [
    "#find batch_name in d16   True mean it is if false mean it is no available\n",
    "\n",
    "'batch_name' in d16"
   ]
  },
  {
   "cell_type": "code",
   "execution_count": null,
   "id": "50aa7119-8a2b-49ad-8f6b-8c06fe973f88",
   "metadata": {},
   "outputs": [],
   "source": [
    "d21"
   ]
  },
  {
   "cell_type": "code",
   "execution_count": null,
   "id": "cde5a2a7-661c-40e6-9fdf-ce5df8878ad1",
   "metadata": {},
   "outputs": [],
   "source": [
    "## Extract even or odd number for d21\n"
   ]
  },
  {
   "cell_type": "code",
   "execution_count": null,
   "id": "355bcb9a-28d2-4324-8c6d-1484f4478585",
   "metadata": {},
   "outputs": [],
   "source": [
    "d21.keys()"
   ]
  },
  {
   "cell_type": "code",
   "execution_count": null,
   "id": "4a52f30a-8318-4007-833f-1d7d647c3a17",
   "metadata": {},
   "outputs": [],
   "source": [
    "# find the EVEN Number for d21\n",
    "\n",
    "for i in d21.keys():\n",
    "    if i % 2 == 0 :  # tring to dividing 1/2 reminder 1\n",
    "        print(d21[i])"
   ]
  },
  {
   "cell_type": "code",
   "execution_count": null,
   "id": "668ba860-9739-4ed0-a6ec-49ab7d49ea66",
   "metadata": {},
   "outputs": [],
   "source": []
  }
 ],
 "metadata": {
  "kernelspec": {
   "display_name": "Python 3 (ipykernel)",
   "language": "python",
   "name": "python3"
  },
  "language_info": {
   "codemirror_mode": {
    "name": "ipython",
    "version": 3
   },
   "file_extension": ".py",
   "mimetype": "text/x-python",
   "name": "python",
   "nbconvert_exporter": "python",
   "pygments_lexer": "ipython3",
   "version": "3.10.8"
  }
 },
 "nbformat": 4,
 "nbformat_minor": 5
}
