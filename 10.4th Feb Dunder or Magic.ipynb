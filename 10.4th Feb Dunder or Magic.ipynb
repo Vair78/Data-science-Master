{
 "cells": [
  {
   "cell_type": "markdown",
   "id": "0d27a020-ee32-4fb6-bbf6-46f43943c4a5",
   "metadata": {},
   "source": [
    "## Dunder or magic methods in Python\n",
    "\n",
    "Dunder or magic methods in Python are the methods having two prefix and suffix underscores in the method name. Dunder here means “Double Under (Underscores)”. These are commonly used for operator overloading. Few examples for magic methods are: __init__, __add__, __len__, __repr__ etc.\n",
    "\n",
    "The __init__ method for initialization is invoked without any call, when an instance of a class is created"
   ]
  },
  {
   "cell_type": "code",
   "execution_count": 2,
   "id": "bbcf27c5-c926-44be-a361-ba181e922088",
   "metadata": {},
   "outputs": [
    {
     "data": {
      "text/plain": [
       "['__abs__',\n",
       " '__add__',\n",
       " '__and__',\n",
       " '__bool__',\n",
       " '__ceil__',\n",
       " '__class__',\n",
       " '__delattr__',\n",
       " '__dir__',\n",
       " '__divmod__',\n",
       " '__doc__',\n",
       " '__eq__',\n",
       " '__float__',\n",
       " '__floor__',\n",
       " '__floordiv__',\n",
       " '__format__',\n",
       " '__ge__',\n",
       " '__getattribute__',\n",
       " '__getnewargs__',\n",
       " '__gt__',\n",
       " '__hash__',\n",
       " '__index__',\n",
       " '__init__',\n",
       " '__init_subclass__',\n",
       " '__int__',\n",
       " '__invert__',\n",
       " '__le__',\n",
       " '__lshift__',\n",
       " '__lt__',\n",
       " '__mod__',\n",
       " '__mul__',\n",
       " '__ne__',\n",
       " '__neg__',\n",
       " '__new__',\n",
       " '__or__',\n",
       " '__pos__',\n",
       " '__pow__',\n",
       " '__radd__',\n",
       " '__rand__',\n",
       " '__rdivmod__',\n",
       " '__reduce__',\n",
       " '__reduce_ex__',\n",
       " '__repr__',\n",
       " '__rfloordiv__',\n",
       " '__rlshift__',\n",
       " '__rmod__',\n",
       " '__rmul__',\n",
       " '__ror__',\n",
       " '__round__',\n",
       " '__rpow__',\n",
       " '__rrshift__',\n",
       " '__rshift__',\n",
       " '__rsub__',\n",
       " '__rtruediv__',\n",
       " '__rxor__',\n",
       " '__setattr__',\n",
       " '__sizeof__',\n",
       " '__str__',\n",
       " '__sub__',\n",
       " '__subclasshook__',\n",
       " '__truediv__',\n",
       " '__trunc__',\n",
       " '__xor__',\n",
       " 'as_integer_ratio',\n",
       " 'bit_count',\n",
       " 'bit_length',\n",
       " 'conjugate',\n",
       " 'denominator',\n",
       " 'from_bytes',\n",
       " 'imag',\n",
       " 'numerator',\n",
       " 'real',\n",
       " 'to_bytes']"
      ]
     },
     "execution_count": 2,
     "metadata": {},
     "output_type": "execute_result"
    }
   ],
   "source": [
    "dir(int)"
   ]
  },
  {
   "cell_type": "code",
   "execution_count": 3,
   "id": "0e39b945-96b1-4490-8ce4-1ad3375a547c",
   "metadata": {},
   "outputs": [],
   "source": [
    "a = 10"
   ]
  },
  {
   "cell_type": "code",
   "execution_count": 4,
   "id": "dcaec36f-78b6-4f1d-8081-1915ce73622b",
   "metadata": {},
   "outputs": [
    {
     "data": {
      "text/plain": [
       "16"
      ]
     },
     "execution_count": 4,
     "metadata": {},
     "output_type": "execute_result"
    }
   ],
   "source": [
    "a + 6"
   ]
  },
  {
   "cell_type": "code",
   "execution_count": 5,
   "id": "4cd28d73-2962-446c-9d44-d0718b14e006",
   "metadata": {},
   "outputs": [
    {
     "data": {
      "text/plain": [
       "16"
      ]
     },
     "execution_count": 5,
     "metadata": {},
     "output_type": "execute_result"
    }
   ],
   "source": [
    "a.__add__(6)"
   ]
  },
  {
   "cell_type": "code",
   "execution_count": 9,
   "id": "30459688-ef34-4a4e-9393-6915f4864891",
   "metadata": {},
   "outputs": [
    {
     "data": {
      "text/plain": [
       "['__add__',\n",
       " '__class__',\n",
       " '__contains__',\n",
       " '__delattr__',\n",
       " '__dir__',\n",
       " '__doc__',\n",
       " '__eq__',\n",
       " '__format__',\n",
       " '__ge__',\n",
       " '__getattribute__',\n",
       " '__getitem__',\n",
       " '__getnewargs__',\n",
       " '__gt__',\n",
       " '__hash__',\n",
       " '__init__',\n",
       " '__init_subclass__',\n",
       " '__iter__',\n",
       " '__le__',\n",
       " '__len__',\n",
       " '__lt__',\n",
       " '__mod__',\n",
       " '__mul__',\n",
       " '__ne__',\n",
       " '__new__',\n",
       " '__reduce__',\n",
       " '__reduce_ex__',\n",
       " '__repr__',\n",
       " '__rmod__',\n",
       " '__rmul__',\n",
       " '__setattr__',\n",
       " '__sizeof__',\n",
       " '__str__',\n",
       " '__subclasshook__',\n",
       " 'capitalize',\n",
       " 'casefold',\n",
       " 'center',\n",
       " 'count',\n",
       " 'encode',\n",
       " 'endswith',\n",
       " 'expandtabs',\n",
       " 'find',\n",
       " 'format',\n",
       " 'format_map',\n",
       " 'index',\n",
       " 'isalnum',\n",
       " 'isalpha',\n",
       " 'isascii',\n",
       " 'isdecimal',\n",
       " 'isdigit',\n",
       " 'isidentifier',\n",
       " 'islower',\n",
       " 'isnumeric',\n",
       " 'isprintable',\n",
       " 'isspace',\n",
       " 'istitle',\n",
       " 'isupper',\n",
       " 'join',\n",
       " 'ljust',\n",
       " 'lower',\n",
       " 'lstrip',\n",
       " 'maketrans',\n",
       " 'partition',\n",
       " 'removeprefix',\n",
       " 'removesuffix',\n",
       " 'replace',\n",
       " 'rfind',\n",
       " 'rindex',\n",
       " 'rjust',\n",
       " 'rpartition',\n",
       " 'rsplit',\n",
       " 'rstrip',\n",
       " 'split',\n",
       " 'splitlines',\n",
       " 'startswith',\n",
       " 'strip',\n",
       " 'swapcase',\n",
       " 'title',\n",
       " 'translate',\n",
       " 'upper',\n",
       " 'zfill']"
      ]
     },
     "execution_count": 9,
     "metadata": {},
     "output_type": "execute_result"
    }
   ],
   "source": [
    "dir(str)"
   ]
  },
  {
   "cell_type": "code",
   "execution_count": null,
   "id": "ebc974e8-17f5-452d-a119-03583cbfd13a",
   "metadata": {},
   "outputs": [],
   "source": [
    "# these method do not use directly."
   ]
  },
  {
   "cell_type": "code",
   "execution_count": 12,
   "id": "1877b61c-6f27-40fe-88fc-5796a387b57a",
   "metadata": {},
   "outputs": [],
   "source": [
    "# in class\n",
    "\n",
    "class pwskills:\n",
    "    \n",
    "    def __init__(self):\n",
    "        print(\"this is my init\")"
   ]
  },
  {
   "cell_type": "code",
   "execution_count": 13,
   "id": "5199de0c-1fef-4e25-b520-59ef370695e8",
   "metadata": {},
   "outputs": [
    {
     "name": "stdout",
     "output_type": "stream",
     "text": [
      "this is my init\n"
     ]
    }
   ],
   "source": [
    "pw = pwskills()"
   ]
  },
  {
   "cell_type": "code",
   "execution_count": 14,
   "id": "26bc2ed1-1a44-4f08-b42b-bcedee8d3926",
   "metadata": {},
   "outputs": [],
   "source": [
    "## Another new dunder or magic\n",
    "class pwskills:\n",
    "    \n",
    "    def __new__(cls):\n",
    "        print(\"this is my new\")\n",
    "    \n",
    "    \n",
    "    def __init__(self):\n",
    "        print(\"this is my init\")"
   ]
  },
  {
   "cell_type": "code",
   "execution_count": 15,
   "id": "8dbfb43b-ffc0-4b34-9d56-d1071dd25f97",
   "metadata": {},
   "outputs": [
    {
     "name": "stdout",
     "output_type": "stream",
     "text": [
      "this is my new\n"
     ]
    }
   ],
   "source": [
    "pw = pwskills()"
   ]
  },
  {
   "cell_type": "code",
   "execution_count": 16,
   "id": "9ad65021-c12b-47a4-ad65-0a845b583f50",
   "metadata": {},
   "outputs": [],
   "source": [
    "class pwskills1:\n",
    "    \n",
    "    def __init__(self):\n",
    "        self.mobile_number = 9898989898"
   ]
  },
  {
   "cell_type": "code",
   "execution_count": 17,
   "id": "2e08d9d7-79dd-43af-8d1e-dd7b63d485a7",
   "metadata": {},
   "outputs": [],
   "source": [
    "pw1= pwskills1()"
   ]
  },
  {
   "cell_type": "code",
   "execution_count": 18,
   "id": "6f9a7b8a-bffb-4f9d-ab29-71ed1c5d6a44",
   "metadata": {},
   "outputs": [
    {
     "data": {
      "text/plain": [
       "<__main__.pwskills1 at 0x7fab423228f0>"
      ]
     },
     "execution_count": 18,
     "metadata": {},
     "output_type": "execute_result"
    }
   ],
   "source": [
    "pw1"
   ]
  },
  {
   "cell_type": "code",
   "execution_count": 20,
   "id": "877070f3-9c48-4db2-9bee-e5184e4cedbe",
   "metadata": {},
   "outputs": [
    {
     "name": "stdout",
     "output_type": "stream",
     "text": [
      "<__main__.pwskills1 object at 0x7fab423228f0>\n"
     ]
    }
   ],
   "source": [
    "print(pw1)       # 0x7fab423228f0> location of pw1"
   ]
  },
  {
   "cell_type": "code",
   "execution_count": 21,
   "id": "14412d4a-806f-45a1-9848-8b0160f82ea4",
   "metadata": {},
   "outputs": [],
   "source": [
    "# if you want object shoe meaning full output\n",
    "\n",
    "class pwskills1:\n",
    "    \n",
    "    def __init__(self):\n",
    "        self.mobile_number = 9898989898\n",
    "        \n",
    "        \n",
    "    def __str__(self):\n",
    "        return \"this is a magic method which will print something for object\"\n",
    "\n"
   ]
  },
  {
   "cell_type": "code",
   "execution_count": 22,
   "id": "badb362a-6538-4ed4-a60b-9d8050143433",
   "metadata": {},
   "outputs": [],
   "source": [
    "pw1= pwskills1()"
   ]
  },
  {
   "cell_type": "code",
   "execution_count": 23,
   "id": "ad12d330-e24c-4bcb-8232-a818fc91e17e",
   "metadata": {},
   "outputs": [
    {
     "data": {
      "text/plain": [
       "<__main__.pwskills1 at 0x7fab42321690>"
      ]
     },
     "execution_count": 23,
     "metadata": {},
     "output_type": "execute_result"
    }
   ],
   "source": [
    "pw1"
   ]
  },
  {
   "cell_type": "code",
   "execution_count": 25,
   "id": "219e297a-ea4b-4e9b-a888-a099ee9ceb98",
   "metadata": {},
   "outputs": [
    {
     "name": "stdout",
     "output_type": "stream",
     "text": [
      "this is a magic method which will print something for object\n"
     ]
    }
   ],
   "source": [
    "print(pw1)       # here you get the meaningfull outpupt instead of locaiton"
   ]
  },
  {
   "cell_type": "code",
   "execution_count": null,
   "id": "c2ce509e-1b2c-4915-990b-8f529b7f529b",
   "metadata": {},
   "outputs": [],
   "source": []
  }
 ],
 "metadata": {
  "kernelspec": {
   "display_name": "Python 3 (ipykernel)",
   "language": "python",
   "name": "python3"
  },
  "language_info": {
   "codemirror_mode": {
    "name": "ipython",
    "version": 3
   },
   "file_extension": ".py",
   "mimetype": "text/x-python",
   "name": "python",
   "nbconvert_exporter": "python",
   "pygments_lexer": "ipython3",
   "version": "3.10.8"
  }
 },
 "nbformat": 4,
 "nbformat_minor": 5
}
