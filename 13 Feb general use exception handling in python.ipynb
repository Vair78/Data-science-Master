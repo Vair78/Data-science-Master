{
 "cells": [
  {
   "cell_type": "markdown",
   "id": "cff8dcc3-1f6e-4f5f-933d-980875983226",
   "metadata": {},
   "source": [
    "## General use Exception Handling in python"
   ]
  },
  {
   "cell_type": "code",
   "execution_count": 9,
   "id": "06e1e2a7-072a-4bb1-91a0-fa67f572f51c",
   "metadata": {},
   "outputs": [
    {
     "name": "stdout",
     "output_type": "stream",
     "text": [
      "division by zero\n"
     ]
    }
   ],
   "source": [
    "# Here U Can Handle ZERO DIVISION ERROR Like Below :\n",
    "# Example -1 \n",
    "try :\n",
    "    a = 10\n",
    "    10/0\n",
    "    \n",
    "except ZeroDivisionError as e :\n",
    "    print(e)"
   ]
  },
  {
   "cell_type": "code",
   "execution_count": 10,
   "id": "68fd7640-484d-4755-8fc2-9f839941f0be",
   "metadata": {},
   "outputs": [
    {
     "name": "stdout",
     "output_type": "stream",
     "text": [
      "invalid literal for int() with base 10: 'sudh'\n"
     ]
    }
   ],
   "source": [
    "# Example -2\n",
    "try :\n",
    "    int(\"sudh\")\n",
    "except(ValueError, TypeError) as e :\n",
    "    print(e)"
   ]
  },
  {
   "cell_type": "markdown",
   "id": "8a768aa8-6619-4de6-bced-967089799dfb",
   "metadata": {},
   "source": [
    "3. If you don;t know about the which type of error getting then follow below: "
   ]
  },
  {
   "cell_type": "code",
   "execution_count": 11,
   "id": "e49bc763-2b59-4352-860c-e8e64406c152",
   "metadata": {},
   "outputs": [
    {
     "name": "stdout",
     "output_type": "stream",
     "text": [
      "This will catch an Error\n"
     ]
    }
   ],
   "source": [
    "# Example -3\n",
    "try :\n",
    "    int(\"sudh\")\n",
    "except :\n",
    "    print(\"This will catch an Error\")"
   ]
  },
  {
   "cell_type": "markdown",
   "id": "c4bd475b-4a99-4320-b041-b47bfc8560ff",
   "metadata": {},
   "source": [
    "4. Alwasy Remember You have to alwasy mention ERROR Type in except line code so you wiil get right output"
   ]
  },
  {
   "cell_type": "code",
   "execution_count": 12,
   "id": "e5bcbbd7-fe63-4708-ad06-e4eeca5e9e0e",
   "metadata": {},
   "outputs": [
    {
     "name": "stdout",
     "output_type": "stream",
     "text": [
      "No module named 'vai'\n"
     ]
    }
   ],
   "source": [
    "# Example -4\n",
    "try :\n",
    "    import vai\n",
    "    \n",
    "except ImportError as e :\n",
    "    print(e)"
   ]
  },
  {
   "cell_type": "code",
   "execution_count": 13,
   "id": "1356f010-c996-4c95-8794-87b73ae725ad",
   "metadata": {},
   "outputs": [
    {
     "name": "stdout",
     "output_type": "stream",
     "text": [
      "'key10'\n"
     ]
    }
   ],
   "source": [
    "# Example -5 \n",
    "\n",
    "try :\n",
    "    d = { 1: [3,4,5,6,],\"key\" : \"sudh\"}\n",
    "    d[\"key10\"]\n",
    "except KeyError as e :\n",
    "    print(e)"
   ]
  },
  {
   "cell_type": "code",
   "execution_count": 14,
   "id": "af44f984-7c54-449d-b02c-0e9992378db0",
   "metadata": {},
   "outputs": [
    {
     "name": "stdout",
     "output_type": "stream",
     "text": [
      "'str' object has no attribute 'test'\n"
     ]
    }
   ],
   "source": [
    "# Example -6\n",
    "try :\n",
    "    \"sudh\".test()\n",
    "\n",
    "except AttributeError as e:\n",
    "    print(e)\n"
   ]
  },
  {
   "cell_type": "code",
   "execution_count": 15,
   "id": "bef3f6ca-db96-444a-a4da-bb3c5db70f27",
   "metadata": {},
   "outputs": [
    {
     "name": "stdout",
     "output_type": "stream",
     "text": [
      "list index out of range\n"
     ]
    }
   ],
   "source": [
    "# Example -7\n",
    "\n",
    "try: \n",
    "    l = [1,2,3,4,5]\n",
    "    l[10]\n",
    "except IndexError as e :\n",
    "    print(e)"
   ]
  },
  {
   "cell_type": "code",
   "execution_count": 16,
   "id": "98ab2379-ca3f-4922-aa30-ed9ca3ed3d48",
   "metadata": {},
   "outputs": [
    {
     "name": "stdout",
     "output_type": "stream",
     "text": [
      "unsupported operand type(s) for +: 'int' and 'str'\n"
     ]
    }
   ],
   "source": [
    "# Example -8\n",
    "\n",
    "try :\n",
    "    123 + \"sudh\"\n",
    "except TypeError as e:\n",
    "    print(e)"
   ]
  },
  {
   "cell_type": "code",
   "execution_count": 19,
   "id": "38ddfe67-d8c1-46fa-b3d6-f4bc74423cec",
   "metadata": {},
   "outputs": [
    {
     "name": "stdout",
     "output_type": "stream",
     "text": [
      "[Errno 2] No such file or directory: 'test.txt'\n"
     ]
    }
   ],
   "source": [
    "# Example -9\n",
    "\n",
    "try :\n",
    "    with open(\"test.txt\", 'r') as f :\n",
    "        f.read()\n",
    "except FileNotFoundError as e :\n",
    "    print(e)"
   ]
  },
  {
   "cell_type": "markdown",
   "id": "02b67a94-efbc-4e8f-9642-8a6872880f5b",
   "metadata": {},
   "source": [
    " 5. This is Super class code  ; Exception \n",
    "except Exception as e :          # If excption hanlding written here then Code will execute her only it will not go down\n",
    "    print(\"test\", e)\n",
    "6. Never Write super class code above it should be always as down or end of the code"
   ]
  },
  {
   "cell_type": "code",
   "execution_count": 22,
   "id": "6acb45fd-3ace-4dbe-a1fc-8bf41930d124",
   "metadata": {},
   "outputs": [
    {
     "name": "stdout",
     "output_type": "stream",
     "text": [
      "test [Errno 2] No such file or directory: 'test.txt'\n"
     ]
    }
   ],
   "source": [
    "# Example -10\n",
    "\n",
    "try :\n",
    "    with open(\"test.txt\", 'r') as f :\n",
    "        f.read()\n",
    "except Exception as e :          # If excption hanlding written here then Code will execute her only it will not go down\n",
    "    print(\"test\", e)\n",
    "except FileNotFoundError as e :\n",
    "    print(\"this is my file not found error\")"
   ]
  },
  {
   "cell_type": "code",
   "execution_count": 28,
   "id": "403e1eae-504f-4092-b5d3-7ed47bd5ceb4",
   "metadata": {},
   "outputs": [],
   "source": [
    "# Example -11\n",
    "\n",
    "def test(file):\n",
    "    try :\n",
    "        with open(\"test.txt\", 'r') as f :\n",
    "            f.read()\n",
    "    except Exception as e :          # If excption hanlding written here then Code will execute her only it will not go down\n",
    "        print(\"test\", e)\n",
    "    except FileNotFoundError as e :\n",
    "        print(\"this is my file not found error\")"
   ]
  },
  {
   "cell_type": "code",
   "execution_count": null,
   "id": "52a7a7b1-7ace-44a2-9d8d-389c157ed210",
   "metadata": {},
   "outputs": [],
   "source": []
  }
 ],
 "metadata": {
  "kernelspec": {
   "display_name": "Python 3 (ipykernel)",
   "language": "python",
   "name": "python3"
  },
  "language_info": {
   "codemirror_mode": {
    "name": "ipython",
    "version": 3
   },
   "file_extension": ".py",
   "mimetype": "text/x-python",
   "name": "python",
   "nbconvert_exporter": "python",
   "pygments_lexer": "ipython3",
   "version": "3.10.8"
  }
 },
 "nbformat": 4,
 "nbformat_minor": 5
}
