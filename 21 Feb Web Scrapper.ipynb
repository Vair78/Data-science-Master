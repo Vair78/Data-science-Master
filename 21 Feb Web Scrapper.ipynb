{
 "cells": [
  {
   "cell_type": "markdown",
   "id": "8d8711af-6561-4440-a818-e4f270e0a992",
   "metadata": {},
   "source": [
    "# Web Scrapper for Flipkart _Product list, customer reviews "
   ]
  },
  {
   "cell_type": "code",
   "execution_count": 3,
   "id": "4449432b-2e5b-4dd8-ae2f-22c36e4fbbea",
   "metadata": {},
   "outputs": [],
   "source": [
    "import requests\n",
    "from bs4 import BeautifulSoup as bs\n",
    "from urllib.request import urlopen\n",
    "import logging"
   ]
  },
  {
   "cell_type": "code",
   "execution_count": 6,
   "id": "b10bd36f-2dcb-4c3e-b5e6-fdc523f9938d",
   "metadata": {},
   "outputs": [],
   "source": [
    "flipkart_url = \"https://www.flipkart.com/search?q=\" + \"tv\""
   ]
  },
  {
   "cell_type": "code",
   "execution_count": 7,
   "id": "ebf1f1ea-1449-420e-b7a9-ee18c90404fa",
   "metadata": {},
   "outputs": [
    {
     "data": {
      "text/plain": [
       "'https://www.flipkart.com/search?q=tv'"
      ]
     },
     "execution_count": 7,
     "metadata": {},
     "output_type": "execute_result"
    }
   ],
   "source": [
    "flipkart_url"
   ]
  },
  {
   "cell_type": "code",
   "execution_count": 15,
   "id": "17802668-31c4-477a-880c-ebef5a161e34",
   "metadata": {},
   "outputs": [],
   "source": [
    "urlclient = urlopen(flipkart_url)"
   ]
  },
  {
   "cell_type": "code",
   "execution_count": 16,
   "id": "fcc57ebc-4aa9-4a6a-aeca-b025ee29cf79",
   "metadata": {},
   "outputs": [],
   "source": [
    "flipkart_page = urlclient.read()"
   ]
  },
  {
   "cell_type": "code",
   "execution_count": 18,
   "id": "1a2851d7-a864-4d7e-a564-32a98d6f4bda",
   "metadata": {},
   "outputs": [],
   "source": [
    "flipkart_html = bs(flipkart_page , 'html.parser')"
   ]
  },
  {
   "cell_type": "code",
   "execution_count": 19,
   "id": "45f93b0d-3ac8-41f2-944b-e45c452a93da",
   "metadata": {},
   "outputs": [],
   "source": [
    "# Objective is the open one by one tv option."
   ]
  },
  {
   "cell_type": "code",
   "execution_count": 21,
   "id": "5b743332-18e2-45f2-b536-005563975e13",
   "metadata": {},
   "outputs": [
    {
     "data": {
      "text/plain": [
       "'https://www.flipkart.com/sansui-165-cm-65-inch-qled-ultra-hd-4k-smart-google-tv-dolby-vision-atmos-black/p/itm40ca9617cdbf7?pid=TVSGKYNRFXT68GKT&lid=LSTTVSGKYNRFXT68GKTU3CE7J&marketplace=FLIPKART&q=tv&store=ckf%2Fczl&srno=s_1_1&otracker=search&fm=organic&iid=en_AJbS3qZqGUrEodC3mq%2F2xUfNbq9GGEHvA9jZ15lmSdC%2BWVKUxfPXTkzG4LDwXvf61IQBUQpF7A%2Fn%2BjiEZkH6rQ%3D%3D&ppt=None&ppn=None&ssid=h0953t7fb40000001679294630795&qH=c9a1fdac6e082dd8'"
      ]
     },
     "execution_count": 21,
     "metadata": {},
     "output_type": "execute_result"
    }
   ],
   "source": [
    "\"https://www.flipkart.com/sansui-165-cm-65-inch-qled-ultra-hd-4k-smart-google-tv-dolby-vision-atmos-black/p/itm40ca9617cdbf7?pid=TVSGKYNRFXT68GKT&lid=LSTTVSGKYNRFXT68GKTU3CE7J&marketplace=FLIPKART&q=tv&store=ckf%2Fczl&srno=s_1_1&otracker=search&fm=organic&iid=en_AJbS3qZqGUrEodC3mq%2F2xUfNbq9GGEHvA9jZ15lmSdC%2BWVKUxfPXTkzG4LDwXvf61IQBUQpF7A%2Fn%2BjiEZkH6rQ%3D%3D&ppt=None&ppn=None&ssid=h0953t7fb40000001679294630795&qH=c9a1fdac6e082dd8\""
   ]
  },
  {
   "cell_type": "code",
   "execution_count": 26,
   "id": "45613e60-a3e7-4743-9838-08a59c9d007d",
   "metadata": {},
   "outputs": [],
   "source": [
    "# To fetch all the product of flipkart page as below\n",
    "bigbox = flipkart_html.find_all(\"div\",{\"class\":\"_1AtVbE col-12-12\"} )"
   ]
  },
  {
   "cell_type": "code",
   "execution_count": 28,
   "id": "abc3bfb2-3c4d-4a5b-8e0b-4db6847de36e",
   "metadata": {},
   "outputs": [
    {
     "data": {
      "text/plain": [
       "30"
      ]
     },
     "execution_count": 28,
     "metadata": {},
     "output_type": "execute_result"
    }
   ],
   "source": [
    "len(bigbox)     # number of product listed on page"
   ]
  },
  {
   "cell_type": "code",
   "execution_count": 29,
   "id": "6f141352-6bac-4ae2-825d-d2ac5f19c31d",
   "metadata": {},
   "outputs": [],
   "source": [
    "del bigbox[0:3]"
   ]
  },
  {
   "cell_type": "code",
   "execution_count": 40,
   "id": "4ccf1093-1d59-40b8-a535-7b10e1c69087",
   "metadata": {},
   "outputs": [],
   "source": [
    "# get the product link direct of all the product\n",
    "# this is for one product to get direct link\n",
    "\n",
    "productlink = \"https://www.flipkart.com\" + bigbox[0].div.div.div.a['href']"
   ]
  },
  {
   "cell_type": "code",
   "execution_count": 38,
   "id": "6016b5e7-4ea7-4ef6-8b38-2d1e93306623",
   "metadata": {},
   "outputs": [
    {
     "name": "stdout",
     "output_type": "stream",
     "text": [
      "https://www.flipkart.com/mi-5a-80-cm-32-inch-hd-ready-led-smart-android-tv-dolby-audio-2022-model/p/itm98501ffa297ba?pid=TVSGD5CS2SDUUZGN&lid=LSTTVSGD5CS2SDUUZGNPVJDFV&marketplace=FLIPKART&q=tv&store=ckf%2Fczl&srno=s_1_2&otracker=search&fm=organic&iid=en_HcqDdSsXHaVWjbRZcv%2BOF3M7ztVnt5%2F3BXCEP8gOh1NKbXsQSMRUF1ii%2BEGGUWbpHn5uC2PEPD0MV3T0QhOSVw%3D%3D&ppt=None&ppn=None&ssid=zsy9v7x4s00000001679294769013&qH=c9a1fdac6e082dd8\n",
      "https://www.flipkart.com/lg-80-cm-32-inch-hd-ready-led-smart-webos-tv/p/itm6207e6d122567?pid=TVSFTW4CSRW8PGDQ&lid=LSTTVSFTW4CSRW8PGDQSZQIO6&marketplace=FLIPKART&q=tv&store=ckf%2Fczl&srno=s_1_3&otracker=search&fm=organic&iid=e14ea362-d5c3-4f06-ae7e-d8ef80f4a736.TVSFTW4CSRW8PGDQ.SEARCH&ppt=None&ppn=None&ssid=zsy9v7x4s00000001679294769013&qH=c9a1fdac6e082dd8\n",
      "https://www.flipkart.com/samsung-80-cm-32-inch-hd-ready-led-smart-tizen-tv-2022-model/p/itm3c07ddc2dd25d?pid=TVSGHY2UZA9YHWQN&lid=LSTTVSGHY2UZA9YHWQNCPAW6M&marketplace=FLIPKART&q=tv&store=ckf%2Fczl&spotlightTagId=BestsellerId_ckf%2Fczl&srno=s_1_4&otracker=search&fm=organic&iid=e14ea362-d5c3-4f06-ae7e-d8ef80f4a736.TVSGHY2UZA9YHWQN.SEARCH&ppt=None&ppn=None&ssid=zsy9v7x4s00000001679294769013&qH=c9a1fdac6e082dd8\n",
      "https://www.flipkart.com/infinix-y1-80-cm-32-inch-hd-ready-led-smart-linux-tv-wall-mount/p/itme5476ca89d1b0?pid=TVSGFGF34GMTB9KF&lid=LSTTVSGFGF34GMTB9KFF9JZPY&marketplace=FLIPKART&q=tv&store=ckf%2Fczl&srno=s_1_5&otracker=search&fm=organic&iid=e14ea362-d5c3-4f06-ae7e-d8ef80f4a736.TVSGFGF34GMTB9KF.SEARCH&ppt=None&ppn=None&ssid=zsy9v7x4s00000001679294769013&qH=c9a1fdac6e082dd8\n",
      "https://www.flipkart.com/realme-80-cm-32-inch-hd-ready-led-smart-android-tv/p/itm56d1cf16da75b?pid=TVSFRTJQTZVKTF6Y&lid=LSTTVSFRTJQTZVKTF6YHMHXRW&marketplace=FLIPKART&q=tv&store=ckf%2Fczl&srno=s_1_6&otracker=search&fm=organic&iid=e14ea362-d5c3-4f06-ae7e-d8ef80f4a736.TVSFRTJQTZVKTF6Y.SEARCH&ppt=None&ppn=None&ssid=zsy9v7x4s00000001679294769013&qH=c9a1fdac6e082dd8\n",
      "https://www.flipkart.com/oneplus-y1-100-cm-40-inch-full-hd-led-smart-android-tv-dolby-audio/p/itmdcbd9784403b2?pid=TVSG25MMGB8NKFD8&lid=LSTTVSG25MMGB8NKFD8MWAMJF&marketplace=FLIPKART&q=tv&store=ckf%2Fczl&spotlightTagId=TrendingId_ckf%2Fczl&srno=s_1_7&otracker=search&fm=organic&iid=e14ea362-d5c3-4f06-ae7e-d8ef80f4a736.TVSG25MMGB8NKFD8.SEARCH&ppt=None&ppn=None&ssid=zsy9v7x4s00000001679294769013&qH=c9a1fdac6e082dd8\n",
      "https://www.flipkart.com/sens-80-cm-32-inch-hd-ready-led-smart-android-tv-dolby-audio-google-assistant/p/itm9340589d4f56d?pid=TVSGHY2BHWNJ7JHG&lid=LSTTVSGHY2BHWNJ7JHGUP5PRP&marketplace=FLIPKART&q=tv&store=ckf%2Fczl&srno=s_1_8&otracker=search&fm=organic&iid=en_HcqDdSsXHaVWjbRZcv%2BOF3M7ztVnt5%2F3BXCEP8gOh1N28P%2BkpLGNTI9u%2FEUvl4bhRMJR39fIgVB%2FWFqSy00Fdg%3D%3D&ppt=None&ppn=None&ssid=zsy9v7x4s00000001679294769013&qH=c9a1fdac6e082dd8\n",
      "https://www.flipkart.com/oneplus-y1-80-cm-32-inch-hd-ready-led-smart-android-tv-dolby-audio/p/itme650a6bb8cee3?pid=TVSFVWD2ENXYGEJY&lid=LSTTVSFVWD2ENXYGEJYBNWSST&marketplace=FLIPKART&q=tv&store=ckf%2Fczl&srno=s_1_9&otracker=search&fm=organic&iid=e14ea362-d5c3-4f06-ae7e-d8ef80f4a736.TVSFVWD2ENXYGEJY.SEARCH&ppt=None&ppn=None&ssid=zsy9v7x4s00000001679294769013&qH=c9a1fdac6e082dd8\n",
      "https://www.flipkart.com/acer-series-80-cm-32-inch-hd-ready-led-smart-android-tv-11-1-5gb-ram-2022-model/p/itm5767c4e3d5359?pid=TVSGEYD98YRZGSRU&lid=LSTTVSGEYD98YRZGSRUPETPT6&marketplace=FLIPKART&q=tv&store=ckf%2Fczl&srno=s_1_10&otracker=search&fm=organic&iid=e14ea362-d5c3-4f06-ae7e-d8ef80f4a736.TVSGEYD98YRZGSRU.SEARCH&ppt=None&ppn=None&ssid=zsy9v7x4s00000001679294769013&qH=c9a1fdac6e082dd8\n",
      "https://www.flipkart.com/thomson-alpha-80-cm-32-inch-hd-ready-led-smart-linux-tv-30-w-sound-output-bezel-less-design/p/itm0e90bcdadb9c9?pid=TVSGEMQV7R4CMTGA&lid=LSTTVSGEMQV7R4CMTGAN8OZ8J&marketplace=FLIPKART&q=tv&store=ckf%2Fczl&srno=s_1_11&otracker=search&fm=organic&iid=e14ea362-d5c3-4f06-ae7e-d8ef80f4a736.TVSGEMQV7R4CMTGA.SEARCH&ppt=None&ppn=None&ssid=zsy9v7x4s00000001679294769013&qH=c9a1fdac6e082dd8\n",
      "https://www.flipkart.com/samsung-crystal-4k-138-cm-55-inch-ultra-hd-4k-led-smart-tizen-tv/p/itm3d8f2879a7625?pid=TVSG2CG7HAVAZTXF&lid=LSTTVSG2CG7HAVAZTXFEAA8L0&marketplace=FLIPKART&q=tv&store=ckf%2Fczl&srno=s_1_12&otracker=search&fm=organic&iid=en_HcqDdSsXHaVWjbRZcv%2BOF3M7ztVnt5%2F3BXCEP8gOh1OmQwCzmbMzVchmWSP8U1pBkYG7t8veeLaIWURoe2nb2w%3D%3D&ppt=None&ppn=None&ssid=zsy9v7x4s00000001679294769013&qH=c9a1fdac6e082dd8\n",
      "https://www.flipkart.com/coocaa-80-cm-32-inch-hd-ready-led-smart-coolita-tv-dolby-audio-eye-care-technology/p/itm1d67beddce98f?pid=TVSG4VHWKAP6KYP4&lid=LSTTVSG4VHWKAP6KYP4QBLASU&marketplace=FLIPKART&q=tv&store=ckf%2Fczl&srno=s_1_13&otracker=search&fm=organic&iid=e14ea362-d5c3-4f06-ae7e-d8ef80f4a736.TVSG4VHWKAP6KYP4.SEARCH&ppt=None&ppn=None&ssid=zsy9v7x4s00000001679294769013&qH=c9a1fdac6e082dd8\n",
      "https://www.flipkart.com/acer-100-cm-40-inch-full-hd-led-smart-android-tv/p/itmd0bd88d59827f?pid=TVSGHNHVWVGGUQHY&lid=LSTTVSGHNHVWVGGUQHYCG8AJV&marketplace=FLIPKART&q=tv&store=ckf%2Fczl&srno=s_1_14&otracker=search&fm=organic&iid=e14ea362-d5c3-4f06-ae7e-d8ef80f4a736.TVSGHNHVWVGGUQHY.SEARCH&ppt=None&ppn=None&ssid=zsy9v7x4s00000001679294769013&qH=c9a1fdac6e082dd8\n",
      "https://www.flipkart.com/iffalcon-tcl-f53-79-97-cm-32-inch-hd-ready-led-smart-android-tv-11/p/itmf4e9c6c14ccb0?pid=TVSGCYVJPAJMHGUW&lid=LSTTVSGCYVJPAJMHGUWTE92JA&marketplace=FLIPKART&q=tv&store=ckf%2Fczl&srno=s_1_15&otracker=search&fm=organic&iid=e14ea362-d5c3-4f06-ae7e-d8ef80f4a736.TVSGCYVJPAJMHGUW.SEARCH&ppt=None&ppn=None&ssid=zsy9v7x4s00000001679294769013&qH=c9a1fdac6e082dd8\n",
      "https://www.flipkart.com/samsung-crystal-4k-neo-series-138-cm-55-inch-ultra-hd-4k-led-smart-tizen-tv-black-2022-model/p/itm92a951fdc7ddf?pid=TVSGEAGPH9HPFFGC&lid=LSTTVSGEAGPH9HPFFGCF1LBV4&marketplace=FLIPKART&q=tv&store=ckf%2Fczl&srno=s_1_16&otracker=search&fm=organic&iid=en_HcqDdSsXHaVWjbRZcv%2BOF3M7ztVnt5%2F3BXCEP8gOh1PtcVqisXrw37fx0kmrDVJEou8eFbMa6Y8TbZnrGuqJHA%3D%3D&ppt=None&ppn=None&ssid=zsy9v7x4s00000001679294769013&qH=c9a1fdac6e082dd8\n",
      "https://www.flipkart.com/oneplus-y1s-108-cm-43-inch-full-hd-led-smart-android-tv-11-bezel-less-frame/p/itm178846d2e1567?pid=TVSGAXEVSNT3HBQA&lid=LSTTVSGAXEVSNT3HBQAKRCYE0&marketplace=FLIPKART&q=tv&store=ckf%2Fczl&srno=s_1_17&otracker=search&fm=organic&iid=e14ea362-d5c3-4f06-ae7e-d8ef80f4a736.TVSGAXEVSNT3HBQA.SEARCH&ppt=None&ppn=None&ssid=zsy9v7x4s00000001679294769013&qH=c9a1fdac6e082dd8\n",
      "https://www.flipkart.com/iffalcon-tcl-u62-108-cm-43-inch-ultra-hd-4k-led-smart-google-tv-bezel-less-design-dolby-audio/p/itm09fd15fcb7ee8?pid=TVSGGJTQPTRDFDGX&lid=LSTTVSGGJTQPTRDFDGXEORYEG&marketplace=FLIPKART&q=tv&store=ckf%2Fczl&srno=s_1_18&otracker=search&fm=organic&iid=e14ea362-d5c3-4f06-ae7e-d8ef80f4a736.TVSGGJTQPTRDFDGX.SEARCH&ppt=None&ppn=None&ssid=zsy9v7x4s00000001679294769013&qH=c9a1fdac6e082dd8\n",
      "https://www.flipkart.com/samsung-crystal-4k-neo-series-108-cm-43-inch-ultra-hd-4k-led-smart-tizen-tv-black-2022-model/p/itma076c4dd16aa4?pid=TVSGEAGP9GXWCHCX&lid=LSTTVSGEAGP9GXWCHCXSVNDV5&marketplace=FLIPKART&q=tv&store=ckf%2Fczl&srno=s_1_19&otracker=search&fm=organic&iid=e14ea362-d5c3-4f06-ae7e-d8ef80f4a736.TVSGEAGP9GXWCHCX.SEARCH&ppt=None&ppn=None&ssid=zsy9v7x4s00000001679294769013&qH=c9a1fdac6e082dd8\n",
      "https://www.flipkart.com/sens-109-cm-43-inch-full-hd-led-smart-android-tv-dolby-audio-google-assistant/p/itm9b1cea1e82bc0?pid=TVSGHY2B7QAMDHTJ&lid=LSTTVSGHY2B7QAMDHTJ9HUDDS&marketplace=FLIPKART&q=tv&store=ckf%2Fczl&srno=s_1_20&otracker=search&fm=organic&iid=en_HcqDdSsXHaVWjbRZcv%2BOF3M7ztVnt5%2F3BXCEP8gOh1N9gj7C8kJd%2BROkEI505hES%2FCl0D34ecoaxBVle30PuUQ%3D%3D&ppt=None&ppn=None&ssid=zsy9v7x4s00000001679294769013&qH=c9a1fdac6e082dd8\n",
      "https://www.flipkart.com/acer-series-127-cm-50-inch-ultra-hd-4k-led-smart-android-tv-11-30w-dolby-audio-memc-2022-model/p/itm54c82a8825de0?pid=TVSGEYD9PZYZVGGS&lid=LSTTVSGEYD9PZYZVGGSH6YNOA&marketplace=FLIPKART&q=tv&store=ckf%2Fczl&srno=s_1_21&otracker=search&fm=organic&iid=e14ea362-d5c3-4f06-ae7e-d8ef80f4a736.TVSGEYD9PZYZVGGS.SEARCH&ppt=None&ppn=None&ssid=zsy9v7x4s00000001679294769013&qH=c9a1fdac6e082dd8\n",
      "https://www.flipkart.com/oneplus-y1s-80-cm-32-inch-hd-ready-led-smart-android-tv-11-bezel-less-frame/p/itm0a39edd7df236?pid=TVSGAXEVXNG9YBUM&lid=LSTTVSGAXEVXNG9YBUMLGWYAS&marketplace=FLIPKART&q=tv&store=ckf%2Fczl&srno=s_1_22&otracker=search&fm=organic&iid=e14ea362-d5c3-4f06-ae7e-d8ef80f4a736.TVSGAXEVXNG9YBUM.SEARCH&ppt=None&ppn=None&ssid=zsy9v7x4s00000001679294769013&qH=c9a1fdac6e082dd8\n",
      "https://www.flipkart.com/oneplus-y1s-pro-138-cm-55-inch-ultra-hd-4k-led-smart-android-tv/p/itm5db9783099cbb?pid=TVSGJUFY5QMMWSU7&lid=LSTTVSGJUFY5QMMWSU7V52T1B&marketplace=FLIPKART&q=tv&store=ckf%2Fczl&srno=s_1_23&otracker=search&fm=organic&iid=e14ea362-d5c3-4f06-ae7e-d8ef80f4a736.TVSGJUFY5QMMWSU7.SEARCH&ppt=None&ppn=None&ssid=zsy9v7x4s00000001679294769013&qH=c9a1fdac6e082dd8\n",
      "https://www.flipkart.com/mi-x-series-108-cm-43-inch-ultra-hd-4k-led-smart-android-tv-dolby-vision-30w-audio-2022-model/p/itm39b39b602f81a?pid=TVSGHEQVGZVTSEBT&lid=LSTTVSGHEQVGZVTSEBT6BSNVA&marketplace=FLIPKART&q=tv&store=ckf%2Fczl&srno=s_1_24&otracker=search&fm=organic&iid=en_HcqDdSsXHaVWjbRZcv%2BOF3M7ztVnt5%2F3BXCEP8gOh1M2WZBICGTRCUk7D%2FaRMJDanRBDh%2BDqiK0oCLPLxd25Lw%3D%3D&ppt=None&ppn=None&ssid=zsy9v7x4s00000001679294769013&qH=c9a1fdac6e082dd8\n"
     ]
    },
    {
     "ename": "AttributeError",
     "evalue": "'NoneType' object has no attribute 'a'",
     "output_type": "error",
     "traceback": [
      "\u001b[0;31m---------------------------------------------------------------------------\u001b[0m",
      "\u001b[0;31mAttributeError\u001b[0m                            Traceback (most recent call last)",
      "Cell \u001b[0;32mIn[38], line 4\u001b[0m\n\u001b[1;32m      1\u001b[0m \u001b[38;5;66;03m# this is for all the listed product link\u001b[39;00m\n\u001b[1;32m      3\u001b[0m \u001b[38;5;28;01mfor\u001b[39;00m i \u001b[38;5;129;01min\u001b[39;00m bigbox:\n\u001b[0;32m----> 4\u001b[0m     \u001b[38;5;28mprint\u001b[39m(\u001b[38;5;124m\"\u001b[39m\u001b[38;5;124mhttps://www.flipkart.com\u001b[39m\u001b[38;5;124m\"\u001b[39m \u001b[38;5;241m+\u001b[39m \u001b[43mi\u001b[49m\u001b[38;5;241;43m.\u001b[39;49m\u001b[43mdiv\u001b[49m\u001b[38;5;241;43m.\u001b[39;49m\u001b[43mdiv\u001b[49m\u001b[38;5;241;43m.\u001b[39;49m\u001b[43mdiv\u001b[49m\u001b[38;5;241;43m.\u001b[39;49m\u001b[43ma\u001b[49m[\u001b[38;5;124m'\u001b[39m\u001b[38;5;124mhref\u001b[39m\u001b[38;5;124m'\u001b[39m])\n",
      "\u001b[0;31mAttributeError\u001b[0m: 'NoneType' object has no attribute 'a'"
     ]
    }
   ],
   "source": [
    "# this is for all the listed product link\n",
    "\n",
    "for i in bigbox:\n",
    "    print(\"https://www.flipkart.com\" + i.div.div.div.a['href'])\n",
    "    "
   ]
  },
  {
   "cell_type": "code",
   "execution_count": 41,
   "id": "ca776411-f6ec-4500-a59c-542d6e4c761c",
   "metadata": {},
   "outputs": [
    {
     "data": {
      "text/plain": [
       "'https://www.flipkart.com/mi-5a-80-cm-32-inch-hd-ready-led-smart-android-tv-dolby-audio-2022-model/p/itm98501ffa297ba?pid=TVSGD5CS2SDUUZGN&lid=LSTTVSGD5CS2SDUUZGNPVJDFV&marketplace=FLIPKART&q=tv&store=ckf%2Fczl&srno=s_1_2&otracker=search&fm=organic&iid=en_HcqDdSsXHaVWjbRZcv%2BOF3M7ztVnt5%2F3BXCEP8gOh1NKbXsQSMRUF1ii%2BEGGUWbpHn5uC2PEPD0MV3T0QhOSVw%3D%3D&ppt=None&ppn=None&ssid=zsy9v7x4s00000001679294769013&qH=c9a1fdac6e082dd8'"
      ]
     },
     "execution_count": 41,
     "metadata": {},
     "output_type": "execute_result"
    }
   ],
   "source": [
    "productlink"
   ]
  },
  {
   "cell_type": "code",
   "execution_count": 43,
   "id": "91bcd3c1-809e-4ee0-a1c8-9f0f1864aa39",
   "metadata": {},
   "outputs": [],
   "source": [
    "product_req = requests.get(productlink)"
   ]
  },
  {
   "cell_type": "code",
   "execution_count": 49,
   "id": "115603c2-b9cd-447f-9baf-4f04c7fe86c1",
   "metadata": {},
   "outputs": [],
   "source": [
    "product_html = bs(product_req.text, 'html.parser')"
   ]
  },
  {
   "cell_type": "code",
   "execution_count": 53,
   "id": "d044438a-7962-42fb-b3f9-7bb420635a03",
   "metadata": {},
   "outputs": [],
   "source": [
    "comment_box = product_html.find_all(\"div\",{\"class\":\"_16PBlm\" })      # this is html page of one product"
   ]
  },
  {
   "cell_type": "code",
   "execution_count": 54,
   "id": "79e8e6f5-5584-4f3a-aee3-4e5d5b37fae7",
   "metadata": {},
   "outputs": [
    {
     "data": {
      "text/plain": [
       "11"
      ]
     },
     "execution_count": 54,
     "metadata": {},
     "output_type": "execute_result"
    }
   ],
   "source": [
    "len(comment_box)"
   ]
  },
  {
   "cell_type": "code",
   "execution_count": 57,
   "id": "1dd80261-4470-46fc-a4c4-469129d72902",
   "metadata": {},
   "outputs": [
    {
     "data": {
      "text/plain": [
       "'nishant yadav'"
      ]
     },
     "execution_count": 57,
     "metadata": {},
     "output_type": "execute_result"
    }
   ],
   "source": [
    "comment_box[0].div.div.find_all(\"p\",{\"class\":\"_2sc7ZR _2V5EHH\"})[0].text"
   ]
  },
  {
   "cell_type": "code",
   "execution_count": 58,
   "id": "fc9a9321-b57b-4fc5-b8fd-c7ad09af7816",
   "metadata": {},
   "outputs": [
    {
     "name": "stdout",
     "output_type": "stream",
     "text": [
      "nishant yadav\n",
      "sai kumar\n",
      "Deepak Rai\n",
      "Flipkart Customer\n",
      "Flipkart Customer\n",
      "SANTHOSH PILLALAMARRI\n",
      "RAJESH HEGDE\n",
      "MANISH THAKURDESAI\n",
      "Shobhit Saxena\n",
      "Ashok kumar\n"
     ]
    },
    {
     "ename": "AttributeError",
     "evalue": "'NoneType' object has no attribute 'div'",
     "output_type": "error",
     "traceback": [
      "\u001b[0;31m---------------------------------------------------------------------------\u001b[0m",
      "\u001b[0;31mAttributeError\u001b[0m                            Traceback (most recent call last)",
      "Cell \u001b[0;32mIn[58], line 2\u001b[0m\n\u001b[1;32m      1\u001b[0m \u001b[38;5;28;01mfor\u001b[39;00m i \u001b[38;5;129;01min\u001b[39;00m comment_box :\n\u001b[0;32m----> 2\u001b[0m     \u001b[38;5;28mprint\u001b[39m(\u001b[43mi\u001b[49m\u001b[38;5;241;43m.\u001b[39;49m\u001b[43mdiv\u001b[49m\u001b[38;5;241;43m.\u001b[39;49m\u001b[43mdiv\u001b[49m\u001b[38;5;241m.\u001b[39mfind_all(\u001b[38;5;124m\"\u001b[39m\u001b[38;5;124mp\u001b[39m\u001b[38;5;124m\"\u001b[39m,{\u001b[38;5;124m\"\u001b[39m\u001b[38;5;124mclass\u001b[39m\u001b[38;5;124m\"\u001b[39m:\u001b[38;5;124m\"\u001b[39m\u001b[38;5;124m_2sc7ZR _2V5EHH\u001b[39m\u001b[38;5;124m\"\u001b[39m})[\u001b[38;5;241m0\u001b[39m]\u001b[38;5;241m.\u001b[39mtext)\n",
      "\u001b[0;31mAttributeError\u001b[0m: 'NoneType' object has no attribute 'div'"
     ]
    }
   ],
   "source": [
    "for i in comment_box :\n",
    "    print(i.div.div.find_all(\"p\",{\"class\":\"_2sc7ZR _2V5EHH\"})[0].text)\n",
    "    "
   ]
  },
  {
   "cell_type": "code",
   "execution_count": 60,
   "id": "f9e11bf2-ba46-4af5-91cc-4818d1276185",
   "metadata": {},
   "outputs": [
    {
     "data": {
      "text/plain": [
       "'5'"
      ]
     },
     "execution_count": 60,
     "metadata": {},
     "output_type": "execute_result"
    }
   ],
   "source": [
    "comment_box[0].div.div.div.div.text  # this if 1 custmore rating"
   ]
  },
  {
   "cell_type": "code",
   "execution_count": 61,
   "id": "6aecd11d-1e81-40d6-b8f6-ca725449dced",
   "metadata": {},
   "outputs": [
    {
     "name": "stdout",
     "output_type": "stream",
     "text": [
      "5\n",
      "5\n",
      "4\n",
      "4\n",
      "4\n",
      "5\n",
      "5\n",
      "5\n",
      "5\n",
      "5\n"
     ]
    },
    {
     "ename": "AttributeError",
     "evalue": "'NoneType' object has no attribute 'div'",
     "output_type": "error",
     "traceback": [
      "\u001b[0;31m---------------------------------------------------------------------------\u001b[0m",
      "\u001b[0;31mAttributeError\u001b[0m                            Traceback (most recent call last)",
      "Cell \u001b[0;32mIn[61], line 2\u001b[0m\n\u001b[1;32m      1\u001b[0m \u001b[38;5;28;01mfor\u001b[39;00m i \u001b[38;5;129;01min\u001b[39;00m comment_box:\n\u001b[0;32m----> 2\u001b[0m     \u001b[38;5;28mprint\u001b[39m(\u001b[43mi\u001b[49m\u001b[38;5;241;43m.\u001b[39;49m\u001b[43mdiv\u001b[49m\u001b[38;5;241;43m.\u001b[39;49m\u001b[43mdiv\u001b[49m\u001b[38;5;241m.\u001b[39mdiv\u001b[38;5;241m.\u001b[39mdiv\u001b[38;5;241m.\u001b[39mtext)\n",
      "\u001b[0;31mAttributeError\u001b[0m: 'NoneType' object has no attribute 'div'"
     ]
    }
   ],
   "source": [
    "for i in comment_box:\n",
    "    print(i.div.div.div.div.text)"
   ]
  },
  {
   "cell_type": "code",
   "execution_count": 65,
   "id": "934cc7e6-8699-4741-a377-ba7eb3f89f0d",
   "metadata": {},
   "outputs": [
    {
     "data": {
      "text/plain": [
       "'Terrific purchase'"
      ]
     },
     "execution_count": 65,
     "metadata": {},
     "output_type": "execute_result"
    }
   ],
   "source": [
    "comment_box[0].div.div.div.p.text"
   ]
  },
  {
   "cell_type": "code",
   "execution_count": 67,
   "id": "a2f81c78-cd9f-4bba-9339-3c4a9ba4c7d6",
   "metadata": {},
   "outputs": [
    {
     "name": "stdout",
     "output_type": "stream",
     "text": [
      "Terrific purchase\n",
      "Awesome\n",
      "Very Good\n",
      "Delightful\n",
      "Nice product\n",
      "Terrific\n",
      "Highly recommended\n",
      "Highly recommended\n",
      "Excellent\n",
      "Terrific\n"
     ]
    },
    {
     "ename": "AttributeError",
     "evalue": "'NoneType' object has no attribute 'div'",
     "output_type": "error",
     "traceback": [
      "\u001b[0;31m---------------------------------------------------------------------------\u001b[0m",
      "\u001b[0;31mAttributeError\u001b[0m                            Traceback (most recent call last)",
      "Cell \u001b[0;32mIn[67], line 2\u001b[0m\n\u001b[1;32m      1\u001b[0m \u001b[38;5;28;01mfor\u001b[39;00m i \u001b[38;5;129;01min\u001b[39;00m comment_box :\n\u001b[0;32m----> 2\u001b[0m     \u001b[38;5;28mprint\u001b[39m(\u001b[43mi\u001b[49m\u001b[38;5;241;43m.\u001b[39;49m\u001b[43mdiv\u001b[49m\u001b[38;5;241;43m.\u001b[39;49m\u001b[43mdiv\u001b[49m\u001b[38;5;241m.\u001b[39mdiv\u001b[38;5;241m.\u001b[39mp\u001b[38;5;241m.\u001b[39mtext)\n",
      "\u001b[0;31mAttributeError\u001b[0m: 'NoneType' object has no attribute 'div'"
     ]
    }
   ],
   "source": [
    "for i in comment_box :\n",
    "    print(i.div.div.div.p.text)"
   ]
  },
  {
   "cell_type": "code",
   "execution_count": 73,
   "id": "645e58cd-7904-4865-b21c-0eafc60bc438",
   "metadata": {},
   "outputs": [
    {
     "data": {
      "text/plain": [
       "\"This is a detailed review after 7 days. Please read this if you have problem or concern regarding sound/picture/brightness/sd channels/wifi connectivity/miracast. PICTURE: the picture quality is really amazing. Blacks are really deep. Contrast is pretty good too. No complaints there.  BRIGHTNESS: tv is pretty bright, by default dynamic light is on and it will make your screen dull, just turn it off. I've set it to 25. No screen galre problem.SOUND: tv speakers doesn't have much bass, ide...READ MORE\""
      ]
     },
     "execution_count": 73,
     "metadata": {},
     "output_type": "execute_result"
    }
   ],
   "source": [
    "comment_box[0].div.div.find_all(\"div\",{\"class\": \"\"})[0].text"
   ]
  },
  {
   "cell_type": "code",
   "execution_count": 75,
   "id": "0f5f0b21-3877-4082-b41f-c53458b18d36",
   "metadata": {},
   "outputs": [
    {
     "name": "stdout",
     "output_type": "stream",
     "text": [
      "This is a detailed review after 7 days. Please read this if you have problem or concern regarding sound/picture/brightness/sd channels/wifi connectivity/miracast. PICTURE: the picture quality is really amazing. Blacks are really deep. Contrast is pretty good too. No complaints there.  BRIGHTNESS: tv is pretty bright, by default dynamic light is on and it will make your screen dull, just turn it off. I've set it to 25. No screen galre problem.SOUND: tv speakers doesn't have much bass, ide...READ MORE\n",
      "Super and good quality full HD ,Internet also speed connecting ,it is like one smart phone .full happy and it delivered so speedREAD MORE\n",
      "I m posting review after checking all it's functionalities and settings in 40inch version. Below are the summary points :* Display : looks decent. 4k and full HD content looks satisfying. casted content dispaly quality is below par (also depends on the content you are casting).bezels are thin and are made of plastic which is loosely attached to the display panel. viewing angles are good covers around 150°* Connectivity: impressive , connects to WiFi, Bluetooth , Chromecast smoothly. observ...READ MORE\n",
      "This Mi TV is superb and value for money .waiting for 10 days just give feedback untill now there is no issuesPros1.picture quality2.sound 3.smart TV4.wifi connectivity and voice searchcons1.no Netflix and some important apps Installation feedback1.The installation was good the technician explain good but he force me to give feedback for him at that time and he is not even request me, he asked my mobile and wants me to open gmail and he typed the feedback for himself and finally a...READ MORE\n",
      "I love this MI tv good quality with affordable price. it supports 4k video also especially dolby audio is too good suggestions : MI should give the wall hanging stand for free of costREAD MORE\n",
      "MI is just awesome, obviously value for money.connectivity is super and no flaws noticed in TV till now.if anyone is looking for buy a smart TV in reasonable price then just prefer MI 4A. And finally thank you Flipkart 😊READ MORE\n",
      "Good product . Best value for money Android smart tvTimely delivery & proper installation done on schedule date . Thanks to FLIPKART  .READ MORE\n",
      "Really good product. value for money. Smart TV feture are in this price rang wich is great . Picture quality is preeti good , nice view angel. Go for pro model .....READ MORE\n",
      "PRO is better than previous version. It runs on android. Google play store is preinstalled. The remote runs on bluetooth. Great viewing experience as it is true LED TV. HD channels looks awesome, while SD channels does not looks good due to big screen size.Sound is clear and loud enough, good for music as well.Overall its a value for money product.Delivered and installed on stipulated timelines by flipcart.READ MORE\n",
      "it very nice mi tv good condition valuable for money but installation tv  to late jeeves.  pictures quality good .sounds effectively nice. can the the mi tv in flipkart it great delvery it on time  it amazingREAD MORE\n"
     ]
    },
    {
     "ename": "AttributeError",
     "evalue": "'NoneType' object has no attribute 'div'",
     "output_type": "error",
     "traceback": [
      "\u001b[0;31m---------------------------------------------------------------------------\u001b[0m",
      "\u001b[0;31mAttributeError\u001b[0m                            Traceback (most recent call last)",
      "Cell \u001b[0;32mIn[75], line 2\u001b[0m\n\u001b[1;32m      1\u001b[0m \u001b[38;5;28;01mfor\u001b[39;00m i \u001b[38;5;129;01min\u001b[39;00m comment_box:\n\u001b[0;32m----> 2\u001b[0m     \u001b[38;5;28mprint\u001b[39m(\u001b[43mi\u001b[49m\u001b[38;5;241;43m.\u001b[39;49m\u001b[43mdiv\u001b[49m\u001b[38;5;241;43m.\u001b[39;49m\u001b[43mdiv\u001b[49m\u001b[38;5;241m.\u001b[39mfind_all(\u001b[38;5;124m\"\u001b[39m\u001b[38;5;124mdiv\u001b[39m\u001b[38;5;124m\"\u001b[39m,{\u001b[38;5;124m\"\u001b[39m\u001b[38;5;124mclass\u001b[39m\u001b[38;5;124m\"\u001b[39m: \u001b[38;5;124m\"\u001b[39m\u001b[38;5;124m\"\u001b[39m})[\u001b[38;5;241m0\u001b[39m]\u001b[38;5;241m.\u001b[39mtext)\n",
      "\u001b[0;31mAttributeError\u001b[0m: 'NoneType' object has no attribute 'div'"
     ]
    }
   ],
   "source": [
    "for i in comment_box:\n",
    "    print(i.div.div.find_all(\"div\",{\"class\": \"\"})[0].text)"
   ]
  },
  {
   "cell_type": "code",
   "execution_count": null,
   "id": "9e7615a7-758e-4df3-b40f-88c4d22fbd73",
   "metadata": {},
   "outputs": [],
   "source": []
  }
 ],
 "metadata": {
  "kernelspec": {
   "display_name": "Python 3 (ipykernel)",
   "language": "python",
   "name": "python3"
  },
  "language_info": {
   "codemirror_mode": {
    "name": "ipython",
    "version": 3
   },
   "file_extension": ".py",
   "mimetype": "text/x-python",
   "name": "python",
   "nbconvert_exporter": "python",
   "pygments_lexer": "ipython3",
   "version": "3.10.8"
  }
 },
 "nbformat": 4,
 "nbformat_minor": 5
}
