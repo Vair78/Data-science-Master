{
 "cells": [
  {
   "cell_type": "markdown",
   "id": "ce5b961d-2e43-42e6-a2a9-d18ac9d8d1bc",
   "metadata": {},
   "source": [
    "### Lambda Functions"
   ]
  },
  {
   "cell_type": "code",
   "execution_count": 1,
   "id": "957c595a-81d0-4240-ab92-28d343729cf6",
   "metadata": {},
   "outputs": [],
   "source": [
    "# it will take two input then convert into Power of that input\n",
    "n = 3\n",
    "p = 2"
   ]
  },
  {
   "cell_type": "code",
   "execution_count": 2,
   "id": "9ef82314-c623-46f9-ab11-f950b409fca2",
   "metadata": {},
   "outputs": [],
   "source": [
    "def test(n,p):\n",
    "    return n**p"
   ]
  },
  {
   "cell_type": "code",
   "execution_count": 4,
   "id": "5dea533b-501d-453a-afd4-432fc5a5ebed",
   "metadata": {},
   "outputs": [
    {
     "data": {
      "text/plain": [
       "9"
      ]
     },
     "execution_count": 4,
     "metadata": {},
     "output_type": "execute_result"
    }
   ],
   "source": [
    "test(3,2)"
   ]
  },
  {
   "cell_type": "code",
   "execution_count": 5,
   "id": "c5c2ca3c-1ad9-4f7a-b6c4-922868e09af9",
   "metadata": {},
   "outputs": [
    {
     "data": {
      "text/plain": [
       "6561"
      ]
     },
     "execution_count": 5,
     "metadata": {},
     "output_type": "execute_result"
    }
   ],
   "source": [
    "test(9,4)"
   ]
  },
  {
   "cell_type": "code",
   "execution_count": 16,
   "id": "f2529677-78aa-4d16-b67a-bb0fe90fbef6",
   "metadata": {},
   "outputs": [],
   "source": [
    "a = lambda n,p : n**p        # Lambda fun is without name or ananomus function"
   ]
  },
  {
   "cell_type": "code",
   "execution_count": 17,
   "id": "42b9b29a-c21b-4b44-be5d-cd40d7e0430e",
   "metadata": {},
   "outputs": [
    {
     "data": {
      "text/plain": [
       "9"
      ]
     },
     "execution_count": 17,
     "metadata": {},
     "output_type": "execute_result"
    }
   ],
   "source": [
    "a(3,2)"
   ]
  },
  {
   "cell_type": "code",
   "execution_count": 18,
   "id": "7594e7d9-1abd-4d3e-a189-a6768b45a514",
   "metadata": {},
   "outputs": [
    {
     "data": {
      "text/plain": [
       "6561"
      ]
     },
     "execution_count": 18,
     "metadata": {},
     "output_type": "execute_result"
    }
   ],
   "source": [
    "a(9,4)"
   ]
  },
  {
   "cell_type": "code",
   "execution_count": 19,
   "id": "66887a48-7d29-4474-ae18-645f76bebc1c",
   "metadata": {},
   "outputs": [],
   "source": [
    "add = lambda x,y : x+y    # lambda is shorthand function"
   ]
  },
  {
   "cell_type": "code",
   "execution_count": 21,
   "id": "bcee030b-eef2-4d74-83d6-3aa4e80bcd62",
   "metadata": {},
   "outputs": [
    {
     "data": {
      "text/plain": [
       "45"
      ]
     },
     "execution_count": 21,
     "metadata": {},
     "output_type": "execute_result"
    }
   ],
   "source": [
    "add(23,22)"
   ]
  },
  {
   "cell_type": "code",
   "execution_count": 22,
   "id": "9fac68b6-b4f3-4ad1-af5c-0be5e21bc41e",
   "metadata": {},
   "outputs": [],
   "source": [
    "c_to_f = lambda c: (9/5)*c+32"
   ]
  },
  {
   "cell_type": "code",
   "execution_count": 23,
   "id": "c8e0a226-853a-4d63-93ef-021558cc3e21",
   "metadata": {},
   "outputs": [
    {
     "data": {
      "text/plain": [
       "93.2"
      ]
     },
     "execution_count": 23,
     "metadata": {},
     "output_type": "execute_result"
    }
   ],
   "source": [
    "c_to_f(34)"
   ]
  },
  {
   "cell_type": "code",
   "execution_count": 24,
   "id": "e0239e61-4f2a-4e80-8c25-009322c53243",
   "metadata": {},
   "outputs": [],
   "source": [
    "max_two = lambda x,y : x if x > y else y"
   ]
  },
  {
   "cell_type": "code",
   "execution_count": 25,
   "id": "447670b7-1d65-47f1-bf20-7ee0ef37232d",
   "metadata": {},
   "outputs": [
    {
     "data": {
      "text/plain": [
       "56"
      ]
     },
     "execution_count": 25,
     "metadata": {},
     "output_type": "execute_result"
    }
   ],
   "source": [
    "max_two(4,56)"
   ]
  },
  {
   "cell_type": "code",
   "execution_count": 26,
   "id": "5ecd7243-7154-495a-b7b2-4675425d99c6",
   "metadata": {},
   "outputs": [
    {
     "data": {
      "text/plain": [
       "10"
      ]
     },
     "execution_count": 26,
     "metadata": {},
     "output_type": "execute_result"
    }
   ],
   "source": [
    "max_two(10,2)"
   ]
  },
  {
   "cell_type": "code",
   "execution_count": 27,
   "id": "5790ef62-faf9-4be4-b62b-3cb0b4e54a05",
   "metadata": {},
   "outputs": [],
   "source": [
    "s = \"pwskills\""
   ]
  },
  {
   "cell_type": "code",
   "execution_count": 29,
   "id": "1be1cecf-9695-4b57-8632-6208a48e9de8",
   "metadata": {},
   "outputs": [],
   "source": [
    "len_st = lambda s : len(s)"
   ]
  },
  {
   "cell_type": "code",
   "execution_count": 30,
   "id": "73bab6ad-1e20-4448-a217-ba8743cda8f2",
   "metadata": {},
   "outputs": [
    {
     "data": {
      "text/plain": [
       "8"
      ]
     },
     "execution_count": 30,
     "metadata": {},
     "output_type": "execute_result"
    }
   ],
   "source": [
    "len_st(s)"
   ]
  },
  {
   "cell_type": "code",
   "execution_count": null,
   "id": "f361bcda-73ee-4b11-a0ee-0f938175c3b3",
   "metadata": {},
   "outputs": [],
   "source": []
  }
 ],
 "metadata": {
  "kernelspec": {
   "display_name": "Python 3 (ipykernel)",
   "language": "python",
   "name": "python3"
  },
  "language_info": {
   "codemirror_mode": {
    "name": "ipython",
    "version": 3
   },
   "file_extension": ".py",
   "mimetype": "text/x-python",
   "name": "python",
   "nbconvert_exporter": "python",
   "pygments_lexer": "ipython3",
   "version": "3.10.8"
  }
 },
 "nbformat": 4,
 "nbformat_minor": 5
}
