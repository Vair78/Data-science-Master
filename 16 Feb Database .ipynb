{
 "cells": [
  {
   "cell_type": "markdown",
   "id": "425b6bf6-23c7-4442-b53d-75170f1771be",
   "metadata": {},
   "source": [
    "## 16 Feb. Working with database"
   ]
  },
  {
   "cell_type": "markdown",
   "id": "a069a7b0-8ed1-468c-a126-2fc97d21a728",
   "metadata": {},
   "source": [
    " - SQL and NoSQL ( not only SQL )\n",
    "\n",
    "- applicaiton ( mysql, MS SQL, DB#, Oracle ) \n",
    "\n",
    "- No SQL : application ( MangoDB, Cass and many more databases)\n",
    "\n",
    "\n",
    "SQL : Strucuted data\n",
    "\n",
    "- we have created file on Python+ SQL for 16 Feb"
   ]
  },
  {
   "cell_type": "code",
   "execution_count": null,
   "id": "c390c161-9405-4f95-89fb-a41cd281d113",
   "metadata": {},
   "outputs": [],
   "source": []
  }
 ],
 "metadata": {
  "kernelspec": {
   "display_name": "Python 3 (ipykernel)",
   "language": "python",
   "name": "python3"
  },
  "language_info": {
   "codemirror_mode": {
    "name": "ipython",
    "version": 3
   },
   "file_extension": ".py",
   "mimetype": "text/x-python",
   "name": "python",
   "nbconvert_exporter": "python",
   "pygments_lexer": "ipython3",
   "version": "3.10.8"
  }
 },
 "nbformat": 4,
 "nbformat_minor": 5
}
