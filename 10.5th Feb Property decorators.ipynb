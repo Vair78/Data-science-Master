{
 "cells": [
  {
   "cell_type": "markdown",
   "id": "8bda9f51-8d33-4f3e-af45-6fea82bd2683",
   "metadata": {},
   "source": [
    "##Property Decorators\n",
    "\n",
    "#property decorator is a built-in decorator in Python which is helpful in defining the properties effortlessly without manually calling the inbuilt function property(). Which is used to return the property attributes of a class from the stated getter, setter and deleter as parameters\n",
    "\n",
    "Double Underscore( __ ) mean private variable : No one can access ( onlye acces with given data for only creator )\n",
    "singel underscore ( _ ) mean proctected vairbale : \n",
    "no underscore means Public varible : Anyone can access\n",
    "\n",
    "\n",
    "for assign Private varible \n",
    "@property               # user will be access above private function using property function\n",
    "    def course_price_access(self):\n",
    "        return self.__course_price\n",
    "        \n",
    "         @course_price_access.setter\n",
    "    def course_price_set(self , price):\n",
    "        if price <= 3500:\n",
    "            pass\n",
    "        else :\n",
    "            self.__course_price = price\n",
    "# For Modified the Private Variable \n",
    " @course_price_access.setter\n",
    "    def course_price_set(self , price):\n",
    "        if price <= 3500:\n",
    "            pass\n",
    "        else :\n",
    "            self.__course_price = price\n",
    "        \n",
    "# for delete the Private Variable :\n",
    "\n",
    " @course_price_access.deleter\n",
    "    def course_price_del(self):\n",
    "        del self.__course_price"
   ]
  },
  {
   "cell_type": "code",
   "execution_count": 1,
   "id": "9501b863-59b3-48eb-9322-f813ac0ab6c3",
   "metadata": {},
   "outputs": [],
   "source": [
    "# __ mean private varible it is not public\n",
    "\n",
    "class pwskills:\n",
    "    \n",
    "    def __init__(self,course_price , course_name):\n",
    "        self.__course_price = course_price\n",
    "        self.course_name = course_name"
   ]
  },
  {
   "cell_type": "code",
   "execution_count": 2,
   "id": "d6c1a6c6-86da-4f0d-ab0d-c708f6e8aded",
   "metadata": {},
   "outputs": [],
   "source": [
    "pw = pwskills(3500, \"data science master\")"
   ]
  },
  {
   "cell_type": "code",
   "execution_count": 3,
   "id": "3373ba1f-70fa-4b71-a506-4b51717d6d00",
   "metadata": {},
   "outputs": [
    {
     "data": {
      "text/plain": [
       "'data science master'"
      ]
     },
     "execution_count": 3,
     "metadata": {},
     "output_type": "execute_result"
    }
   ],
   "source": [
    "pw.course_name"
   ]
  },
  {
   "cell_type": "code",
   "execution_count": 5,
   "id": "59db1057-67cf-4f17-ba8a-afdf5ce3177c",
   "metadata": {},
   "outputs": [
    {
     "data": {
      "text/plain": [
       "3500"
      ]
     },
     "execution_count": 5,
     "metadata": {},
     "output_type": "execute_result"
    }
   ],
   "source": [
    "pw._pwskills__course_price         # ( __  double underscore)becasue this is private variblae which cannot be public"
   ]
  },
  {
   "cell_type": "markdown",
   "id": "1f7a9541-40a0-4500-adbb-de023deb5b21",
   "metadata": {},
   "source": [
    "## If you want to go Public from Private varible then follow Below "
   ]
  },
  {
   "cell_type": "code",
   "execution_count": 7,
   "id": "36720be3-675b-412c-964e-238b7049a90c",
   "metadata": {},
   "outputs": [],
   "source": [
    "class pwskills:\n",
    "    \n",
    "    def __init__(self,course_price , course_name):\n",
    "        self.__course_price = course_price\n",
    "        self.course_name = course_name\n",
    "        \n",
    "    @property               # user will be access above private function using property function\n",
    "    def course_price_access(self):\n",
    "        return self.__course_price"
   ]
  },
  {
   "cell_type": "code",
   "execution_count": 8,
   "id": "572b845b-be85-4b99-973b-cc49d17549ef",
   "metadata": {},
   "outputs": [],
   "source": [
    "pw = pwskills(3500, \"data science master\")"
   ]
  },
  {
   "cell_type": "code",
   "execution_count": 9,
   "id": "6dd9d09a-04ca-4d5c-ae04-0d5f7cbf3812",
   "metadata": {},
   "outputs": [
    {
     "data": {
      "text/plain": [
       "3500"
      ]
     },
     "execution_count": 9,
     "metadata": {},
     "output_type": "execute_result"
    }
   ],
   "source": [
    "pw.course_price_access"
   ]
  },
  {
   "cell_type": "markdown",
   "id": "de95eb3b-f136-4ee4-8214-47a4961ec92e",
   "metadata": {},
   "source": [
    "## If someone want to be modification then follow below "
   ]
  },
  {
   "cell_type": "code",
   "execution_count": 13,
   "id": "775801ea-663b-4f4a-aec9-255a00ffd7b4",
   "metadata": {},
   "outputs": [],
   "source": [
    "class pwskills:\n",
    "    \n",
    "    def __init__(self,course_price , course_name):\n",
    "        self.__course_price = course_price\n",
    "        self.course_name = course_name\n",
    "        \n",
    "    @property               # user will be access above private function using property function\n",
    "    def course_price_access(self):\n",
    "        return self.__course_price\n",
    "    \n",
    "    \n",
    "    @course_price_access.setter\n",
    "    def course_price_set(self , price):\n",
    "        if price <= 3500:\n",
    "            pass\n",
    "        else :\n",
    "            self.__course_price = price\n",
    "        "
   ]
  },
  {
   "cell_type": "code",
   "execution_count": 14,
   "id": "c5b815be-3779-4820-8d9b-fa0eb79e06f7",
   "metadata": {},
   "outputs": [],
   "source": [
    "pw = pwskills(3500, \"data science master\")"
   ]
  },
  {
   "cell_type": "code",
   "execution_count": 15,
   "id": "0a96d8be-f89b-4c6c-bf6e-f0c33f235ed9",
   "metadata": {},
   "outputs": [
    {
     "data": {
      "text/plain": [
       "3500"
      ]
     },
     "execution_count": 15,
     "metadata": {},
     "output_type": "execute_result"
    }
   ],
   "source": [
    "pw.course_price_access"
   ]
  },
  {
   "cell_type": "code",
   "execution_count": 16,
   "id": "13fb445f-8f23-4447-a12f-cbfdcd4cb5a8",
   "metadata": {},
   "outputs": [],
   "source": [
    "pw.course_price_set = 2300"
   ]
  },
  {
   "cell_type": "code",
   "execution_count": 17,
   "id": "08bc07de-0d45-4052-af4d-ce774f2394f5",
   "metadata": {},
   "outputs": [
    {
     "data": {
      "text/plain": [
       "3500"
      ]
     },
     "execution_count": 17,
     "metadata": {},
     "output_type": "execute_result"
    }
   ],
   "source": [
    "pw.course_price_access"
   ]
  },
  {
   "cell_type": "code",
   "execution_count": 18,
   "id": "11dbecc1-1ad8-43aa-93f2-c5459cdd9d38",
   "metadata": {},
   "outputs": [],
   "source": [
    "pw.course_price_set = 4500"
   ]
  },
  {
   "cell_type": "code",
   "execution_count": 19,
   "id": "0dfb2ac2-b9a3-47c4-9c0e-189177051892",
   "metadata": {},
   "outputs": [
    {
     "data": {
      "text/plain": [
       "4500"
      ]
     },
     "execution_count": 19,
     "metadata": {},
     "output_type": "execute_result"
    }
   ],
   "source": [
    "pw.course_price_access"
   ]
  },
  {
   "cell_type": "code",
   "execution_count": 20,
   "id": "84a41af8-0971-44f8-9965-81e77390c192",
   "metadata": {},
   "outputs": [
    {
     "data": {
      "text/plain": [
       "'data science master'"
      ]
     },
     "execution_count": 20,
     "metadata": {},
     "output_type": "execute_result"
    }
   ],
   "source": [
    "pw.course_name"
   ]
  },
  {
   "cell_type": "markdown",
   "id": "7d6ee561-c3d2-48e5-9dcf-7430e33e481f",
   "metadata": {},
   "source": [
    "## If someone want to delete the priviallge of this private variable"
   ]
  },
  {
   "cell_type": "code",
   "execution_count": 21,
   "id": "fbafa273-7739-438e-8820-cb037a02e3a5",
   "metadata": {},
   "outputs": [],
   "source": [
    "class pwskills:\n",
    "    \n",
    "    def __init__(self,course_price , course_name):\n",
    "        self.__course_price = course_price\n",
    "        self.course_name = course_name\n",
    "        \n",
    "    @property               # user will be access above private function using property function\n",
    "    def course_price_access(self):\n",
    "        return self.__course_price\n",
    "    \n",
    "    \n",
    "    @course_price_access.setter\n",
    "    def course_price_set(self , price):\n",
    "        if price <= 3500:\n",
    "            pass\n",
    "        else :\n",
    "            self.__course_price = price\n",
    "            \n",
    "    @course_price_access.deleter\n",
    "    def course_price_del(self):\n",
    "        del self.__course_price\n",
    "        "
   ]
  },
  {
   "cell_type": "code",
   "execution_count": 22,
   "id": "c466210b-485f-41c3-b905-b10bcc68678f",
   "metadata": {},
   "outputs": [],
   "source": [
    "pw = pwskills(3500, \"data science master\")"
   ]
  },
  {
   "cell_type": "code",
   "execution_count": 23,
   "id": "65c95062-bf07-497b-8c0e-4354330fb8b3",
   "metadata": {},
   "outputs": [
    {
     "data": {
      "text/plain": [
       "3500"
      ]
     },
     "execution_count": 23,
     "metadata": {},
     "output_type": "execute_result"
    }
   ],
   "source": [
    "pw.course_price_access"
   ]
  },
  {
   "cell_type": "code",
   "execution_count": 27,
   "id": "8f7d4440-c318-4d52-a407-a4dd9c3e71d5",
   "metadata": {},
   "outputs": [],
   "source": [
    "del pw.course_price_del"
   ]
  },
  {
   "cell_type": "code",
   "execution_count": 28,
   "id": "82c9413a-32f4-49c9-a279-c50612dd9e6f",
   "metadata": {},
   "outputs": [
    {
     "ename": "AttributeError",
     "evalue": "'pwskills' object has no attribute '_pwskills__course_price'",
     "output_type": "error",
     "traceback": [
      "\u001b[0;31m---------------------------------------------------------------------------\u001b[0m",
      "\u001b[0;31mAttributeError\u001b[0m                            Traceback (most recent call last)",
      "Cell \u001b[0;32mIn[28], line 1\u001b[0m\n\u001b[0;32m----> 1\u001b[0m \u001b[43mpw\u001b[49m\u001b[38;5;241;43m.\u001b[39;49m\u001b[43mcourse_price_access\u001b[49m\n",
      "Cell \u001b[0;32mIn[21], line 9\u001b[0m, in \u001b[0;36mpwskills.course_price_access\u001b[0;34m(self)\u001b[0m\n\u001b[1;32m      7\u001b[0m \u001b[38;5;129m@property\u001b[39m               \u001b[38;5;66;03m# user will be access above private function using property function\u001b[39;00m\n\u001b[1;32m      8\u001b[0m \u001b[38;5;28;01mdef\u001b[39;00m \u001b[38;5;21mcourse_price_access\u001b[39m(\u001b[38;5;28mself\u001b[39m):\n\u001b[0;32m----> 9\u001b[0m     \u001b[38;5;28;01mreturn\u001b[39;00m \u001b[38;5;28;43mself\u001b[39;49m\u001b[38;5;241;43m.\u001b[39;49m\u001b[43m__course_price\u001b[49m\n",
      "\u001b[0;31mAttributeError\u001b[0m: 'pwskills' object has no attribute '_pwskills__course_price'"
     ]
    }
   ],
   "source": [
    "pw.course_price_access    # becasue we have delete that y its showing below error."
   ]
  },
  {
   "cell_type": "code",
   "execution_count": null,
   "id": "7e88d9a9-b9d9-4961-824e-4051c309b3be",
   "metadata": {},
   "outputs": [],
   "source": []
  }
 ],
 "metadata": {
  "kernelspec": {
   "display_name": "Python 3 (ipykernel)",
   "language": "python",
   "name": "python3"
  },
  "language_info": {
   "codemirror_mode": {
    "name": "ipython",
    "version": 3
   },
   "file_extension": ".py",
   "mimetype": "text/x-python",
   "name": "python",
   "nbconvert_exporter": "python",
   "pygments_lexer": "ipython3",
   "version": "3.10.8"
  }
 },
 "nbformat": 4,
 "nbformat_minor": 5
}
