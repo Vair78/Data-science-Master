{
 "cells": [
  {
   "cell_type": "markdown",
   "id": "4e9a19dd-cf43-41d3-8333-9aaea445ec0f",
   "metadata": {},
   "source": [
    "## 8.3 Abstract Class"
   ]
  },
  {
   "cell_type": "markdown",
   "id": "493e9c63-744c-4e62-93fb-0e08b488c57a",
   "metadata": {},
   "source": [
    "Introduction to Python Abstract Classes\n",
    "In object-oriented programming, an abstract class is a class that cannot be instantiated. However, you can create classes that inherit from an abstract class.\n",
    "\n",
    "Typically, you use an abstract class to create a blueprint for other classes.\n",
    "\n",
    "Similarly, an abstract method is an method without an implementation. An abstract class may or may not include abstract methods.\n",
    "\n",
    "Python doesn’t directly support abstract classes. But it does offer a module that allows you to define abstract classes.\n",
    "\n",
    "To define an abstract class, you use the abc (abstract base class) module.\n",
    "\n",
    "The abc module provides you with the infrastructure for defining abstract base classes."
   ]
  },
  {
   "cell_type": "code",
   "execution_count": 3,
   "id": "c97d954b-39f7-4d8b-81a2-287968e0cd02",
   "metadata": {},
   "outputs": [],
   "source": [
    "import abc\n",
    "\n",
    "class pwskills :\n",
    "    \n",
    "    @abc.abstractmethod\n",
    "    def student_details(self):\n",
    "        pass\n",
    "    \n",
    "    @abc.abstractmethod\n",
    "    def studnet_assignment(self):\n",
    "        pass\n",
    "    \n",
    "    @abc.abstractmethod\n",
    "    def student_marks(self):\n",
    "        pass"
   ]
  },
  {
   "cell_type": "code",
   "execution_count": 4,
   "id": "430a7e74-3879-4b4d-ab9d-3f963c979eac",
   "metadata": {},
   "outputs": [],
   "source": [
    "class data_science(pwskills):\n",
    "    \n",
    "    def student_details(self):\n",
    "        return \"it will try to return a details of data science masters\"\n",
    "    \n",
    "    def student_assignment(self):\n",
    "        return \" it will return a details of student assigment for data science master\"\n",
    "    "
   ]
  },
  {
   "cell_type": "code",
   "execution_count": 7,
   "id": "692d352f-4e71-4d03-a109-e980f184f609",
   "metadata": {},
   "outputs": [],
   "source": [
    "class web_dev(pwskills):\n",
    "    def student_details (self):\n",
    "            return \"this willl return a details of web dev\"\n",
    "        \n",
    "        \n",
    "        \n",
    "    def student_marks(self):\n",
    "            return\" This will return a marks of web dev\""
   ]
  },
  {
   "cell_type": "code",
   "execution_count": 8,
   "id": "07d30d49-fc96-4936-b866-24b621fcd9d8",
   "metadata": {},
   "outputs": [],
   "source": [
    "ds = data_science()"
   ]
  },
  {
   "cell_type": "code",
   "execution_count": 9,
   "id": "dbf397bd-2be0-4874-b13f-27e5eece5a85",
   "metadata": {},
   "outputs": [
    {
     "data": {
      "text/plain": [
       "'it will try to return a details of data science masters'"
      ]
     },
     "execution_count": 9,
     "metadata": {},
     "output_type": "execute_result"
    }
   ],
   "source": [
    "ds.student_details()"
   ]
  },
  {
   "cell_type": "code",
   "execution_count": 10,
   "id": "a49ccc05-67d4-4a54-869a-019f220f9285",
   "metadata": {},
   "outputs": [],
   "source": [
    "wb = web_dev()"
   ]
  },
  {
   "cell_type": "code",
   "execution_count": 11,
   "id": "5c2d7328-6f31-4f86-92e3-d7ab3af81db6",
   "metadata": {},
   "outputs": [
    {
     "data": {
      "text/plain": [
       "'this willl return a details of web dev'"
      ]
     },
     "execution_count": 11,
     "metadata": {},
     "output_type": "execute_result"
    }
   ],
   "source": [
    "wb.student_details()"
   ]
  },
  {
   "cell_type": "code",
   "execution_count": null,
   "id": "78c198e3-f154-4e64-a99d-56c2d0e843e5",
   "metadata": {},
   "outputs": [],
   "source": []
  }
 ],
 "metadata": {
  "kernelspec": {
   "display_name": "Python 3 (ipykernel)",
   "language": "python",
   "name": "python3"
  },
  "language_info": {
   "codemirror_mode": {
    "name": "ipython",
    "version": 3
   },
   "file_extension": ".py",
   "mimetype": "text/x-python",
   "name": "python",
   "nbconvert_exporter": "python",
   "pygments_lexer": "ipython3",
   "version": "3.10.8"
  }
 },
 "nbformat": 4,
 "nbformat_minor": 5
}
