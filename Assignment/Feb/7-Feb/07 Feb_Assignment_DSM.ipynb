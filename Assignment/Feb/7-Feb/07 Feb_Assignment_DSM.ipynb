{
 "cells": [
  {
   "cell_type": "markdown",
   "id": "df03e20a",
   "metadata": {},
   "source": [
    "## 07 Feb_Assignment_DSM"
   ]
  },
  {
   "cell_type": "markdown",
   "id": "62a0d16b",
   "metadata": {},
   "source": [
    "Q 1. You are writing code for a company. the requirement of the company is that you create a python function that will check whether the password entered by the user is correct or not. The Function should take the password as input and return the string \"valid password\". \n",
    "If the entered password follows the below- give password guidelines else it should return \"Invalide  Password\".\n",
    "\n",
    "* NOte : 1. Password should contain at least two uppercase letters and at least two lowercase letters.\n",
    "2. The password should contain at least a number of three special characters.\n",
    "3. The legnth of the password should be 10 charaters long.\n",
    " "
   ]
  },
  {
   "cell_type": "code",
   "execution_count": 4,
   "id": "6e0162c2",
   "metadata": {},
   "outputs": [
    {
     "name": "stdout",
     "output_type": "stream",
     "text": [
      "ABC142./@dx$#abx%a2  =  Valid Password\n",
      "adiu123$029VAI#vj  =  Invalid Password\n",
      "BCDA./#lakhy123&  =  Invalid Password\n"
     ]
    }
   ],
   "source": [
    "# Example 1\n",
    "def check_password(password: str):\n",
    "    special_chars =\"[{@_!#$%^&*()<>?|?}{~:]\"\n",
    "    \n",
    "    cap = num = char = length = 0\n",
    "    for i in password :\n",
    "        if i.isupper() or i.islower():\n",
    "            cap += 1\n",
    "        elif i.isdigit():\n",
    "            num += 1\n",
    "        elif i in special_chars:\n",
    "            char += 1\n",
    "        else:\n",
    "            continue\n",
    "            \n",
    "    if cap >= 4 and num >= 1 and char >= 3 and len (password) >=10:\n",
    "        return 'Valid Password'\n",
    "    else:\n",
    "        return 'Invalid Password'\n",
    "    \n",
    "pass1 = 'ABC142./@dx$#abx%a2'\n",
    "pass2 = 'adiu123$029VAI#vj'     # - is invalide here\n",
    "pass3 = 'BCDA./#lakhy123&'\n",
    "    \n",
    "print(pass1, ' = ', check_password(pass1))\n",
    "print(pass2, ' = ', check_password(pass2))\n",
    "print(pass3, ' = ', check_password(pass3))"
   ]
  },
  {
   "cell_type": "code",
   "execution_count": 7,
   "id": "58e992cd",
   "metadata": {},
   "outputs": [
    {
     "name": "stdout",
     "output_type": "stream",
     "text": [
      "enter the password 12121\n",
      "Invalid Password\n"
     ]
    }
   ],
   "source": [
    "# Example : 2\n",
    "\n",
    "def get_strong_password(passw):\n",
    "    up_count=0\n",
    "    low_count=0\n",
    "    int_count=0\n",
    "    special_count=0\n",
    "    for i in passw:\n",
    "        if ord(i)>=65 and ord(i)<=90:\n",
    "            up_count+=1\n",
    "        if ord(i)>=97 and ord(i)<=122:\n",
    "            low_count+=1\n",
    "        if ord(i)>=48 and ord(i)<=57:\n",
    "            int_count+=1\n",
    "        if (ord(i)>=33 and ord(i)<=47) or (ord(i)>=58 and ord(i)<=64) or (ord(i)>=91 and ord(i)<=96) or (ord(i)>=123 and ord(i)<=126):\n",
    "            special_count+=1\n",
    "    if up_count>=2 and low_count>=2 and special_count==3 and int_count>= 1 and len(passw)==10 :\n",
    "        return \"Valid Password\"\n",
    "    else:\n",
    "        return \"Invalid Password\"\n",
    "enter_pass=input(\"enter the password \")\n",
    "check=get_strong_password(enter_pass)\n",
    "print(check)"
   ]
  },
  {
   "cell_type": "markdown",
   "id": "f3c0918b",
   "metadata": {},
   "source": [
    "Q2.  Solve the below-given qustion using at least one of the following :\n",
    "\n",
    "1. Lambda function\n",
    "2. Filter Function\n",
    "3. Map Function \n",
    "4. List Comprehension\n",
    "\n",
    "* Check if the stirng starts with a particular letter\n",
    "* Check if the string is numeric\n",
    "* Sort a list of tuples having fruit names and their quantity [(\"mango\",99), (\"orange\",80),(\"grapss\",1000)]\n",
    "* Find the squares of numbers from 1 to 10\n",
    "* Find the cube root of numbers from 1 to 10\n",
    "* Check if a given number is even\n",
    "* Filter odd numbers from the given list [1,2,3,4,5,6,7,8,9,10]\n",
    "* Sort a list  of integers into positive and negative integers lists\n",
    "[1,2,3,4,5,6,-1,-2,-3,-4,-5,0]\n"
   ]
  },
  {
   "cell_type": "markdown",
   "id": "2ef47ab3",
   "metadata": {},
   "source": [
    "1.Check if the stirng starts with a particular letter"
   ]
  },
  {
   "cell_type": "code",
   "execution_count": 8,
   "id": "24add590",
   "metadata": {},
   "outputs": [
    {
     "name": "stdout",
     "output_type": "stream",
     "text": [
      "True\n"
     ]
    }
   ],
   "source": [
    "print((lambda x,y :x[0] ==y)('Vaibhav','V'))"
   ]
  },
  {
   "cell_type": "markdown",
   "id": "802b58d1",
   "metadata": {},
   "source": [
    "2.Check if the string is numeric"
   ]
  },
  {
   "cell_type": "code",
   "execution_count": 9,
   "id": "f5912e4e",
   "metadata": {},
   "outputs": [
    {
     "name": "stdout",
     "output_type": "stream",
     "text": [
      "True\n"
     ]
    }
   ],
   "source": [
    "print((lambda x :x.isnumeric())('143'))"
   ]
  },
  {
   "cell_type": "markdown",
   "id": "8baccfa2",
   "metadata": {},
   "source": [
    "3.Sort a list of tuples having fruit names and their quantity [(\"mango\",99), (\"orange\",80),(\"grapss\",1000)]"
   ]
  },
  {
   "cell_type": "code",
   "execution_count": 21,
   "id": "9d4ceb1d",
   "metadata": {},
   "outputs": [
    {
     "name": "stdout",
     "output_type": "stream",
     "text": [
      "[('orange', 80), ('mango', 99), ('grapes', 1000)]\n"
     ]
    }
   ],
   "source": [
    "nlist =[(\"mango\",99), (\"orange\",80),(\"grapes\",1000)]\n",
    "\n",
    "nlist.sort(key = lambda x: x[1])\n",
    "print(nlist)"
   ]
  },
  {
   "cell_type": "markdown",
   "id": "1f5b15cb",
   "metadata": {},
   "source": [
    "4.Find the squares of numbers from 1 to 10"
   ]
  },
  {
   "cell_type": "code",
   "execution_count": 13,
   "id": "e26e028d",
   "metadata": {},
   "outputs": [
    {
     "data": {
      "text/plain": [
       "[1, 4, 9, 16, 25, 36, 49, 64, 81, 100]"
      ]
     },
     "execution_count": 13,
     "metadata": {},
     "output_type": "execute_result"
    }
   ],
   "source": [
    "[i*i for i in range(1, 10+1)]"
   ]
  },
  {
   "cell_type": "markdown",
   "id": "095293dc",
   "metadata": {},
   "source": [
    "5.Find the cube root of numbers from 1 to 10"
   ]
  },
  {
   "cell_type": "code",
   "execution_count": 17,
   "id": "38e7b645",
   "metadata": {},
   "outputs": [
    {
     "data": {
      "text/plain": [
       "[1, 8, 27, 64, 125, 216, 343, 512, 729, 1000]"
      ]
     },
     "execution_count": 17,
     "metadata": {},
     "output_type": "execute_result"
    }
   ],
   "source": [
    "[i*i*i for i in range(1, 10+1)]"
   ]
  },
  {
   "cell_type": "markdown",
   "id": "4a789ec4",
   "metadata": {},
   "source": [
    "6.Check if a given number is even"
   ]
  },
  {
   "cell_type": "code",
   "execution_count": 18,
   "id": "ffee231c",
   "metadata": {},
   "outputs": [
    {
     "name": "stdout",
     "output_type": "stream",
     "text": [
      "True\n"
     ]
    }
   ],
   "source": [
    "print((lambda x : x%2==0)(10))"
   ]
  },
  {
   "cell_type": "markdown",
   "id": "3688894e",
   "metadata": {},
   "source": [
    "7.Filter odd numbers from the given list. [1,2,3,4,5,6,7,8,9,10]"
   ]
  },
  {
   "cell_type": "code",
   "execution_count": 19,
   "id": "94e67c97",
   "metadata": {},
   "outputs": [
    {
     "data": {
      "text/plain": [
       "[1, 3, 5, 7, 9]"
      ]
     },
     "execution_count": 19,
     "metadata": {},
     "output_type": "execute_result"
    }
   ],
   "source": [
    "nlist = [1,2,3,4,5,6,7,8,9,10]\n",
    "list(filter(lambda x : x%2 !=0, nlist))"
   ]
  },
  {
   "cell_type": "markdown",
   "id": "291ee339",
   "metadata": {},
   "source": [
    "8.Sort a list of integers into positive and negative integers lists [1,2,3,4,5,6,-1,-2,-3,-4,-5,0]"
   ]
  },
  {
   "cell_type": "code",
   "execution_count": 23,
   "id": "4d3cb129",
   "metadata": {},
   "outputs": [
    {
     "name": "stdout",
     "output_type": "stream",
     "text": [
      "[1, 2, 3, 4, 5, 6, 0]\n",
      "[-1, -2, -3, -4, -5, 0]\n"
     ]
    }
   ],
   "source": [
    "nlist = [1,2,3,4,5,6,-1,-2,-3,-4,-5,0]\n",
    "print(list(filter(lambda x : x >=0, nlist)))\n",
    "print(list(filter(lambda x : x <=0, nlist)))\n"
   ]
  },
  {
   "cell_type": "code",
   "execution_count": null,
   "id": "b550c06b",
   "metadata": {},
   "outputs": [],
   "source": []
  }
 ],
 "metadata": {
  "kernelspec": {
   "display_name": "Python 3 (ipykernel)",
   "language": "python",
   "name": "python3"
  },
  "language_info": {
   "codemirror_mode": {
    "name": "ipython",
    "version": 3
   },
   "file_extension": ".py",
   "mimetype": "text/x-python",
   "name": "python",
   "nbconvert_exporter": "python",
   "pygments_lexer": "ipython3",
   "version": "3.9.13"
  }
 },
 "nbformat": 4,
 "nbformat_minor": 5
}
