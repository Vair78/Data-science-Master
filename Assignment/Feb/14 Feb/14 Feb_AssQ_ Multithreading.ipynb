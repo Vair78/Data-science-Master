{
 "cells": [
  {
   "cell_type": "markdown",
   "id": "4ddd3ae4",
   "metadata": {},
   "source": [
    "# 14 Feb_AssQ\n",
    "## Multithreading"
   ]
  },
  {
   "cell_type": "markdown",
   "id": "35778678",
   "metadata": {},
   "source": [
    "### Q1. What is multithreading in Python ? Why is it used? Name the module used to handle threads in Python ?\n",
    "\n",
    "\n",
    "\n",
    "* Multithreading allows you to Break Down an applicaiton into mulitple sub-tasks and run the tasks simultaneously.\n",
    "\n",
    "* Multithreading is defined as the ability of a processor to excecute multiple threads concurrently.\n",
    "\n",
    "* If you are multithreading properly, you application speed, performance and rendering can all be improved.\n",
    "\n",
    "\n",
    "* Python provides one Inbuilt module \" Threading\" to provide support for developing threads."
   ]
  },
  {
   "cell_type": "markdown",
   "id": "84cc7e3e",
   "metadata": {},
   "source": [
    "### Q2. Why threadin moudle used ? Write the use of the following functions: \n",
    "1) ActiveCount()\n",
    "2) CurrentThread()\n",
    "3) Enumerate()\n",
    "\n",
    "\n",
    "\n",
    "\n",
    "* Active_Count()\n",
    "        - This function returns the number of active threads currently running"
   ]
  },
  {
   "cell_type": "code",
   "execution_count": 8,
   "id": "8d6359cc",
   "metadata": {},
   "outputs": [
    {
     "name": "stdout",
     "output_type": "stream",
     "text": [
      "The Number of active Threads: 9\n",
      "The Number of active Threads: 7\n"
     ]
    }
   ],
   "source": [
    "import time\n",
    "from threading import *\n",
    "def test(id) :\n",
    "    for i in range(id):\n",
    "        time.sleep(0.5)\n",
    "\n",
    "thred = [Thread(target=test , args = (i,)) for i in [10 , 2 , 5]]\n",
    "for t in thred:\n",
    "    t.start()\n",
    "print(\"The Number of active Threads:\",active_count())\n",
    "time.sleep(3)\n",
    "print(\"The Number of active Threads:\",active_count())"
   ]
  },
  {
   "cell_type": "markdown",
   "id": "6c3aa8e4",
   "metadata": {},
   "source": [
    "* Current_thread()\n",
    "    - We use the current_thread() Function to get the current thread Object"
   ]
  },
  {
   "cell_type": "code",
   "execution_count": 10,
   "id": "bdccb5a7",
   "metadata": {},
   "outputs": [
    {
     "name": "stdout",
     "output_type": "stream",
     "text": [
      "Current Executing Thread: MainThread\n"
     ]
    }
   ],
   "source": [
    "import threading\n",
    "print(\"Current Executing Thread:\", threading.current_thread().getName())"
   ]
  },
  {
   "cell_type": "markdown",
   "id": "1378892a",
   "metadata": {},
   "source": [
    "* enumerate()\n",
    "\n",
    "        - This function returns a list of all active thereads currently running."
   ]
  },
  {
   "cell_type": "code",
   "execution_count": 12,
   "id": "f38ef5ba",
   "metadata": {},
   "outputs": [
    {
     "name": "stdout",
     "output_type": "stream",
     "text": [
      "<Thread(Thread-8, stopped 880)>\n",
      "<Thread(Thread-9, stopped 8900)>\n",
      "<Thread(Thread-10, stopped 6508)>\n"
     ]
    }
   ],
   "source": [
    "from threading import*\n",
    "thread = enumerate()\n",
    "for i in thred:\n",
    "    print(i)"
   ]
  },
  {
   "cell_type": "markdown",
   "id": "0163b3c7",
   "metadata": {},
   "source": [
    "### Q3 Explain the following functions\n",
    "1) run()\n",
    "2) start()\n",
    "3) join()\n",
    "4) isAlive()\n",
    "\n",
    "\n",
    "* start()\n",
    "        - When a thread instance is created, it doesn't start executing until its start() method.(Which invokes the target function with the arguments you supplied) is invoked.\n",
    "\n",
    "* Run()\n",
    "    _ The run() method executes any target function belonging to a given thread object that is now active\n",
    "        - it normally executes in the backgroud after the start() method is invoked."
   ]
  },
  {
   "cell_type": "code",
   "execution_count": 1,
   "id": "cf8205e0",
   "metadata": {},
   "outputs": [
    {
     "name": "stdout",
     "output_type": "stream",
     "text": [
      "This is my custom run!\n"
     ]
    }
   ],
   "source": [
    "import threading\n",
    "\n",
    "class CustomThread(threading.Thread):\n",
    "    def run(self):\n",
    "        print(\"This is my custom run!\")\n",
    "        \n",
    "custom_thread = CustomThread()\n",
    "custom_thread.start()"
   ]
  },
  {
   "cell_type": "markdown",
   "id": "1055c5f5",
   "metadata": {},
   "source": [
    "* IsAlive()\n",
    "        -isAlive() method Checks wheather a thread is still executing or not.\n",
    "        \n",
    "* Join()\n",
    "        - If a thread want to wait until completing some other thread thn we should go for join() Method.\n",
    "        "
   ]
  },
  {
   "cell_type": "code",
   "execution_count": null,
   "id": "1b40f78d",
   "metadata": {},
   "outputs": [],
   "source": []
  },
  {
   "cell_type": "markdown",
   "id": "5bf26ccd",
   "metadata": {},
   "source": [
    "### Q4. Write a python pogram to create two therads. Thread one must print the list of squares and thread two must print the list of cubes."
   ]
  },
  {
   "cell_type": "code",
   "execution_count": 2,
   "id": "a53f3749",
   "metadata": {},
   "outputs": [
    {
     "name": "stdout",
     "output_type": "stream",
     "text": [
      "[25, 4, 9]\n",
      "[125, 8, 27]\n"
     ]
    }
   ],
   "source": [
    "from threading import *\n",
    "\n",
    "def square(nlist):\n",
    "    print([i*i for i in nlist])\n",
    "    \n",
    "def cubes(nlist):\n",
    "    print([i*i*i for i in nlist])\n",
    "\n",
    "nlist =[5,2,3]\n",
    "t1 = Thread(target = square, args =(nlist,))\n",
    "t2 = Thread(target = cubes, args =(nlist,))\n",
    "t1.start()\n",
    "t2.start()\n"
   ]
  },
  {
   "cell_type": "markdown",
   "id": "bab16783",
   "metadata": {},
   "source": [
    "### Q5  State Advantages and disadvantages of Multithreading : \n",
    "\n",
    "\n",
    "#### Advantages Of Multithreading : \n",
    "* Enables efficient utilization of the resources as the thread share the data space and memory\n",
    "\n",
    "* Allows the concurrent and parallel execution of various tasks.\n",
    "\n",
    "* Reduction in time consumption or response tiem, there by increaing the performance \n",
    "\n",
    "#### disadvantages Of Multithreading : \n",
    "* IT needs more careful synchronization \n",
    "* My have Deadlocks and Race conditions \n",
    "* It imposes context Switching overhead\n",
    "* It Needs support for thread or Process\n",
    "* If a parent Process has several Thread for proper process funtioning the Child process should also be multithreaded because they my be required."
   ]
  },
  {
   "cell_type": "markdown",
   "id": "91e602be",
   "metadata": {},
   "source": [
    "### Q6.  Explain Deadlocks and Race Conditions\n",
    "\n",
    "* A situation where a set of \"Process are block\" because each process is \"holding a resouces and waiting for another\" resources acquired by some other process.\n",
    " This block situation is called DEADLOCKS(DL)\n",
    " \n",
    "* Race Conditions is an \"Undesirable condition\" that usually happens due to \"Multiple threads accessing a shared resource at the same time\". Due to which shared data are not Synchronized."
   ]
  },
  {
   "cell_type": "code",
   "execution_count": null,
   "id": "2e69fbba",
   "metadata": {},
   "outputs": [],
   "source": []
  }
 ],
 "metadata": {
  "kernelspec": {
   "display_name": "Python 3 (ipykernel)",
   "language": "python",
   "name": "python3"
  },
  "language_info": {
   "codemirror_mode": {
    "name": "ipython",
    "version": 3
   },
   "file_extension": ".py",
   "mimetype": "text/x-python",
   "name": "python",
   "nbconvert_exporter": "python",
   "pygments_lexer": "ipython3",
   "version": "3.9.13"
  }
 },
 "nbformat": 4,
 "nbformat_minor": 5
}
