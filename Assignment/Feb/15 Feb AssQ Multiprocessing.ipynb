{
 "cells": [
  {
   "cell_type": "markdown",
   "id": "5998ea32",
   "metadata": {},
   "source": [
    "## 15 Feb AssQ\n",
    "## Multiprocessing"
   ]
  },
  {
   "cell_type": "markdown",
   "id": "9079c64b",
   "metadata": {},
   "source": [
    "## Q1. What is Multiprocesing in Python ? Why is it useful ?\n",
    "\n",
    "* Multiprocessing is a way of running mulitple process in parallel in Python to perfomr different tasks simultaneously on different CPU cores or even different computers.\n",
    "- It allows you to take advantage of modern multi-core processors. and it is useful when you want to speed up your program by dividing the work among multiple CPUs.\n",
    " - In python, the Multiprocessing module provides a way to create and manage processes. It is a way to create a new process that runs concurrenlty with the main process. and it can be used to execute computationally intensive tasks in parallel.\n",
    " - Here are some of the benefits of using multiprocessing in Python.\n",
    " 1) Faster execution :\n",
    "       - By using multiprocessing you can speed up your program by running tasks in parallel on multiple CPUs or even different computers.\n",
    " \n",
    " 2) Improved Performance : \n",
    "     - With multiprocessing , you can distribute your program's workload across multiple CPUs or even different computers, which can help to improve the overall performance and reduce the time taken to execute.\n",
    "     \n",
    " 3) Better Resource Management :\n",
    "       - With Multipleprocessing you can manage resources more efficiently, Since each process has its own memory Space and can manage its own resources independently.\n",
    "        \n",
    "   4) Enhanced Scalability : \n",
    "      - Multiprocessing provides a way to scale your program to take advantage of modern Multi-Core Processors and distributed Computing system.\n",
    "       \n",
    "   OVerall, Multiprocessing is a powerful tool that can help you to improve the performance and scalability of your Python Programs by distributing the workload across multiple CPUs or even different Computers.\n",
    "   "
   ]
  },
  {
   "cell_type": "markdown",
   "id": "f700cae6",
   "metadata": {},
   "source": [
    "## Q2. What are the difference between multiprocessing and mutithreading ? \n",
    "\n",
    "\n",
    "Both Multiprocessing and multithreading are techniques for achieving parallelism and can be used to improve the performance of a program. however, there are some significant difference between the Two :\n",
    "\n",
    "1) Memory : In multiprocessing , each process has its own memory space, whereas in multithreading, all threads share the same memory space. This means that processess do not haveaccess to each other's memory. And each process has its own copy of data. In multithreading, threads can access the same memory sapce and can share the data between each other.\n",
    "\n",
    "2) Communication : Inter-process Communicaiton (IPC) is used to communicate between procesess, while inter-thread Communication (ITC) is used to communicate between threads, IPC is slowe than ITC since it requires Serialization and deserialization of data. \n",
    "         In Multithreading, ITC is faster since it doesnot require data to be serialized or deserialized.\n",
    "         \n",
    "3) CPU -Bound vs I/O Bound Tasks : Multiprocessing is more suitable for CPU- bound tasks whre the bottleneck is CPU usage. and Multithreading is more suitable for I/O bound tasks where the bottleneck is I/O operation such as network or disk operations.\n",
    "\n",
    "4) Overhead : \n",
    "    - Multiprocessing has a higher overhad compared to multithreading. as creating and managing processes Requires more system resources than creating and managing threads.\n",
    "    \n",
    "5) Parallelism : Multiprocessing allows parallelism on multiple CPUs or even differnet computers, whereas Multithreading only allows parallelism on a single CPUs\n",
    "\n",
    "In summary, Multiprocessing and mutithreading are two different techniques for achieving parallelism in Python. Whille Multiprocessing provides better isolation and is more suitable for CPU-Bound tasks. Multithreading is more suitable for I/O -Bound tasks and has lower Overhead."
   ]
  },
  {
   "cell_type": "markdown",
   "id": "89b5c65b",
   "metadata": {},
   "source": [
    "## Q3. WRite a Python COde to create a process using the Multiprocessing Modeul."
   ]
  },
  {
   "cell_type": "code",
   "execution_count": 3,
   "id": "b1eedf5f",
   "metadata": {},
   "outputs": [],
   "source": [
    "import multiprocessing\n",
    "\n",
    "def print_func(text):\n",
    "    print(f\"Hello, {text}!\")\n",
    "    \n",
    "if __name__=='__main__':\n",
    "    p = multiprocessing.Process(target = print_func, args=('world',))\n",
    "    p.start()\n",
    "    p.join()"
   ]
  },
  {
   "cell_type": "markdown",
   "id": "1f934453",
   "metadata": {},
   "source": [
    "    In This Example : We create a process that runs the print_func() function using the multiprocessing. Processing Class. The targest argument specifies the Function that the process should run, and the args argument specifies the arguments to pass to the function.\n",
    "    \n",
    "    In this case, the Print_func() function takses single argument text, which is set to 'Word' when we create the process.\n",
    "    \n",
    "    We then start the process using the start() method and wait for it to finish using the join() method\n",
    "    \n",
    "    Note that we included the if name=='main' : block to ensure that the code is only executed when the module is run directly and not when it is imported as a module in another program. This is important to prevent issues with multiple processess being created unintentionally.\n",
    "\n"
   ]
  },
  {
   "cell_type": "markdown",
   "id": "2ca31dad",
   "metadata": {},
   "source": [
    "### Q4. What is Multiprocessing Pool in Python ? Why is it Used ?\n",
    "\n",
    "    In Pyhton, a Multiprocessing pool is a way of creating a group ofworker processes to perform tasks in parallel. The Multiprocessing Pool Class provide as simple and convenient way to distribute tasks across multiple processes.\n",
    "    \n",
    "    The Pool class provides a set of worker processes that are created when the pool object is created. These worker processes are then used to perform tassks. Submitted to the pooil using one of the apply(), map(), or imap() methods. The Results of the tasks can then be collceted using the get() method.\n",
    "    Here's an example thatt demostrates how to use a Pool to parallellize a CPU- bound taks that takes a list of numbers and returns their squares:"
   ]
  },
  {
   "cell_type": "code",
   "execution_count": null,
   "id": "5c184317",
   "metadata": {},
   "outputs": [],
   "source": [
    "import multiprocessing\n",
    "\n",
    "def square(x):\n",
    "    return x * x\n",
    "\n",
    "if __name__=='__main__':\n",
    "    with multiprocessing.Pool()as pool:\n",
    "        numbers =[1,2,3,4,5,6,7,8,9,10]\n",
    "        results = pool.map(square, numbers)\n",
    "        print(results)"
   ]
  },
  {
   "cell_type": "markdown",
   "id": "6d7467a3",
   "metadata": {},
   "source": [
    "        In This example, We create a pool of worker processes using the with multiprocessing.Pool() as pool: statement. We then define a square() function that takes a single number and return its square.\n",
    "        \n",
    "        We create a list of numbers to square and then use the map() method of the pooil object to appply the square() function to each number in the list. The map() method returns list of the results, Which we print to the console.\n",
    "        \n",
    "        Using a pool can be useful in cases where you need to parallelize a CPU- bound tasks that fcan be split into smaller independent unit of work by distributing the work across multiple processes. You can take advantage of multiple CPU cores and speed up the execution of the task."
   ]
  },
  {
   "cell_type": "markdown",
   "id": "54fe9bcf",
   "metadata": {},
   "source": [
    "### Q5. How can we create a pool of worker processes in Python using the Multiprocessing Module ?\n",
    "\n",
    "       To Create a pool of worker processes in Python using the Multiprocessing module. You Can use the pool Class. Here's An example code that shows how to create pool of 4 workers processes Using the pool classs.\n",
    "      "
   ]
  },
  {
   "cell_type": "code",
   "execution_count": null,
   "id": "37881d92",
   "metadata": {},
   "outputs": [],
   "source": [
    "import multiprocessing\n",
    "\n",
    "def worker_function(name):\n",
    "    print(f'Worker {name} started')\n",
    "    # do some work\n",
    "    pritn(f'Worker {name} finished')\n",
    "    \n",
    "if __name__=='__main__':\n",
    "    with multiprocessing.Pool(processes=4) as pool:\n",
    "        pool.map(worker_function, range(4))"
   ]
  },
  {
   "cell_type": "markdown",
   "id": "5d910c28",
   "metadata": {},
   "source": [
    "        In this example : we define a worker_function that takes a sinlge argument name and simulates some work being done, We then create a Pool object with 4 worker processes using the Proceesess argument. We the nuse the map method of the pool object to apply the worker_function to each item in the range of 4. The Map method block until all the work has been completed by the worker Process.\n",
    "        \n",
    "        Note that we include the if \"Name =='main'\": block to ensure that the code is only executed when the module is run directly, and not when it is imported as a module in another program. this is important to prevent issues with multiple processes being created unintentionally. Additionnally, we use a with statement to ensure that the pool obejct is properly cleaned up when the block is exited.\n",
    "        \n",
    "        using a pool of worker processes can be a powerful way to parallelize tasks and take advantage of multiple CPU cores. By Spliting the work acorss multiple processes. You can speed up the exeution of CPU-Bound tasks and make better use of the availabe resources on your machine."
   ]
  },
  {
   "cell_type": "markdown",
   "id": "53f851ef",
   "metadata": {},
   "source": [
    "### Q. Wriet a PYthon Program to Create 4 processes, Each Process should print a different number using the Multiprocessing Module in Python\n"
   ]
  },
  {
   "cell_type": "code",
   "execution_count": null,
   "id": "d69d820b",
   "metadata": {},
   "outputs": [],
   "source": [
    "import multiprocessing\n",
    "\n",
    "def print_number(num):\n",
    "    print(num)\n",
    "    \n",
    "    \n",
    "if __name__=='__main__':\n",
    "    with multiprocessing.Pool(processes =4) as pool:\n",
    "        pool.map(print_number, [1,2,3,4])"
   ]
  },
  {
   "cell_type": "markdown",
   "id": "8e72ed02",
   "metadata": {},
   "source": [
    "      In This example , we define a print_number() function that takes a single argument num and simply prints the values of the argument.\n",
    "  \n",
    "      We then create a Pool object with 4 worker processes using the processes argument, We use the map() method of the pool obejct to apply the print_number() function to each item in the list[,2,3,4] The map() method blocks until all the work has been completed by the worker Processes.\n",
    "\n",
    "    When the program is run, the output should be :\n",
    "\n",
    "    "
   ]
  },
  {
   "cell_type": "code",
   "execution_count": null,
   "id": "06436ec6",
   "metadata": {},
   "outputs": [],
   "source": [
    "1\n",
    "2\n",
    "3\n",
    "4"
   ]
  },
  {
   "cell_type": "markdown",
   "id": "c8c10df5",
   "metadata": {},
   "source": [
    "Note that we include teh if name =='main': Block to ensure that the code is only executed when the module is run directly, and not when it is imported as a module process bening created Unintentionally. Additionally, We use a with statement to ensure that the Pool Object is properly cleaned up  when the block is exited."
   ]
  }
 ],
 "metadata": {
  "kernelspec": {
   "display_name": "Python 3 (ipykernel)",
   "language": "python",
   "name": "python3"
  },
  "language_info": {
   "codemirror_mode": {
    "name": "ipython",
    "version": 3
   },
   "file_extension": ".py",
   "mimetype": "text/x-python",
   "name": "python",
   "nbconvert_exporter": "python",
   "pygments_lexer": "ipython3",
   "version": "3.9.13"
  }
 },
 "nbformat": 4,
 "nbformat_minor": 5
}
