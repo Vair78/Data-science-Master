{
 "cells": [
  {
   "cell_type": "markdown",
   "id": "4c6cee57",
   "metadata": {},
   "source": [
    "### 19 Feb AssQ\n",
    "\n",
    "##  Flask-1\n",
    "\n",
    "\n",
    "\n",
    "### Q1.What is Flask Framwork ? what are the advantages of Flask Framework ?\n",
    "\n",
    "\n",
    "Flask is a popular Python Web Framework used for building web application. it is micro framework,which mean it provides only the essesntial features required to build a web application, allowing developers to choose and integrate additional libraries as needed.\n",
    "\n",
    "Advatages of using Flask framwork Include : \n",
    "\n",
    "* Lightweight : Flask is lightweight framwork that is that is eas y to learn and use making it a good choice for small to medium sized project.\n",
    "\n",
    "* Flexibility : Flashh provie developers with a lot of flexibility and freedom when building web application, allowing them to choose the components they need to bulild their app.\n",
    "\n",
    "* Easy to get started : Flask is easy to install and set up making it an ideal choice for beginners who are just starting to learn web development.\n",
    "\n",
    "* Greate Documentation : Flask has excellent documentation that is easy to follow and understand, making it easy for developers to get help when they need it.\n",
    "\n",
    "* Large Community : Flask has a large and active community of developers who contriubute to the development of the framewok, creating and sharing libraries and tools to make web development faster and easier.\n",
    "\n",
    "* Testing : Flask prives built-in support for testing, making it easy to test and debug application.\n",
    "\n",
    "* Scaling ;Flask can be easily scaled to handlge large application and can be used to build complex web application."
   ]
  },
  {
   "cell_type": "code",
   "execution_count": null,
   "id": "cc8b581f",
   "metadata": {},
   "outputs": [],
   "source": []
  },
  {
   "cell_type": "markdown",
   "id": "8bae2715",
   "metadata": {},
   "source": [
    "### Q2. Create as simple Flask application to display \"Hello World!!\" Attache the screenshot of the output in Jupyter Notebook.\n",
    "\n",
    "Below is an example of a simple Flask applicaiton that displays \"Hello World!!\" when the root URL is accessed."
   ]
  },
  {
   "cell_type": "code",
   "execution_count": null,
   "id": "6b7b45de",
   "metadata": {},
   "outputs": [],
   "source": [
    "from flask import Flask\n",
    "\n",
    "app = F;ask(__name__)\n",
    "@app.route('/')\n",
    "def hello():\n",
    "    return \"Hello World!\"\n",
    "\n",
    "if __name__=='__main__':\n",
    "    app.run()"
   ]
  },
  {
   "cell_type": "markdown",
   "id": "cd40ee8d",
   "metadata": {},
   "source": [
    "* Save the code in a file named app.py and run it in a command propt or terminal with the command python app.py\n",
    "\n",
    "    Then go to http://locahost:5000 in a web browser to see the \"Hello World!\""
   ]
  },
  {
   "cell_type": "markdown",
   "id": "dfd4fe53",
   "metadata": {},
   "source": [
    "### Q3. What is App routing in Flask ? why do we use app routes ?"
   ]
  },
  {
   "cell_type": "markdown",
   "id": "de01ac4c",
   "metadata": {},
   "source": [
    "In Flask, routing regers to the proces sof mapping a URL to a specifi function in a Flask application. This process is handled by the @app.route() decorator, which is used to define the URL pattern and the function that should be executed when the URL is accessed.\n",
    "\n",
    "Consider below is Flask Application :"
   ]
  },
  {
   "cell_type": "code",
   "execution_count": null,
   "id": "69cf3819",
   "metadata": {},
   "outputs": [
    {
     "name": "stdout",
     "output_type": "stream",
     "text": [
      " * Serving Flask app \"__main__\" (lazy loading)\n",
      " * Environment: production\n",
      "\u001b[31m   WARNING: This is a development server. Do not use it in a production deployment.\u001b[0m\n",
      "\u001b[2m   Use a production WSGI server instead.\u001b[0m\n",
      " * Debug mode: off\n"
     ]
    },
    {
     "name": "stderr",
     "output_type": "stream",
     "text": [
      " * Running on http://127.0.0.1:5000/ (Press CTRL+C to quit)\n",
      "127.0.0.1 - - [16/Sep/2023 19:47:09] \"GET /welcome HTTP/1.1\" 404 -\n",
      "127.0.0.1 - - [16/Sep/2023 19:47:10] \"GET /favicon.ico HTTP/1.1\" 404 -\n",
      "127.0.0.1 - - [16/Sep/2023 19:47:38] \"GET /welcome HTTP/1.1\" 404 -\n"
     ]
    }
   ],
   "source": [
    "from flask import Flask\n",
    "\n",
    "app = Flask(__name__)\n",
    "\n",
    "@app.route('/')\n",
    "def index():\n",
    "    return\"Hello, World!\"\n",
    "\n",
    "@app.route('/about')\n",
    "def about():\n",
    "    return\"This is the about page\"\n",
    "\n",
    "if __name__=='__main__':\n",
    "    app.run()"
   ]
  },
  {
   "cell_type": "markdown",
   "id": "59c7a2a7",
   "metadata": {},
   "source": [
    "In this application, there are two routes defined using the @app.route() decorator. The first route maps the root URL (/) to the index() function, which returns the message \"Hello, World!\". The second route maps the URL /about to the about() function, which returns the message \"This is the about page\".\n",
    "\n",
    "We use app routes in Flask to define the behavior of our web application when a user requests a specific URL. By defining app routes, we can create different pages or views for our application and handle user requests accordingly. This is important because it allows us to build dynamic web applications that can respond to user input and provide relevant content. Additionally, app routes make it easy to organize and maintain large Flask applications by separating different parts of the application into different views or pages."
   ]
  },
  {
   "cell_type": "markdown",
   "id": "292bc1d8",
   "metadata": {},
   "source": [
    "## Q4. Create a \"/welcome\" route to display the welcome message \"Welcome to ABC Corporation\" and a \"/\" route to show the following details :\n",
    "\n",
    "Company Name : ABC Corporation\n",
    "Location : India\n",
    "Contact Details : 999-999-9999\n"
   ]
  },
  {
   "cell_type": "code",
   "execution_count": null,
   "id": "e980f23f",
   "metadata": {},
   "outputs": [],
   "source": [
    "from flask import Flask\n",
    "\n",
    "app = Flask(__name__)\n",
    "\n",
    "@app.route(\"/\")\n",
    "def company():\n",
    "    data = '''<p>Name: ABC Corporation <br>\n",
    "    Location: India <br>\n",
    "    Contact Detail: 999-999-9999<p>\n",
    "    '''\n",
    "    return data\n",
    "\n",
    "\n",
    "@app.route('/welcome')\n",
    "def welcome():\n",
    "    return \"Welcome to ABC Corporation\"\n",
    "\n",
    "if __name__==\"__main__\":\n",
    "    app.run(host=\"0.0.0.0\")"
   ]
  },
  {
   "attachments": {
    "Flast-1.webp": {
     "image/webp": "[encoded data removed]"
    }
   },
   "cell_type": "markdown",
   "id": "193cecfc",
   "metadata": {},
   "source": [
    "![Flast-1.webp](attachment:Flast-1.webp)"
   ]
  },
  {
   "attachments": {
    "falt-2.webp": {
     "image/webp": "[encoded data removed]"
    }
   },
   "cell_type": "markdown",
   "id": "91937ab8",
   "metadata": {},
   "source": [
    "![falt-2.webp](attachment:falt-2.webp)"
   ]
  },
  {
   "cell_type": "markdown",
   "id": "5ff4e73b",
   "metadata": {},
   "source": [
    "### Q5 What Function is used in Flask ofr URL Building ? Write a Python Code to demonstrate the Working of the url_for() function."
   ]
  },
  {
   "cell_type": "markdown",
   "id": "ebb965f8",
   "metadata": {},
   "source": [
    "The url_for() function is used to build a URL to the specific function dynamically. The first argument is the name of the specified function, and then we can pass any number of keyword argument corresponding to the variable part of the URL.\n",
    "\n",
    "In below example using url_for() to redirect /home to /"
   ]
  },
  {
   "cell_type": "code",
   "execution_count": null,
   "id": "dec6d7be",
   "metadata": {},
   "outputs": [],
   "source": [
    "from flask import *\n",
    "\n",
    "app = Flask(__name__)\n",
    "\n",
    "@app.route(\"/\")\n",
    "def company():\n",
    "    data = '''\n",
    "    <a href=\"{{ url_for('welcome') }}\"> Welcome Page </a>\n",
    "    <p>Name: ABC Corporation <br>\n",
    "    Location: India <br>\n",
    "    Contact Detail: 999-999-9999<br><p>\n",
    "    '''\n",
    "    return data\n",
    "\n",
    "\n",
    "@app.route('/home')\n",
    "def home():\n",
    "    return redirect(url_for('company')) \n",
    "\n",
    "if __name__==\"__main__\":\n",
    "    app.run(host=\"0.0.0.0\")"
   ]
  }
 ],
 "metadata": {
  "kernelspec": {
   "display_name": "Python 3 (ipykernel)",
   "language": "python",
   "name": "python3"
  },
  "language_info": {
   "codemirror_mode": {
    "name": "ipython",
    "version": 3
   },
   "file_extension": ".py",
   "mimetype": "text/x-python",
   "name": "python",
   "nbconvert_exporter": "python",
   "pygments_lexer": "ipython3",
   "version": "3.9.13"
  }
 },
 "nbformat": 4,
 "nbformat_minor": 5
}
