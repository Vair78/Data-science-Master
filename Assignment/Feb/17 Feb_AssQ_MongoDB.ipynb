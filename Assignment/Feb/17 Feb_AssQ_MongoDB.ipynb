{
 "cells": [
  {
   "cell_type": "markdown",
   "id": "8fd3120c",
   "metadata": {},
   "source": [
    "## 17 Feb_AssQ_MongoDB\n",
    "\n",
    "## MongoDB"
   ]
  },
  {
   "cell_type": "markdown",
   "id": "60f5cbfb",
   "metadata": {},
   "source": [
    "### Q1. What is MongoDB ? Explain Non-Relation Database in short. In which scenarios it is preferred to use MongoDB over SQL Database ?\n",
    "\n",
    "\n",
    "* MnogoDB IS a NOSQL. document based databse that store data in JSON-Like documents, making it a popular choice for web and mobile applications that require flexible, saclable and high performance data storage. \n",
    "        It is an Open-Source,Cross platform database that offers high availability , Automatic scaling and horizontal scaling features.\n",
    "        \n",
    "    - Non-relation databses, also know as NoSQL databses, are databases that do not use a traditional relational database model, which mean they do not use table with rows and columns. Instead they store data in a flexible and schema-less format such as documents, graphs or key-Value pairs, Non-relational databases are often preferred for their flexibility, scalability and performance,\n",
    "    \n",
    "    MongoDB is preferred over SQL databses in scenarios where the data is unstructured or semi-structured, such as for web application that requirs the storage of large volumes of unstrucuted data, such as social media posts, sensor data, or multimedia files. MongoDB is also a good choice when you need to store large amounts of data that may change frequently, as it allows for schema flexibility and dynamic updates.\n",
    "    \n",
    "    In Summary , MongoDB is popular NoSQL databse that offers hihg performance, Scalability and flexibility. Making it a good choice for web and mobile application that require dynamic and unstrucuted data storage. \n",
    "    Non-relational database, in general are preferred over SQL databases in scenarios where data in Unstructured or Semi-structed and where Scalability and Flexibility are Important."
   ]
  },
  {
   "cell_type": "markdown",
   "id": "f5c2a62f",
   "metadata": {},
   "source": [
    "###Q2. State and explain the Feature of MongoDB.\n",
    "\n",
    "MongoDB is pwoerful, flexible and scalable NoSQL databse that offers many features Including :\n",
    "    \n",
    "    1) Document -Orinted storage : MangoDB store data in flexible, JSON like documents, which can have dynamic shcemas and can be nested.\n",
    "    2) High availability :  MongoDB supports replica sets, which are group of MongoDB servers taht maintain multiple copies of data for high availability and automatic failover.\n",
    "    3) Automatice Shareding : MongoDB can automatically partition data across multiple servers, making it easy to scale  horizontally.\n",
    "    4) Indexing : MongoDB supports many types of indexes including compoound indexes, geospatal Indexes and text indexes, which help to optimize query performance.\n",
    "    5) Aggregation Framwork : MongoDB's Aggregation Framework is powerful tool for performing advanced data analysis, grouping and aggregation on data.\n",
    "    6) MapReduce : MongoDB supports MapReduce, a powerful data processing technique that allows for efficient processing of large datasets.\n",
    "    7) Security : MongoDB provides several Security features, Including Authentication, Access control, Encryption at rest and Auditing, to Protect Your Data and ensure Compliance with Security standards.\n",
    "    8) Schema Flexibility : MongoDB's document oriented data model allows for schema flexibility, making it easy to hanlde usntructed and Semi-Structured Data.\n",
    "    9) Dynamic Updates : MongoDB allows for Dynamic udpates so you can easily modify data in real-Time without worrying about shema Changes.\n",
    "    \n",
    "    Summary : MongoDB is a feature NoSQL Database that offers document-oriented storage. High Availability, Automatic shreding ,Indexing aggregation and Mapreduce Capabilities. It iS also highly secure, Flexible and Supports dynamic updates, Making it a powerful choice for many differnet use cases.\n",
    "  \n"
   ]
  },
  {
   "cell_type": "markdown",
   "id": "696249e2",
   "metadata": {},
   "source": [
    "### Q3 Write A Code to connect MongoDB to Python. Also, Create a database and a collection in MOngoDB.\n",
    "\n",
    "\n",
    "Below is an example code to conenct to MongoDB from Python using the Pymongo library and Create a database and a collection in MongoDB."
   ]
  },
  {
   "cell_type": "code",
   "execution_count": null,
   "id": "33399c56",
   "metadata": {},
   "outputs": [],
   "source": [
    "import pymongo\n",
    "\n",
    "# Establish a connection to the MongoDB Server :\n",
    "\n",
    "client = pymongo.MongoClient(\"mongodb:///localhost:27017/\")\n",
    "\n",
    "# Create a new Database called \"mydatabase\"\n",
    "db = clien[\"mydatbase\"]\n",
    "\n",
    "# Create a new collection called \"customer\" in the \" mydatabase\" data\n",
    "colleciton = db[\"customer\"]\n",
    "\n",
    "# Insert a document into the \"Customer\" Collection\n",
    "\n",
    "customer = {\"name\": \"John Doe\", \"Email\":\"Johndo@example.com\"}\n",
    "result = collection.insert_one(customer)\n",
    "print(\"Inserted document with ID:{}\". format(result.inserted_id))"
   ]
  },
  {
   "cell_type": "markdown",
   "id": "dc85094f",
   "metadata": {},
   "source": [
    "    This Code uses the pymongo library to connect to a MongoDB Server running on the local machine at the default prot 27017. It then create a new databse called \"mydatabase\" and a new collection called \"Customer\" within that database. Finally it inserts a new document(a customer) into the cusotmer collecton and prints the ID of the newly inserted document.\n",
    "\n",
    "    Note : that you will need to have the pymongo library isntall to run this code. You can install it using pip by running the following command in your terminal or command prompt:\n",
    "    \n",
    "    pip install pymongo"
   ]
  },
  {
   "cell_type": "markdown",
   "id": "6af3bae4",
   "metadata": {},
   "source": [
    "### Q4.  Using teh database and the collection created in question number 3, Write a code to insert one record and insert many records. Use the find() and find_one() methods to print the inserted record.\n",
    "\n",
    "Below an example code to insert one reocrd and multiple record into the \"customer\" collection we created earlier and then Use the find() and find_one() methods to print the isnerted record(s):"
   ]
  },
  {
   "cell_type": "code",
   "execution_count": null,
   "id": "b29ee0c0",
   "metadata": {},
   "outputs": [],
   "source": [
    "import pymongo\n",
    "\n",
    "\n",
    "# Establish a connection to the MongoDB server\n",
    "\n",
    "Client = pymongo.MongoClient(\"mongodb://localhost:27017/\")\n",
    "\n",
    "#Get the \"mydatabase\" database and \"customer\" collection\n",
    "db = client[\"mydatabase\"]\n",
    "collection = db[\"customer\"]\n",
    "\n",
    "# Insert one record into the \" Customer\" collection\n",
    "\n",
    "customer1 = {\"name\":\"jane doe\", \"email\":\"janedo@example.com\"}\n",
    "result1 = collection.insert_one(cusotmer)\n",
    "print(\"Inserted document with ID: {}\".format(result1.inserted_id))\n",
    "\n",
    "\n",
    "# Insert Many records into the \"Customer\" collection\n",
    "\n",
    "customer2 = [\n",
    "    {\"name\":\"bob switch\", \"email\":\"bosmithc@exam.com\"},\n",
    "    {\"name\":\"alice jon\", \"email\":\"alicejon@exam.com\"},\n",
    "    {\"name\":\"Charlie Brown\",\"email\":\"charliebrown@exam.com\"}\n",
    "]\n",
    "\n",
    "result2 = collection.insert_many(customers2)\n",
    "print(\"Inserted {} documents with IDs: {}\".format(len(result2.inserted_ids), result2.inserted_ids))\n",
    "\n",
    "\n",
    "# Find and Print the first record in the \"customer\" collection\n",
    "customer = collection.find_one()\n",
    "print(customer)\n",
    "\n",
    "# Find and print all records in the \"customer\" Colleciton\n",
    "customer = Collection.find()\n",
    "for customer in customers:\n",
    "    print(customer)"
   ]
  },
  {
   "cell_type": "markdown",
   "id": "ec1b270d",
   "metadata": {},
   "source": [
    "This code inserted one record (jane Doe) Using insert_one and multiple records (Bob smith, alice Johnson and Charlie Brown) Using insert_many() into the \"cusotmer\" colleciton. It then used find_one to retireve and print the first record in the collection and find () to retrieve and print all records in the collection.\n",
    "\n",
    "Note That the find() method returns a cursor object that you can loop throug hto print all document in the colleciton."
   ]
  },
  {
   "cell_type": "markdown",
   "id": "488402a1",
   "metadata": {},
   "source": [
    "### Q5 . Explain how you can use the find() method to query the MongoDB database. Write a Simple code to demonstrate this.\n",
    "\n",
    "The Find() method is used to query a MongoDB collection for documents that match a specified query Criteria. You can use the Find() method to retrieve all documents in a collection or to retrieve a subset of documents based on specific query criteria.\n",
    "\n",
    "Below is example to Use the Find() method "
   ]
  },
  {
   "cell_type": "code",
   "execution_count": null,
   "id": "e5057855",
   "metadata": {},
   "outputs": [],
   "source": [
    "import pymongo\n",
    "\n",
    "# Establish a connection to the MongoDB server\n",
    "client = pymongo.MongoClient(\"mongodb://localhost:27017/\")\n",
    "\n",
    "# Get the \"mydatabase\" database and \"customers\" collection\n",
    "db = client[\"mydatabase\"]\n",
    "collection = db[\"customers\"]\n",
    "\n",
    "# Query the \"customers\" collection and sort the results by the \"name\" field in ascending order\n",
    "sorted_customers = collection.find().sort(\"name\", 1)\n",
    "\n",
    "# Print the sorted results\n",
    "for customer in sorted_customers:\n",
    "    print(customer)"
   ]
  },
  {
   "cell_type": "markdown",
   "id": "699d52ce",
   "metadata": {},
   "source": [
    "we first connect to the MongoDB server and retrieve the \"mydatabase\" database and \"customers\" collection. We then use the find() method to query the \"customers\" collection for all documents, and sort the results by the \"name\" field in ascending order using the sort() method.\n",
    "\n",
    "We then print each document in the resulting cursor object, which contains the sorted results of the query. By default, the sort() method sorts the results in ascending order if no sort order is specified, so we explicitly specified the 1 parameter to indicate that we want to sort in ascending order by the \"name\" field.\n",
    "\n",
    "You can also sort by multiple fields by passing a list of fields and sort orders to the sort() method. For example, you could sort by the \"name\" field in ascending order, and then by the \"age\" field in descending order, by passing the following list to the sort() method: [(\"name\", 1), (\"age\", -1)]."
   ]
  },
  {
   "cell_type": "markdown",
   "id": "7bd55af8",
   "metadata": {},
   "source": [
    "## Q7. Explain why delete_one(), delete_many(), and drop() is used.\n",
    "\n",
    "\n",
    "delete_one(), delete_many(), and drop() are methods used in MongoDB to delete documents or collections from the database.\n",
    "\n",
    "delete_one() is used to delete a single document from a collection that matches a specified filter. The method takes a filter parameter that specifies the document to be deleted, and it deletes the first document that matches the filter. If no document matches the filter, the method does nothing.\n",
    "\n",
    "delete_many() is used to delete multiple documents from a collection that match a specified filter. The method takes a filter parameter that specifies the documents to be deleted, and it deletes all documents that match the filter. If no documents match the filter, the method does nothing.\n",
    "\n",
    "drop() is used to delete an entire collection from the database. The method does not take any parameters, and it deletes the entire collection and all of its documents.\n",
    "\n",
    "These methods are useful in scenarios where you need to remove data from the database. For example, if you have a collection of user data, you may want to use delete_one() to remove a single user's data when they delete their account, or delete_many() to remove multiple users' data at once. If you decide to remove a collection entirely, you can use the drop() method.\n",
    "\n",
    "It's important to be careful when using these methods, as they can permanently delete data from the database. Always make sure you have a backup of your data before performing any delete operations, and double-check that you're deleting the correct documents or collections before executing the delete methods."
   ]
  },
  {
   "cell_type": "code",
   "execution_count": null,
   "id": "316e1c78",
   "metadata": {},
   "outputs": [],
   "source": []
  }
 ],
 "metadata": {
  "kernelspec": {
   "display_name": "Python 3 (ipykernel)",
   "language": "python",
   "name": "python3"
  },
  "language_info": {
   "codemirror_mode": {
    "name": "ipython",
    "version": 3
   },
   "file_extension": ".py",
   "mimetype": "text/x-python",
   "name": "python",
   "nbconvert_exporter": "python",
   "pygments_lexer": "ipython3",
   "version": "3.9.13"
  }
 },
 "nbformat": 4,
 "nbformat_minor": 5
}
