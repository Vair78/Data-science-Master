{
 "cells": [
  {
   "cell_type": "markdown",
   "id": "471a467d",
   "metadata": {},
   "source": [
    "## 09 Feb Assignment "
   ]
  },
  {
   "cell_type": "markdown",
   "id": "add84cb8",
   "metadata": {},
   "source": [
    "Q1.\n",
    "Create a vehicle class with an init method having instance variables as name_of_vehicle, max_speed and average_of_vehicle."
   ]
  },
  {
   "cell_type": "code",
   "execution_count": 8,
   "id": "bbe12d9a",
   "metadata": {},
   "outputs": [],
   "source": [
    "class Vehicle:\n",
    "    def __init__(self, name_of_vehicle, max_speed, average_of_vehicle):\n",
    "        self.name_of_vehicle = name_of_vehicle\n",
    "        self.max_speed = max_speed\n",
    "        self.avegae_of_vehicle = average_of_vehicle\n",
    "        \n",
    "    def get_info(self):\n",
    "        return f\"{self.name_of_vehicle} {self.max_speed}{self.average_of_vehicle}\""
   ]
  },
  {
   "cell_type": "markdown",
   "id": "4b676aa1",
   "metadata": {},
   "source": [
    "Q2.\n",
    "Create a child class card from the vehicle class created in Que1, which will inherit the vehicle class. Create a method named seating_capacity which takes capacity as an argument and returns the name of the vehicle and its seating capacity."
   ]
  },
  {
   "cell_type": "code",
   "execution_count": 20,
   "id": "d75d8aaf",
   "metadata": {},
   "outputs": [],
   "source": [
    "class Vehicle:\n",
    "    def __init__(self, name_of_vehicle, max_speed, average_of_vehicle):\n",
    "        self.name_of_vehicle = name_of_vehicle\n",
    "        self.max_speed = max_speed\n",
    "        self.avegae_of_vehicle = average_of_vehicle\n",
    "        \n",
    "    def get_info(self):\n",
    "        return f\"{self.name_of_vehicle} {self.max_speed}{self.average_of_vehicle}\"\n",
    "class Car(Vehicle):\n",
    "    def seating_capacity(self,capactiy):\n",
    "        return f\"Name of the Vehicle:{self.name_of_vehicle},Seating_capacity:{capacity}\""
   ]
  },
  {
   "cell_type": "code",
   "execution_count": null,
   "id": "605825f5",
   "metadata": {},
   "outputs": [],
   "source": [
    "my_car = Car(\"TATA\",80,50)\n",
    "\n",
    "print(my_car.get_info())\n",
    "\n",
    "print(my_car.seating_capacity(5))"
   ]
  },
  {
   "cell_type": "markdown",
   "id": "f09fcd39",
   "metadata": {},
   "source": [
    "3. What is multiple inheritance ? Write a python code to dermostrate multiple inheritance"
   ]
  },
  {
   "cell_type": "code",
   "execution_count": 23,
   "id": "f0698be8",
   "metadata": {},
   "outputs": [
    {
     "name": "stdout",
     "output_type": "stream",
     "text": [
      "Mother\n",
      "Father\n"
     ]
    }
   ],
   "source": [
    "# Base class1\n",
    "class Mother:\n",
    "    def mother(self):\n",
    "        print('Mother')\n",
    "\n",
    "# Base class2\n",
    "class Father:\n",
    "    def father(self):\n",
    "        print(\"Father\")\n",
    "\n",
    "# Derived class\n",
    "class Son(Mother, Father):\n",
    "    def parents(self):\n",
    "        self.mother()\n",
    "        self.father()\n",
    "\n",
    "# Driver's code\n",
    "s1 = Son()\n",
    "s1.parents()"
   ]
  },
  {
   "cell_type": "markdown",
   "id": "c012e50b",
   "metadata": {},
   "source": [
    "4. What are getter and setter in Python ? Create a class and cretae a getter and a setter method in this class."
   ]
  },
  {
   "cell_type": "markdown",
   "id": "130bb5d2",
   "metadata": {},
   "source": [
    "getters and setters are methods or functions that are used to retrieve and modify the values of object attributes or properties. They provide a way to control access to the attributes of an object and enforce data encapsulation.\n",
    "\n",
    "A getter is a method used to retrieve the value of an attribute. It allows you to access the value of a private attribute or perform additional computations before returning the value. Getters are typically named with the prefix \"get\" followed by the attribute name. \n",
    "\n",
    "2.getters and setters are methods or functions that are used to retrieve and modify the values of object attributes or properties. They provide a way to control access to the attributes of an object and enforce data encapsulation.\n",
    "\n",
    "A getter is a method used to retrieve the value of an attribute. It allows you to access the value of a private attribute or perform additional computations before returning the value. Getters are typically named with the prefix \"get\" followed by the attribute name."
   ]
  },
  {
   "cell_type": "code",
   "execution_count": 25,
   "id": "5aaa0953",
   "metadata": {},
   "outputs": [
    {
     "name": "stdout",
     "output_type": "stream",
     "text": [
      "21\n",
      "21\n"
     ]
    }
   ],
   "source": [
    "class Geek:\n",
    "    def __init__(self, age = 0):\n",
    "        self._age = age\n",
    "\n",
    "# getter method\n",
    "    def get_age(self):\n",
    "        return self._age\n",
    "\n",
    "# setter method\n",
    "    def set_age(self, x):\n",
    "        self._age = x\n",
    "\n",
    "raj = Geek()\n",
    "\n",
    "# setting the age using setter\n",
    "raj.set_age(21)\n",
    "\n",
    "# retrieving age using getter\n",
    "print(raj.get_age())\n",
    "\n",
    "print(raj._age)"
   ]
  },
  {
   "cell_type": "markdown",
   "id": "d5586a6b",
   "metadata": {},
   "source": [
    "5.What is method overriding in python ? Write a python code to demonstrate method Overriding."
   ]
  },
  {
   "cell_type": "code",
   "execution_count": 24,
   "id": "687de93c",
   "metadata": {},
   "outputs": [
    {
     "name": "stdout",
     "output_type": "stream",
     "text": [
      "Car applying break\n"
     ]
    }
   ],
   "source": [
    "class Vehicle:\n",
    "    def apply_break(self):\n",
    "        print('Velicle applying break')\n",
    "\n",
    "\n",
    "class Car(Vehicle):\n",
    "    def apply_break(self):\n",
    "        print('Car applying break')\n",
    "        \n",
    "c1 = Car()\n",
    "c1.apply_break()"
   ]
  },
  {
   "cell_type": "code",
   "execution_count": null,
   "id": "a8c4ad6f",
   "metadata": {},
   "outputs": [],
   "source": []
  }
 ],
 "metadata": {
  "kernelspec": {
   "display_name": "Python 3 (ipykernel)",
   "language": "python",
   "name": "python3"
  },
  "language_info": {
   "codemirror_mode": {
    "name": "ipython",
    "version": 3
   },
   "file_extension": ".py",
   "mimetype": "text/x-python",
   "name": "python",
   "nbconvert_exporter": "python",
   "pygments_lexer": "ipython3",
   "version": "3.9.13"
  }
 },
 "nbformat": 4,
 "nbformat_minor": 5
}
