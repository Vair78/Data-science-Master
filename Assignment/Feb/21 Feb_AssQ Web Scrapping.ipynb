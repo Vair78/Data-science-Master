{
 "cells": [
  {
   "cell_type": "markdown",
   "id": "020789d4",
   "metadata": {},
   "source": [
    "## 21 Feb_AssQ\n",
    "\n",
    "##  Web Scrapping \n",
    "\n",
    "\n",
    "\n",
    "## Q1. What is Web Scrapping ? why is it used ? Give three areas wherer Web scrapping is used to get Data ?\n",
    "\n",
    " Web scraping is a n automatic method to obtain large amounts of data from websites. Most of this data is unstructed data in an HTML format which is then converted into strucuted data in a spreadsheet or a database so that it can be used in various application.\n",
    " \n",
    " Used For : \n",
    " - Price MOnitoring\n",
    " - Market Research\n",
    " - News Monitoring\n",
    " - Sentiment Analysis\n",
    " - Email Marketing\n",
    " \n",
    " * Shopping Site : Some serveral website and application can help you to easily compare pricing between serveral retailers for the same product.\n",
    " \n",
    " * Real Estate Listing : Many Real estate agents use web scrapping to populatte teheir database of available properties for sale or for rent.\n",
    " \n",
    " * Lead Generation : One Incredibly popular use of web scrapping is lead generation. This use is so popular in fact , that we have written an entire guide on using Web scrapping for Lead generation.\n",
    " \n",
    " * Industry statistics and Insights : Many companies use web scarpping to build massive databases and draw industry specific insight from these. These companies can then sell access to these insights to companies in said industries.\n",
    " "
   ]
  },
  {
   "cell_type": "markdown",
   "id": "243df139",
   "metadata": {},
   "source": [
    "## Q2. What are the different methods used for Web Scrapping?\n",
    "\n",
    "* HTML Parsing : \n",
    "        - HTML parsing involves the use of Java Script to target a linear or nested HTML page. it is a powerful and fast method for extracting text and links (eg. nested link or email address) Screens and pulling resource.\n",
    "        \n",
    "        \n",
    "* DOM Parsing :\n",
    "        - the Document Object Model(DOM) defines the structure sytle and content of an XML file. Scrappers typically use a DOM parser to view the structure of web pages in depth.\n",
    "        \n",
    "        \n",
    "        \n",
    "* Xpath : X path is short for MXL path langugage which is query language for XML documents. XML documents have tree like structures so scapper can use Xpath."
   ]
  },
  {
   "cell_type": "markdown",
   "id": "8997e19b",
   "metadata": {},
   "source": [
    "## Q4. Why is flask used in this Web Scraping project?\n",
    "\n",
    "    - Flask is lightweight framework to build website\n",
    "    - These can be used to scarp data and display all data on the go "
   ]
  },
  {
   "cell_type": "markdown",
   "id": "edfd2390",
   "metadata": {},
   "source": [
    "## Q5. Write the names of AWS services used in this project. Also, explain the use of each service\n",
    "\n",
    "\n",
    "    AWS Elastic Beanstalk is an orchestration service offered by Amazon Web Services for deploying applications which orchestrates various AWS services, including EC2, S3, Simple Notification Service, CloudWatch, autoscaling, and Elastic Load\n",
    "\n",
    "    AWS CodePipeline is a fully managed continuous delivery service that helps you automate your release pipelines for fast and reliable application and infrastructure updates.\n"
   ]
  },
  {
   "cell_type": "code",
   "execution_count": null,
   "id": "958d77c3",
   "metadata": {},
   "outputs": [],
   "source": []
  }
 ],
 "metadata": {
  "kernelspec": {
   "display_name": "Python 3 (ipykernel)",
   "language": "python",
   "name": "python3"
  },
  "language_info": {
   "codemirror_mode": {
    "name": "ipython",
    "version": 3
   },
   "file_extension": ".py",
   "mimetype": "text/x-python",
   "name": "python",
   "nbconvert_exporter": "python",
   "pygments_lexer": "ipython3",
   "version": "3.9.13"
  }
 },
 "nbformat": 4,
 "nbformat_minor": 5
}
