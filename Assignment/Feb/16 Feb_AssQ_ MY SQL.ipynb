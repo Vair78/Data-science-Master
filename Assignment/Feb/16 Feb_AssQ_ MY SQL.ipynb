{
 "cells": [
  {
   "cell_type": "markdown",
   "id": "fa0c5887",
   "metadata": {},
   "source": [
    "### 16 Feb_AssQ\n",
    "\n",
    "## MySql"
   ]
  },
  {
   "cell_type": "markdown",
   "id": "77a3ddd8",
   "metadata": {},
   "source": [
    "### Q1. What is a database? Differentiate between SQL and NoSQL databases.\n",
    "\n",
    "    A  Database is a colleciton of data that is organized in a structed way allowing for efficient storage, retrival and managment of data. Database can be used to store and manage various types of  data such as Financial records, customer Information , inventory or any other Structued Data.\n",
    "     SQL and NoSQL are two different types of databases, each with its own strenghts and weaknesses.\n",
    "    \n",
    "* SQL (Strucuted Query language) databases are relational databases that store data in tables wit h predefined chemas. These databses use SQL as their standard query language to manage and retrive data. SQL database are idel for handling structured data. Which is data that is easily organized into rows and columns. Some Example of SQL database include MYSQL, PostgreSQL and Oracle.\n",
    "\n",
    "* NoSQL Database, on the other hand, are non-relational databases that store data in a varity of different wasy such as key-values pairs, document-Oriented databases. Graph databases, and column-Oriented database. \n",
    "    Unlike SQL Database  NoSQL database do not have a predefined shcema, making it easier to store and manage unstructured data. NoSQL databases are typically more scalable and can handle large amounts of data more efficiently that SQL databases. Some Example of NoSQL database include MongoDB, Cassandra and Redis.\n",
    "    \n",
    "       The Choice between SQL and NoSQL database largely depends on the specific requirements of the application. SQL database are best suited for application that requires high consistency and transactional integrity. While NoSQL database are better suited for applicaiton that require high scalability. Performance and flexibility in handling Unstructured Data.\n"
   ]
  },
  {
   "cell_type": "markdown",
   "id": "e1409797",
   "metadata": {},
   "source": [
    "### Q2. What is DDL? Explain why CREATE, DROP, ALTER, and TRUNCATE are used with an example.\n",
    "\n",
    "* DDL Stands for Data Definition Language and is a subset of SQL that is used to define the structure andschema of a database. DDL commands are used to Create, Modify and Delete databse objects such as tables , Indexes , View and Stored procedures.\n",
    "\n",
    "* Here are some commomn DDL commands and their Uses:\n",
    "\n",
    "1) Create : \n",
    "        The Create Command is used to create a new Database object such as a Table, Index, or View. For Example the following command create a new table named \"Customer\" with columns for customer ID, name and email.\n"
   ]
  },
  {
   "cell_type": "code",
   "execution_count": null,
   "id": "414aba8c",
   "metadata": {},
   "outputs": [],
   "source": [
    "CREATE TABLE Customers(\n",
    "    customer_id INT PRIMARY KEY,\n",
    "    name VARCHAR(50),\n",
    "    email VARCHAR(30)\n",
    ");"
   ]
  },
  {
   "cell_type": "markdown",
   "id": "15b43cf9",
   "metadata": {},
   "source": [
    "2) DROP :\n",
    "    \n",
    "    The DROP command is used to remove a database object such as table or view, For Example the following commnad drops the \"customers\" Table."
   ]
  },
  {
   "cell_type": "code",
   "execution_count": null,
   "id": "b620c602",
   "metadata": {},
   "outputs": [],
   "source": [
    "DROP TABLE customers;"
   ]
  },
  {
   "cell_type": "markdown",
   "id": "edded747",
   "metadata": {},
   "source": [
    "3) ALTER TABLE :\n",
    "        The ALTER Command is used to modify the structure of an existing databse object such as a table or view, \n",
    "        For example , The following command adds a new column to the \"customer\" table."
   ]
  },
  {
   "cell_type": "code",
   "execution_count": null,
   "id": "75449c43",
   "metadata": {},
   "outputs": [],
   "source": [
    "ALTER TABLE customers ADD address VARCHAR(100);"
   ]
  },
  {
   "cell_type": "markdown",
   "id": "922ca1c9",
   "metadata": {},
   "source": [
    "4) TRUNCATE :\n",
    "        The TRUNCATE Command is used to remove all data from a table, But keep the table structure intact. This is often Used when you want to delete all data from a table quickly. \n",
    "        For Example , the following command truncates the \"Customers\" table."
   ]
  },
  {
   "cell_type": "code",
   "execution_count": null,
   "id": "a557858b",
   "metadata": {},
   "outputs": [],
   "source": [
    "TRUNCATE TABLE Customers;"
   ]
  },
  {
   "cell_type": "markdown",
   "id": "51cbe9d0",
   "metadata": {},
   "source": [
    "In summary, DDL Commands are Used to defined the structure of the database and the object within It. CREATE is used to create new object, ALTER is sued to modify existing objects and TRUNCATE is used to remove all data from a table while keeping its structe intact."
   ]
  },
  {
   "cell_type": "markdown",
   "id": "c0b4d6a4",
   "metadata": {},
   "source": [
    "## Q3. What is DML? Explain INSERT, UPDATE, and DELETE with an examp\n",
    "\n",
    "* DML Stands for DATA MANUPULATION LANGUAGE and is a subset of SQL that is used to amange data within a database.\n",
    "    DML command are used to insert , Update and Delete data within database tables.\n",
    "    \n",
    "    Here Are some common DML Commands and their uses:\n",
    "    1) Insert : \n",
    "        The Insert command is sued to add new rows of data into a table. For Example\n",
    "        "
   ]
  },
  {
   "cell_type": "code",
   "execution_count": null,
   "id": "93fbbd73",
   "metadata": {},
   "outputs": [],
   "source": [
    "ISNERT INTO customers (customer_id, name, email) VALUES(17,\"Vaibhav\", 'vaib@gmail.com')"
   ]
  },
  {
   "cell_type": "markdown",
   "id": "d59ed187",
   "metadata": {},
   "source": [
    "2) UPDATE : \n",
    "    udate Command is used to modify existing data within a table.\n",
    "    Example :"
   ]
  },
  {
   "cell_type": "code",
   "execution_count": null,
   "id": "857cb371",
   "metadata": {},
   "outputs": [],
   "source": [
    "UPDATE customer SET email ='vaib@gmail.com' Where Customer_id= 17"
   ]
  },
  {
   "cell_type": "markdown",
   "id": "7f677b3f",
   "metadata": {},
   "source": [
    "3) DELETE : \n",
    "    The Delete command is Used to remvoe rows of data from a table. "
   ]
  },
  {
   "cell_type": "code",
   "execution_count": null,
   "id": "0b6fea1b",
   "metadata": {},
   "outputs": [],
   "source": [
    "DELETE FROM CUSTOMER WHERE customer_id =1;\n"
   ]
  },
  {
   "cell_type": "markdown",
   "id": "c7933fd9",
   "metadata": {},
   "source": [
    "## Q4 - What is DQL? Explain SELECT with an example\n",
    "\n",
    "\n",
    "DQL stands for Data Query Language and is a subset of SQL (Structured Query Language) that is used to query and retrieve data from a database. DQL commands are used to select data from one or more database tables.\n",
    "\n",
    "The most common DQL command is SELECT. The SELECT command is used to retrieve data from one or more tables and is often used with other commands such as WHERE, GROUP BY, and ORDER BY to filter, aggregate, and sort the results.\n",
    "\n",
    "Here's an example of a SELECT statement"
   ]
  },
  {
   "cell_type": "code",
   "execution_count": null,
   "id": "0dca77ac",
   "metadata": {},
   "outputs": [],
   "source": [
    "SELECT name, email FROM customers WHERE age > 30 ORDER BY name;"
   ]
  },
  {
   "cell_type": "markdown",
   "id": "8b850ee7",
   "metadata": {},
   "source": [
    "This command retrieves the name and email columns from the \"customers\" table, but only for customers whose age is greater than 30. The results are sorted by the customer name in ascending order.\n",
    "\n",
    "Let's break down this command:\n",
    "\n",
    "The SELECT keyword specifies the columns to be retrieved (name and email). The FROM keyword specifies the table to retrieve the data from (customers). The WHERE clause filters the results based on a condition (age > 30). The ORDER BY clause sorts the results based on a column (name) in ascending order. The result of this command would be a table that includes only the name and email columns for customers whose age is greater than 30, sorted by name.\n",
    "\n",
    "In summary, DQL commands are used to retrieve data from a database table. SELECT is the most common DQL command and is used to retrieve one or more columns of data from one or more tables, with the option to filter, aggregate, and sort the results using other commands."
   ]
  },
  {
   "cell_type": "markdown",
   "id": "c3fa852c",
   "metadata": {},
   "source": [
    "### Q5  Explain Primary Key and Foreign Key\n",
    "\n",
    "\n",
    "\n",
    "In a relational database, a primary key is a unique identifier for a record in a table. A primary key can be a single column or a combination of columns in a table and it serves as a reference to a specific record in the table. The primary key constraint ensures that no two records in the table have the same key values.\n",
    "\n",
    "A foreign key, on the other hand, is a column or set of columns in one table that refers to the primary key in another table. It establishes a link between two tables based on a common field, enabling data to be associated between the two tables. A foreign key constraint ensures that the data in the referencing column of the table exists in the referenced column of another table.\n",
    "\n",
    "Here's an example to illustrate the concept of primary and foreign keys:\n",
    "\n",
    "Let's say we have two tables - a customers table and an orders table. Each record in the orders table is associated with a specific customer in the customers table. To link the two tables, we can create a foreign key column in the orders table that references the primary key column in the customers table.\n",
    "\n",
    "The primary key column in the customers table could be the customer ID column, which would be a unique identifier for each customer. The foreign key column in the orders table could be the customer ID column as well, which would reference the customer ID column in the customers table.\n",
    "\n",
    "The relationship between the two tables is established when the foreign key in the orders table is created as a reference to the primary key in the customers table. This enables us to associate each order with a specific customer, making it easy to retrieve information about the orders for a particular customer.\n",
    "\n",
    "In summary, a primary key is a unique identifier for a record in a table, while a foreign key is a column in one table that refers to the primary key in another table. The use of primary and foreign keys enables the creation of relationships between tables in a relational database."
   ]
  },
  {
   "cell_type": "markdown",
   "id": "55be9805",
   "metadata": {},
   "source": [
    "## Q6. Write a python code to connect MySQL to python. Explain the cursor() and execute() method.\n",
    "\n",
    "To connect Python to MySQL, you need to use a library called mysql-connector-python. Here's an example of how to connect Python to a MySQL database and use the cursor() and execute() methods:"
   ]
  },
  {
   "cell_type": "code",
   "execution_count": null,
   "id": "be3658aa",
   "metadata": {},
   "outputs": [],
   "source": [
    "import mysql.connector\n",
    "\n",
    "# create a connection to the MySQL database\n",
    "mydb = mysql.connector.connect(\n",
    "  host=\"localhost\",\n",
    "  user=\"yourusername\",\n",
    "  password=\"yourpassword\",\n",
    "  database=\"yourdatabase\"\n",
    ")\n",
    "\n",
    "# create a cursor object to interact with the database\n",
    "mycursor = mydb.cursor()\n",
    "\n",
    "# use the execute() method to run a SQL query\n",
    "mycursor.execute(\"SELECT * FROM customers\")\n",
    "\n",
    "# use the fetchall() method to retrieve the query results\n",
    "myresult = mycursor.fetchall()\n",
    "\n",
    "# iterate over the results and print each row\n",
    "for row in myresult:\n",
    "  print(row)"
   ]
  },
  {
   "cell_type": "markdown",
   "id": "a371cd25",
   "metadata": {},
   "source": [
    "In this example, we first import the mysql.connector library and create a connection to the MySQL database using the connect() method, specifying the host, user, password, and database.\n",
    "\n",
    "We then create a cursor object using the cursor() method. The cursor is used to execute SQL queries and retrieve the results.\n",
    "\n",
    "Next, we use the execute() method to run a SELECT query on the \"customers\" table, which retrieves all the records from the table. The execute() method takes a SQL query as a parameter.\n",
    "\n",
    "After executing the query, we use the fetchall() method to retrieve the results of the query. The fetchall() method returns all the rows in the result set as a list of tuples.\n",
    "\n",
    "Finally, we iterate over the results and print each row. The result is a table of all the customer records in the \"customers\" table.\n",
    "\n",
    "In summary, the cursor() method creates a cursor object that is used to execute SQL queries and retrieve results, while the execute() method is used to run a SQL query on the database."
   ]
  },
  {
   "cell_type": "markdown",
   "id": "09a30dd6",
   "metadata": {},
   "source": [
    "## Q7. Give the order of execution of SQL clauses in an SQL query.\n",
    "\n",
    "In an SQL query, the order of execution of clauses is as follows:\n",
    "\n",
    "FROM clause - specifies the table or tables from which data is being queried.\n",
    "\n",
    "WHERE clause - filters the data by applying a condition to the columns in the selected table(s).\n",
    "\n",
    "GROUP BY clause - groups the data by one or more columns.\n",
    "\n",
    "HAVING clause - filters the data based on a condition applied to the result of the GROUP BY clause.\n",
    "\n",
    "SELECT clause - selects the columns to be displayed in the query result.\n",
    "\n",
    "ORDER BY clause - sorts the result set by one or more columns.\n",
    "\n",
    "LIMIT/OFFSET clause - limits the number of rows returned and/or specifies an offset for the start of the result set.\n",
    "\n",
    "It is important to note that not all of these clauses are required in every SQL query. The minimum required clauses for a basic SQL query are the SELECT and FROM clauses. However, for more complex queries that involve filtering and sorting, the WHERE, GROUP BY, HAVING, and ORDER BY clauses may also be necessary.\n",
    "\n",
    "The order of the clauses is important to ensure that the query is executed correctly and returns the expected result. For example, if the SELECT clause is placed before the FROM clause, the query will not work as intended because it will not know which table to select the data from"
   ]
  },
  {
   "cell_type": "code",
   "execution_count": null,
   "id": "2119feef",
   "metadata": {},
   "outputs": [],
   "source": []
  }
 ],
 "metadata": {
  "kernelspec": {
   "display_name": "Python 3 (ipykernel)",
   "language": "python",
   "name": "python3"
  },
  "language_info": {
   "codemirror_mode": {
    "name": "ipython",
    "version": 3
   },
   "file_extension": ".py",
   "mimetype": "text/x-python",
   "name": "python",
   "nbconvert_exporter": "python",
   "pygments_lexer": "ipython3",
   "version": "3.9.13"
  }
 },
 "nbformat": 4,
 "nbformat_minor": 5
}
