{
 "cells": [
  {
   "cell_type": "markdown",
   "id": "65e8b350",
   "metadata": {},
   "source": [
    "### 18 Feb_AssQ _Web Api\n",
    "\n",
    "\n",
    " ## Q1. What is an API ? Give an Example where an API is USED in Real LIFE.\n",
    " \n",
    " \n",
    "  An API(Application Programming Interfaces) is a communication interface that allows two seperate software components to share data. AN APIoperates as a bridge between internal and External SOftware Operations.\n",
    "  - API interface, and it is a set of protocols, routines, and tools for building software application. An API specifies how software components should interact wit heach other, and it typically provides a set of methods or functions that other software application can use to communicate with it.\n",
    "  \n",
    "  \n",
    "  Example : When a weather app on your phone displays the current temperature and weather conditions for your location. The app is not collecting the weather data itself but rather using an API provided by a third-party weather service to get the data. The Weather service has an API that allows develoers to access its data and use it in their owen application. The app uses the weather service's API to retrives the data and dsiplay it to the user in a User-Friendly Format."
   ]
  },
  {
   "cell_type": "markdown",
   "id": "71f50212",
   "metadata": {},
   "source": [
    "### Q2. Give Advantages and Disadvantages of Using API ?\n",
    "\n",
    "\n",
    "#### Advantages of API : \n",
    "\n",
    "1) Increased Interperability : API Solutions enable different software systeam to communicate with each other, regardless of their programming language or platform. This Enhances the Interoperability between system, allowing for the exchange of data and Functionality.\n",
    "\n",
    "2) Improved Efficiency : API Driven infrastructures enable developers to reuse code and functionality from existing software systems, Saving Tiem and reducing the amount of code that needs to be writeen from scratch.\n",
    "\n",
    "3) Better User Experience : APIs Can enable third-party developers to create application that integrate with existing software systesm, providing a better user experience and Increased Functinality.\n",
    "\n",
    "4) Increased Felxibility : APIs provide developers with greater Flexibility, enabling them to choose the best programming languages and frameworks for their needs.\n",
    "\n",
    "5) New Revenue Streams : APIs can Enable companiies to create new revenue steams by providing third-party developers with access to their software systems.\n",
    "\n",
    "\n",
    "#### Disdvantages of API : \n",
    "1) Security Concers : API Infrastrucutres can be vulnerable to security breaches, such as SQL injection attacks and crosss-site scripting(XSS) attacks, making it crucial to implement security measures to protect against these threasts\n",
    "\n",
    "2) Complexity : API can be complex, requiring a significant amount of development offort to implement and maintain.\n",
    "\n",
    " 3)  Compatibility Issues : APIs can have compatibility issues between different versions of the same software system or between different systems,which can lead to erros and system failures.\n",
    " \n",
    " 4) Dependency on Third-party Developers : API rely on third party developers to create application that integrate with the software sysstem. This can create dependencies that are outside of the control ofthe company that owns the software system.\n",
    " \n",
    " 4) Governance and Management : APIs require proper governance and managment to ensure they are being used corretly and consistently across different application and systeams."
   ]
  },
  {
   "cell_type": "markdown",
   "id": "364186f8",
   "metadata": {},
   "source": [
    "## Q3. What is a Web API ? differentiate between API and Web API ?\n",
    "\n",
    "Communication Protocol : An API can use different communication protocols like TCP, FTP or UDP, while a WEB API specifically uses the HTTP protocal.\n",
    "\n",
    "Network Access :An API can be accessed both locally and over the Internet, while a WEB API can only be accessed over the Internet. \n",
    "\n",
    "Format : APIs Can use different data formats like JSON or XML while WEB API typically use JSON or XML to provide responses.\n",
    "\n",
    "Security : WEB APIs often sue additional security measures like QAuth or SSL to secure the data bening Transferred over the Internet."
   ]
  },
  {
   "cell_type": "markdown",
   "id": "18e5fa4c",
   "metadata": {},
   "source": [
    "### Q4. Explain REST and SOAP Architecture. Mention shortcomings of SOAP ?\n",
    "\n",
    "* REST (Representational State Transfer ) and SOAP( Simple Object Access Protocal) are two popular architectures for building web services.\n",
    "\n",
    "REST Architecture : REST is an archtectural style for building web servies that are lightweight, scalable and easy to maintain. REST uses standard HTTP methods like GET, POST, PUT and DELETE to perform operations on resources, and it typically uses JOSN or XML to transmit data between the client and server. The Main advantage of REST is that it provides a simpler and more lightweight architecute compared to SOAP. making it easier to use and more flexible.\n",
    "\n",
    "SOAP Architecute : SOAP is a messaging protocol that uses XML to encode message and provides a way to application to communicate over the internet. SOAP is more complex than REST and provide a standardized way to exchange structed information between different software system. It uses a message-based- exchange model and can be used with different transport protocols like HTTP, SMTP or TCP.\n",
    "\n",
    "Shortcoming of SOAP : Although SOAP has its advantages, there are some drawbacks that limit its usability in certain scenarios. SOme of the shortcomings of SOAP Are : \n",
    "    1) Complexity : SOAP is more complex than REST and requires a lot of boilerplate code to set up and Use.\n",
    "    2) Performance : SOAP uses a lot of bandwidth due to its use oof XML  which can make it slower than REST.\n",
    "    3) Limited Language Support : SOAP is primarily used with java and .NET which limits its usability with other languages and platforms.\n",
    "    4) Tight coupling : SOAP is often tighlty coupled to a specific programming language or platform which can make it harder to maintain and update over time.\n",
    "    \n",
    "    Overall, Both REST and SOAP architectures have their own advantage and disadvantages and the choice of which on e to use depends on the specific requirements of the project. REST is generally preferred for simpler projects of those that requie a lot of flexibility and scalability, while SOAP is better suited for more complex projects that require strict standards for exchanging structed data.\n",
    "\n"
   ]
  },
  {
   "cell_type": "markdown",
   "id": "93d33c4d",
   "metadata": {},
   "source": [
    "### Q5. Differentiate between REST and SOAP ?\n",
    "\n",
    "* SOAP * \n",
    "    - is protocol for communication between application \n",
    "    - SOAP API exposes the operation\n",
    "    - SOAP is Independent and can work with any transport protocal\n",
    "    - SOAP message are larger which make communication slower\n",
    "    - SOAP supports encryption with additional overheads\n",
    "    - SOAP is useful in legacy application and private APIs\n",
    "    \n",
    "* REST *\n",
    "    - is an Architecture style for designing communication interface\n",
    "    - REST API exposes the data\n",
    "    - REST works only with HTTPS\n",
    "    - REST has faster performance due to smaller message and caching support.\n",
    "    - REST Support encyption without affecting performance\n",
    "    - REST is useful in modern application and public APIs."
   ]
  },
  {
   "cell_type": "code",
   "execution_count": null,
   "id": "a3ace390",
   "metadata": {},
   "outputs": [],
   "source": []
  }
 ],
 "metadata": {
  "kernelspec": {
   "display_name": "Python 3 (ipykernel)",
   "language": "python",
   "name": "python3"
  },
  "language_info": {
   "codemirror_mode": {
    "name": "ipython",
    "version": 3
   },
   "file_extension": ".py",
   "mimetype": "text/x-python",
   "name": "python",
   "nbconvert_exporter": "python",
   "pygments_lexer": "ipython3",
   "version": "3.9.13"
  }
 },
 "nbformat": 4,
 "nbformat_minor": 5
}
