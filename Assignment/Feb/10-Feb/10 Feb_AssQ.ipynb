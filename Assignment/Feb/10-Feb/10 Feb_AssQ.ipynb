{
 "cells": [
  {
   "cell_type": "markdown",
   "id": "7d35759b",
   "metadata": {},
   "source": [
    "## 10 Feb Assignment \n",
    "## OOPs assignment"
   ]
  },
  {
   "cell_type": "markdown",
   "id": "f01266ad",
   "metadata": {},
   "source": [
    "Q1. Which function is used to open a file ? what are the differnet modes of opening a file ? Explain each mode of file opening."
   ]
  },
  {
   "cell_type": "markdown",
   "id": "1759dd12",
   "metadata": {},
   "source": [
    "* Open file using open() function\n",
    "* There are many modes for opening a file but 3 are most useful\n",
    "\n",
    "* Read\n",
    "    \n",
    "Read the content of the file\n",
    "* Write\n",
    "    \n",
    "Create or re-write the content of the file\n",
    "* Append\n",
    "    \n",
    "Add more content to the file"
   ]
  },
  {
   "cell_type": "markdown",
   "id": "b669b01c",
   "metadata": {},
   "source": [
    "Q2. Why Close()  function is used ? Why is it important to close a file ?"
   ]
  },
  {
   "cell_type": "markdown",
   "id": "f604d6f8",
   "metadata": {},
   "source": [
    "* The close() method closes an open file.\n",
    "* You should always close your files, in some cases, due to buffering, changes made to a file may not show until you close the file."
   ]
  },
  {
   "cell_type": "markdown",
   "id": "5743f6c1",
   "metadata": {},
   "source": [
    "Q3. Write a python program to create a text file. Write \"I want to become a Data Scientist' in that file. then Close the file. Open this file and read the content of the file."
   ]
  },
  {
   "cell_type": "code",
   "execution_count": 5,
   "id": "26dce584",
   "metadata": {},
   "outputs": [],
   "source": [
    "f1 = open(\"test.txt\" ,'w' )\n",
    "f1.write(\"I want to become a Data Scientist\")\n",
    "f1.close()\n",
    "\n",
    "data = open(\"test.txt\" , \"r\")\n",
    "data.read()\n",
    "data.close()"
   ]
  },
  {
   "cell_type": "markdown",
   "id": "7089b41a",
   "metadata": {},
   "source": [
    "Q.4 Explain the following with python code : read(), readline() and readlines()."
   ]
  },
  {
   "cell_type": "markdown",
   "id": "e1229f4a",
   "metadata": {},
   "source": [
    "* read()\n",
    "\n",
    " read and reaturn all lines as string\n",
    "\n",
    "\n",
    "* readline()\n",
    "\n",
    " reads a line of the file and return it in the form of the string.\n",
    "\n",
    "\n",
    "* readlines()\n",
    "\n",
    " reads all the lines at a single go and then return them as each line a string element in a list"
   ]
  },
  {
   "cell_type": "markdown",
   "id": "cb4895a0",
   "metadata": {},
   "source": [
    "Q5.Explain why with statement is used with open(), what is hte advantage of Using with statement and open() together ?"
   ]
  },
  {
   "cell_type": "markdown",
   "id": "03cf265d",
   "metadata": {},
   "source": [
    "* The with keyword in Python is used as a context manager.\n",
    "\n",
    "\n",
    "* It making sure to release these resources after usage\n",
    "i.e it make sure that file is closed after used"
   ]
  },
  {
   "cell_type": "markdown",
   "id": "0f1211fa",
   "metadata": {},
   "source": [
    "Q6. Explain the write() andwritelines()function, Give a suitable example."
   ]
  },
  {
   "cell_type": "code",
   "execution_count": 6,
   "id": "c1be09ac",
   "metadata": {},
   "outputs": [],
   "source": [
    "f1 = open(\"test.txt\" ,'w' )\n",
    "f1.write(\"Data Science Masters course\")\n",
    "f1.close()\n",
    "\n",
    "\n",
    "f = open(\"demofile3.txt\", \"a\")\n",
    "f.writelines([\"See you soon!\", \"Over and out.\"])"
   ]
  },
  {
   "cell_type": "code",
   "execution_count": null,
   "id": "42a5d456",
   "metadata": {},
   "outputs": [],
   "source": []
  }
 ],
 "metadata": {
  "kernelspec": {
   "display_name": "Python 3 (ipykernel)",
   "language": "python",
   "name": "python3"
  },
  "language_info": {
   "codemirror_mode": {
    "name": "ipython",
    "version": 3
   },
   "file_extension": ".py",
   "mimetype": "text/x-python",
   "name": "python",
   "nbconvert_exporter": "python",
   "pygments_lexer": "ipython3",
   "version": "3.9.13"
  }
 },
 "nbformat": 4,
 "nbformat_minor": 5
}
