{
 "cells": [
  {
   "cell_type": "markdown",
   "id": "7135aaf6",
   "metadata": {},
   "source": [
    "# 13 Feb_AssQ\n",
    "## Exception handling-2"
   ]
  },
  {
   "cell_type": "markdown",
   "id": "a4f437da",
   "metadata": {},
   "source": [
    "### Q1. Expalin why we have to use the Exception Class while creatin a custom Exception\n",
    "\n",
    "* Note: Here Exception class refers to the base class for all the exceptions."
   ]
  },
  {
   "cell_type": "markdown",
   "id": "db9b7fef",
   "metadata": {},
   "source": [
    "* Exceptions need to be dervied from the exception class, either directly or indirectly.\n",
    "\n",
    "* Instaed of creating own exception class from scratch it's better to inherit all the feature available in the parent Exception class\n",
    "\n",
    "* While creating a custom exception in Python , It is best pratice to inherit from the built-in exception class or one of its subclass. this is because the Exception class provides a standard interface  and behavior for exception, and inclused many helpful methods and attributes for handling and reporting errors."
   ]
  },
  {
   "cell_type": "markdown",
   "id": "3f925d48",
   "metadata": {},
   "source": [
    "### Q2 Write a python program to print Python Exception Hierarchy .\n",
    "\n"
   ]
  },
  {
   "cell_type": "code",
   "execution_count": 8,
   "id": "e8182a47",
   "metadata": {},
   "outputs": [
    {
     "name": "stdout",
     "output_type": "stream",
     "text": [
      "Hierarchy for Built-in Excepton is: \n"
     ]
    }
   ],
   "source": [
    "def treeClass(cls, ind= 0):\n",
    "    # print name of the class\n",
    "    print('-' * ind, cls.__name__)\n",
    "    \n",
    "    # iterating through subclasses\n",
    "    for i in cls.__subclass__():\n",
    "        treeClass(i, ind + 3)\n",
    "        \n",
    "print(\"Hierarchy for Built-in Excepton is: \")\n",
    "treeClass(BaseException)"
   ]
  },
  {
   "cell_type": "markdown",
   "id": "884ef2c5",
   "metadata": {},
   "source": [
    "### Q3. What Error are defined inthe Arithmetic Error Class ? Explain any two with an Example ?\n",
    "\n",
    "* Arithmetic Error raised for various Arithmetic Errors\n",
    "    - OverflowError\n",
    "    - ZeroDivisionError\n",
    "    - FloatingPointError\n",
    "    \n",
    " \n",
    "* ZerodivisionError exception occurs when a number is divided by Zero(0)"
   ]
  },
  {
   "cell_type": "code",
   "execution_count": 9,
   "id": "668838cc",
   "metadata": {},
   "outputs": [],
   "source": [
    "# ZeroDivisionError \n",
    "try:\n",
    "    10/3\n",
    "except Exception as e:\n",
    "    print(e)"
   ]
  },
  {
   "cell_type": "markdown",
   "id": "2da232b5",
   "metadata": {},
   "source": [
    "* OVerflowError exception is raised when an arithmetic operation exceed the limits to be represented"
   ]
  },
  {
   "cell_type": "code",
   "execution_count": 12,
   "id": "1e371048",
   "metadata": {},
   "outputs": [
    {
     "ename": "NameError",
     "evalue": "name 'df' is not defined",
     "output_type": "error",
     "traceback": [
      "\u001b[1;31m---------------------------------------------------------------------------\u001b[0m",
      "\u001b[1;31mNameError\u001b[0m                                 Traceback (most recent call last)",
      "\u001b[1;32m~\\AppData\\Local\\Temp\\ipykernel_7360\\3861012669.py\u001b[0m in \u001b[0;36m<module>\u001b[1;34m\u001b[0m\n\u001b[0;32m      1\u001b[0m \u001b[1;31m# OverflowError\u001b[0m\u001b[1;33m\u001b[0m\u001b[1;33m\u001b[0m\u001b[0m\n\u001b[0;32m      2\u001b[0m \u001b[0mj\u001b[0m \u001b[1;33m=\u001b[0m \u001b[1;36m5.0555\u001b[0m\u001b[1;33m\u001b[0m\u001b[1;33m\u001b[0m\u001b[0m\n\u001b[1;32m----> 3\u001b[1;33m \u001b[0mdf\u001b[0m\u001b[1;33m\u001b[0m\u001b[1;33m\u001b[0m\u001b[0m\n\u001b[0m\u001b[0;32m      4\u001b[0m \u001b[1;32mfor\u001b[0m \u001b[0mi\u001b[0m \u001b[1;32min\u001b[0m \u001b[0mrange\u001b[0m\u001b[1;33m(\u001b[0m\u001b[1;36m1\u001b[0m\u001b[1;33m,\u001b[0m\u001b[1;36m1000\u001b[0m\u001b[1;33m)\u001b[0m\u001b[1;33m:\u001b[0m\u001b[1;33m\u001b[0m\u001b[1;33m\u001b[0m\u001b[0m\n\u001b[0;32m      5\u001b[0m     \u001b[0mj\u001b[0m \u001b[1;33m=\u001b[0m \u001b[0mj\u001b[0m \u001b[1;33m**\u001b[0m \u001b[1;36m1\u001b[0m\u001b[1;33m\u001b[0m\u001b[1;33m\u001b[0m\u001b[0m\n",
      "\u001b[1;31mNameError\u001b[0m: name 'df' is not defined"
     ]
    }
   ],
   "source": [
    "# OverflowError\n",
    "j = 5.0\n",
    "\n",
    "for i in range(1,1000):\n",
    "    j = j ** 1\n",
    "    print(j)"
   ]
  },
  {
   "cell_type": "markdown",
   "id": "08be56c0",
   "metadata": {},
   "source": [
    "### Q5. Why LookupError Class is Used ? Explain with Example  KeyError and IndexError.\n",
    "\n",
    "\n",
    "* The LookupError Exceptin in Python forms the base class for all exception that are raised when an index or a key is not found for a sequence or dictionary respectively.\n",
    "\n",
    "\n",
    "* IndexError error occurs when an attempt is made to access an item in a list at an index which is out of bounds"
   ]
  },
  {
   "cell_type": "code",
   "execution_count": 13,
   "id": "29f1ee97",
   "metadata": {},
   "outputs": [
    {
     "ename": "IndexError",
     "evalue": "list index out of range",
     "output_type": "error",
     "traceback": [
      "\u001b[1;31m---------------------------------------------------------------------------\u001b[0m",
      "\u001b[1;31mIndexError\u001b[0m                                Traceback (most recent call last)",
      "\u001b[1;32m~\\AppData\\Local\\Temp\\ipykernel_7360\\3299380220.py\u001b[0m in \u001b[0;36m<module>\u001b[1;34m\u001b[0m\n\u001b[0;32m      1\u001b[0m \u001b[1;31m# IndexError\u001b[0m\u001b[1;33m\u001b[0m\u001b[1;33m\u001b[0m\u001b[0m\n\u001b[0;32m      2\u001b[0m \u001b[0ml\u001b[0m \u001b[1;33m=\u001b[0m \u001b[1;33m[\u001b[0m\u001b[1;36m1\u001b[0m\u001b[1;33m,\u001b[0m\u001b[1;36m2\u001b[0m\u001b[1;33m,\u001b[0m\u001b[1;36m3\u001b[0m\u001b[1;33m,\u001b[0m\u001b[1;36m3\u001b[0m\u001b[1;33m]\u001b[0m\u001b[1;33m\u001b[0m\u001b[1;33m\u001b[0m\u001b[0m\n\u001b[1;32m----> 3\u001b[1;33m \u001b[0ml\u001b[0m\u001b[1;33m[\u001b[0m\u001b[1;36m10\u001b[0m\u001b[1;33m]\u001b[0m\u001b[1;33m\u001b[0m\u001b[1;33m\u001b[0m\u001b[0m\n\u001b[0m",
      "\u001b[1;31mIndexError\u001b[0m: list index out of range"
     ]
    }
   ],
   "source": [
    "# IndexError\n",
    "l = [1,2,3,3]\n",
    "l[10]"
   ]
  },
  {
   "cell_type": "markdown",
   "id": "455f4fb7",
   "metadata": {},
   "source": [
    "KeyError is raised when a mapping key is accessed and isn't found in the mapping"
   ]
  },
  {
   "cell_type": "code",
   "execution_count": 14,
   "id": "1fb4fed7",
   "metadata": {},
   "outputs": [
    {
     "ename": "KeyError",
     "evalue": "'Key10'",
     "output_type": "error",
     "traceback": [
      "\u001b[1;31m---------------------------------------------------------------------------\u001b[0m",
      "\u001b[1;31mKeyError\u001b[0m                                  Traceback (most recent call last)",
      "\u001b[1;32m~\\AppData\\Local\\Temp\\ipykernel_7360\\1277126665.py\u001b[0m in \u001b[0;36m<module>\u001b[1;34m\u001b[0m\n\u001b[0;32m      1\u001b[0m \u001b[1;31m# KeyError\u001b[0m\u001b[1;33m\u001b[0m\u001b[1;33m\u001b[0m\u001b[0m\n\u001b[0;32m      2\u001b[0m \u001b[0md\u001b[0m \u001b[1;33m=\u001b[0m \u001b[1;33m{\u001b[0m\u001b[1;36m1\u001b[0m\u001b[1;33m:\u001b[0m\u001b[1;33m[\u001b[0m\u001b[1;36m3\u001b[0m\u001b[1;33m,\u001b[0m\u001b[1;36m4\u001b[0m\u001b[1;33m,\u001b[0m\u001b[1;36m5\u001b[0m\u001b[1;33m,\u001b[0m\u001b[1;36m6\u001b[0m\u001b[1;33m]\u001b[0m\u001b[1;33m,\u001b[0m \u001b[1;34m\"key\"\u001b[0m\u001b[1;33m:\u001b[0m\u001b[1;34m\"sudh\"\u001b[0m\u001b[1;33m}\u001b[0m\u001b[1;33m\u001b[0m\u001b[1;33m\u001b[0m\u001b[0m\n\u001b[1;32m----> 3\u001b[1;33m \u001b[0md\u001b[0m\u001b[1;33m[\u001b[0m\u001b[1;34m\"Key10\"\u001b[0m\u001b[1;33m]\u001b[0m\u001b[1;33m\u001b[0m\u001b[1;33m\u001b[0m\u001b[0m\n\u001b[0m",
      "\u001b[1;31mKeyError\u001b[0m: 'Key10'"
     ]
    }
   ],
   "source": [
    "# KeyError\n",
    "d = {1:[3,4,5,6], \"key\":\"sudh\"}\n",
    "d[\"Key10\"]"
   ]
  },
  {
   "cell_type": "markdown",
   "id": "5ef3b077",
   "metadata": {},
   "source": [
    "### Q5. Expalin ImportError. What is ModuleNotFoundError ?\n",
    "\n",
    "* The ImportError is rasied when an import statement has trouble successfully importing the specified module.\n",
    "\n",
    "* It may occur due to -\n",
    "        - Module Name not Found\n",
    "        - Circular Import\n",
    "        \n",
    "* ModuleNotFoundError :\n",
    "        - This error occurs when you're trying to access or use a module that cannot be found\n",
    "        \n",
    "       "
   ]
  },
  {
   "cell_type": "markdown",
   "id": "ab9d97a3",
   "metadata": {},
   "source": [
    "### Q6. List down some best practices for exception handling in Python\n",
    "\n",
    "\n",
    "\n",
    "* Alwasy use specific Excepton\n",
    "* Print alwsy a valide msg\n",
    "* Alwasy avoid to Write a multiple Exception Handling\n",
    "* Alwasy try to log the Error\n",
    "* Prepare a proper Documentation"
   ]
  },
  {
   "cell_type": "code",
   "execution_count": null,
   "id": "38a62c9f",
   "metadata": {},
   "outputs": [],
   "source": []
  }
 ],
 "metadata": {
  "kernelspec": {
   "display_name": "Python 3 (ipykernel)",
   "language": "python",
   "name": "python3"
  },
  "language_info": {
   "codemirror_mode": {
    "name": "ipython",
    "version": 3
   },
   "file_extension": ".py",
   "mimetype": "text/x-python",
   "name": "python",
   "nbconvert_exporter": "python",
   "pygments_lexer": "ipython3",
   "version": "3.9.13"
  }
 },
 "nbformat": 4,
 "nbformat_minor": 5
}
