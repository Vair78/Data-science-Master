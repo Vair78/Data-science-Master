{
 "cells": [
  {
   "cell_type": "markdown",
   "id": "38854b59",
   "metadata": {},
   "source": [
    "# 12 Feb_AssQ\n",
    "## Exception handling-1"
   ]
  },
  {
   "cell_type": "markdown",
   "id": "9b224b9a",
   "metadata": {},
   "source": [
    "### Q1. What is an Exception in Python ? Write the difference between Exception and Syntax Error?"
   ]
  },
  {
   "cell_type": "markdown",
   "id": "34e170d7",
   "metadata": {},
   "source": [
    "Ans :\n",
    "* Exception : \n",
    "\n",
    "    An exception is an event, which occurs during the execution of a program that disrupts the normal flow of the program's instructions. In general, when a Python script encounters a situation that it cannot cope with, it raises an exception. An exception is a Python object that represents an error\n",
    "    \n",
    "    \n",
    "    \n",
    "* Timming\n",
    "\n",
    "    A syntax error is when something goes wrong during parsing.\n",
    "    Exception occurs during execution of program\n",
    "\n",
    "*  Reason\n",
    "\n",
    "    A syntax error occurs when wrong sintax is used\n",
    "    Exception occurs when there is programming logic issue.\n",
    "    \n",
    "### Built-in Python Exceptions\n",
    "Here is the list of default Python exceptions with descriptions:\n",
    "\n",
    "   * AssertionError:\n",
    "       raised when the assert statement fails.\n",
    "    \n",
    "* EOFError:\n",
    "       raised when the input() function meets the end-of-file condition.\n",
    "\n",
    "* AttributeError: \n",
    "    raised when the attribute assignment or reference fails.\n",
    "    \n",
    "* TabError:\n",
    "    \n",
    "    raised when the indentations consist of inconsistent tabs or spaces. \n",
    "    \n",
    "* ImportError: \n",
    "  \n",
    "  raised when importing the module fails. \n",
    "    \n",
    "* IndexError:\n",
    "        occurs when the index of a sequence is out of range \n",
    "* KeyboardInterrupt: \n",
    "        raised when the user inputs interrupt keys (Ctrl + C or Delete).\n",
    "\n",
    "* RuntimeError: \n",
    "        occurs when an error does not fall into any category. \n",
    "\n",
    "* NameError: \n",
    "        raised when a variable is not found in the local or global scope. \n",
    "\n",
    "* MemoryError:\n",
    "        raised when programs run out of memory. \n",
    "\n",
    "* ValueError: \n",
    "        occurs when the operation or function receives an argument with the right type but the wrong value. \n",
    "        \n",
    "* ZeroDivisionError:\n",
    "        raised when you divide a value or variable with zero. \n",
    "* SyntaxError: \n",
    "        raised by the parser when the Python syntax is wrong. \n",
    "        \n",
    "* IndentationError:\n",
    "    occurs when there is a wrong indentation.\n",
    "    \n",
    "* SystemError:\n",
    "    raised when the interpreter detects an internal error."
   ]
  },
  {
   "cell_type": "markdown",
   "id": "a66e0f8a",
   "metadata": {},
   "source": [
    "### Q2. What happens when an exception is not handled ? explain with an example ?\n",
    "\n",
    "* When an exception is not handled\n",
    "        -It disturbs normal flow of program\n",
    "        -Complete program will not get executed\n",
    "        - Normal Flow of program is disturbed"
   ]
  },
  {
   "cell_type": "code",
   "execution_count": 2,
   "id": "a698690d",
   "metadata": {},
   "outputs": [
    {
     "ename": "ZeroDivisionError",
     "evalue": "division by zero",
     "output_type": "error",
     "traceback": [
      "\u001b[1;31m---------------------------------------------------------------------------\u001b[0m",
      "\u001b[1;31mZeroDivisionError\u001b[0m                         Traceback (most recent call last)",
      "\u001b[1;32m~\\AppData\\Local\\Temp\\ipykernel_124\\862864559.py\u001b[0m in \u001b[0;36m<module>\u001b[1;34m\u001b[0m\n\u001b[0;32m      2\u001b[0m \u001b[1;33m\u001b[0m\u001b[0m\n\u001b[0;32m      3\u001b[0m \u001b[1;31m# perform division with 0\u001b[0m\u001b[1;33m\u001b[0m\u001b[1;33m\u001b[0m\u001b[0m\n\u001b[1;32m----> 4\u001b[1;33m \u001b[0ma\u001b[0m \u001b[1;33m=\u001b[0m \u001b[0mmarks\u001b[0m \u001b[1;33m/\u001b[0m \u001b[1;36m0\u001b[0m\u001b[1;33m\u001b[0m\u001b[1;33m\u001b[0m\u001b[0m\n\u001b[0m\u001b[0;32m      5\u001b[0m \u001b[0mprint\u001b[0m\u001b[1;33m(\u001b[0m\u001b[0ma\u001b[0m\u001b[1;33m)\u001b[0m\u001b[1;33m\u001b[0m\u001b[1;33m\u001b[0m\u001b[0m\n",
      "\u001b[1;31mZeroDivisionError\u001b[0m: division by zero"
     ]
    }
   ],
   "source": [
    "marks = 10000\n",
    "\n",
    "# perform division with 0\n",
    "a = marks / 0\n",
    "print(a)"
   ]
  },
  {
   "cell_type": "markdown",
   "id": "c0a07ef9",
   "metadata": {},
   "source": [
    "### Q3. Which Python statements are used to catch and handle exception ? Explain with an example?\n",
    "\n",
    "\n",
    "* The \"try and except block in Python\" is used to catch and handle exceptions. Python executes code following the try statement as a “normal” part of the program."
   ]
  },
  {
   "cell_type": "code",
   "execution_count": 6,
   "id": "67f00d97",
   "metadata": {},
   "outputs": [
    {
     "name": "stdout",
     "output_type": "stream",
     "text": [
      "Exception is handled\n"
     ]
    }
   ],
   "source": [
    "try :\n",
    "    marks = 10000\n",
    "    \n",
    "    # perfom division with Zero(0)\n",
    "    \n",
    "    a = makrs / 0\n",
    "    print(a)\n",
    "except:\n",
    "        print('Exception is handled');"
   ]
  },
  {
   "cell_type": "code",
   "execution_count": 8,
   "id": "a8e9bbbc",
   "metadata": {},
   "outputs": [
    {
     "name": "stdout",
     "output_type": "stream",
     "text": [
      "Error : denominator Cannot be 0.\n"
     ]
    }
   ],
   "source": [
    "# Excepton handling Using Try...Except\n",
    "\n",
    "try :\n",
    "    numerator = 10\n",
    "    denominator = 0\n",
    "    \n",
    "    Result = numerator / denominator\n",
    "    \n",
    "    print(Result)\n",
    "except:\n",
    "    print(\"Error : denominator Cannot be 0.\")\n",
    "    "
   ]
  },
  {
   "cell_type": "markdown",
   "id": "0df68e44",
   "metadata": {},
   "source": [
    "### Q4. Explain With an Example :  1) Try and Else, 2) Finally, 3) Raise"
   ]
  },
  {
   "cell_type": "markdown",
   "id": "e6f9a5c5",
   "metadata": {},
   "source": [
    "* Try -Except : \n",
    "\n",
    "  To Handle  exception and proper execution of program we put Risky code inside Try-except Block"
   ]
  },
  {
   "cell_type": "code",
   "execution_count": 9,
   "id": "edd03f6b",
   "metadata": {},
   "outputs": [
    {
     "name": "stdout",
     "output_type": "stream",
     "text": [
      "exception is handled\n"
     ]
    }
   ],
   "source": [
    "try :\n",
    "    marks = 10000\n",
    "    a = marks / 0\n",
    "    print(a)\n",
    "except:\n",
    "    print('exception is handled')"
   ]
  },
  {
   "cell_type": "markdown",
   "id": "e047c917",
   "metadata": {},
   "source": [
    "* Try-Else :\n",
    "\n",
    "    if there is no exception hten else block will be executed"
   ]
  },
  {
   "cell_type": "code",
   "execution_count": 10,
   "id": "49bef5ac",
   "metadata": {},
   "outputs": [
    {
     "name": "stdout",
     "output_type": "stream",
     "text": [
      "Yeah ! Your answer is : 0\n"
     ]
    }
   ],
   "source": [
    "x, y = 2,4\n",
    "try :\n",
    "    # Floor Divison : Give only Fractional\n",
    "    # part as Answer\n",
    "    \n",
    "    Result = x // y\n",
    "except ZeroDivisionError:\n",
    "    print(\"Sorry ! You are dividing by Zero\")\n",
    "else:\n",
    "    print(\"Yeah ! Your answer is :\", Result)"
   ]
  },
  {
   "cell_type": "markdown",
   "id": "517eb909",
   "metadata": {},
   "source": [
    "* Finally \n",
    "    -  Finally Block Is executed Alwasy Irrespective of whether exception raised or not raised and whether exception handled or not handled."
   ]
  },
  {
   "cell_type": "code",
   "execution_count": 11,
   "id": "81f4699a",
   "metadata": {},
   "outputs": [
    {
     "name": "stdout",
     "output_type": "stream",
     "text": [
      "Cant divied by Zero\n",
      "This is always executed\n"
     ]
    }
   ],
   "source": [
    "try :\n",
    "    k = 5 // 0 # Raises divide by zero exception \n",
    "    print(k)\n",
    "except ZeroDivisionError:\n",
    "    print(\"Cant divied by Zero\")\n",
    "finally:\n",
    "    print(\"This is always executed\")"
   ]
  },
  {
   "cell_type": "markdown",
   "id": "d695f70c",
   "metadata": {},
   "source": [
    "* Raise :\n",
    "    - We can define Custom exception by Using \"Raise Keyword\""
   ]
  },
  {
   "cell_type": "code",
   "execution_count": 16,
   "id": "89392e4f",
   "metadata": {},
   "outputs": [
    {
     "ename": "RuntimeError",
     "evalue": "Wrong age",
     "output_type": "error",
     "traceback": [
      "\u001b[1;31m---------------------------------------------------------------------------\u001b[0m",
      "\u001b[1;31mRuntimeError\u001b[0m                              Traceback (most recent call last)",
      "\u001b[1;32m~\\AppData\\Local\\Temp\\ipykernel_124\\2125542676.py\u001b[0m in \u001b[0;36m<module>\u001b[1;34m\u001b[0m\n\u001b[0;32m      1\u001b[0m \u001b[0mage\u001b[0m \u001b[1;33m=\u001b[0m \u001b[1;33m-\u001b[0m\u001b[1;36m10\u001b[0m\u001b[1;33m\u001b[0m\u001b[1;33m\u001b[0m\u001b[0m\n\u001b[0;32m      2\u001b[0m \u001b[1;32mif\u001b[0m \u001b[0mage\u001b[0m \u001b[1;33m<\u001b[0m \u001b[1;36m1\u001b[0m\u001b[1;33m:\u001b[0m\u001b[1;33m\u001b[0m\u001b[1;33m\u001b[0m\u001b[0m\n\u001b[1;32m----> 3\u001b[1;33m     \u001b[1;32mraise\u001b[0m \u001b[0mRuntimeError\u001b[0m\u001b[1;33m(\u001b[0m\u001b[1;34m\"Wrong age\"\u001b[0m\u001b[1;33m)\u001b[0m\u001b[1;33m\u001b[0m\u001b[1;33m\u001b[0m\u001b[0m\n\u001b[0m\u001b[0;32m      4\u001b[0m \u001b[1;32melse\u001b[0m\u001b[1;33m:\u001b[0m\u001b[1;33m\u001b[0m\u001b[1;33m\u001b[0m\u001b[0m\n\u001b[0;32m      5\u001b[0m     \u001b[0mprint\u001b[0m\u001b[1;33m(\u001b[0m\u001b[1;34m\"Done\"\u001b[0m\u001b[1;33m)\u001b[0m\u001b[1;33m\u001b[0m\u001b[1;33m\u001b[0m\u001b[0m\n",
      "\u001b[1;31mRuntimeError\u001b[0m: Wrong age"
     ]
    }
   ],
   "source": [
    "age = -10\n",
    "if age < 1:\n",
    "    raise RuntimeError(\"Wrong age\")\n",
    "else:\n",
    "    print(\"Done\")"
   ]
  },
  {
   "cell_type": "markdown",
   "id": "f90378b8",
   "metadata": {},
   "source": [
    "## Q5. What are Custom Exception in Python ? Why do we need Custom Exception ? Explain with an example ?\n",
    "\n",
    "\n",
    "* Custome Exception are Those which are created using \"Rasie\" keyword\n",
    "\n",
    "- Sometime we have to defined andraise exceptions explicityly to indicate that something goes wrong, Such type of Exception are called Custom Exception.\n",
    "\n",
    "* In the below example an exception is created if the age variable is smaller than 1"
   ]
  },
  {
   "cell_type": "code",
   "execution_count": 17,
   "id": "04a2350e",
   "metadata": {},
   "outputs": [
    {
     "ename": "RuntimeError",
     "evalue": "You have Entered Wrong Age",
     "output_type": "error",
     "traceback": [
      "\u001b[1;31m---------------------------------------------------------------------------\u001b[0m",
      "\u001b[1;31mRuntimeError\u001b[0m                              Traceback (most recent call last)",
      "\u001b[1;32m~\\AppData\\Local\\Temp\\ipykernel_124\\699605462.py\u001b[0m in \u001b[0;36m<module>\u001b[1;34m\u001b[0m\n\u001b[0;32m      1\u001b[0m \u001b[0mage\u001b[0m \u001b[1;33m=\u001b[0m \u001b[1;33m-\u001b[0m\u001b[1;36m1\u001b[0m\u001b[1;33m\u001b[0m\u001b[1;33m\u001b[0m\u001b[0m\n\u001b[0;32m      2\u001b[0m \u001b[1;32mif\u001b[0m \u001b[0mage\u001b[0m \u001b[1;33m<\u001b[0m \u001b[1;36m1\u001b[0m\u001b[1;33m:\u001b[0m\u001b[1;33m\u001b[0m\u001b[1;33m\u001b[0m\u001b[0m\n\u001b[1;32m----> 3\u001b[1;33m     \u001b[1;32mraise\u001b[0m \u001b[0mRuntimeError\u001b[0m\u001b[1;33m(\u001b[0m\u001b[1;34m\"You have Entered Wrong Age\"\u001b[0m\u001b[1;33m)\u001b[0m\u001b[1;33m\u001b[0m\u001b[1;33m\u001b[0m\u001b[0m\n\u001b[0m\u001b[0;32m      4\u001b[0m \u001b[1;32melse\u001b[0m \u001b[1;33m:\u001b[0m\u001b[1;33m\u001b[0m\u001b[1;33m\u001b[0m\u001b[0m\n\u001b[0;32m      5\u001b[0m     \u001b[0mprint\u001b[0m\u001b[1;33m(\u001b[0m\u001b[1;34m\"Correct Age\"\u001b[0m\u001b[1;33m)\u001b[0m\u001b[1;33m\u001b[0m\u001b[1;33m\u001b[0m\u001b[0m\n",
      "\u001b[1;31mRuntimeError\u001b[0m: You have Entered Wrong Age"
     ]
    }
   ],
   "source": [
    "age = -1\n",
    "if age < 1:\n",
    "    raise RuntimeError(\"You have Entered Wrong Age\")\n",
    "else :\n",
    "    print(\"Correct Age\")"
   ]
  },
  {
   "cell_type": "markdown",
   "id": "125fc7af",
   "metadata": {},
   "source": [
    "### Q6.Create a custom exception class. use this class to hanlde an exception."
   ]
  },
  {
   "cell_type": "code",
   "execution_count": 24,
   "id": "9a07152c",
   "metadata": {},
   "outputs": [
    {
     "ename": "NegativeAgeException",
     "evalue": "Age Can't be Negative",
     "output_type": "error",
     "traceback": [
      "\u001b[1;31m---------------------------------------------------------------------------\u001b[0m",
      "\u001b[1;31mNegativeAgeException\u001b[0m                      Traceback (most recent call last)",
      "\u001b[1;32m~\\AppData\\Local\\Temp\\ipykernel_124\\3189342506.py\u001b[0m in \u001b[0;36m<module>\u001b[1;34m\u001b[0m\n\u001b[0;32m      4\u001b[0m \u001b[0mage\u001b[0m \u001b[1;33m=\u001b[0m \u001b[1;33m-\u001b[0m\u001b[1;36m1\u001b[0m\u001b[1;33m\u001b[0m\u001b[1;33m\u001b[0m\u001b[0m\n\u001b[0;32m      5\u001b[0m \u001b[1;32mif\u001b[0m \u001b[0mage\u001b[0m \u001b[1;33m<\u001b[0m \u001b[1;36m1\u001b[0m\u001b[1;33m:\u001b[0m\u001b[1;33m\u001b[0m\u001b[1;33m\u001b[0m\u001b[0m\n\u001b[1;32m----> 6\u001b[1;33m     \u001b[1;32mraise\u001b[0m \u001b[0mNegativeAgeException\u001b[0m\u001b[1;33m(\u001b[0m\u001b[1;34m\"Age Can't be Negative\"\u001b[0m\u001b[1;33m)\u001b[0m\u001b[1;33m\u001b[0m\u001b[1;33m\u001b[0m\u001b[0m\n\u001b[0m\u001b[0;32m      7\u001b[0m \u001b[1;32melse\u001b[0m\u001b[1;33m:\u001b[0m\u001b[1;33m\u001b[0m\u001b[1;33m\u001b[0m\u001b[0m\n\u001b[0;32m      8\u001b[0m     \u001b[0mprint\u001b[0m\u001b[1;33m(\u001b[0m\u001b[1;34m\"Valid Age\"\u001b[0m\u001b[1;33m)\u001b[0m\u001b[1;33m\u001b[0m\u001b[1;33m\u001b[0m\u001b[0m\n",
      "\u001b[1;31mNegativeAgeException\u001b[0m: Age Can't be Negative"
     ]
    }
   ],
   "source": [
    "class NegativeAgeException(Exception):\n",
    "    def __init__(self,arg):\n",
    "        self.msg=arg\n",
    "age = -1\n",
    "if age < 1:\n",
    "    raise NegativeAgeException(\"Age Can't be Negative\")\n",
    "else:\n",
    "    print(\"Valid Age\")"
   ]
  },
  {
   "cell_type": "code",
   "execution_count": null,
   "id": "4939542d",
   "metadata": {},
   "outputs": [],
   "source": []
  }
 ],
 "metadata": {
  "kernelspec": {
   "display_name": "Python 3 (ipykernel)",
   "language": "python",
   "name": "python3"
  },
  "language_info": {
   "codemirror_mode": {
    "name": "ipython",
    "version": 3
   },
   "file_extension": ".py",
   "mimetype": "text/x-python",
   "name": "python",
   "nbconvert_exporter": "python",
   "pygments_lexer": "ipython3",
   "version": "3.9.13"
  }
 },
 "nbformat": 4,
 "nbformat_minor": 5
}
