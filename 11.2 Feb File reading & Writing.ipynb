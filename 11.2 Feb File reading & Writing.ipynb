{
 "cells": [
  {
   "cell_type": "code",
   "execution_count": 2,
   "id": "85c037de-833a-4f7d-b50e-d4efc26525c1",
   "metadata": {},
   "outputs": [],
   "source": [
    "data = {\n",
    "     \"name\" : \"sudh\" ,\n",
    "    \"mail_id\" : \"sudh@gmail.com\",\n",
    "    \"phone_num\" : 98888777,\n",
    "    \"subject\" :[\"data science\", \"big data\", \"data analystic\"] \n",
    "}"
   ]
  },
  {
   "cell_type": "code",
   "execution_count": 3,
   "id": "16f9b926-c6cc-4041-9361-91e6f5172c1a",
   "metadata": {},
   "outputs": [],
   "source": [
    "import json"
   ]
  },
  {
   "cell_type": "code",
   "execution_count": 5,
   "id": "8f9be3f4-8d45-4528-b5a2-5a4c51af2515",
   "metadata": {},
   "outputs": [],
   "source": [
    "with open(\"test1.json\", \"w\") as f :\n",
    "    json.dump(data,f)"
   ]
  },
  {
   "cell_type": "markdown",
   "id": "68bfde9b-9a61-460e-b9e9-7763509c2323",
   "metadata": {},
   "source": [
    "# in above code we have imported the json function from librabry and then with have given Open function\n",
    "# here we have given test1.json name to new fil and then imported the data from file which are in 2 line dictionary"
   ]
  },
  {
   "cell_type": "code",
   "execution_count": 7,
   "id": "5589d72f-df97-4f88-a488-616980ea92d1",
   "metadata": {},
   "outputs": [],
   "source": [
    "with open(\"test1.json\",'r') as f :\n",
    "    data1 = json.load(f)"
   ]
  },
  {
   "cell_type": "code",
   "execution_count": 8,
   "id": "f6f3a952-7430-4eb3-b7d4-5ce0afee48d4",
   "metadata": {},
   "outputs": [
    {
     "data": {
      "text/plain": [
       "{'name': 'sudh',\n",
       " 'mail_id': 'sudh@gmail.com',\n",
       " 'phone_num': 98888777,\n",
       " 'subject': ['data science', 'big data', 'data analystic']}"
      ]
     },
     "execution_count": 8,
     "metadata": {},
     "output_type": "execute_result"
    }
   ],
   "source": [
    "data1"
   ]
  },
  {
   "cell_type": "code",
   "execution_count": 9,
   "id": "4290dabe-f3de-4041-835b-03cba62af99a",
   "metadata": {},
   "outputs": [
    {
     "data": {
      "text/plain": [
       "'big data'"
      ]
     },
     "execution_count": 9,
     "metadata": {},
     "output_type": "execute_result"
    }
   ],
   "source": [
    "# how to extract Big data from abvoe result\n",
    "\n",
    "data['subject'][1]"
   ]
  },
  {
   "cell_type": "code",
   "execution_count": 10,
   "id": "09181f67-ac4d-4aaf-8204-b861ebf11d0d",
   "metadata": {},
   "outputs": [
    {
     "data": {
      "text/plain": [
       "'sudh@gmail.com'"
      ]
     },
     "execution_count": 10,
     "metadata": {},
     "output_type": "execute_result"
    }
   ],
   "source": [
    "data['mail_id']"
   ]
  },
  {
   "cell_type": "code",
   "execution_count": 11,
   "id": "77c0bdb3-f703-43a8-9c6e-038f66283461",
   "metadata": {},
   "outputs": [],
   "source": [
    "# how to extract list from list\n",
    "data = [[\"name\",\"email_id\",\"number\"],\n",
    "        [\"sudh\",\"sudh@gmail.com\", 9999999],\n",
    "        [\"krish\",\"krish@gmail.com\", 88888]\n",
    "       ]\n"
   ]
  },
  {
   "cell_type": "code",
   "execution_count": 12,
   "id": "f37530c9-1e60-4745-b49f-1aae41842dc8",
   "metadata": {},
   "outputs": [],
   "source": [
    "import csv"
   ]
  },
  {
   "cell_type": "code",
   "execution_count": 15,
   "id": "289bb133-8e8f-4054-99c8-988e35ae8c1d",
   "metadata": {},
   "outputs": [],
   "source": [
    "with open(\"test3.csv\",'w') as f :    # its create table withthe abvoe data\n",
    "    w = csv.writer(f)\n",
    "    for i in data:\n",
    "        w.writerow(i)"
   ]
  },
  {
   "cell_type": "code",
   "execution_count": 17,
   "id": "d949bfd2-141b-4184-9cd5-797201954d34",
   "metadata": {},
   "outputs": [
    {
     "name": "stdout",
     "output_type": "stream",
     "text": [
      "['name', 'email_id', 'number']\n",
      "['sudh', 'sudh@gmail.com', '9999999']\n",
      "['krish', 'krish@gmail.com', '88888']\n"
     ]
    }
   ],
   "source": [
    "# how to read operation with file\n",
    "\n",
    "with open(\"test3.csv\", 'r')as f :\n",
    "    read = csv.reader(f)\n",
    "    for i in read:\n",
    "        print(i)"
   ]
  },
  {
   "cell_type": "markdown",
   "id": "186006ea-f74a-4e64-936d-2059104b2ad0",
   "metadata": {},
   "source": [
    "## iF you want to read Binary kind of Data ##"
   ]
  },
  {
   "cell_type": "code",
   "execution_count": 20,
   "id": "8d59f3c6-f28b-4ea6-bddf-56d60a1edc98",
   "metadata": {},
   "outputs": [],
   "source": [
    "with open(\"test4.bin\",'wb')  as f :    # wb = write binary\n",
    "    f.write(b\"\\x01\\x02\\x03\")"
   ]
  },
  {
   "cell_type": "code",
   "execution_count": 22,
   "id": "7c01d89f-66f4-4bc6-b8ea-4aed41c8af89",
   "metadata": {},
   "outputs": [
    {
     "name": "stdout",
     "output_type": "stream",
     "text": [
      "b'\\x01\\x02\\x03'\n"
     ]
    }
   ],
   "source": [
    "with open(\"test4.bin\",'rb') as f :\n",
    "    print(f.read())"
   ]
  },
  {
   "cell_type": "code",
   "execution_count": null,
   "id": "9deece1a-d176-4a9e-8bf3-619f2dc348d0",
   "metadata": {},
   "outputs": [],
   "source": []
  }
 ],
 "metadata": {
  "kernelspec": {
   "display_name": "Python 3 (ipykernel)",
   "language": "python",
   "name": "python3"
  },
  "language_info": {
   "codemirror_mode": {
    "name": "ipython",
    "version": 3
   },
   "file_extension": ".py",
   "mimetype": "text/x-python",
   "name": "python",
   "nbconvert_exporter": "python",
   "pygments_lexer": "ipython3",
   "version": "3.10.8"
  }
 },
 "nbformat": 4,
 "nbformat_minor": 5
}
