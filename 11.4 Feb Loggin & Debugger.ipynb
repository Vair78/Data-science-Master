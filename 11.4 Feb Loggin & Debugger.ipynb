{
 "cells": [
  {
   "cell_type": "code",
   "execution_count": 1,
   "id": "4aa112fc-569c-432c-86f9-53965d77ebdf",
   "metadata": {},
   "outputs": [
    {
     "name": "stdout",
     "output_type": "stream",
     "text": [
      "this is my print statement\n"
     ]
    }
   ],
   "source": [
    "print(\"this is my print statement\")"
   ]
  },
  {
   "cell_type": "code",
   "execution_count": 2,
   "id": "0886d538-2b8b-4996-acff-f4dcd186869f",
   "metadata": {},
   "outputs": [],
   "source": [
    "import logging"
   ]
  },
  {
   "cell_type": "code",
   "execution_count": 3,
   "id": "55ee4df6-6516-4c7b-b024-70d0b098a254",
   "metadata": {},
   "outputs": [],
   "source": [
    "logging.basicConfig(filename = \"test10.log\", level = logging.INFO)"
   ]
  },
  {
   "cell_type": "code",
   "execution_count": 4,
   "id": "ec7478be-06ce-464a-b40d-b7e2ec83a96b",
   "metadata": {},
   "outputs": [],
   "source": [
    "logging.info(\"this is my line of execution\")"
   ]
  },
  {
   "cell_type": "code",
   "execution_count": 5,
   "id": "495bfecf-20ad-45dd-a72f-57f53348a693",
   "metadata": {},
   "outputs": [],
   "source": [
    "logging.error(\"this is my error\")"
   ]
  },
  {
   "cell_type": "code",
   "execution_count": 6,
   "id": "860e6eba-7e22-456d-ba08-325233b221e9",
   "metadata": {},
   "outputs": [],
   "source": [
    "logging.critical(\"this is my critical\")"
   ]
  },
  {
   "cell_type": "code",
   "execution_count": 7,
   "id": "d9272d75-e0aa-4aa8-a182-7ce662d9fb02",
   "metadata": {},
   "outputs": [],
   "source": [
    "logging.warning(\"this is my warning\")"
   ]
  },
  {
   "cell_type": "code",
   "execution_count": 8,
   "id": "2b528514-850a-4175-9938-f31d46036997",
   "metadata": {},
   "outputs": [],
   "source": [
    "logging.debug(\"this is my info debug loging\")"
   ]
  },
  {
   "cell_type": "code",
   "execution_count": 9,
   "id": "d7216610-ee27-4b14-95ff-54857ca2e1ec",
   "metadata": {},
   "outputs": [
    {
     "ename": "AttributeError",
     "evalue": "module 'logging' has no attribute 'noset'",
     "output_type": "error",
     "traceback": [
      "\u001b[0;31m---------------------------------------------------------------------------\u001b[0m",
      "\u001b[0;31mAttributeError\u001b[0m                            Traceback (most recent call last)",
      "Cell \u001b[0;32mIn[9], line 1\u001b[0m\n\u001b[0;32m----> 1\u001b[0m \u001b[43mlogging\u001b[49m\u001b[38;5;241;43m.\u001b[39;49m\u001b[43mnoset\u001b[49m(\u001b[38;5;124m\"\u001b[39m\u001b[38;5;124mthis is my noset realted log\u001b[39m\u001b[38;5;124m\"\u001b[39m)\n",
      "\u001b[0;31mAttributeError\u001b[0m: module 'logging' has no attribute 'noset'"
     ]
    }
   ],
   "source": [
    "logging.noset(\"this is my noset realted log\")"
   ]
  },
  {
   "cell_type": "code",
   "execution_count": 9,
   "id": "46546e12-13f3-4bec-a568-3f10d70d02f4",
   "metadata": {},
   "outputs": [],
   "source": [
    "# Hirecal Key"
   ]
  },
  {
   "cell_type": "markdown",
   "id": "96119aad-5b17-4a2f-8751-1f33644841d8",
   "metadata": {},
   "source": [
    "1. NOSET\n",
    "2. DEBUG\n",
    "3. INFO\n",
    "4. WARNING\n",
    "5. ERROR\n",
    "6. CRITICAL"
   ]
  },
  {
   "cell_type": "code",
   "execution_count": 10,
   "id": "174fdcad-2dd0-4686-a956-b8f837e6db43",
   "metadata": {},
   "outputs": [],
   "source": [
    "# To stopping into loggin as below\n",
    "\n",
    "logging.shutdown()"
   ]
  },
  {
   "cell_type": "code",
   "execution_count": 11,
   "id": "01d166d0-36ad-496a-8c9c-d40a375577a9",
   "metadata": {},
   "outputs": [],
   "source": [
    "logging.basicConfig(filename = \"test11.log\" , level = logging.DEBUG ,format = '%(asctime)s %(message)s')"
   ]
  },
  {
   "cell_type": "code",
   "execution_count": 12,
   "id": "86ac8b90-4ad9-4042-9e04-4e0f9b999c58",
   "metadata": {},
   "outputs": [],
   "source": [
    "logging.info(\"this is my info log\")"
   ]
  },
  {
   "cell_type": "code",
   "execution_count": 13,
   "id": "33af0595-b716-49a5-87ee-8ef10c47cfe2",
   "metadata": {},
   "outputs": [],
   "source": [
    "logging.debug(\"this is my debug log\")"
   ]
  },
  {
   "cell_type": "code",
   "execution_count": 14,
   "id": "a0d570e2-c2e8-4dbd-8659-82c2f84a8406",
   "metadata": {},
   "outputs": [],
   "source": [
    "logging.warning(\"this is my warning log\")"
   ]
  },
  {
   "cell_type": "code",
   "execution_count": 15,
   "id": "5201d5cb-432e-4326-ad63-79176a9678e2",
   "metadata": {},
   "outputs": [],
   "source": [
    "logging.shutdown()"
   ]
  },
  {
   "cell_type": "code",
   "execution_count": 16,
   "id": "b168f3ba-8c7e-4886-8d6e-fc562deeb393",
   "metadata": {},
   "outputs": [],
   "source": [
    "logging.basicConfig(filename = \"test12.log\", level = logging.DEBUG, format = '%(asctime)s %(name)s %(levelname)s')"
   ]
  },
  {
   "cell_type": "code",
   "execution_count": 17,
   "id": "7eaaa100-6d71-4214-a402-8953be3ed6ee",
   "metadata": {},
   "outputs": [],
   "source": [
    "logging.info(\"this is my info log\")"
   ]
  },
  {
   "cell_type": "code",
   "execution_count": 18,
   "id": "fbe18b58-91aa-4b49-8d8f-2dd6a8259d86",
   "metadata": {},
   "outputs": [],
   "source": [
    "l = [1,2,3,4,[4,5,6], \"sudh\", \"krish\"]"
   ]
  },
  {
   "cell_type": "code",
   "execution_count": 29,
   "id": "065fc0c7-78fa-4022-be3f-96dff5510268",
   "metadata": {},
   "outputs": [],
   "source": [
    "l1_int = []\n",
    "l2_str = []\n",
    "for i in l :\n",
    "    logging.info(\"This is the start of my first for loop {}\".format(l))\n",
    "    logging.info(\"This is the value of i am logging {}\".format(i))\n",
    "    if type(i) == list:\n",
    "        for j in i :\n",
    "            logging.info(\"logging my j{j} and i is {i}\".format(i =i, j=j))\n",
    "            if type(j) == int:\n",
    "                l1_int.append(j)\n",
    "    elif type(i) == int:\n",
    "        l1_int.append(i)\n",
    "        \n",
    "    else :\n",
    "        if type(i) == str:\n",
    "            l2_str.append(i)\n",
    "logging.info(\"this is my final result with all int{l1}, with all str{l2}\".format(l1 = l1_int, l2 = l2_str ))"
   ]
  },
  {
   "cell_type": "code",
   "execution_count": 20,
   "id": "71e0cedb-2af3-408d-8376-31e48a56e0dd",
   "metadata": {},
   "outputs": [
    {
     "data": {
      "text/plain": [
       "[1, 2, 3, 4, 4, 5, 6]"
      ]
     },
     "execution_count": 20,
     "metadata": {},
     "output_type": "execute_result"
    }
   ],
   "source": [
    "l1_int"
   ]
  },
  {
   "cell_type": "code",
   "execution_count": 21,
   "id": "7f7e4783-d02e-4322-bf2c-e81a76aae5d6",
   "metadata": {},
   "outputs": [
    {
     "data": {
      "text/plain": [
       "['sudh', 'krish']"
      ]
     },
     "execution_count": 21,
     "metadata": {},
     "output_type": "execute_result"
    }
   ],
   "source": [
    "l2_str"
   ]
  },
  {
   "cell_type": "code",
   "execution_count": null,
   "id": "8900abf8-436b-4ce7-a7cc-83c745d50620",
   "metadata": {},
   "outputs": [],
   "source": []
  }
 ],
 "metadata": {
  "kernelspec": {
   "display_name": "Python 3 (ipykernel)",
   "language": "python",
   "name": "python3"
  },
  "language_info": {
   "codemirror_mode": {
    "name": "ipython",
    "version": 3
   },
   "file_extension": ".py",
   "mimetype": "text/x-python",
   "name": "python",
   "nbconvert_exporter": "python",
   "pygments_lexer": "ipython3",
   "version": "3.10.8"
  }
 },
 "nbformat": 4,
 "nbformat_minor": 5
}
