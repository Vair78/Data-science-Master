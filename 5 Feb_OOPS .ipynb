{
 "cells": [
  {
   "cell_type": "markdown",
   "id": "0752db7f-da95-44a8-bcd2-1606c3300cce",
   "metadata": {},
   "source": [
    "### Oops stands for Object-Oriented Programming System"
   ]
  },
  {
   "cell_type": "code",
   "execution_count": 2,
   "id": "570dfaa9-5f04-4e1c-9f33-b99a8e660ab8",
   "metadata": {},
   "outputs": [],
   "source": [
    "a =1"
   ]
  },
  {
   "cell_type": "code",
   "execution_count": 3,
   "id": "7745ca06-fd92-45e1-b548-1461274fccb7",
   "metadata": {},
   "outputs": [
    {
     "name": "stdout",
     "output_type": "stream",
     "text": [
      "<class 'int'>\n"
     ]
    }
   ],
   "source": [
    "print(type(a))"
   ]
  },
  {
   "cell_type": "code",
   "execution_count": 4,
   "id": "47617867-014b-4314-b759-23f8ae1e2c7e",
   "metadata": {},
   "outputs": [
    {
     "name": "stdout",
     "output_type": "stream",
     "text": [
      "<class 'str'>\n"
     ]
    }
   ],
   "source": [
    "print(type(\"Pwskills\"))"
   ]
  },
  {
   "cell_type": "code",
   "execution_count": 7,
   "id": "0431408d-3e96-4f22-ae35-f19f58a7a189",
   "metadata": {},
   "outputs": [],
   "source": [
    "class test:   # we didnt define anything but bcz of Pass this will run\n",
    "    pass"
   ]
  },
  {
   "cell_type": "code",
   "execution_count": 8,
   "id": "3cbddee3-5063-4af2-8438-66843e11ef55",
   "metadata": {},
   "outputs": [],
   "source": [
    " A = test()   # here A is called Object of class real word object"
   ]
  },
  {
   "cell_type": "code",
   "execution_count": 10,
   "id": "109ca10e-c0cf-4441-9a65-524ba9d42f50",
   "metadata": {},
   "outputs": [
    {
     "name": "stdout",
     "output_type": "stream",
     "text": [
      "<class '__main__.test'>\n"
     ]
    }
   ],
   "source": [
    "print(type(A))"
   ]
  },
  {
   "cell_type": "code",
   "execution_count": 6,
   "id": "5a1b2042-0e2e-4e0a-9572-a9ff7eb8fe41",
   "metadata": {},
   "outputs": [],
   "source": [
    "class pwskills:\n",
    "    \n",
    "    def welcome_msg():\n",
    "        print(\"welcome to pwskills\")\n",
    "        "
   ]
  },
  {
   "cell_type": "code",
   "execution_count": 7,
   "id": "b838f2ff-3439-4606-b115-0fb00bc68ffd",
   "metadata": {},
   "outputs": [],
   "source": [
    "rohan = pwskills()"
   ]
  },
  {
   "cell_type": "code",
   "execution_count": 8,
   "id": "1b193cf1-0b47-46da-ae12-fa8831ca5395",
   "metadata": {},
   "outputs": [
    {
     "ename": "TypeError",
     "evalue": "pwskills.welcome_msg() takes 0 positional arguments but 1 was given",
     "output_type": "error",
     "traceback": [
      "\u001b[0;31m---------------------------------------------------------------------------\u001b[0m",
      "\u001b[0;31mTypeError\u001b[0m                                 Traceback (most recent call last)",
      "Cell \u001b[0;32mIn[8], line 1\u001b[0m\n\u001b[0;32m----> 1\u001b[0m \u001b[43mrohan\u001b[49m\u001b[38;5;241;43m.\u001b[39;49m\u001b[43mwelcome_msg\u001b[49m\u001b[43m(\u001b[49m\u001b[43m)\u001b[49m\n",
      "\u001b[0;31mTypeError\u001b[0m: pwskills.welcome_msg() takes 0 positional arguments but 1 was given"
     ]
    }
   ],
   "source": [
    "rohan.welcome_msg()  # whenever you give function inside in class you need to give pointer or class variable"
   ]
  },
  {
   "cell_type": "code",
   "execution_count": 12,
   "id": "c7cae8c1-feb0-40f1-9138-8684cb0a7304",
   "metadata": {},
   "outputs": [],
   "source": [
    "class pwskills:\n",
    "    \n",
    "    def welcome_msg(self):\n",
    "        print(\"welcome to pwskills\")\n"
   ]
  },
  {
   "cell_type": "code",
   "execution_count": 14,
   "id": "f4fe8aea-580b-4be0-9e34-eafd16aa6572",
   "metadata": {},
   "outputs": [],
   "source": [
    "rohan = pwskills()"
   ]
  },
  {
   "cell_type": "code",
   "execution_count": 15,
   "id": "69fc3966-9db7-49bd-877d-9e22b2be9b8a",
   "metadata": {},
   "outputs": [
    {
     "name": "stdout",
     "output_type": "stream",
     "text": [
      "welcome to pwskills\n"
     ]
    }
   ],
   "source": [
    "rohan.welcome_msg()"
   ]
  },
  {
   "cell_type": "code",
   "execution_count": 16,
   "id": "e5956141-bfc8-4f12-b196-30193e265fc0",
   "metadata": {},
   "outputs": [],
   "source": [
    "sohan = pwskills()"
   ]
  },
  {
   "cell_type": "code",
   "execution_count": 17,
   "id": "6562803b-c696-4e81-9845-9ebcc21d8d97",
   "metadata": {},
   "outputs": [
    {
     "name": "stdout",
     "output_type": "stream",
     "text": [
      "welcome to pwskills\n"
     ]
    }
   ],
   "source": [
    "sohan.welcome_msg()"
   ]
  },
  {
   "cell_type": "code",
   "execution_count": 18,
   "id": "3adc095f-a626-47e0-9d85-2bd9dfe3085c",
   "metadata": {},
   "outputs": [],
   "source": [
    "a = 1"
   ]
  },
  {
   "cell_type": "code",
   "execution_count": 19,
   "id": "1a4e58c1-2a22-46a8-8b6d-cb226ba0139c",
   "metadata": {},
   "outputs": [],
   "source": [
    "b = 2"
   ]
  },
  {
   "cell_type": "code",
   "execution_count": 20,
   "id": "263e4f30-eaa3-47a9-b2cd-e35ec37a44fc",
   "metadata": {},
   "outputs": [
    {
     "data": {
      "text/plain": [
       "1"
      ]
     },
     "execution_count": 20,
     "metadata": {},
     "output_type": "execute_result"
    }
   ],
   "source": [
    "a"
   ]
  },
  {
   "cell_type": "code",
   "execution_count": 21,
   "id": "0744dfa4-6b04-4d99-89b8-7a0f9a7b3aee",
   "metadata": {},
   "outputs": [
    {
     "data": {
      "text/plain": [
       "2"
      ]
     },
     "execution_count": 21,
     "metadata": {},
     "output_type": "execute_result"
    }
   ],
   "source": [
    "b"
   ]
  },
  {
   "cell_type": "code",
   "execution_count": 22,
   "id": "b4396ba0-781a-438d-ba50-56d3313a13bf",
   "metadata": {},
   "outputs": [],
   "source": [
    "# Constucter "
   ]
  },
  {
   "cell_type": "code",
   "execution_count": 44,
   "id": "04da8fc2-c92a-4921-9c1b-b068b25ea6ca",
   "metadata": {},
   "outputs": [],
   "source": [
    "# here self is pointer\n",
    "\n",
    "class pwskillsl:\n",
    "    \n",
    "    def __init__(self, phone_number, email_id, student_id ):\n",
    "        \n",
    "        self.phone_number = phone_number\n",
    "        self.email_id = email_id\n",
    "        self.student_id = student_id\n",
    "        \n",
    "        \n",
    "    def return_student_detials(self):\n",
    "        return self.phone_number, self.email_id, self.student_id\n",
    "    \n",
    "    "
   ]
  },
  {
   "cell_type": "code",
   "execution_count": 47,
   "id": "9f7f20cb-7ccf-4fba-a337-140f80f87f3f",
   "metadata": {},
   "outputs": [
    {
     "ename": "TypeError",
     "evalue": "pwskillsl.__init__() missing 3 required positional arguments: 'phone_number', 'email_id', and 'student_id'",
     "output_type": "error",
     "traceback": [
      "\u001b[0;31m---------------------------------------------------------------------------\u001b[0m",
      "\u001b[0;31mTypeError\u001b[0m                                 Traceback (most recent call last)",
      "Cell \u001b[0;32mIn[47], line 1\u001b[0m\n\u001b[0;32m----> 1\u001b[0m rohan \u001b[38;5;241m=\u001b[39m \u001b[43mpwskillsl\u001b[49m\u001b[43m(\u001b[49m\u001b[43m)\u001b[49m  \u001b[38;5;66;03m# missing 3 required positional arguments: 'phone_number', 'email_id', and 'student_id'\u001b[39;00m\n",
      "\u001b[0;31mTypeError\u001b[0m: pwskillsl.__init__() missing 3 required positional arguments: 'phone_number', 'email_id', and 'student_id'"
     ]
    }
   ],
   "source": [
    "rohan = pwskillsl()  # missing 3 required positional arguments: 'phone_number', 'email_id', and 'student_id'"
   ]
  },
  {
   "cell_type": "code",
   "execution_count": 48,
   "id": "0b56945b-2eb3-4bcf-af63-31fc3c86206b",
   "metadata": {},
   "outputs": [],
   "source": [
    "rohan = pwskillsl(959595959,\"rohan@gmail.com\",100)"
   ]
  },
  {
   "cell_type": "code",
   "execution_count": 49,
   "id": "7766da5f-a8c3-4369-ae0e-75e35f3a5222",
   "metadata": {},
   "outputs": [
    {
     "data": {
      "text/plain": [
       "959595959"
      ]
     },
     "execution_count": 49,
     "metadata": {},
     "output_type": "execute_result"
    }
   ],
   "source": [
    "rohan.phone_number"
   ]
  },
  {
   "cell_type": "code",
   "execution_count": 50,
   "id": "6347a8fd-9e78-4fbb-ba33-6b5367f47860",
   "metadata": {},
   "outputs": [
    {
     "data": {
      "text/plain": [
       "'rohan@gmail.com'"
      ]
     },
     "execution_count": 50,
     "metadata": {},
     "output_type": "execute_result"
    }
   ],
   "source": [
    "rohan.email_id"
   ]
  },
  {
   "cell_type": "code",
   "execution_count": 51,
   "id": "20187964-8d92-4a8d-849b-51bd91bfa722",
   "metadata": {},
   "outputs": [
    {
     "data": {
      "text/plain": [
       "100"
      ]
     },
     "execution_count": 51,
     "metadata": {},
     "output_type": "execute_result"
    }
   ],
   "source": [
    "rohan.student_id"
   ]
  },
  {
   "cell_type": "code",
   "execution_count": 53,
   "id": "39ab6487-8143-479d-99ca-d57fbe2cb20c",
   "metadata": {},
   "outputs": [
    {
     "data": {
      "text/plain": [
       "(959595959, 'rohan@gmail.com', 100)"
      ]
     },
     "execution_count": 53,
     "metadata": {},
     "output_type": "execute_result"
    }
   ],
   "source": [
    "rohan.return_student_detials()"
   ]
  },
  {
   "cell_type": "code",
   "execution_count": 55,
   "id": "688d8b72-37c4-45e7-9aa9-ea454560a8da",
   "metadata": {},
   "outputs": [],
   "source": [
    "sohan = pwskillsl (88888888,\"sohan@gmail.com\",200)"
   ]
  },
  {
   "cell_type": "code",
   "execution_count": 56,
   "id": "7f1c6a62-c993-4c28-92e5-8b53d9002fb8",
   "metadata": {},
   "outputs": [
    {
     "data": {
      "text/plain": [
       "200"
      ]
     },
     "execution_count": 56,
     "metadata": {},
     "output_type": "execute_result"
    }
   ],
   "source": [
    "sohan.student_id"
   ]
  },
  {
   "cell_type": "code",
   "execution_count": 58,
   "id": "31f49608-9d48-4702-bd6f-cb5d521636ec",
   "metadata": {},
   "outputs": [
    {
     "data": {
      "text/plain": [
       "'sohan@gmail.com'"
      ]
     },
     "execution_count": 58,
     "metadata": {},
     "output_type": "execute_result"
    }
   ],
   "source": [
    "sohan.email_id"
   ]
  },
  {
   "cell_type": "code",
   "execution_count": 59,
   "id": "c4847340-5395-4aad-b967-1265ff31c865",
   "metadata": {},
   "outputs": [
    {
     "data": {
      "text/plain": [
       "(88888888, 'sohan@gmail.com', 200)"
      ]
     },
     "execution_count": 59,
     "metadata": {},
     "output_type": "execute_result"
    }
   ],
   "source": [
    "sohan.return_student_detials()"
   ]
  },
  {
   "cell_type": "code",
   "execution_count": 64,
   "id": "12c16ab0-86cb-4ad0-80f7-995d5a52dfa4",
   "metadata": {},
   "outputs": [],
   "source": [
    "##> you we did not used SELF pointer still we are getting Correct Output"
   ]
  },
  {
   "cell_type": "code",
   "execution_count": 67,
   "id": "fe314caa-b9c2-46c5-982c-762a0461f8b8",
   "metadata": {},
   "outputs": [],
   "source": [
    "\n",
    "class pwskills2:\n",
    "    \n",
    "    def __init__(sudh, phone_number, email_id, student_id ):\n",
    "        \n",
    "        sudh.phone_number = phone_number\n",
    "        sudh.email_id = email_id\n",
    "        sudh.student_id = student_id\n",
    "        \n",
    "        \n",
    "    def return_student_detials(sudh):\n",
    "        return sudh.phone_number, sudh.email_id, sudh.student_id"
   ]
  },
  {
   "cell_type": "code",
   "execution_count": 69,
   "id": "1f179ab6-b2e3-49e8-83ac-8ca4333eeec8",
   "metadata": {},
   "outputs": [],
   "source": [
    "mohan = pwskills2(7777777,\"mohan@gmail.com\",300)"
   ]
  },
  {
   "cell_type": "code",
   "execution_count": 70,
   "id": "877a3a3a-9383-4f6c-934d-9f9ee4bb0f19",
   "metadata": {},
   "outputs": [
    {
     "data": {
      "text/plain": [
       "7777777"
      ]
     },
     "execution_count": 70,
     "metadata": {},
     "output_type": "execute_result"
    }
   ],
   "source": [
    "mohan.phone_number"
   ]
  },
  {
   "cell_type": "code",
   "execution_count": 71,
   "id": "9df4ae7a-0ccb-4b98-b6a4-19a40d8b0c17",
   "metadata": {},
   "outputs": [
    {
     "data": {
      "text/plain": [
       "(7777777, 'mohan@gmail.com', 300)"
      ]
     },
     "execution_count": 71,
     "metadata": {},
     "output_type": "execute_result"
    }
   ],
   "source": [
    "mohan.return_student_detials()"
   ]
  },
  {
   "cell_type": "code",
   "execution_count": 72,
   "id": "db67dd53-72e4-495f-b8e8-7732f11bb95d",
   "metadata": {},
   "outputs": [],
   "source": [
    "\n",
    "class pwskills3:\n",
    "    \n",
    "    def __init__(sudh, phone_number, email_id, student_id ):\n",
    "        \n",
    "        sudh.phone_number = phone_number\n",
    "        sudh.email_id = email_id\n",
    "        sudh.student_id = student_id\n",
    "        \n",
    "        \n",
    "    def return_student_detials(sudh):\n",
    "        return sudh.phone_number, sudh.email_id, sudh.student_id"
   ]
  },
  {
   "cell_type": "code",
   "execution_count": 74,
   "id": "bb53f0fe-11cf-49aa-ac08-1a22b4fa6aac",
   "metadata": {},
   "outputs": [],
   "source": [
    "rohan = pwskills3(555555,\"rohan@gmail.com\",222)"
   ]
  },
  {
   "cell_type": "code",
   "execution_count": null,
   "id": "16c4b8af-9299-495c-b7fd-c8fc14acbf70",
   "metadata": {},
   "outputs": [],
   "source": [
    "## sudh.phone_number = its class variable"
   ]
  }
 ],
 "metadata": {
  "kernelspec": {
   "display_name": "Python 3 (ipykernel)",
   "language": "python",
   "name": "python3"
  },
  "language_info": {
   "codemirror_mode": {
    "name": "ipython",
    "version": 3
   },
   "file_extension": ".py",
   "mimetype": "text/x-python",
   "name": "python",
   "nbconvert_exporter": "python",
   "pygments_lexer": "ipython3",
   "version": "3.10.8"
  }
 },
 "nbformat": 4,
 "nbformat_minor": 5
}
