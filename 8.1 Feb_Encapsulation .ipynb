{
 "cells": [
  {
   "cell_type": "markdown",
   "id": "05217226-17e2-44fd-9b1a-e07ab2d20369",
   "metadata": {},
   "source": [
    "###Encapsulation is one of the key concepts of object-oriented languages like Python, Java, etc. Encapsulation is used to restrict access to methods and variables. In encapsulation, code and data are wrapped together within a single unit from being modified by accident."
   ]
  },
  {
   "cell_type": "code",
   "execution_count": 2,
   "id": "43712697-081c-42b0-8da7-f4fe44c32eac",
   "metadata": {},
   "outputs": [],
   "source": [
    "class test :\n",
    "    def __init__(self, a,b):\n",
    "        self.a= a\n",
    "        self.b= b"
   ]
  },
  {
   "cell_type": "code",
   "execution_count": 3,
   "id": "480325fb-dd66-4426-85d8-3db186b0c784",
   "metadata": {},
   "outputs": [],
   "source": [
    "t = test(45,56)"
   ]
  },
  {
   "cell_type": "code",
   "execution_count": 4,
   "id": "18f3d460-8625-44cd-83c7-546aaf895277",
   "metadata": {},
   "outputs": [
    {
     "data": {
      "text/plain": [
       "45"
      ]
     },
     "execution_count": 4,
     "metadata": {},
     "output_type": "execute_result"
    }
   ],
   "source": [
    "t.a"
   ]
  },
  {
   "cell_type": "code",
   "execution_count": 6,
   "id": "7cf771c7-afbc-43fe-a4fd-eba170a65b3c",
   "metadata": {},
   "outputs": [
    {
     "data": {
      "text/plain": [
       "56"
      ]
     },
     "execution_count": 6,
     "metadata": {},
     "output_type": "execute_result"
    }
   ],
   "source": [
    "t.b      # object.variabl"
   ]
  },
  {
   "cell_type": "code",
   "execution_count": 8,
   "id": "ed38c2d6-c78a-48cf-88c7-c6ff90c94f22",
   "metadata": {},
   "outputs": [],
   "source": [
    "t.a = 3243     # you can assign new value to object"
   ]
  },
  {
   "cell_type": "code",
   "execution_count": 9,
   "id": "6237be8f-a118-4910-aa99-1e5ecbd74ba3",
   "metadata": {},
   "outputs": [
    {
     "data": {
      "text/plain": [
       "3243"
      ]
     },
     "execution_count": 9,
     "metadata": {},
     "output_type": "execute_result"
    }
   ],
   "source": [
    "t.a  # here you can get direct access of data "
   ]
  },
  {
   "cell_type": "code",
   "execution_count": 10,
   "id": "d456f1ff-6bfa-429f-bdca-cc1199106c02",
   "metadata": {},
   "outputs": [],
   "source": [
    "## Encapsulation is Idea which allow to prevent to direct access in data in OOPS\n",
    "## you can make private this using __ two time underscore(__)"
   ]
  },
  {
   "cell_type": "code",
   "execution_count": 35,
   "id": "2185fb3b-ca33-46ab-ac30-b4f2b79fa726",
   "metadata": {},
   "outputs": [],
   "source": [
    "class car:\n",
    "    \n",
    "    def __init__(self , year , make , model , speed ):\n",
    "        self.__year = year\n",
    "        self.__make = make\n",
    "        self.__model = model\n",
    "        self.__speed = 0"
   ]
  },
  {
   "cell_type": "code",
   "execution_count": 37,
   "id": "5fce1c12-4ba4-4053-9813-4274879abe9a",
   "metadata": {},
   "outputs": [],
   "source": [
    "obj_car = car (2021, \"toyota\", \"innova\", 120)"
   ]
  },
  {
   "cell_type": "code",
   "execution_count": 39,
   "id": "249de111-4ec0-44de-b82e-dbfd97d0666a",
   "metadata": {},
   "outputs": [],
   "source": [
    "obj_car._car__year = 2023    # you can update the values like this"
   ]
  },
  {
   "cell_type": "code",
   "execution_count": 40,
   "id": "b06e521a-7740-4323-b7d3-0d59426f9406",
   "metadata": {},
   "outputs": [
    {
     "data": {
      "text/plain": [
       "2023"
      ]
     },
     "execution_count": 40,
     "metadata": {},
     "output_type": "execute_result"
    }
   ],
   "source": [
    "obj_car._car__year "
   ]
  },
  {
   "cell_type": "code",
   "execution_count": 57,
   "id": "11356f4a-9f8b-4fb8-9548-e35559286fc4",
   "metadata": {},
   "outputs": [],
   "source": [
    "## if you want to make some public function then like this\n",
    "\n",
    "class car:\n",
    "    \n",
    "    def __init__(self , year , make , model , speed ) :\n",
    "        self.__year = year\n",
    "        self.__make = make\n",
    "        self.__model = model\n",
    "        self.__speed = 0\n",
    "        \n",
    "    def set_speed(self , speed) :\n",
    "        self.__speed = 0 if speed < 0 else speed "
   ]
  },
  {
   "cell_type": "code",
   "execution_count": 58,
   "id": "944c787a-ff4f-4414-817a-3bfb321e7656",
   "metadata": {},
   "outputs": [
    {
     "ename": "AttributeError",
     "evalue": "'car' object has no attribute 'set_speed'",
     "output_type": "error",
     "traceback": [
      "\u001b[0;31m---------------------------------------------------------------------------\u001b[0m",
      "\u001b[0;31mAttributeError\u001b[0m                            Traceback (most recent call last)",
      "Cell \u001b[0;32mIn[58], line 1\u001b[0m\n\u001b[0;32m----> 1\u001b[0m \u001b[43mobj_car\u001b[49m\u001b[38;5;241;43m.\u001b[39;49m\u001b[43mset_speed\u001b[49m (\u001b[38;5;241m123\u001b[39m)\n",
      "\u001b[0;31mAttributeError\u001b[0m: 'car' object has no attribute 'set_speed'"
     ]
    }
   ],
   "source": [
    "obj_car.set_speed (123)"
   ]
  },
  {
   "cell_type": "markdown",
   "id": "dfbbfa90-6f1d-4f39-9b71-714eb4bf7bad",
   "metadata": {},
   "source": [
    "## above code giving error try to reslove and the leanr about this function"
   ]
  },
  {
   "cell_type": "code",
   "execution_count": 62,
   "id": "5203e48a-a6f1-455e-867b-4a6eb914ccfb",
   "metadata": {},
   "outputs": [],
   "source": [
    "class car:\n",
    "    \n",
    "    def __init__(self , year , make , model , speed ):\n",
    "        self.__year = year\n",
    "        self.__make = make\n",
    "        self.__model = model\n",
    "        self.__speed = 0\n",
    "        \n",
    "    def set_speed(self, speed) :\n",
    "        self.__speed = 0 if speed < 0 else speed\n",
    "    \n",
    "    def get_speed(self):\n",
    "        return self._speed"
   ]
  },
  {
   "cell_type": "code",
   "execution_count": 64,
   "id": "838f39fa-aa24-4315-a658-e124d9c143cf",
   "metadata": {},
   "outputs": [
    {
     "ename": "AttributeError",
     "evalue": "'car' object has no attribute 'get_speed'",
     "output_type": "error",
     "traceback": [
      "\u001b[0;31m---------------------------------------------------------------------------\u001b[0m",
      "\u001b[0;31mAttributeError\u001b[0m                            Traceback (most recent call last)",
      "Cell \u001b[0;32mIn[64], line 1\u001b[0m\n\u001b[0;32m----> 1\u001b[0m \u001b[43mobj_car\u001b[49m\u001b[38;5;241;43m.\u001b[39;49m\u001b[43mget_speed\u001b[49m()\n",
      "\u001b[0;31mAttributeError\u001b[0m: 'car' object has no attribute 'get_speed'"
     ]
    }
   ],
   "source": [
    "obj_car.get_speed()"
   ]
  },
  {
   "cell_type": "code",
   "execution_count": null,
   "id": "c4cc837a-0cb7-4be8-8261-bd750e9b17ad",
   "metadata": {},
   "outputs": [],
   "source": []
  },
  {
   "cell_type": "code",
   "execution_count": 65,
   "id": "9a68c76f-ee65-49f1-926d-b9aff663dca3",
   "metadata": {},
   "outputs": [],
   "source": [
    "## exaample 4: \n",
    "#these are private code which only know code def __init__(self , balance ) :self.__balance = balance\n",
    "\n",
    "## others are Public to know and get the details \n",
    "\n",
    "\n"
   ]
  },
  {
   "cell_type": "code",
   "execution_count": 76,
   "id": "66052882-39f9-4262-8e31-b14c69c18a3c",
   "metadata": {},
   "outputs": [],
   "source": [
    "class bank_account:\n",
    "    \n",
    "    def __init__(self , balance ) :\n",
    "        self.__balance = balance         #above and this line is private form user\n",
    "        \n",
    "    def deposit(self, amount) :\n",
    "        self.__balance = self.__balance + amount\n",
    "        \n",
    "    def withdraw (self, amount) :\n",
    "        if self.__balance >= amount :\n",
    "            self.__balance = self.__balance - amount            \n",
    "            return True\n",
    "        else :\n",
    "            return False\n",
    "        \n",
    "    def get_balance(self) :\n",
    "        return self.__balance\n",
    "        "
   ]
  },
  {
   "cell_type": "code",
   "execution_count": 80,
   "id": "4033ec92-0a0c-494a-bea0-90577669b74d",
   "metadata": {},
   "outputs": [],
   "source": [
    "obj_bank_account = bank_account(1000)"
   ]
  },
  {
   "cell_type": "code",
   "execution_count": 81,
   "id": "89393d22-99cb-45d9-9ad0-b5fedd20a4a5",
   "metadata": {},
   "outputs": [
    {
     "data": {
      "text/plain": [
       "1000"
      ]
     },
     "execution_count": 81,
     "metadata": {},
     "output_type": "execute_result"
    }
   ],
   "source": [
    "obj_bank_account.get_balance()"
   ]
  },
  {
   "cell_type": "code",
   "execution_count": 82,
   "id": "ec4fb1d9-05c7-445c-9150-d617f4ea049a",
   "metadata": {},
   "outputs": [],
   "source": [
    "obj_bank_account.deposit(6000)"
   ]
  },
  {
   "cell_type": "code",
   "execution_count": 83,
   "id": "b4319ad3-544f-4547-8724-b7d7ff1677bd",
   "metadata": {},
   "outputs": [
    {
     "data": {
      "text/plain": [
       "7000"
      ]
     },
     "execution_count": 83,
     "metadata": {},
     "output_type": "execute_result"
    }
   ],
   "source": [
    "obj_bank_account.get_balance()"
   ]
  },
  {
   "cell_type": "code",
   "execution_count": 84,
   "id": "de31f41f-34b8-4621-bfa6-3892ceff011d",
   "metadata": {},
   "outputs": [
    {
     "data": {
      "text/plain": [
       "False"
      ]
     },
     "execution_count": 84,
     "metadata": {},
     "output_type": "execute_result"
    }
   ],
   "source": [
    "obj_bank_account.withdraw(10000)"
   ]
  },
  {
   "cell_type": "code",
   "execution_count": 85,
   "id": "c388c2f8-2f5a-49f0-9c9d-1dbcdf9442ce",
   "metadata": {},
   "outputs": [
    {
     "data": {
      "text/plain": [
       "True"
      ]
     },
     "execution_count": 85,
     "metadata": {},
     "output_type": "execute_result"
    }
   ],
   "source": [
    "obj_bank_account.withdraw(2000)"
   ]
  },
  {
   "cell_type": "code",
   "execution_count": null,
   "id": "ad17176c-1a02-44ed-9b6c-20e0a1cc7464",
   "metadata": {},
   "outputs": [],
   "source": []
  }
 ],
 "metadata": {
  "kernelspec": {
   "display_name": "Python 3 (ipykernel)",
   "language": "python",
   "name": "python3"
  },
  "language_info": {
   "codemirror_mode": {
    "name": "ipython",
    "version": 3
   },
   "file_extension": ".py",
   "mimetype": "text/x-python",
   "name": "python",
   "nbconvert_exporter": "python",
   "pygments_lexer": "ipython3",
   "version": "3.10.8"
  }
 },
 "nbformat": 4,
 "nbformat_minor": 5
}
