{
 "cells": [
  {
   "cell_type": "markdown",
   "id": "8e4ca716-a01c-444e-8283-69057c4b49e7",
   "metadata": {},
   "source": [
    "## 13.1 Best Pratice Exception Handling"
   ]
  },
  {
   "cell_type": "markdown",
   "id": "5350cb41-e7c5-4ce2-bfce-8d5aa0273751",
   "metadata": {},
   "source": [
    "1. Use Always a specific exception\n",
    "\n",
    "\n",
    "\n"
   ]
  },
  {
   "cell_type": "code",
   "execution_count": 2,
   "id": "b03cd79b-3839-4b13-80e0-58ac296da837",
   "metadata": {},
   "outputs": [
    {
     "name": "stdout",
     "output_type": "stream",
     "text": [
      "division by zero\n"
     ]
    }
   ],
   "source": [
    "# Use Always a specific exception\n",
    "# This is Super call exceptin which we dont have to use mostly\n",
    "#Example -1\n",
    "try :\n",
    "    10/0\n",
    "except Exception as e:\n",
    "    print(e)\n",
    "    \n",
    "    \n",
    "\n"
   ]
  },
  {
   "cell_type": "code",
   "execution_count": 3,
   "id": "8b4c7723-8f65-4bda-b813-cf20edf48f72",
   "metadata": {},
   "outputs": [
    {
     "name": "stdout",
     "output_type": "stream",
     "text": [
      "division by zero\n"
     ]
    }
   ],
   "source": [
    "#Example -2 Instead of above you have to specifi the Error in exception handling\n",
    "\n",
    "try:\n",
    "    10/0\n",
    "except ZeroDivisionError as e:\n",
    "    print(e)"
   ]
  },
  {
   "cell_type": "code",
   "execution_count": 5,
   "id": "df21abdf-a159-4b32-b325-6d346c13826f",
   "metadata": {},
   "outputs": [
    {
     "name": "stdout",
     "output_type": "stream",
     "text": [
      "This is my Zero division error I am handling division by zero\n"
     ]
    }
   ],
   "source": [
    "#Example -3 Print alwasy a Valid msg\n",
    "\n",
    "try :\n",
    "    10/0\n",
    "except ZeroDivisionError as e:\n",
    "    print(\"This is my Zero division error I am handling\", e)"
   ]
  },
  {
   "cell_type": "code",
   "execution_count": 6,
   "id": "ddea69ba-86f8-4a24-8f3a-bc79256cbc14",
   "metadata": {},
   "outputs": [],
   "source": [
    "#Example -4 \n",
    "# Always try to LOG  : Never use Print statement if you are using LOgging Function\n",
    "\n",
    "import logging\n",
    "logging.basicConfig(filename = \"error.log\", level = logging.ERROR)\n",
    "try :\n",
    "    10/0\n",
    "except ZeroDivisionError as e :\n",
    "    logging.error(\"This is my Zero Division error I am handling {}\".format(e))"
   ]
  },
  {
   "cell_type": "markdown",
   "id": "d0645400-a8d8-4f3c-897a-e84aa957b41d",
   "metadata": {},
   "source": [
    "4. Above Example 4 will create Error file on location and show the output ."
   ]
  },
  {
   "cell_type": "code",
   "execution_count": 8,
   "id": "929063bc-e8fe-44a3-81e3-bb2ff9826a6a",
   "metadata": {},
   "outputs": [],
   "source": [
    "#Example -5\n",
    "# Alwasy Avoid to Write a multiple Exception Handling\n",
    "\n",
    "try :\n",
    "    10/0\n",
    "except FileNotFoundError as e :\n",
    "    logging.error(\"This is my file not found {}\".fomrat(e))\n",
    "except AttributeError as e:\n",
    "    logging.error(\"this is my attribute error {}\".fomart(e))\n",
    "except ZeroDivisionError as e:\n",
    "    logging.error(\"This is my Zerodivision Error {}\".format(e))"
   ]
  },
  {
   "cell_type": "markdown",
   "id": "1a7e3863-79e0-4ab7-b1ad-e42de20364ff",
   "metadata": {},
   "source": [
    "5. We do not write the code like above because here only first exception handling will work it will not go to another.\n",
    "- Always write correct Error type and mention that only."
   ]
  },
  {
   "cell_type": "markdown",
   "id": "a7ca6417-8a83-4536-9cfb-78bf6f51ce92",
   "metadata": {},
   "source": [
    "6.\n",
    "- Alwasy Prepare a Proper documentation \n"
   ]
  },
  {
   "cell_type": "code",
   "execution_count": 9,
   "id": "06ca2109-a87b-4693-9f46-e261aab67b30",
   "metadata": {},
   "outputs": [],
   "source": [
    "# Example 7\n",
    "# CleanUp ALL the resources\n",
    "\n",
    "try :\n",
    "    with open(\"test.txt\", 'w') as f :\n",
    "        f.write(\"this is my msg to file\")\n",
    "except FileNotFoundError as e :\n",
    "    logging.error(\"this is my file not found error {}\".format(e))\n",
    "finally :                         # This is cleanup code \n",
    "    f.close()"
   ]
  },
  {
   "cell_type": "markdown",
   "id": "64c87f30-9920-4657-8c15-8ac387b8cf45",
   "metadata": {},
   "source": [
    "7. Alwasy Close all the file which have open \n",
    "- Alwasy write code with Cleanup"
   ]
  },
  {
   "cell_type": "code",
   "execution_count": null,
   "id": "6d00c6b9-6fed-4254-bb8e-b179e4d9aa77",
   "metadata": {},
   "outputs": [],
   "source": []
  }
 ],
 "metadata": {
  "kernelspec": {
   "display_name": "Python 3 (ipykernel)",
   "language": "python",
   "name": "python3"
  },
  "language_info": {
   "codemirror_mode": {
    "name": "ipython",
    "version": 3
   },
   "file_extension": ".py",
   "mimetype": "text/x-python",
   "name": "python",
   "nbconvert_exporter": "python",
   "pygments_lexer": "ipython3",
   "version": "3.10.8"
  }
 },
 "nbformat": 4,
 "nbformat_minor": 5
}
