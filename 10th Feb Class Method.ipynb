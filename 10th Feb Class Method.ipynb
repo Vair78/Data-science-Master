{
 "cells": [
  {
   "cell_type": "markdown",
   "id": "28d2265d-b66e-4f21-996e-cd2da6d9f26f",
   "metadata": {},
   "source": [
    "Class method: Used to access or modify the class state. In method implementation, if we use only class variables, then such type of methods we should declare as a class method. The class method has a cls parameter which refers to the class.\n",
    "\n",
    "# Class is decorator  which is give the Power to the fuction to perform any operation specific to the class."
   ]
  },
  {
   "cell_type": "code",
   "execution_count": 7,
   "id": "472e3a33-1b4e-4c0b-a624-4b3a5c6584fc",
   "metadata": {},
   "outputs": [],
   "source": [
    "class pwskills :\n",
    "    def __init__(self, name, email):\n",
    "        \n",
    "        self.name = name\n",
    "        self.email = email\n",
    "        \n",
    "    def student_details(self):\n",
    "        print(self.name, self.email)"
   ]
  },
  {
   "cell_type": "code",
   "execution_count": 8,
   "id": "1ee98777-fdc2-466b-af3c-7497bdd5e4f6",
   "metadata": {},
   "outputs": [],
   "source": [
    "pw = pwskills(\"sudh\", \"sudh@gmail.com\")"
   ]
  },
  {
   "cell_type": "code",
   "execution_count": 9,
   "id": "e6993a77-2b8d-4452-9413-1889ed6f3382",
   "metadata": {},
   "outputs": [
    {
     "data": {
      "text/plain": [
       "'sudh'"
      ]
     },
     "execution_count": 9,
     "metadata": {},
     "output_type": "execute_result"
    }
   ],
   "source": [
    "pw.name"
   ]
  },
  {
   "cell_type": "code",
   "execution_count": 10,
   "id": "433bdfcc-f320-43cc-b6fa-05db82a07ed5",
   "metadata": {},
   "outputs": [
    {
     "data": {
      "text/plain": [
       "'sudh@gmail.com'"
      ]
     },
     "execution_count": 10,
     "metadata": {},
     "output_type": "execute_result"
    }
   ],
   "source": [
    "pw.email"
   ]
  },
  {
   "cell_type": "code",
   "execution_count": 11,
   "id": "e1e4c9ef-f477-4025-be99-94b2f0f20e5e",
   "metadata": {},
   "outputs": [
    {
     "name": "stdout",
     "output_type": "stream",
     "text": [
      "sudh sudh@gmail.com\n"
     ]
    }
   ],
   "source": [
    "pw.student_details()"
   ]
  },
  {
   "cell_type": "code",
   "execution_count": 12,
   "id": "cd4e1d18-0003-4bfc-8110-36c2a15a3864",
   "metadata": {},
   "outputs": [],
   "source": [
    "# above in another Method using Class method : instead of self fuc used class method :OR \n",
    "#This is Alternative of INIT function \n",
    "\n",
    "class pwskills :\n",
    "    def __init__(self, name, email):\n",
    "        \n",
    "        self.name = name\n",
    "        self.email = email\n",
    "        \n",
    "    @classmethod    \n",
    "    def details(cls, name, email):\n",
    "        return cls(name, email)\n",
    "        \n",
    "    def student_details(self):\n",
    "        print(self.name, self.email)\n"
   ]
  },
  {
   "cell_type": "code",
   "execution_count": 14,
   "id": "4fd0bee0-ca1e-42a8-b2ba-66b020e9c5d1",
   "metadata": {},
   "outputs": [],
   "source": [
    "pw1 = pwskills.details(\"mohan\",\"mohan@gamial.com\")"
   ]
  },
  {
   "cell_type": "code",
   "execution_count": 15,
   "id": "ece25718-8b51-4094-b6d8-840cf753c9a1",
   "metadata": {},
   "outputs": [
    {
     "data": {
      "text/plain": [
       "'mohan'"
      ]
     },
     "execution_count": 15,
     "metadata": {},
     "output_type": "execute_result"
    }
   ],
   "source": [
    "pw1.name"
   ]
  },
  {
   "cell_type": "code",
   "execution_count": 16,
   "id": "3bb3e48b-b60a-4868-a55b-131f105c5331",
   "metadata": {},
   "outputs": [
    {
     "data": {
      "text/plain": [
       "'mohan@gamial.com'"
      ]
     },
     "execution_count": 16,
     "metadata": {},
     "output_type": "execute_result"
    }
   ],
   "source": [
    "pw1.email"
   ]
  },
  {
   "cell_type": "code",
   "execution_count": 19,
   "id": "9b38a94a-d345-45a0-96a4-d14bf083c831",
   "metadata": {},
   "outputs": [
    {
     "name": "stdout",
     "output_type": "stream",
     "text": [
      "mohan mohan@gamial.com\n"
     ]
    }
   ],
   "source": [
    "pw1.student_details()"
   ]
  },
  {
   "cell_type": "code",
   "execution_count": 27,
   "id": "b9743f88-32ef-4221-9b09-b234524620fa",
   "metadata": {},
   "outputs": [],
   "source": [
    "\n",
    "class pwskills2 :\n",
    "    \n",
    "    mobile_number = 7777777777\n",
    "    \n",
    "    def __init__(self, name, email):\n",
    "        \n",
    "        self.name = name\n",
    "        self.email = email\n",
    "        \n",
    "    @classmethod                              # class method\n",
    "    def details(cls, name1, email1):\n",
    "        return cls(name1, email1)\n",
    "        \n",
    "    def student_details(self):                 # instance method\n",
    "        print(self.name, self.email, pwskills2.mobile_number)\n"
   ]
  },
  {
   "cell_type": "code",
   "execution_count": 23,
   "id": "5e1c4d3b-fbf6-46d1-9609-5baceace3616",
   "metadata": {},
   "outputs": [
    {
     "data": {
      "text/plain": [
       "7777777777"
      ]
     },
     "execution_count": 23,
     "metadata": {},
     "output_type": "execute_result"
    }
   ],
   "source": [
    "pwskills2.mobile_number    # now we add mobile_number in last print"
   ]
  },
  {
   "cell_type": "code",
   "execution_count": 25,
   "id": "ea3d4cec-d073-4e6f-b7a8-89962272802c",
   "metadata": {},
   "outputs": [],
   "source": [
    "pw2 = pwskills2.details(\"vaibhav\", \"vaibh@gmail.com\")"
   ]
  },
  {
   "cell_type": "code",
   "execution_count": 26,
   "id": "ecaebc2f-07a7-4b80-a758-506cf3eaf856",
   "metadata": {},
   "outputs": [
    {
     "name": "stdout",
     "output_type": "stream",
     "text": [
      "vaibhav vaibh@gmail.com 7777777777\n"
     ]
    }
   ],
   "source": [
    "pw2.student_details()"
   ]
  },
  {
   "cell_type": "code",
   "execution_count": 29,
   "id": "1ea98c8e-ce6b-415e-9943-6d44ccd575b1",
   "metadata": {},
   "outputs": [],
   "source": [
    "pw2_obj = pwskills2(\"vaibhav\", \"vaibh@gmail.com\")"
   ]
  },
  {
   "cell_type": "code",
   "execution_count": 30,
   "id": "a23ce471-46e4-4397-b09e-f03f020a4793",
   "metadata": {},
   "outputs": [
    {
     "name": "stdout",
     "output_type": "stream",
     "text": [
      "vaibhav vaibh@gmail.com 7777777777\n"
     ]
    }
   ],
   "source": [
    "pw2_obj.student_details()"
   ]
  },
  {
   "cell_type": "code",
   "execution_count": 31,
   "id": "09f004cd-c627-46fe-9c32-b710406da0d8",
   "metadata": {},
   "outputs": [],
   "source": [
    "# Method 3:\n",
    "# access the mobile number and modified the number"
   ]
  },
  {
   "cell_type": "code",
   "execution_count": 32,
   "id": "99903fae-243c-49de-9aaa-8366fb5245b4",
   "metadata": {},
   "outputs": [],
   "source": [
    "class pwskills2 :\n",
    "    \n",
    "    mobile_number = 7777777777\n",
    "    \n",
    "    def __init__(self, name, email):\n",
    "        \n",
    "        self.name = name\n",
    "        self.email = email\n",
    "        \n",
    "    @classmethod\n",
    "    def change_number(cls, mobile):\n",
    "        pwskills2.mobile_number = mobile\n",
    "        \n",
    "    @classmethod                              # class method : u can change only one time\n",
    "    def details(cls, name1, email1):\n",
    "        return cls(name1, email1)\n",
    "        \n",
    "    def student_details(self):                 # instance method : U can change obj many times \n",
    "        print(self.name, self.email, pwskills2.mobile_number)\n"
   ]
  },
  {
   "cell_type": "code",
   "execution_count": 33,
   "id": "460dca87-1a79-4350-966c-a583246ebc21",
   "metadata": {},
   "outputs": [
    {
     "data": {
      "text/plain": [
       "7777777777"
      ]
     },
     "execution_count": 33,
     "metadata": {},
     "output_type": "execute_result"
    }
   ],
   "source": [
    "pwskills2.mobile_number"
   ]
  },
  {
   "cell_type": "code",
   "execution_count": 34,
   "id": "a5c78225-dc8c-4393-ae73-8aedabf89b2c",
   "metadata": {},
   "outputs": [],
   "source": [
    "pwskills2.change_number(8888855555)"
   ]
  },
  {
   "cell_type": "code",
   "execution_count": 35,
   "id": "5e3337c8-b5ce-4ab0-87d6-afd7ed8d8d4e",
   "metadata": {},
   "outputs": [
    {
     "data": {
      "text/plain": [
       "8888855555"
      ]
     },
     "execution_count": 35,
     "metadata": {},
     "output_type": "execute_result"
    }
   ],
   "source": [
    "pwskills2.mobile_number"
   ]
  },
  {
   "cell_type": "code",
   "execution_count": 40,
   "id": "ca92b664-0df4-4a8d-b7bf-159f491c1202",
   "metadata": {},
   "outputs": [],
   "source": [
    "# using Object you can get the Output:\n",
    "\n",
    "pw2_obj= pwskills2(\"vaib\", \"vai@gmail.com\")"
   ]
  },
  {
   "cell_type": "code",
   "execution_count": 41,
   "id": "fda063a9-fd09-46fe-986f-c4c44c5cd3ff",
   "metadata": {},
   "outputs": [
    {
     "data": {
      "text/plain": [
       "<__main__.pwskills2 at 0x7fb7343eaf20>"
      ]
     },
     "execution_count": 41,
     "metadata": {},
     "output_type": "execute_result"
    }
   ],
   "source": [
    "pw2_obj.details(\"sudh\", \"vaisudh@gmail.com\")"
   ]
  },
  {
   "cell_type": "code",
   "execution_count": 43,
   "id": "dc71b729-9755-4ff0-adbf-3970e4ffe9c1",
   "metadata": {},
   "outputs": [
    {
     "data": {
      "text/plain": [
       "'vaib'"
      ]
     },
     "execution_count": 43,
     "metadata": {},
     "output_type": "execute_result"
    }
   ],
   "source": [
    "pw2_obj.name"
   ]
  },
  {
   "cell_type": "code",
   "execution_count": 44,
   "id": "c09ef99f-006d-46b5-b10f-03e0da6e6940",
   "metadata": {},
   "outputs": [],
   "source": [
    "pw2_obj.change_number(666655545)"
   ]
  },
  {
   "cell_type": "code",
   "execution_count": 46,
   "id": "0f268624-4ca2-4e54-9c6e-777ddb54c9e3",
   "metadata": {},
   "outputs": [
    {
     "data": {
      "text/plain": [
       "666655545"
      ]
     },
     "execution_count": 46,
     "metadata": {},
     "output_type": "execute_result"
    }
   ],
   "source": [
    "pw2_obj.mobile_number"
   ]
  },
  {
   "cell_type": "code",
   "execution_count": 47,
   "id": "1c828403-8a01-4149-9f24-b826355084a0",
   "metadata": {},
   "outputs": [],
   "source": [
    "## Method 4 :"
   ]
  },
  {
   "cell_type": "code",
   "execution_count": 48,
   "id": "17137632-1eb5-49a2-9575-4494abacd5ce",
   "metadata": {},
   "outputs": [],
   "source": [
    "class pwskills3:\n",
    "    \n",
    "    mobile_number = 7777777777\n",
    "    \n",
    "    def __init__(self, name, email):\n",
    "        \n",
    "        self.name = name\n",
    "        self.email = email\n",
    "        \n",
    "    @classmethod\n",
    "    def change_number(cls, mobile):\n",
    "        pwskills2.mobile_number = mobile\n",
    "        \n",
    "    @classmethod                              # class method : u can change only one time\n",
    "    def details(cls, name1, email1):\n",
    "        return cls(name1, email1)\n",
    "        \n",
    "    def student_details(self):                 # instance method : U can change obj many times \n",
    "        print(self.name, self.email, pwskills2.mobile_number)\n"
   ]
  },
  {
   "cell_type": "code",
   "execution_count": 49,
   "id": "3379425e-dfb5-48b1-b79f-ad3af867af8f",
   "metadata": {},
   "outputs": [],
   "source": [
    "# external function we are creating\n",
    "def course_details(cls, course_name):\n",
    "    print(\"course details\", course_name)"
   ]
  },
  {
   "cell_type": "code",
   "execution_count": 50,
   "id": "59b0bc43-af61-49fe-bd97-abad9441360d",
   "metadata": {},
   "outputs": [],
   "source": [
    "pwskills3.course_details = classmethod(course_details)"
   ]
  },
  {
   "cell_type": "code",
   "execution_count": 52,
   "id": "7a436b71-f51f-4be5-8259-e4f4ae2209a6",
   "metadata": {},
   "outputs": [
    {
     "name": "stdout",
     "output_type": "stream",
     "text": [
      "course details data science master\n"
     ]
    }
   ],
   "source": [
    "pwskills3.course_details(\"data science master\")"
   ]
  },
  {
   "cell_type": "code",
   "execution_count": 53,
   "id": "e8b095fe-8276-432a-8d7b-1d088eeb5b71",
   "metadata": {},
   "outputs": [],
   "source": [
    "pw3 = pwskills3(\"bhav\", \"bhav@gmail.com\")"
   ]
  },
  {
   "cell_type": "code",
   "execution_count": 54,
   "id": "e901b9db-5b17-4b68-a95e-cc145e4ed951",
   "metadata": {},
   "outputs": [
    {
     "name": "stdout",
     "output_type": "stream",
     "text": [
      "course details web dev\n"
     ]
    }
   ],
   "source": [
    "pw3.course_details(\"web dev\")"
   ]
  },
  {
   "cell_type": "code",
   "execution_count": 55,
   "id": "67082848-9b79-4df9-b685-b8e36f9edf3e",
   "metadata": {},
   "outputs": [],
   "source": [
    "## if You want delete something using Class method : "
   ]
  },
  {
   "cell_type": "code",
   "execution_count": 56,
   "id": "c8ee2d14-207c-4164-833c-f7b0d37f4c50",
   "metadata": {},
   "outputs": [],
   "source": [
    "class pwskills4:\n",
    "    \n",
    "    mobile_number = 7777777777\n",
    "    \n",
    "    def __init__(self, name, email):\n",
    "        \n",
    "        self.name = name\n",
    "        self.email = email\n",
    "        \n",
    "    @classmethod\n",
    "    def change_number(cls, mobile):\n",
    "        pwskills2.mobile_number = mobile\n",
    "        \n",
    "    @classmethod                              # class method : u can change only one time\n",
    "    def details(cls, name1, email1):\n",
    "        return cls(name1, email1)\n",
    "        \n",
    "    def student_details(self):                 # instance method : U can change obj many times \n",
    "        print(self.name, self.email, pwskills2.mobile_number)"
   ]
  },
  {
   "cell_type": "code",
   "execution_count": 57,
   "id": "5c1a281f-133b-4ef5-838f-caafe40a9232",
   "metadata": {},
   "outputs": [],
   "source": [
    "del pwskills4.change_number"
   ]
  },
  {
   "cell_type": "code",
   "execution_count": 58,
   "id": "d8c0210d-4fcf-4f0e-892f-d86026e559ab",
   "metadata": {},
   "outputs": [
    {
     "ename": "AttributeError",
     "evalue": "type object 'pwskills4' has no attribute 'change_number'",
     "output_type": "error",
     "traceback": [
      "\u001b[0;31m---------------------------------------------------------------------------\u001b[0m",
      "\u001b[0;31mAttributeError\u001b[0m                            Traceback (most recent call last)",
      "Cell \u001b[0;32mIn[58], line 1\u001b[0m\n\u001b[0;32m----> 1\u001b[0m \u001b[43mpwskills4\u001b[49m\u001b[38;5;241;43m.\u001b[39;49m\u001b[43mchange_number\u001b[49m(\u001b[38;5;241m4526455\u001b[39m)\n",
      "\u001b[0;31mAttributeError\u001b[0m: type object 'pwskills4' has no attribute 'change_number'"
     ]
    }
   ],
   "source": [
    "pwskills4.change_number(4526455)         # here the change number is deleted using del fun"
   ]
  },
  {
   "cell_type": "code",
   "execution_count": 59,
   "id": "cb49ae8d-4ca1-43fa-9b60-19b46fb511e2",
   "metadata": {},
   "outputs": [],
   "source": [
    "delattr(pwskills4, \"details\")"
   ]
  },
  {
   "cell_type": "code",
   "execution_count": 60,
   "id": "d378cab9-8467-4a9a-af3d-0ad681ff3f47",
   "metadata": {},
   "outputs": [
    {
     "data": {
      "text/plain": [
       "7777777777"
      ]
     },
     "execution_count": 60,
     "metadata": {},
     "output_type": "execute_result"
    }
   ],
   "source": [
    "pwskills4.mobile_number"
   ]
  },
  {
   "cell_type": "code",
   "execution_count": 61,
   "id": "cb0bc2bd-84fb-4cd9-9d37-5a5bcf8aa0b1",
   "metadata": {},
   "outputs": [],
   "source": [
    "delattr(pwskills4, \"mobile_number\")"
   ]
  },
  {
   "cell_type": "code",
   "execution_count": 62,
   "id": "cb2aac23-31a0-4cfe-b09b-bb577a12bbeb",
   "metadata": {},
   "outputs": [
    {
     "ename": "AttributeError",
     "evalue": "type object 'pwskills4' has no attribute 'mobile_number'",
     "output_type": "error",
     "traceback": [
      "\u001b[0;31m---------------------------------------------------------------------------\u001b[0m",
      "\u001b[0;31mAttributeError\u001b[0m                            Traceback (most recent call last)",
      "Cell \u001b[0;32mIn[62], line 1\u001b[0m\n\u001b[0;32m----> 1\u001b[0m \u001b[43mpwskills4\u001b[49m\u001b[38;5;241;43m.\u001b[39;49m\u001b[43mmobile_number\u001b[49m               \u001b[38;5;66;03m# we have deleted mobile_number in above line\u001b[39;00m\n",
      "\u001b[0;31mAttributeError\u001b[0m: type object 'pwskills4' has no attribute 'mobile_number'"
     ]
    }
   ],
   "source": [
    "pwskills4.mobile_number               # we have deleted mobile_number in above line"
   ]
  },
  {
   "cell_type": "code",
   "execution_count": 64,
   "id": "3f8c350e-e4c0-42d4-b030-91038be08a0f",
   "metadata": {},
   "outputs": [],
   "source": [
    "delattr(pwskills4,\"student_details\")"
   ]
  },
  {
   "cell_type": "code",
   "execution_count": 66,
   "id": "ef8d3859-ff49-4eb9-81b3-186be952983d",
   "metadata": {},
   "outputs": [
    {
     "data": {
      "text/plain": [
       "__main__.pwskills4"
      ]
     },
     "execution_count": 66,
     "metadata": {},
     "output_type": "execute_result"
    }
   ],
   "source": [
    "pwskills4           # we have nothing in pwskills4"
   ]
  },
  {
   "cell_type": "code",
   "execution_count": null,
   "id": "ca43b4f0-6e7d-4150-ace3-2e201e64b63b",
   "metadata": {},
   "outputs": [],
   "source": []
  }
 ],
 "metadata": {
  "kernelspec": {
   "display_name": "Python 3 (ipykernel)",
   "language": "python",
   "name": "python3"
  },
  "language_info": {
   "codemirror_mode": {
    "name": "ipython",
    "version": 3
   },
   "file_extension": ".py",
   "mimetype": "text/x-python",
   "name": "python",
   "nbconvert_exporter": "python",
   "pygments_lexer": "ipython3",
   "version": "3.10.8"
  }
 },
 "nbformat": 4,
 "nbformat_minor": 5
}
