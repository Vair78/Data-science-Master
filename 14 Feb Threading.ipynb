{
 "cells": [
  {
   "cell_type": "markdown",
   "id": "d8fe3129-cff3-4778-9eb0-cce9284bed31",
   "metadata": {},
   "source": [
    "## 14 Feb Threading"
   ]
  },
  {
   "cell_type": "markdown",
   "id": "3a4e1651-4ee0-42fa-b26e-a2512b5d9478",
   "metadata": {},
   "source": [
    "What is Python Threading?\n",
    "Threading is a sequence of instructions in a program that can be executed independently of the remaining process. You can see them as different units of your process that do jobs independently when scheduled. If they need to wait for a slow external operation to finish (such as a network request, or disk access), they sleep for a while and enable the scheduler to spend time executing another thread. \n",
    "\n",
    "\" Advantages of Threading \" \n",
    "Threaded programs run faster on computer systems that have multiple CPUs. \n",
    "Threads of a process can share the memory of global variables. If the variable's value is changed in one thread, it is applicable for all threads.\n",
    "\n",
    "There are two types of thread:\n",
    "\n",
    "Daemon thread\n",
    "Non-daemon thread\n",
    "\n",
    "1.Daemon Thread\n",
    "A daemon thread runs without blocking the main program when it exits and when associated daemon threads are also killed."
   ]
  },
  {
   "cell_type": "code",
   "execution_count": 2,
   "id": "21d5004e-d658-44f2-9148-b7d84618edb7",
   "metadata": {},
   "outputs": [],
   "source": [
    "#Example-1 \n",
    "import threading"
   ]
  },
  {
   "cell_type": "code",
   "execution_count": 4,
   "id": "eec85549-ce9a-484f-9169-9d7500949109",
   "metadata": {},
   "outputs": [],
   "source": [
    "def test(id) :\n",
    "    print(\"this is my test id %d \" % id)   # Whatever I give input it wil replace % with that input"
   ]
  },
  {
   "cell_type": "code",
   "execution_count": 6,
   "id": "c3e62008-10fa-463c-97cf-73ed5f41783d",
   "metadata": {},
   "outputs": [
    {
     "name": "stdout",
     "output_type": "stream",
     "text": [
      "this is my test id 10 \n"
     ]
    }
   ],
   "source": [
    "test(10)"
   ]
  },
  {
   "cell_type": "code",
   "execution_count": 7,
   "id": "a2fe5a32-bd80-4358-8950-caff21a3999a",
   "metadata": {},
   "outputs": [
    {
     "name": "stdout",
     "output_type": "stream",
     "text": [
      "this is my test id 12 \n"
     ]
    }
   ],
   "source": [
    "test(12)"
   ]
  },
  {
   "cell_type": "markdown",
   "id": "a13da8e7-01b2-4a05-b2d4-d7f99867147e",
   "metadata": {},
   "source": [
    "2. If You want to Merge all the above different input in one single output or multithreading"
   ]
  },
  {
   "cell_type": "code",
   "execution_count": 8,
   "id": "ddb1602d-2bda-4920-9705-aa7ff5ae6ba5",
   "metadata": {},
   "outputs": [],
   "source": [
    "thread = [threading.Thread(target =test, args =(i,)) for i in [10, 12, 13]]"
   ]
  },
  {
   "cell_type": "code",
   "execution_count": 9,
   "id": "83015e7c-6555-4f1a-81a9-e26b72476c5c",
   "metadata": {},
   "outputs": [
    {
     "data": {
      "text/plain": [
       "[<Thread(Thread-5 (test), initial)>,\n",
       " <Thread(Thread-6 (test), initial)>,\n",
       " <Thread(Thread-7 (test), initial)>]"
      ]
     },
     "execution_count": 9,
     "metadata": {},
     "output_type": "execute_result"
    }
   ],
   "source": [
    "thread"
   ]
  },
  {
   "cell_type": "code",
   "execution_count": 10,
   "id": "a1ef8fae-5848-40cd-a65f-a3d8bcdd20ab",
   "metadata": {},
   "outputs": [
    {
     "name": "stdout",
     "output_type": "stream",
     "text": [
      "this is my test id 10 \n",
      "this is my test id 12 \n",
      "this is my test id 13 \n"
     ]
    }
   ],
   "source": [
    "for t in thread:\n",
    "    t.start()"
   ]
  },
  {
   "cell_type": "code",
   "execution_count": null,
   "id": "0567bda1-8402-4052-a33a-9bee5637b79b",
   "metadata": {},
   "outputs": [],
   "source": [
    "3. If you have multiple Links and write a program and merge and store in one locaiton"
   ]
  },
  {
   "cell_type": "code",
   "execution_count": 17,
   "id": "deabb72a-bc47-4a0f-92c7-53eb2bfd77dc",
   "metadata": {},
   "outputs": [],
   "source": [
    "import urllib.request\n",
    "\n",
    "def file_download(url, filename):\n",
    "    urllib.request.urlretrieve(url,filename)"
   ]
  },
  {
   "cell_type": "code",
   "execution_count": 19,
   "id": "a192ffaa-3034-49bd-85dc-4817e0ab986f",
   "metadata": {},
   "outputs": [],
   "source": [
    "file_download('https://raw.githubusercontent.com/itsfoss/text-files/master/agatha.txt' , \"test.txt\" )     \n",
    "#it will download the data from link and save in test.txt file "
   ]
  },
  {
   "cell_type": "code",
   "execution_count": 20,
   "id": "c142c60f-59cf-4373-aa8b-4660e766ae3b",
   "metadata": {},
   "outputs": [],
   "source": [
    "url_list = ['https://raw.githubusercontent.com/itsfoss/text-files/master/agatha.txt' , 'https://raw.githubusercontent.com/itsfoss/text-files/master/sherlock.txt' , 'https://raw.githubusercontent.com/itsfoss/text-files/master/sample_log_file.txt']"
   ]
  },
  {
   "cell_type": "code",
   "execution_count": 21,
   "id": "83650e8a-a4a9-4278-aeef-e335fb0cfdf7",
   "metadata": {},
   "outputs": [
    {
     "data": {
      "text/plain": [
       "['https://raw.githubusercontent.com/itsfoss/text-files/master/agatha.txt',\n",
       " 'https://raw.githubusercontent.com/itsfoss/text-files/master/sherlock.txt',\n",
       " 'https://raw.githubusercontent.com/itsfoss/text-files/master/sample_log_file.txt']"
      ]
     },
     "execution_count": 21,
     "metadata": {},
     "output_type": "execute_result"
    }
   ],
   "source": [
    "url_list"
   ]
  },
  {
   "cell_type": "code",
   "execution_count": 22,
   "id": "d557286b-f1a3-46ad-bd92-e8074555a86a",
   "metadata": {},
   "outputs": [],
   "source": [
    "# now I am creating one variable to store all the data\n",
    "\n",
    "data_file_list = ['data1.txt' , 'data2.txt' , 'data3.txt']"
   ]
  },
  {
   "cell_type": "code",
   "execution_count": 23,
   "id": "40ca1a99-79cb-455f-a2ab-b5b23056cfef",
   "metadata": {},
   "outputs": [
    {
     "data": {
      "text/plain": [
       "['data1.txt', 'data2.txt', 'data3.txt']"
      ]
     },
     "execution_count": 23,
     "metadata": {},
     "output_type": "execute_result"
    }
   ],
   "source": [
    "data_file_list"
   ]
  },
  {
   "cell_type": "code",
   "execution_count": 28,
   "id": "7158e032-e9bf-4d6b-bbb1-e0bea6fd2c6b",
   "metadata": {},
   "outputs": [],
   "source": [
    "# now I am call the the function(file_download) to three times\n",
    "\n",
    "thread1 = [threading.Thread(target = file_download, args = (url_list[i], data_file_list[i])) for i in range(len(url_list))]"
   ]
  },
  {
   "cell_type": "code",
   "execution_count": 29,
   "id": "800fd4a9-d9d5-4008-a26f-f8a12fdc6703",
   "metadata": {},
   "outputs": [],
   "source": [
    "for t in thread1:\n",
    "    t.start()"
   ]
  },
  {
   "cell_type": "markdown",
   "id": "c895adaa-7317-4230-a435-ab6f6a7ae472",
   "metadata": {},
   "source": [
    "* once you run the above code the automatically data1 ,data2, data3 create the New files on location "
   ]
  },
  {
   "cell_type": "code",
   "execution_count": 30,
   "id": "c22e0cfe-d9fa-49be-a0e4-bd771a33b9d8",
   "metadata": {},
   "outputs": [
    {
     "data": {
      "text/plain": [
       "[<Thread(Thread-8 (file_download), stopped 140085806732864)>,\n",
       " <Thread(Thread-9 (file_download), stopped 140085257303616)>,\n",
       " <Thread(Thread-10 (file_download), stopped 140085248910912)>]"
      ]
     },
     "execution_count": 30,
     "metadata": {},
     "output_type": "execute_result"
    }
   ],
   "source": [
    "thread1"
   ]
  },
  {
   "cell_type": "markdown",
   "id": "fa9d09d5-4705-45cd-a425-bf9585a2fc5b",
   "metadata": {},
   "source": [
    "# Example -2 "
   ]
  },
  {
   "cell_type": "code",
   "execution_count": 31,
   "id": "283b5506-9a37-4b4e-9b3f-def0332b3518",
   "metadata": {},
   "outputs": [],
   "source": [
    "import time"
   ]
  },
  {
   "cell_type": "code",
   "execution_count": 34,
   "id": "2c819610-cdd7-4f0a-91b7-785ed999ea59",
   "metadata": {},
   "outputs": [],
   "source": [
    "def test2(x) :\n",
    "    for i in range(10) :\n",
    "        print(\"test1 print the value of x %d and print the value of i %d \" %(x,i))\n",
    "#run timie %d first replace for x then it will replace by i"
   ]
  },
  {
   "cell_type": "code",
   "execution_count": 35,
   "id": "e4d45dbb-104e-4013-aa7c-436ea4fc9f8e",
   "metadata": {},
   "outputs": [
    {
     "name": "stdout",
     "output_type": "stream",
     "text": [
      "test1 print the value of x 10 and print the value of i 0 \n",
      "test1 print the value of x 10 and print the value of i 1 \n",
      "test1 print the value of x 10 and print the value of i 2 \n",
      "test1 print the value of x 10 and print the value of i 3 \n",
      "test1 print the value of x 10 and print the value of i 4 \n",
      "test1 print the value of x 10 and print the value of i 5 \n",
      "test1 print the value of x 10 and print the value of i 6 \n",
      "test1 print the value of x 10 and print the value of i 7 \n",
      "test1 print the value of x 10 and print the value of i 8 \n",
      "test1 print the value of x 10 and print the value of i 9 \n"
     ]
    }
   ],
   "source": [
    "test2 (10)"
   ]
  },
  {
   "cell_type": "code",
   "execution_count": 36,
   "id": "dde81529-12cf-43d8-bc76-46bacaa9c7e3",
   "metadata": {},
   "outputs": [
    {
     "name": "stdout",
     "output_type": "stream",
     "text": [
      "test1 print the value of x 2 and print the value of i 0 \n",
      "test1 print the value of x 2 and print the value of i 1 \n",
      "test1 print the value of x 2 and print the value of i 2 \n",
      "test1 print the value of x 2 and print the value of i 3 \n",
      "test1 print the value of x 2 and print the value of i 4 \n",
      "test1 print the value of x 2 and print the value of i 5 \n",
      "test1 print the value of x 2 and print the value of i 6 \n",
      "test1 print the value of x 2 and print the value of i 7 \n",
      "test1 print the value of x 2 and print the value of i 8 \n",
      "test1 print the value of x 2 and print the value of i 9 \n"
     ]
    }
   ],
   "source": [
    "test2 (2)"
   ]
  },
  {
   "cell_type": "code",
   "execution_count": 39,
   "id": "a90f98c1-9e38-4d50-9fe6-a61720223cbb",
   "metadata": {},
   "outputs": [],
   "source": [
    "def test2(x) :\n",
    "    for i in range(10) :\n",
    "        print(\"test1 print the value of x %d and print the value of i %d \" %(x,i))\n",
    "#run timie %d first replace for x then it will replace by i\n",
    "        time.sleep(1)     # this will show output by 1 sec"
   ]
  },
  {
   "cell_type": "code",
   "execution_count": 38,
   "id": "ec73c8e6-c646-4fd3-b941-5229f2b23aae",
   "metadata": {},
   "outputs": [
    {
     "name": "stdout",
     "output_type": "stream",
     "text": [
      "test1 print the value of x 10 and print the value of i 0 \n",
      "test1 print the value of x 10 and print the value of i 1 \n",
      "test1 print the value of x 10 and print the value of i 2 \n",
      "test1 print the value of x 10 and print the value of i 3 \n",
      "test1 print the value of x 10 and print the value of i 4 \n",
      "test1 print the value of x 10 and print the value of i 5 \n",
      "test1 print the value of x 10 and print the value of i 6 \n",
      "test1 print the value of x 10 and print the value of i 7 \n",
      "test1 print the value of x 10 and print the value of i 8 \n",
      "test1 print the value of x 10 and print the value of i 9 \n"
     ]
    }
   ],
   "source": [
    "test2(10)"
   ]
  },
  {
   "cell_type": "code",
   "execution_count": 41,
   "id": "43ed53bd-4a6a-4698-b3fd-e683cc38bb80",
   "metadata": {},
   "outputs": [],
   "source": [
    "# now we will create the thread for sleep for example 2 to give multiple output \n",
    "\n",
    "thread2 = [threading.Thread(target = test2, args =(i,)) for i in [100 , 10 , 20, 5 ]]"
   ]
  },
  {
   "cell_type": "markdown",
   "id": "a8d5ea96-3039-4eeb-aa8b-30d8c53e7f40",
   "metadata": {},
   "source": [
    "* If you remove time.sleep() then it will give output at one time not step by step"
   ]
  },
  {
   "cell_type": "code",
   "execution_count": 42,
   "id": "cba738c0-4d4b-41af-9bc7-de62a93efeaa",
   "metadata": {},
   "outputs": [
    {
     "name": "stdout",
     "output_type": "stream",
     "text": [
      "test1 print the value of x 100 and print the value of i 0 \n",
      "test1 print the value of x 10 and print the value of i 0 \n",
      "test1 print the value of x 20 and print the value of i 0 \n",
      "test1 print the value of x 5 and print the value of i 0 \n",
      "test1 print the value of x 100 and print the value of i 1 test1 print the value of x 10 and print the value of i 1 \n",
      "\n",
      "test1 print the value of x 20 and print the value of i 1 \n",
      "test1 print the value of x 5 and print the value of i 1 \n",
      "test1 print the value of x 10 and print the value of i 2 \n",
      "test1 print the value of x 20 and print the value of i 2 \n",
      "test1 print the value of x 5 and print the value of i 2 \n",
      "test1 print the value of x 100 and print the value of i 2 \n",
      "test1 print the value of x 10 and print the value of i 3 test1 print the value of x 20 and print the value of i 3 \n",
      "test1 print the value of x 5 and print the value of i 3 \n",
      "test1 print the value of x 100 and print the value of i 3 \n",
      "\n",
      "test1 print the value of x 100 and print the value of i 4 \n",
      "test1 print the value of x 20 and print the value of i 4 \n",
      "test1 print the value of x 10 and print the value of i 4 \n",
      "test1 print the value of x 5 and print the value of i 4 \n",
      "test1 print the value of x 100 and print the value of i 5 test1 print the value of x 10 and print the value of i 5 \n",
      "test1 print the value of x 20 and print the value of i 5 \n",
      "\n",
      "test1 print the value of x 5 and print the value of i 5 \n",
      "test1 print the value of x 5 and print the value of i 6 \n",
      "test1 print the value of x 10 and print the value of i 6 \n",
      "test1 print the value of x 100 and print the value of i 6 \n",
      "test1 print the value of x 20 and print the value of i 6 \n",
      "test1 print the value of x 5 and print the value of i 7 test1 print the value of x 100 and print the value of i 7 \n",
      "test1 print the value of x 20 and print the value of i 7 \n",
      "\n",
      "test1 print the value of x 10 and print the value of i 7 \n",
      "test1 print the value of x 100 and print the value of i 8 \n",
      "test1 print the value of x 5 and print the value of i 8 \n",
      "test1 print the value of x 20 and print the value of i 8 \n",
      "test1 print the value of x 10 and print the value of i 8 \n",
      "test1 print the value of x 100 and print the value of i 9 test1 print the value of x 5 and print the value of i 9 \n",
      "\n",
      "test1 print the value of x 20 and print the value of i 9 \n",
      "test1 print the value of x 10 and print the value of i 9 \n"
     ]
    }
   ],
   "source": [
    "for t in thread2 :              # this will run 4 time bcc we have givne 4 input [100 , 10 , 20, 5 ]\n",
    "    t.start()"
   ]
  },
  {
   "cell_type": "markdown",
   "id": "1aff156f-4b8c-4cf0-a08f-541b2e025180",
   "metadata": {},
   "source": [
    "# Example 3"
   ]
  },
  {
   "cell_type": "code",
   "execution_count": 56,
   "id": "89e3dbe1-5180-4b27-ae23-e72772c0cf47",
   "metadata": {},
   "outputs": [],
   "source": [
    "shared_var =0\n",
    "lock_var = threading.Lock()\n",
    "def test3(x) :\n",
    "    global shared_var        #lgobal variable mean I have single variable othere will modified that variable \n",
    "    with lock_var:\n",
    "        shared_var = shared_var + 1\n",
    "        print(\"value of x %d and value of shared_var %d \" %(x, shared_var))\n",
    "        time.sleep(1)\n",
    "        \n"
   ]
  },
  {
   "cell_type": "code",
   "execution_count": 51,
   "id": "7a90cb46-6a38-4acc-9c06-f9a7bec62e2c",
   "metadata": {},
   "outputs": [
    {
     "name": "stdout",
     "output_type": "stream",
     "text": [
      "value of x 1 and value of shared_var 1 \n"
     ]
    }
   ],
   "source": [
    "test3(1)"
   ]
  },
  {
   "cell_type": "code",
   "execution_count": 53,
   "id": "e076329d-8435-4c68-b8b6-83396ae48d81",
   "metadata": {},
   "outputs": [
    {
     "name": "stdout",
     "output_type": "stream",
     "text": [
      "value of x 2 and value of shared_var 3 \n"
     ]
    }
   ],
   "source": [
    "test3(2)            # it will incrae the number as run as run mean how many time if i run then increase the number"
   ]
  },
  {
   "cell_type": "markdown",
   "id": "fa196456-6754-4a8b-aee9-b2c3349504e2",
   "metadata": {},
   "source": [
    "# Example 4"
   ]
  },
  {
   "cell_type": "code",
   "execution_count": 60,
   "id": "47c93da0-fdfd-488b-b583-5c6526a541c4",
   "metadata": {},
   "outputs": [
    {
     "name": "stdout",
     "output_type": "stream",
     "text": [
      "value of x 1 and value of shared_var 1 \n",
      "value of x 2 and value of shared_var 2 \n",
      "value of x 3 and value of shared_var 3 \n",
      "value of x 4 and value of shared_var 4 \n",
      "value of x 5 and value of shared_var 5 \n"
     ]
    }
   ],
   "source": [
    "shared_var =0\n",
    "lock_var = threading.Lock()\n",
    "def test5(x) :\n",
    "    global shared_var        #lgobal variable mean I have single variable othere will modified that variable \n",
    "    with lock_var:\n",
    "        shared_var = shared_var + 1\n",
    "        print(\"value of x %d and value of shared_var %d \" %(x, shared_var))\n",
    "        time.sleep(1)\n",
    "thread6 = [threading.Thread(target = test5, args = (i,)) for i in [1,2,3,4,5]]\n",
    "for t in thread6 :\n",
    "    t.start()\n"
   ]
  },
  {
   "cell_type": "code",
   "execution_count": null,
   "id": "36269e1c-49ff-4539-9d91-45be3d07199e",
   "metadata": {},
   "outputs": [],
   "source": []
  }
 ],
 "metadata": {
  "kernelspec": {
   "display_name": "Python 3 (ipykernel)",
   "language": "python",
   "name": "python3"
  },
  "language_info": {
   "codemirror_mode": {
    "name": "ipython",
    "version": 3
   },
   "file_extension": ".py",
   "mimetype": "text/x-python",
   "name": "python",
   "nbconvert_exporter": "python",
   "pygments_lexer": "ipython3",
   "version": "3.10.8"
  }
 },
 "nbformat": 4,
 "nbformat_minor": 5
}
