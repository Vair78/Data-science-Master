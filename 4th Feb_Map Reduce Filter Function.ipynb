{
 "cells": [
  {
   "cell_type": "code",
   "execution_count": 1,
   "id": "4b3e4c30-2d58-481c-b141-1ee824b18460",
   "metadata": {},
   "outputs": [],
   "source": [
    "l =[1,2,3,4,45,5]"
   ]
  },
  {
   "cell_type": "code",
   "execution_count": 5,
   "id": "1b62238a-3e1a-4ce9-a457-e111149108b9",
   "metadata": {},
   "outputs": [],
   "source": [
    "## Square of abvoe number or any given list\n",
    "\n",
    "def test(l):\n",
    "    l1 =[]\n",
    "    for i in l:\n",
    "        l1.append(i**2)\n",
    "    return l1"
   ]
  },
  {
   "cell_type": "code",
   "execution_count": 6,
   "id": "da9e4eb7-63eb-434a-bd6d-4377ffa93083",
   "metadata": {},
   "outputs": [
    {
     "data": {
      "text/plain": [
       "[1, 4, 9, 16, 2025, 25]"
      ]
     },
     "execution_count": 6,
     "metadata": {},
     "output_type": "execute_result"
    }
   ],
   "source": [
    "test(l)       # Line 6, 20 and 21 are output are same with dif step"
   ]
  },
  {
   "cell_type": "markdown",
   "id": "98245b61-74bc-409d-9a7b-39912fc33c69",
   "metadata": {},
   "source": [
    "### Map Function"
   ]
  },
  {
   "cell_type": "code",
   "execution_count": 16,
   "id": "8c71f2c9-8b96-4f9a-b5d8-cb596b065f04",
   "metadata": {},
   "outputs": [],
   "source": [
    "l =[1,2,3,4,45,50]"
   ]
  },
  {
   "cell_type": "code",
   "execution_count": 9,
   "id": "8d19b1e8-7436-4c94-acfa-a8076b5308e7",
   "metadata": {},
   "outputs": [],
   "source": [
    "def sq(x):\n",
    "    return x**2"
   ]
  },
  {
   "cell_type": "code",
   "execution_count": 20,
   "id": "ef73e539-474c-4dfb-ac17-057f8d0d933c",
   "metadata": {},
   "outputs": [
    {
     "data": {
      "text/plain": [
       "[1, 4, 9, 16, 2025, 2500]"
      ]
     },
     "execution_count": 20,
     "metadata": {},
     "output_type": "execute_result"
    }
   ],
   "source": [
    "list(map(sq, l))  # Line 6, 20 and 19 are output are same with dif step"
   ]
  },
  {
   "cell_type": "code",
   "execution_count": 21,
   "id": "1cf2a0a9-3dfe-465b-b3c4-c6dd01b09a49",
   "metadata": {},
   "outputs": [
    {
     "data": {
      "text/plain": [
       "[1, 4, 9, 16, 2025, 2500]"
      ]
     },
     "execution_count": 21,
     "metadata": {},
     "output_type": "execute_result"
    }
   ],
   "source": [
    "list(map(lambda x : x**2, l))      # Line 6, 17 and 21 are output are same with dif step"
   ]
  },
  {
   "cell_type": "code",
   "execution_count": 22,
   "id": "887586a5-7cc6-4677-b62d-3e310d509fb9",
   "metadata": {},
   "outputs": [
    {
     "data": {
      "text/plain": [
       "[11, 12, 13, 14, 55, 60]"
      ]
     },
     "execution_count": 22,
     "metadata": {},
     "output_type": "execute_result"
    }
   ],
   "source": [
    "list(map(lambda x : x+10, l)) "
   ]
  },
  {
   "cell_type": "code",
   "execution_count": 23,
   "id": "fa1b91e4-3df7-4fcc-acaa-d76d2501e6b8",
   "metadata": {},
   "outputs": [],
   "source": [
    "l1 = [1,2,3,4,5]\n",
    "l2 = [6,7,8,9,10]"
   ]
  },
  {
   "cell_type": "code",
   "execution_count": 24,
   "id": "8e61120d-5d6c-4ea8-8280-3ae2e4daa05a",
   "metadata": {},
   "outputs": [
    {
     "data": {
      "text/plain": [
       "[7, 9, 11, 13, 15]"
      ]
     },
     "execution_count": 24,
     "metadata": {},
     "output_type": "execute_result"
    }
   ],
   "source": [
    "list(map(lambda x,y : x+y, l1,l2))"
   ]
  },
  {
   "cell_type": "code",
   "execution_count": 26,
   "id": "6164f111-53ae-4d5d-a43b-0202601fbba1",
   "metadata": {},
   "outputs": [
    {
     "data": {
      "text/plain": [
       "[7, 9, 11, 13, 15]"
      ]
     },
     "execution_count": 26,
     "metadata": {},
     "output_type": "execute_result"
    }
   ],
   "source": [
    "## you can assing varible to Lambda function \n",
    "\n",
    "F = lambda x,y : x+y\n",
    "list(map(F,l1,l2))"
   ]
  },
  {
   "cell_type": "code",
   "execution_count": 27,
   "id": "b3a41256-9194-4702-bdf8-58d6224a35d5",
   "metadata": {},
   "outputs": [],
   "source": [
    "s =\"pwskills\""
   ]
  },
  {
   "cell_type": "code",
   "execution_count": 28,
   "id": "ab5483bc-4e49-4850-8485-6ed7332651b2",
   "metadata": {},
   "outputs": [
    {
     "data": {
      "text/plain": [
       "['P', 'W', 'S', 'K', 'I', 'L', 'L', 'S']"
      ]
     },
     "execution_count": 28,
     "metadata": {},
     "output_type": "execute_result"
    }
   ],
   "source": [
    "list(map(lambda x : x.upper(), s))"
   ]
  },
  {
   "cell_type": "code",
   "execution_count": 29,
   "id": "a6847432-6b8d-4f24-ac0f-606eea78bbdf",
   "metadata": {},
   "outputs": [],
   "source": [
    "### Reduce : it will not avaible in python so you need to import functools"
   ]
  },
  {
   "cell_type": "code",
   "execution_count": 30,
   "id": "16519be5-9440-477b-ae5e-20bb4b398b27",
   "metadata": {},
   "outputs": [],
   "source": [
    "from functools import reduce"
   ]
  },
  {
   "cell_type": "code",
   "execution_count": 33,
   "id": "d6c4f694-226d-4145-8b20-9303ee039efd",
   "metadata": {},
   "outputs": [],
   "source": [
    "L=[1,2,3,4,5,4]"
   ]
  },
  {
   "cell_type": "code",
   "execution_count": 35,
   "id": "adf7c4e0-5408-43f8-8ad9-87a05c3c82aa",
   "metadata": {},
   "outputs": [],
   "source": [
    "#  1 2 3 4 5 4 element 1=x 2=y x+y=3 like this "
   ]
  },
  {
   "cell_type": "code",
   "execution_count": 34,
   "id": "ad62c88c-5d47-46c6-8c78-60d18301758b",
   "metadata": {},
   "outputs": [
    {
     "data": {
      "text/plain": [
       "19"
      ]
     },
     "execution_count": 34,
     "metadata": {},
     "output_type": "execute_result"
    }
   ],
   "source": [
    "reduce(lambda x,y : x+y,L)"
   ]
  },
  {
   "cell_type": "code",
   "execution_count": 39,
   "id": "aa9cb465-af3d-4f66-b68c-29d5e426d5c6",
   "metadata": {},
   "outputs": [],
   "source": [
    "## we can use add function and reduce to get result "
   ]
  },
  {
   "cell_type": "code",
   "execution_count": 36,
   "id": "66e47a59-1af9-4fde-9367-519a10d0ec7b",
   "metadata": {},
   "outputs": [],
   "source": [
    "def add(x,y):\n",
    "    return x+y"
   ]
  },
  {
   "cell_type": "code",
   "execution_count": 38,
   "id": "f6e1f4af-98f6-4958-ac43-4197a883e380",
   "metadata": {},
   "outputs": [
    {
     "data": {
      "text/plain": [
       "19"
      ]
     },
     "execution_count": 38,
     "metadata": {},
     "output_type": "execute_result"
    }
   ],
   "source": [
    "reduce(add, L)"
   ]
  },
  {
   "cell_type": "code",
   "execution_count": 42,
   "id": "2274aac2-a91b-48ec-b622-53928efa5e48",
   "metadata": {},
   "outputs": [
    {
     "ename": "TypeError",
     "evalue": "<lambda>() missing 1 required positional argument: 'z'",
     "output_type": "error",
     "traceback": [
      "\u001b[0;31m---------------------------------------------------------------------------\u001b[0m",
      "\u001b[0;31mTypeError\u001b[0m                                 Traceback (most recent call last)",
      "Cell \u001b[0;32mIn[42], line 1\u001b[0m\n\u001b[0;32m----> 1\u001b[0m \u001b[43mreduce\u001b[49m\u001b[43m(\u001b[49m\u001b[38;5;28;43;01mlambda\u001b[39;49;00m\u001b[43m \u001b[49m\u001b[43mx\u001b[49m\u001b[43m,\u001b[49m\u001b[43my\u001b[49m\u001b[43m,\u001b[49m\u001b[43mz\u001b[49m\u001b[43m \u001b[49m\u001b[43m:\u001b[49m\u001b[43m \u001b[49m\u001b[43mx\u001b[49m\u001b[38;5;241;43m+\u001b[39;49m\u001b[43my\u001b[49m\u001b[38;5;241;43m+\u001b[39;49m\u001b[43mz\u001b[49m\u001b[43m,\u001b[49m\u001b[43mL\u001b[49m\u001b[43m)\u001b[49m  \u001b[38;5;66;03m# one value is missing for z for adding\u001b[39;00m\n",
      "\u001b[0;31mTypeError\u001b[0m: <lambda>() missing 1 required positional argument: 'z'"
     ]
    }
   ],
   "source": [
    "reduce(lambda x,y,z : x+y+z,L)  # one value is missing for z for adding"
   ]
  },
  {
   "cell_type": "code",
   "execution_count": 44,
   "id": "63e50f78-53ca-44f2-b685-23ccdef82793",
   "metadata": {},
   "outputs": [
    {
     "ename": "TypeError",
     "evalue": "reduce() of empty iterable with no initial value",
     "output_type": "error",
     "traceback": [
      "\u001b[0;31m---------------------------------------------------------------------------\u001b[0m",
      "\u001b[0;31mTypeError\u001b[0m                                 Traceback (most recent call last)",
      "Cell \u001b[0;32mIn[44], line 1\u001b[0m\n\u001b[0;32m----> 1\u001b[0m \u001b[43mreduce\u001b[49m\u001b[43m(\u001b[49m\u001b[38;5;28;43;01mlambda\u001b[39;49;00m\u001b[43m \u001b[49m\u001b[43mx\u001b[49m\u001b[43m,\u001b[49m\u001b[43my\u001b[49m\u001b[43m \u001b[49m\u001b[43m:\u001b[49m\u001b[43m \u001b[49m\u001b[43mx\u001b[49m\u001b[38;5;241;43m+\u001b[39;49m\u001b[43my\u001b[49m\u001b[43m,\u001b[49m\u001b[43m \u001b[49m\u001b[43m[\u001b[49m\u001b[43m]\u001b[49m\u001b[43m)\u001b[49m   \u001b[38;5;66;03m# it will not take empty list\u001b[39;00m\n",
      "\u001b[0;31mTypeError\u001b[0m: reduce() of empty iterable with no initial value"
     ]
    }
   ],
   "source": [
    "reduce(lambda x,y : x+y, [])   # it will not take empty list"
   ]
  },
  {
   "cell_type": "code",
   "execution_count": 46,
   "id": "b936982d-2a4f-47bf-bc0e-bec25402769b",
   "metadata": {},
   "outputs": [],
   "source": [
    "# in exception case reduce can take one valuse in list and perform "
   ]
  },
  {
   "cell_type": "code",
   "execution_count": 45,
   "id": "2e1a2cb7-dfe4-47be-91d2-acecba249cd5",
   "metadata": {},
   "outputs": [
    {
     "data": {
      "text/plain": [
       "1"
      ]
     },
     "execution_count": 45,
     "metadata": {},
     "output_type": "execute_result"
    }
   ],
   "source": [
    "reduce(lambda x,y : x+y,[1]) "
   ]
  },
  {
   "cell_type": "code",
   "execution_count": 48,
   "id": "5d022669-e8b1-4c2c-b0da-8767327e928d",
   "metadata": {},
   "outputs": [
    {
     "data": {
      "text/plain": [
       "5"
      ]
     },
     "execution_count": 48,
     "metadata": {},
     "output_type": "execute_result"
    }
   ],
   "source": [
    "# show the highest valuse from given list \n",
    "\n",
    "reduce(lambda x,y :x if x>y else y,L)"
   ]
  },
  {
   "cell_type": "markdown",
   "id": "29ca596f-7964-4515-8fbd-a1b530874780",
   "metadata": {},
   "source": [
    "### Filter Function "
   ]
  },
  {
   "cell_type": "code",
   "execution_count": 49,
   "id": "dbd9ae1c-0148-424e-82b6-da52c50d7196",
   "metadata": {},
   "outputs": [],
   "source": [
    "M =[1,2,3,4,5,4,9,8,7,11]"
   ]
  },
  {
   "cell_type": "code",
   "execution_count": 50,
   "id": "aa89f3ad-7f17-4602-a871-9e6d8bbbc027",
   "metadata": {},
   "outputs": [
    {
     "data": {
      "text/plain": [
       "<filter at 0x7f334e74aaa0>"
      ]
     },
     "execution_count": 50,
     "metadata": {},
     "output_type": "execute_result"
    }
   ],
   "source": [
    "filter(lambda x : x% 2 ==0, M) "
   ]
  },
  {
   "cell_type": "code",
   "execution_count": 51,
   "id": "0115ee9a-c965-4eb6-b075-60b97cfda1fc",
   "metadata": {},
   "outputs": [],
   "source": [
    "# above filter  we didnt get opt then we have add list function for opt EVEN number from List"
   ]
  },
  {
   "cell_type": "code",
   "execution_count": 52,
   "id": "c8783f07-6514-4d50-8352-8325c52ed280",
   "metadata": {},
   "outputs": [
    {
     "data": {
      "text/plain": [
       "[2, 4, 4, 8]"
      ]
     },
     "execution_count": 52,
     "metadata": {},
     "output_type": "execute_result"
    }
   ],
   "source": [
    "list(filter(lambda x : x% 2 ==0, M) )"
   ]
  },
  {
   "cell_type": "code",
   "execution_count": 54,
   "id": "a2540b21-987e-49fa-856a-b2254641af40",
   "metadata": {},
   "outputs": [
    {
     "data": {
      "text/plain": [
       "[1, 3, 5, 9, 7, 11]"
      ]
     },
     "execution_count": 54,
     "metadata": {},
     "output_type": "execute_result"
    }
   ],
   "source": [
    "#For Odd Number from List\n",
    "list(filter(lambda x : x% 2 !=0, M) )\n"
   ]
  },
  {
   "cell_type": "code",
   "execution_count": 57,
   "id": "c2dac6a7-9d50-414e-a51d-c3a35ac874aa",
   "metadata": {},
   "outputs": [
    {
     "data": {
      "text/plain": [
       "[-2, -3, -6, -7]"
      ]
     },
     "execution_count": 57,
     "metadata": {},
     "output_type": "execute_result"
    }
   ],
   "source": [
    "# Give the only Positive  number from below lIST\n",
    "L1=[-2,4,5,6,-3,-6,-7]\n",
    "\n",
    "list(filter(lambda x : x <0, L1 ))"
   ]
  },
  {
   "cell_type": "code",
   "execution_count": 58,
   "id": "e717a30d-be4f-4750-b0bb-6e98b256c408",
   "metadata": {},
   "outputs": [
    {
     "data": {
      "text/plain": [
       "[4, 5, 6]"
      ]
     },
     "execution_count": 58,
     "metadata": {},
     "output_type": "execute_result"
    }
   ],
   "source": [
    "# Give the only negative  number from below lIST\n",
    "\n",
    "list(filter(lambda x : x >0, L1))\n"
   ]
  },
  {
   "cell_type": "code",
   "execution_count": 63,
   "id": "1a35cc11-6cb8-4db5-9188-04f16fa04e63",
   "metadata": {},
   "outputs": [
    {
     "data": {
      "text/plain": [
       "['sudh', 'kumar', 'Pune']"
      ]
     },
     "execution_count": 63,
     "metadata": {},
     "output_type": "execute_result"
    }
   ],
   "source": [
    "# Please extract from below whos lengh it less than 6\n",
    "\n",
    "L2= [\"sudh\", \"pwskill\",\"kumar\",\"Pune\", \"vaibhav\"]\n",
    "\n",
    "list(filter(lambda x : len(x) < 6 , L2))"
   ]
  },
  {
   "cell_type": "code",
   "execution_count": null,
   "id": "b5ac23e2-be58-44d6-bb8e-1ded5272a499",
   "metadata": {},
   "outputs": [],
   "source": []
  }
 ],
 "metadata": {
  "kernelspec": {
   "display_name": "Python 3 (ipykernel)",
   "language": "python",
   "name": "python3"
  },
  "language_info": {
   "codemirror_mode": {
    "name": "ipython",
    "version": 3
   },
   "file_extension": ".py",
   "mimetype": "text/x-python",
   "name": "python",
   "nbconvert_exporter": "python",
   "pygments_lexer": "ipython3",
   "version": "3.10.8"
  }
 },
 "nbformat": 4,
 "nbformat_minor": 5
}
