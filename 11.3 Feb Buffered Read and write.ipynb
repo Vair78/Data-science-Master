{
 "cells": [
  {
   "cell_type": "code",
   "execution_count": 1,
   "id": "bfeb5280-46bd-40a2-80c0-2aa586246e7e",
   "metadata": {},
   "outputs": [],
   "source": [
    "#Buffered its above big size file like 1GB or more and need to perform read or write\n",
    "import io"
   ]
  },
  {
   "cell_type": "code",
   "execution_count": 3,
   "id": "285bf9cf-6691-47df-b56d-96dd1b45c6bf",
   "metadata": {},
   "outputs": [],
   "source": [
    "with open(\"test5.txt\",\"wb\") as f :\n",
    "    file = io.BufferedWriter(f)\n",
    "    file.write(b\"This is my Buffer write \\n\")\n",
    "    file.write(b\"This is my second line that I am trying to write\") # it will create file but not show data for that u nned flush\n",
    "    file.flush()"
   ]
  },
  {
   "cell_type": "code",
   "execution_count": 5,
   "id": "9dc963f5-72ca-483d-a1ca-6df50f51b7e4",
   "metadata": {},
   "outputs": [
    {
     "name": "stdout",
     "output_type": "stream",
     "text": [
      "b'This is my Buffer write \\nThis is my second line that I am trying to write'\n"
     ]
    }
   ],
   "source": [
    "with open(\"test5.txt\",'rb') as f :\n",
    "    file = io.BufferedReader(f)\n",
    "    data = file.read()      # if you add any number read(50) it will show that much data\n",
    "    print(data)"
   ]
  },
  {
   "cell_type": "code",
   "execution_count": null,
   "id": "868ab6aa-5ed2-41ee-9a78-32a5b14b488f",
   "metadata": {},
   "outputs": [],
   "source": []
  }
 ],
 "metadata": {
  "kernelspec": {
   "display_name": "Python 3 (ipykernel)",
   "language": "python",
   "name": "python3"
  },
  "language_info": {
   "codemirror_mode": {
    "name": "ipython",
    "version": 3
   },
   "file_extension": ".py",
   "mimetype": "text/x-python",
   "name": "python",
   "nbconvert_exporter": "python",
   "pygments_lexer": "ipython3",
   "version": "3.10.8"
  }
 },
 "nbformat": 4,
 "nbformat_minor": 5
}
