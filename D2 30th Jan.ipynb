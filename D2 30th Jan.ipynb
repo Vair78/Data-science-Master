{
 "cells": [
  {
   "cell_type": "code",
   "execution_count": 3,
   "id": "baaf9f83-9413-41dc-b8bb-41c5c4934a5f",
   "metadata": {},
   "outputs": [],
   "source": [
    "a=10"
   ]
  },
  {
   "cell_type": "code",
   "execution_count": 4,
   "id": "34943d5f-569b-491c-8ea0-e1b1586efd04",
   "metadata": {},
   "outputs": [],
   "source": [
    "a='c'"
   ]
  },
  {
   "cell_type": "code",
   "execution_count": 5,
   "id": "e89c5a45-5c4e-4f0d-9ea9-fb09a27b728a",
   "metadata": {},
   "outputs": [
    {
     "data": {
      "text/plain": [
       "str"
      ]
     },
     "execution_count": 5,
     "metadata": {},
     "output_type": "execute_result"
    }
   ],
   "source": [
    "type(a)"
   ]
  },
  {
   "cell_type": "code",
   "execution_count": 6,
   "id": "2220f8d8-c5b4-49c5-8966-a004629d77ff",
   "metadata": {},
   "outputs": [
    {
     "data": {
      "text/plain": [
       "123"
      ]
     },
     "execution_count": 6,
     "metadata": {},
     "output_type": "execute_result"
    }
   ],
   "source": [
    "int('123')"
   ]
  },
  {
   "cell_type": "code",
   "execution_count": 7,
   "id": "afb690a5-d9d6-4dae-8c3e-0353c5a3e421",
   "metadata": {},
   "outputs": [
    {
     "ename": "ValueError",
     "evalue": "invalid literal for int() with base 10: 'abcd'",
     "output_type": "error",
     "traceback": [
      "\u001b[0;31m---------------------------------------------------------------------------\u001b[0m",
      "\u001b[0;31mValueError\u001b[0m                                Traceback (most recent call last)",
      "Cell \u001b[0;32mIn[7], line 1\u001b[0m\n\u001b[0;32m----> 1\u001b[0m \u001b[38;5;28;43mint\u001b[39;49m\u001b[43m(\u001b[49m\u001b[38;5;124;43m'\u001b[39;49m\u001b[38;5;124;43mabcd\u001b[39;49m\u001b[38;5;124;43m'\u001b[39;49m\u001b[43m)\u001b[49m\n",
      "\u001b[0;31mValueError\u001b[0m: invalid literal for int() with base 10: 'abcd'"
     ]
    }
   ],
   "source": [
    "int('abcd')"
   ]
  },
  {
   "cell_type": "code",
   "execution_count": 8,
   "id": "9486160c-d0f5-47c3-804a-b4844e8dfe81",
   "metadata": {},
   "outputs": [
    {
     "name": "stdout",
     "output_type": "stream",
     "text": [
      "hello world\n"
     ]
    }
   ],
   "source": [
    "print(\"hello world\")"
   ]
  },
  {
   "cell_type": "code",
   "execution_count": 9,
   "id": "0a7ff9d2-4332-41a4-ae5a-c3b17f01d982",
   "metadata": {},
   "outputs": [
    {
     "ename": "NameError",
     "evalue": "name 'Print' is not defined",
     "output_type": "error",
     "traceback": [
      "\u001b[0;31m---------------------------------------------------------------------------\u001b[0m",
      "\u001b[0;31mNameError\u001b[0m                                 Traceback (most recent call last)",
      "Cell \u001b[0;32mIn[9], line 1\u001b[0m\n\u001b[0;32m----> 1\u001b[0m \u001b[43mPrint\u001b[49m(\u001b[38;5;241m123\u001b[39m)\n",
      "\u001b[0;31mNameError\u001b[0m: name 'Print' is not defined"
     ]
    }
   ],
   "source": [
    "Print(123)"
   ]
  },
  {
   "cell_type": "code",
   "execution_count": 10,
   "id": "1a9aedb1-9adb-4e08-ad0b-f9870ceb6663",
   "metadata": {},
   "outputs": [
    {
     "name": "stdout",
     "output_type": "stream",
     "text": [
      "123\n"
     ]
    }
   ],
   "source": [
    "print(123)"
   ]
  },
  {
   "cell_type": "code",
   "execution_count": 11,
   "id": "f89d79c8-d46a-473a-a681-ad5743da75d6",
   "metadata": {},
   "outputs": [
    {
     "name": "stdout",
     "output_type": "stream",
     "text": [
      "hello world\n"
     ]
    }
   ],
   "source": [
    "print('hello world')"
   ]
  },
  {
   "cell_type": "code",
   "execution_count": 24,
   "id": "f8796ba2-2ad4-45d9-91e6-9a8402499d14",
   "metadata": {},
   "outputs": [
    {
     "name": "stdout",
     "output_type": "stream",
     "text": [
      "My age is: 32\n"
     ]
    }
   ],
   "source": [
    "age=32\n",
    "print(\"My age is:\",age)"
   ]
  },
  {
   "cell_type": "code",
   "execution_count": 25,
   "id": "7247a4f5-7585-495a-8d76-0137f05a0cec",
   "metadata": {},
   "outputs": [
    {
     "name": "stdout",
     "output_type": "stream",
     "text": [
      "My age is: (age)\n"
     ]
    }
   ],
   "source": [
    "print(f\"My age is: (age)\")"
   ]
  },
  {
   "cell_type": "code",
   "execution_count": 26,
   "id": "4335ffae-79dc-4b17-bb2b-29b62f493641",
   "metadata": {},
   "outputs": [
    {
     "name": "stdout",
     "output_type": "stream",
     "text": [
      "My age is :(age)\n"
     ]
    }
   ],
   "source": [
    "## f string ## output should be My age is : 32 but something iswrong here getting age \n",
    "print(f\"My age is :(age)\")"
   ]
  },
  {
   "cell_type": "code",
   "execution_count": 27,
   "id": "fee22bee-e9fc-4cac-a33a-7454a5d92850",
   "metadata": {},
   "outputs": [
    {
     "name": "stdout",
     "output_type": "stream",
     "text": [
      "My name is krish and age is 32\n"
     ]
    }
   ],
   "source": [
    "##fomrat() \n",
    "name=\"krish\"\n",
    "age-32\n",
    "print(\"My name is {} and age is {}\".format(name,age))"
   ]
  },
  {
   "cell_type": "code",
   "execution_count": 28,
   "id": "ddd5a882-7cb5-4bd7-ac82-4f32545f6418",
   "metadata": {},
   "outputs": [
    {
     "name": "stdout",
     "output_type": "stream",
     "text": [
      "My name is 32 and age is krish\n"
     ]
    }
   ],
   "source": [
    "print(\"My name is {} and age is {}\".format(age,name))"
   ]
  },
  {
   "cell_type": "code",
   "execution_count": 32,
   "id": "7ed47642-c472-466b-81e8-58b9117b7472",
   "metadata": {},
   "outputs": [
    {
     "name": "stdout",
     "output_type": "stream",
     "text": [
      "My name is krish and age is 32\n"
     ]
    }
   ],
   "source": [
    "#placeholder\n",
    "\n",
    "print(\"My name is {firstname} and age is {firstage}\".format(firstage=age,firstname=name))"
   ]
  },
  {
   "cell_type": "code",
   "execution_count": 33,
   "id": "9d47ec60-51f4-4742-8847-24deb13793e2",
   "metadata": {},
   "outputs": [
    {
     "data": {
      "text/plain": [
       "' MY age is 38 and I have completed: my degree of BSC with the name of vaibhav'"
      ]
     },
     "execution_count": 33,
     "metadata": {},
     "output_type": "execute_result"
    }
   ],
   "source": [
    "name=\"vaibhav\"\n",
    "age=28\n",
    "degree=\"BSC\"\n",
    "\n",
    "\n",
    "\" MY age is 38 and I have completed: my degree of BSC with the name of vaibhav\""
   ]
  },
  {
   "cell_type": "code",
   "execution_count": 36,
   "id": "72e41cbe-baa6-491a-a564-18c6b279aa62",
   "metadata": {},
   "outputs": [
    {
     "name": "stdout",
     "output_type": "stream",
     "text": [
      "My age is 28 and I have completed: my degree BSC with the name of vaibhav\n"
     ]
    }
   ],
   "source": [
    "name=\"vaibhav\"\n",
    "age=28\n",
    "degree=\"BSC\"\n",
    "\n",
    "print(f\"My age is {age} and I have completed: my degree {degree} with the name of {name}\") "
   ]
  },
  {
   "cell_type": "markdown",
   "id": "b87240cb-4d80-4248-aecd-3c3f8c06857f",
   "metadata": {
    "tags": []
   },
   "source": [
    "## contorl Flow\n",
    "### Decision Making Statement\n",
    "*It is kind of making decision during occurred situationf of program execution and can be taken \n",
    "according to specified condition\n",
    "*Structure of decision making evaluate several expression that provide True of false as a result\n",
    "*It is up to you to  decide which type of action want to take and execute that statement based upon True and\n",
    "Flase\n",
    "\n",
    "** These are several topic ofdecion making which going to be disscussed below:**\n",
    "\n",
    "1.**if**\n",
    "2.**if else**\n",
    "3.**if elif else**\n",
    "4. **Nested if**\n",
    "5.**single Statement suites**"
   ]
  },
  {
   "cell_type": "markdown",
   "id": "c59be74c-be1c-4992-b1cc-ecc058fd1540",
   "metadata": {},
   "source": [
    "## IF Statement  ==, >=,<="
   ]
  },
  {
   "cell_type": "code",
   "execution_count": 44,
   "id": "77f89032-ae67-4d95-9158-23627a0d040a",
   "metadata": {},
   "outputs": [
    {
     "name": "stdout",
     "output_type": "stream",
     "text": [
      "You are eligible to vote\n"
     ]
    }
   ],
   "source": [
    "## If statment\n",
    "age=18\n",
    "if age >=18:\n",
    "    print(\"You are eligible to vote\")"
   ]
  },
  {
   "cell_type": "code",
   "execution_count": 47,
   "id": "7dd67015-6221-4fb7-a78a-8eaa3d492fef",
   "metadata": {},
   "outputs": [
    {
     "name": "stdout",
     "output_type": "stream",
     "text": [
      "You are not eligible to vote\n"
     ]
    }
   ],
   "source": [
    "## If statment\n",
    "age=17\n",
    "if age <18:\n",
    "    print(\"You are not eligible to vote\")"
   ]
  },
  {
   "cell_type": "code",
   "execution_count": 48,
   "id": "f434bacf-a220-4d1a-9e16-66a128cfe9a3",
   "metadata": {},
   "outputs": [
    {
     "data": {
      "text/plain": [
       "True"
      ]
     },
     "execution_count": 48,
     "metadata": {},
     "output_type": "execute_result"
    }
   ],
   "source": [
    "18<=18"
   ]
  },
  {
   "cell_type": "code",
   "execution_count": 49,
   "id": "9a6a0282-ea10-40df-b2c3-8fefef53e72d",
   "metadata": {},
   "outputs": [
    {
     "name": "stdin",
     "output_type": "stream",
     "text": [
      " vaibhav\n"
     ]
    },
    {
     "data": {
      "text/plain": [
       "'vaibhav'"
      ]
     },
     "execution_count": 49,
     "metadata": {},
     "output_type": "execute_result"
    }
   ],
   "source": [
    "input() "
   ]
  },
  {
   "cell_type": "code",
   "execution_count": 51,
   "id": "bfafd6d6-71b0-4d3d-bbdf-84e45e444b8f",
   "metadata": {},
   "outputs": [
    {
     "name": "stdin",
     "output_type": "stream",
     "text": [
      " enter the name vaibav\n"
     ]
    }
   ],
   "source": [
    "name=input(\" enter the name\")  # Input is String"
   ]
  },
  {
   "cell_type": "code",
   "execution_count": 52,
   "id": "5ab19900-a6e2-4e52-83d0-91f771f8debf",
   "metadata": {},
   "outputs": [
    {
     "name": "stdin",
     "output_type": "stream",
     "text": [
      "enter your age 32\n"
     ]
    }
   ],
   "source": [
    "## to convert String to Int for Input\n",
    "age=int(input(\"enter your age\"))"
   ]
  },
  {
   "cell_type": "code",
   "execution_count": 53,
   "id": "40c18861-ee4f-497d-9473-c92c9b3f9627",
   "metadata": {},
   "outputs": [
    {
     "data": {
      "text/plain": [
       "int"
      ]
     },
     "execution_count": 53,
     "metadata": {},
     "output_type": "execute_result"
    }
   ],
   "source": [
    "type(age)"
   ]
  },
  {
   "cell_type": "code",
   "execution_count": 54,
   "id": "2d089ae8-98fb-4e89-a1bd-ac6ac40133d7",
   "metadata": {},
   "outputs": [],
   "source": [
    "## Taske \n",
    "## take a input of age\n",
    "## check wether is age >=18 and age <= 45\n",
    "## display a message you are young bloood"
   ]
  },
  {
   "cell_type": "code",
   "execution_count": 61,
   "id": "3c67b97e-ed88-4865-99d6-2dcb3a907857",
   "metadata": {},
   "outputs": [
    {
     "name": "stdin",
     "output_type": "stream",
     "text": [
      "Enter the age 22\n"
     ]
    },
    {
     "name": "stdout",
     "output_type": "stream",
     "text": [
      "you are young blood\n"
     ]
    }
   ],
   "source": [
    "age=int(input(\"Enter the age\"))\n",
    "if age>=18 and age<=45:\n",
    "    print(\"you are young blood\")"
   ]
  },
  {
   "cell_type": "markdown",
   "id": "54879a75-bb60-49de-9469-d84bab8e2f63",
   "metadata": {},
   "source": [
    "### if Else ###"
   ]
  },
  {
   "cell_type": "code",
   "execution_count": 63,
   "id": "4a832275-9307-4406-af68-c81c9a90461f",
   "metadata": {},
   "outputs": [
    {
     "name": "stdin",
     "output_type": "stream",
     "text": [
      "Enter the age 55\n"
     ]
    },
    {
     "name": "stdout",
     "output_type": "stream",
     "text": [
      "Thank you your applicaiton is rejected\n"
     ]
    }
   ],
   "source": [
    "age=int(input(\"Enter the age\"))\n",
    "if age>=18 and age<=45:\n",
    "    print(\"you are young blood\")\n",
    "else:\n",
    "    print(\"Thank you your applicaiton is rejected\")\n"
   ]
  },
  {
   "cell_type": "code",
   "execution_count": 64,
   "id": "13f55d8e-ef75-4ca4-8b32-9fe7ac45990c",
   "metadata": {},
   "outputs": [],
   "source": [
    "##Task 2\n",
    "## Mall - Sale discount like valentine day or repulic day\n",
    "##input the product price\n",
    "## Any Product > 1000 rs 20 % off\n",
    "## print the product price after removing the discount\n",
    "## product =100 rs 30 % off\n",
    "## print the product price after removing the discount"
   ]
  },
  {
   "cell_type": "code",
   "execution_count": 68,
   "id": "22a79a47-6f12-49b4-9dc7-59aeae63b7e7",
   "metadata": {},
   "outputs": [
    {
     "name": "stdin",
     "output_type": "stream",
     "text": [
      "enter the price 5000\n"
     ]
    },
    {
     "name": "stdout",
     "output_type": "stream",
     "text": [
      "The price of the product is 4000.0\n"
     ]
    }
   ],
   "source": [
    "Product_price=int(input(\"enter the price\"))\n",
    "if Product_price>1000:\n",
    "    print(\"The price of the product is {}\".format(Product_price*0.8))\n",
    "else:\n",
    "          print(\"The price of the product is {}\".format(Product_price*0.7))"
   ]
  },
  {
   "cell_type": "code",
   "execution_count": 70,
   "id": "f6ee54fc-183a-4761-a1e5-4aafd2eec7c2",
   "metadata": {},
   "outputs": [
    {
     "data": {
      "text/plain": [
       "1000"
      ]
     },
     "execution_count": 70,
     "metadata": {},
     "output_type": "execute_result"
    }
   ],
   "source": [
    "int((20/100)*5000)"
   ]
  },
  {
   "cell_type": "code",
   "execution_count": 71,
   "id": "d9dcd29a-0274-4bea-965b-7f24c8cf1fdf",
   "metadata": {},
   "outputs": [
    {
     "name": "stdin",
     "output_type": "stream",
     "text": [
      "enter the price 2000\n"
     ]
    },
    {
     "name": "stdout",
     "output_type": "stream",
     "text": [
      "The price of the product is 1600.0\n"
     ]
    }
   ],
   "source": [
    "## in above example inf f string\n",
    "Product_price=int(input(\"enter the price\"))\n",
    "if Product_price>1000:\n",
    "    print(f\"The price of the product is {Product_price*0.8}\")\n",
    "else:\n",
    "          print(\"The price of the product is {}\".format(Product_price*0.7))"
   ]
  },
  {
   "cell_type": "code",
   "execution_count": 72,
   "id": "f22d8e37-1fb0-4679-a4fb-2350f4b52a09",
   "metadata": {},
   "outputs": [],
   "source": [
    "##Task 3\n",
    "## Mall -input the product price\n",
    "## Product > 3000 rs 20 % off\n",
    "## print the product price after removing the discount\n",
    "## Product >= 2000 rs  and <=3000 30 % off\n",
    "## print the product price after removing the discount\n",
    "## product <=1000 rs and <=2000 40 % off\n",
    "## print the product price after removing the discount"
   ]
  },
  {
   "cell_type": "code",
   "execution_count": 75,
   "id": "5877aa73-f12f-41bf-be59-2cd6edff3821",
   "metadata": {},
   "outputs": [
    {
     "name": "stdin",
     "output_type": "stream",
     "text": [
      "enter the price 2500\n"
     ]
    },
    {
     "name": "stdout",
     "output_type": "stream",
     "text": [
      "The price of the product is 1750.0\n"
     ]
    }
   ],
   "source": [
    "Product_price=int(input(\"enter the price\"))\n",
    "if Product_price>3000:\n",
    "    print(f\"The price of the product is {Product_price*0.8}\")\n",
    "elif Product_price>=2000 and Product_price<=3000:\n",
    "    print(f\"The price of the product is {Product_price*0.7}\")\n",
    "else:\n",
    "          print(\"The price of the product is {}\".format(Product_price*0.6))"
   ]
  },
  {
   "cell_type": "code",
   "execution_count": 76,
   "id": "bb384ece-1393-4d22-b28b-ea26182cf58a",
   "metadata": {},
   "outputs": [
    {
     "name": "stdin",
     "output_type": "stream",
     "text": [
      "enter the price 55\n"
     ]
    },
    {
     "name": "stdout",
     "output_type": "stream",
     "text": [
      "Let Drink Tea\n"
     ]
    }
   ],
   "source": [
    "Product_price=int(input(\"enter the price\"))\n",
    "if Product_price>3000:\n",
    "    print(f\"The price of the product is {Product_price*0.8}\")\n",
    "elif Product_price>=2000 and Product_price<=3000:\n",
    "    print(f\"The price of the product is {Product_price*0.7}\")\n",
    "elif Product_price>=100 and Product_price<=2000:\n",
    "    print(f\"The price of the product is {Product_price*0.6}\")\n",
    "else:\n",
    "          print(\"Let Drink Tea\")"
   ]
  },
  {
   "cell_type": "markdown",
   "id": "2b5b6208-9e17-4b9c-8426-5cc9dc85c531",
   "metadata": {},
   "source": [
    "### Nested IF ###"
   ]
  },
  {
   "cell_type": "code",
   "execution_count": 77,
   "id": "38e72497-3200-44ce-967a-a4704c760219",
   "metadata": {},
   "outputs": [],
   "source": [
    "##Task 4\n",
    "## Mall -input the product price\n",
    "## Product > 3000 rs 20 % off\n",
    "## print the product price after removing the discount\n",
    "## Product >= 2000 rs  and <=3000 30 % off\n",
    "## print the product price after removing the discount\n",
    "## Price ==2999 you will get additional gift\n",
    "## product <=1000 rs and <=2000 40 % off\n",
    "## print the product price after removing the discount"
   ]
  },
  {
   "cell_type": "code",
   "execution_count": 91,
   "id": "7891a2cd-665f-4ef9-9ad7-16f83ffe9e33",
   "metadata": {},
   "outputs": [
    {
     "name": "stdin",
     "output_type": "stream",
     "text": [
      "enter the price 55\n"
     ]
    },
    {
     "name": "stdout",
     "output_type": "stream",
     "text": [
      "Let Drink Tea\n",
      "I will be also there\n"
     ]
    }
   ],
   "source": [
    "Product_price=int(input(\"enter the price\"))\n",
    "if Product_price>3000:\n",
    "    if Product_price ==4000:\n",
    "        print(\"congratulations you get Goa Trip\")\n",
    "    print(f\"The price of the product is {Product_price*0.8}\")\n",
    "elif Product_price>=2000 and Product_price<=3000:\n",
    "    if Product_price ==2999:\n",
    "        print(\"Congratulation you get and additional gift\")\n",
    "    print(f\"The price of the product is {Product_price*0.7}\")\n",
    "elif Product_price>=100 and Product_price<2000:\n",
    "    print(f\"The price of the product is {Product_price*0.6}\")\n",
    "else:\n",
    "        print(\"Let Drink Tea\")\n",
    "        print(\"I will be also there\")\n",
    "        \n",
    "      "
   ]
  },
  {
   "cell_type": "code",
   "execution_count": 84,
   "id": "615f19f5-bd01-4ae4-8c5e-bd75089c8031",
   "metadata": {},
   "outputs": [
    {
     "data": {
      "text/plain": [
       "True"
      ]
     },
     "execution_count": 84,
     "metadata": {},
     "output_type": "execute_result"
    }
   ],
   "source": [
    "#comparision operator\n",
    "True ==True"
   ]
  },
  {
   "cell_type": "markdown",
   "id": "b5297e72-d561-4bff-a366-3259ea8a18d7",
   "metadata": {},
   "source": [
    "## SIngle Statemenet##"
   ]
  },
  {
   "cell_type": "code",
   "execution_count": 96,
   "id": "946d2bb0-4487-457c-b3db-7f45911ba001",
   "metadata": {},
   "outputs": [
    {
     "name": "stdin",
     "output_type": "stream",
     "text": [
      "Enter the number 1000\n"
     ]
    },
    {
     "name": "stdout",
     "output_type": "stream",
     "text": [
      "Go home\n"
     ]
    }
   ],
   "source": [
    "## single statement\n",
    "val=int(input('Enter the number'))\n",
    "if (val<=999):print(\"value is less than equal to 999\")\n",
    "else:\n",
    "     print(\"Go home\")"
   ]
  },
  {
   "cell_type": "markdown",
   "id": "2e1e6c19-a190-411e-842a-2d6ff27d43be",
   "metadata": {},
   "source": [
    "### Loops Statement\n",
    "1. While Loop\n",
    "2. For Loop\n",
    "3. Nested loop\n",
    "4. Loop control(Break, continue,pass)"
   ]
  },
  {
   "cell_type": "code",
   "execution_count": 106,
   "id": "de8f457d-491b-4282-8ff4-40c6f69444a7",
   "metadata": {},
   "outputs": [
    {
     "name": "stdout",
     "output_type": "stream",
     "text": [
      "26\n",
      "27\n",
      "28\n",
      "29\n",
      "30\n",
      "31\n",
      "32\n",
      "33\n",
      "34\n",
      "35\n",
      "36\n",
      "37\n",
      "38\n",
      "39\n",
      "40\n",
      "41\n",
      "42\n",
      "43\n",
      "44\n",
      "45\n",
      "46\n",
      "47\n",
      "48\n",
      "49\n",
      "50\n",
      "51\n",
      "52\n",
      "53\n",
      "54\n",
      "55\n",
      "56\n",
      "57\n",
      "58\n",
      "59\n",
      "60\n",
      "61\n"
     ]
    }
   ],
   "source": [
    "## while Loop\n",
    "joining_age =25\n",
    "while joining_age<=60:\n",
    "    joining_age=joining_age+1\n",
    "    print(joining_age)"
   ]
  },
  {
   "cell_type": "code",
   "execution_count": 107,
   "id": "8a168b89-0c3f-4349-acca-b426dd4bc8da",
   "metadata": {},
   "outputs": [
    {
     "name": "stdout",
     "output_type": "stream",
     "text": [
      "25\n",
      "26\n",
      "27\n",
      "28\n",
      "29\n",
      "30\n",
      "31\n",
      "32\n",
      "33\n",
      "34\n",
      "35\n",
      "36\n",
      "37\n",
      "38\n",
      "39\n",
      "40\n",
      "41\n",
      "42\n",
      "43\n",
      "44\n",
      "45\n",
      "46\n",
      "47\n",
      "48\n",
      "49\n",
      "50\n",
      "51\n",
      "52\n",
      "53\n",
      "54\n",
      "55\n",
      "56\n",
      "57\n",
      "58\n",
      "59\n",
      "60\n",
      "its time for Retirement\n"
     ]
    }
   ],
   "source": [
    "# While Loop while-else\n",
    "joining_age=25\n",
    "while joining_age<=60:\n",
    "    print(joining_age) \n",
    "    joining_age=joining_age+1\n",
    "    \n",
    "else:\n",
    "    print(\"its time for Retirement\")"
   ]
  },
  {
   "cell_type": "code",
   "execution_count": 112,
   "id": "c5cf6b1e-bbd7-4c30-9a69-e1a09e54e3a7",
   "metadata": {},
   "outputs": [
    {
     "name": "stdout",
     "output_type": "stream",
     "text": [
      "1000\n",
      "900\n",
      "800\n",
      "700\n",
      "600\n",
      "500\n",
      "400\n",
      "300\n",
      "200\n",
      "100\n",
      "put more money bank people\n"
     ]
    }
   ],
   "source": [
    "### ATM Machine with 1000 rs\n",
    "total_amount=1000\n",
    "while total_amount!=0:\n",
    "    print(total_amount)\n",
    "    total_amount=total_amount-100\n",
    "else:\n",
    "     print(\"put more money bank people\")\n",
    "    "
   ]
  },
  {
   "cell_type": "markdown",
   "id": "2b06e7aa-30c3-4156-9e80-ec385610cd64",
   "metadata": {},
   "source": [
    "## FOR LOOP ##"
   ]
  },
  {
   "cell_type": "code",
   "execution_count": 5,
   "id": "2f077692-5188-40be-832f-e7cc75e67e2f",
   "metadata": {},
   "outputs": [],
   "source": [
    "lst=[\"krish\",1,2,3,4,\"apple\",\"banana\"]"
   ]
  },
  {
   "cell_type": "code",
   "execution_count": 6,
   "id": "0d83a7be-1efd-46ca-bd49-663d770dfcca",
   "metadata": {},
   "outputs": [
    {
     "data": {
      "text/plain": [
       "list"
      ]
     },
     "execution_count": 6,
     "metadata": {},
     "output_type": "execute_result"
    }
   ],
   "source": [
    "type(lst)"
   ]
  },
  {
   "cell_type": "code",
   "execution_count": 13,
   "id": "00a3cc0f-0533-4326-9ab9-1beae1eadc2c",
   "metadata": {},
   "outputs": [
    {
     "data": {
      "text/plain": [
       "1"
      ]
     },
     "execution_count": 13,
     "metadata": {},
     "output_type": "execute_result"
    }
   ],
   "source": [
    "lst[1]"
   ]
  },
  {
   "cell_type": "code",
   "execution_count": 14,
   "id": "5ee781b9-59b3-49fe-b10d-f489955061bc",
   "metadata": {},
   "outputs": [
    {
     "data": {
      "text/plain": [
       "['krish', 1, 2, 3, 4, 'apple', 'banana']"
      ]
     },
     "execution_count": 14,
     "metadata": {},
     "output_type": "execute_result"
    }
   ],
   "source": [
    "lst"
   ]
  },
  {
   "cell_type": "code",
   "execution_count": 15,
   "id": "cd853432-45ec-4393-9a5d-eefebeb4990e",
   "metadata": {},
   "outputs": [
    {
     "name": "stdout",
     "output_type": "stream",
     "text": [
      "krish\n",
      "1\n",
      "2\n",
      "3\n",
      "4\n",
      "apple\n",
      "banana\n"
     ]
    }
   ],
   "source": [
    "for x in lst:\n",
    "    print(x)"
   ]
  },
  {
   "cell_type": "code",
   "execution_count": 22,
   "id": "503e15e8-c2a0-4d51-8096-a4c59b0583c6",
   "metadata": {},
   "outputs": [],
   "source": [
    "fruits_list = [\"Mango\",\"cherry\",\"Apple\",\"papaya\",\"Banana\"]"
   ]
  },
  {
   "cell_type": "code",
   "execution_count": 26,
   "id": "ec2e7684-3258-4643-aec6-1ff93e2f1672",
   "metadata": {},
   "outputs": [
    {
     "name": "stdout",
     "output_type": "stream",
     "text": [
      "Mango\n",
      "cherry\n",
      "The fruit is cherry\n",
      "Apple\n",
      "papaya\n",
      "Banana\n"
     ]
    }
   ],
   "source": [
    "for a in fruits_list:\n",
    "    print(a)\n",
    "    if a==\"cherry\":\n",
    "        print(\"The fruit is cherry\")"
   ]
  },
  {
   "cell_type": "raw",
   "id": "5ba1bae9-d73e-44bf-ba52-890fb8c8da85",
   "metadata": {},
   "source": []
  },
  {
   "cell_type": "code",
   "execution_count": 27,
   "id": "02811a1e-1fc1-4034-a98e-339e8e6b07d1",
   "metadata": {},
   "outputs": [
    {
     "name": "stdout",
     "output_type": "stream",
     "text": [
      "Mango\n",
      "cherry\n",
      "The fruit is cherry\n"
     ]
    }
   ],
   "source": [
    "for a in fruits_list:\n",
    "    print(a)\n",
    "    if a==\"cherry\":\n",
    "        print(\"The fruit is cherry\")\n",
    "        break"
   ]
  },
  {
   "cell_type": "code",
   "execution_count": 29,
   "id": "7360d233-00f8-44ed-b44a-e4c189ed3f7b",
   "metadata": {},
   "outputs": [
    {
     "name": "stdout",
     "output_type": "stream",
     "text": [
      "m\n",
      "a\n",
      "n\n",
      "g\n",
      "o\n"
     ]
    }
   ],
   "source": [
    "fruit =\"mango\"\n",
    "for x in fruit:\n",
    "    print(x)"
   ]
  },
  {
   "cell_type": "code",
   "execution_count": null,
   "id": "44322552-58dc-43ba-918b-3cfab37cbf13",
   "metadata": {},
   "outputs": [],
   "source": []
  },
  {
   "cell_type": "code",
   "execution_count": 30,
   "id": "4a6e5602-d7b8-44ea-ab0d-0b16db2de027",
   "metadata": {},
   "outputs": [
    {
     "name": "stdout",
     "output_type": "stream",
     "text": [
      "mango"
     ]
    }
   ],
   "source": [
    "fruit =\"mango\"\n",
    "for x in fruit:\n",
    "    print(x,end='')"
   ]
  },
  {
   "cell_type": "code",
   "execution_count": 31,
   "id": "977bb842-00b6-4d3b-90f2-765e6a089799",
   "metadata": {},
   "outputs": [
    {
     "data": {
      "text/plain": [
       "'n'"
      ]
     },
     "execution_count": 31,
     "metadata": {},
     "output_type": "execute_result"
    }
   ],
   "source": [
    "fruit[2]"
   ]
  },
  {
   "cell_type": "markdown",
   "id": "13f03382-ac19-49c6-b5d5-382ce3a478bb",
   "metadata": {
    "tags": []
   },
   "source": [
    "### Nested Loops"
   ]
  },
  {
   "cell_type": "code",
   "execution_count": 32,
   "id": "c3495eb4-30c9-412d-8210-7b91c91506a2",
   "metadata": {},
   "outputs": [],
   "source": [
    "n=7"
   ]
  },
  {
   "cell_type": "code",
   "execution_count": 34,
   "id": "5aaea26e-db2f-4e1a-bf0e-704b19804b88",
   "metadata": {},
   "outputs": [
    {
     "name": "stdout",
     "output_type": "stream",
     "text": [
      "1\n",
      "2\n",
      "3\n",
      "4\n",
      "5\n"
     ]
    }
   ],
   "source": [
    "for i in range(1,6):\n",
    "    print(i)"
   ]
  },
  {
   "cell_type": "code",
   "execution_count": 35,
   "id": "d7be98c9-e261-45be-9dd2-628ae981e105",
   "metadata": {},
   "outputs": [
    {
     "name": "stdout",
     "output_type": "stream",
     "text": [
      "1\n",
      "2\n",
      "3\n",
      "4\n",
      "5\n",
      "6\n",
      "7\n",
      "8\n",
      "9\n"
     ]
    }
   ],
   "source": [
    "for i in range(1,10):\n",
    "    print(i)"
   ]
  },
  {
   "cell_type": "code",
   "execution_count": null,
   "id": "ca390056-1b98-46cd-9d5b-e2b98e0aebe2",
   "metadata": {},
   "outputs": [],
   "source": []
  },
  {
   "cell_type": "code",
   "execution_count": 36,
   "id": "8445d342-fc83-4908-a738-ffc34e703464",
   "metadata": {},
   "outputs": [
    {
     "name": "stdout",
     "output_type": "stream",
     "text": [
      "1\n",
      "3\n",
      "5\n",
      "7\n",
      "9\n"
     ]
    }
   ],
   "source": [
    "for i in range(1,10,2):\n",
    "    print(i)"
   ]
  },
  {
   "cell_type": "code",
   "execution_count": 48,
   "id": "b6fa94d0-71b9-452e-8235-701d0e9d08bc",
   "metadata": {},
   "outputs": [
    {
     "name": "stdout",
     "output_type": "stream",
     "text": [
      "*\n",
      "**\n",
      "***\n",
      "****\n",
      "*****\n",
      "******\n",
      "*******\n"
     ]
    }
   ],
   "source": [
    " ## Nested Loops\n",
    "n=7\n",
    "    \n",
    "for i in range(0,n):\n",
    "    for j in range(0,i+1):\n",
    "        print(\"*\",end=\"\")\n",
    "    print(\"\\r\")"
   ]
  },
  {
   "cell_type": "code",
   "execution_count": null,
   "id": "a42de209-c1d4-4928-9fc7-8c6fed94987b",
   "metadata": {},
   "outputs": [],
   "source": [
    "# Assignment to create like below  *\n",
    "     *\n",
    "    * *\n",
    "   * * * \n",
    "  * * * *\n",
    " * * * * * \n",
    "* * * * * *"
   ]
  },
  {
   "cell_type": "code",
   "execution_count": 80,
   "id": "633e8703-1071-4f34-9924-f35d17ec619f",
   "metadata": {},
   "outputs": [
    {
     "name": "stdout",
     "output_type": "stream",
     "text": [
      "    \n",
      "    \n",
      " *  *  *  * \n",
      " * *  * *  * *  * * \n",
      " * * *  * * *  * * *  * * * \n"
     ]
    }
   ],
   "source": [
    "# Function to demonstrate printing pattern triangle\n",
    "n=5\n",
    "\n",
    "for i in range(0, n):\n",
    "    for j in range(0,n-1):\n",
    "            print(end=\" \")\n",
    "            \n",
    "            for j in range(0,i-1):\n",
    "                print(\"*\",end= \" \")\n",
    "    print(\"\\r\")\n",
    "    \n",
    "    "
   ]
  },
  {
   "cell_type": "markdown",
   "id": "34c38eaf-80b9-4db3-b6cc-5350c3b362d1",
   "metadata": {},
   "source": [
    "## Loop Controls \n",
    "\n",
    "## Break and continue\n",
    "\n"
   ]
  },
  {
   "cell_type": "code",
   "execution_count": null,
   "id": "8676094f-c6d8-46d7-b1e6-a2d41d7dd75f",
   "metadata": {},
   "outputs": [],
   "source": [
    "# Break: when Apple come then it will replace with new value then break the operation"
   ]
  },
  {
   "cell_type": "code",
   "execution_count": 49,
   "id": "4c54deb2-cfe1-4127-8332-babbe02144a6",
   "metadata": {},
   "outputs": [],
   "source": [
    "fruits_list = [\"Mango\",\"cherry\",\"Apple\",\"papaya\",\"Banana\"]"
   ]
  },
  {
   "cell_type": "code",
   "execution_count": 52,
   "id": "b85a8435-bc56-41cc-a9d3-63bffdc3ea5b",
   "metadata": {},
   "outputs": [
    {
     "name": "stdout",
     "output_type": "stream",
     "text": [
      "Mango\n",
      "cherry\n",
      "the Fruite is appple\n"
     ]
    }
   ],
   "source": [
    "for i in fruits_list:\n",
    "    if i== \"Apple\":\n",
    "        print(\"the Fruite is appple\")\n",
    "        break\n",
    "    print(i)"
   ]
  },
  {
   "cell_type": "code",
   "execution_count": null,
   "id": "7dc2f54a-f4c5-4031-84d7-a6b6c20ec975",
   "metadata": {},
   "outputs": [],
   "source": [
    "# Pass : it will not skip the Apple nanme and then continue"
   ]
  },
  {
   "cell_type": "code",
   "execution_count": 53,
   "id": "9d9883ad-ebd8-4871-bdae-6e7c42465551",
   "metadata": {},
   "outputs": [
    {
     "name": "stdout",
     "output_type": "stream",
     "text": [
      "Mango\n",
      "cherry\n",
      "the Fruite is appple\n",
      "Apple\n",
      "papaya\n",
      "Banana\n"
     ]
    }
   ],
   "source": [
    "for i in fruits_list:\n",
    "    if i== \"Apple\":\n",
    "        print(\"the Fruite is appple\")\n",
    "        pass\n",
    "    print(i)"
   ]
  },
  {
   "cell_type": "code",
   "execution_count": null,
   "id": "335525ec-0ab0-4290-bc70-7d8ef1ada071",
   "metadata": {},
   "outputs": [],
   "source": [
    "# continue : it will Skip the Apple nanme and then continue"
   ]
  },
  {
   "cell_type": "code",
   "execution_count": 54,
   "id": "f704b751-ebed-49ea-a0cf-992b440a2a78",
   "metadata": {},
   "outputs": [
    {
     "name": "stdout",
     "output_type": "stream",
     "text": [
      "Mango\n",
      "cherry\n",
      "the Fruite is appple\n",
      "papaya\n",
      "Banana\n"
     ]
    }
   ],
   "source": [
    "for i in fruits_list:\n",
    "    if i== \"Apple\":\n",
    "        print(\"the Fruite is appple\")\n",
    "        continue\n",
    "    print(i)"
   ]
  },
  {
   "cell_type": "markdown",
   "id": "d03b7b1f-f316-4804-aef0-0b912909484c",
   "metadata": {},
   "source": [
    "## Test pratice"
   ]
  },
  {
   "cell_type": "code",
   "execution_count": 81,
   "id": "bb7fb12d-498e-4f11-8b5a-b7127847f0e1",
   "metadata": {},
   "outputs": [
    {
     "data": {
      "text/plain": [
       "(-1+3j)"
      ]
     },
     "execution_count": 81,
     "metadata": {},
     "output_type": "execute_result"
    }
   ],
   "source": [
    "num1=23\n",
    "num2=44\n",
    "num2=2+3j\n",
    "num1=num2.imag\n",
    "num2-num1"
   ]
  },
  {
   "cell_type": "code",
   "execution_count": 82,
   "id": "4a95bdfc-e49c-4e23-a36f-d06c15d1d108",
   "metadata": {},
   "outputs": [
    {
     "ename": "ValueError",
     "evalue": "invalid literal for int() with base 10: 'pwskills'",
     "output_type": "error",
     "traceback": [
      "\u001b[0;31m---------------------------------------------------------------------------\u001b[0m",
      "\u001b[0;31mValueError\u001b[0m                                Traceback (most recent call last)",
      "Cell \u001b[0;32mIn[82], line 1\u001b[0m\n\u001b[0;32m----> 1\u001b[0m \u001b[38;5;28;43mint\u001b[39;49m\u001b[43m(\u001b[49m\u001b[38;5;124;43m'\u001b[39;49m\u001b[38;5;124;43mpwskills\u001b[39;49m\u001b[38;5;124;43m'\u001b[39;49m\u001b[43m)\u001b[49m\u001b[38;5;241m+\u001b[39m\u001b[38;5;241m1\u001b[39m\n",
      "\u001b[0;31mValueError\u001b[0m: invalid literal for int() with base 10: 'pwskills'"
     ]
    }
   ],
   "source": [
    "int('pwskills')+1"
   ]
  },
  {
   "cell_type": "code",
   "execution_count": 83,
   "id": "09313577-d855-4a10-aa00-2a13c6ca88a8",
   "metadata": {},
   "outputs": [
    {
     "ename": "NameError",
     "evalue": "name 'nt' is not defined",
     "output_type": "error",
     "traceback": [
      "\u001b[0;31m---------------------------------------------------------------------------\u001b[0m",
      "\u001b[0;31mNameError\u001b[0m                                 Traceback (most recent call last)",
      "Cell \u001b[0;32mIn[83], line 1\u001b[0m\n\u001b[0;32m----> 1\u001b[0m \u001b[43mnt\u001b[49m(\u001b[38;5;124m'\u001b[39m\u001b[38;5;124mpwskills\u001b[39m\u001b[38;5;124m'\u001b[39m)\u001b[38;5;241m+\u001b[39m\u001b[38;5;28mint\u001b[39m(\u001b[38;5;241m1\u001b[39m)\n",
      "\u001b[0;31mNameError\u001b[0m: name 'nt' is not defined"
     ]
    }
   ],
   "source": [
    "nt('pwskills')+int(1)"
   ]
  },
  {
   "cell_type": "code",
   "execution_count": 84,
   "id": "fa7d3550-9b8f-4de3-96d7-b467e897bccd",
   "metadata": {},
   "outputs": [
    {
     "ename": "TypeError",
     "evalue": "can only concatenate str (not \"int\") to str",
     "output_type": "error",
     "traceback": [
      "\u001b[0;31m---------------------------------------------------------------------------\u001b[0m",
      "\u001b[0;31mTypeError\u001b[0m                                 Traceback (most recent call last)",
      "Cell \u001b[0;32mIn[84], line 1\u001b[0m\n\u001b[0;32m----> 1\u001b[0m \u001b[38;5;124;43m'\u001b[39;49m\u001b[38;5;124;43mpwskills\u001b[39;49m\u001b[38;5;124;43m'\u001b[39;49m\u001b[38;5;241;43m+\u001b[39;49m\u001b[38;5;241;43m1\u001b[39;49m\n",
      "\u001b[0;31mTypeError\u001b[0m: can only concatenate str (not \"int\") to str"
     ]
    }
   ],
   "source": [
    "'pwskills'+1"
   ]
  },
  {
   "cell_type": "code",
   "execution_count": 86,
   "id": "ec3c4ace-433d-4b74-866f-2dd24d9e3379",
   "metadata": {},
   "outputs": [
    {
     "ename": "TypeError",
     "evalue": "'str' object does not support item assignment",
     "output_type": "error",
     "traceback": [
      "\u001b[0;31m---------------------------------------------------------------------------\u001b[0m",
      "\u001b[0;31mTypeError\u001b[0m                                 Traceback (most recent call last)",
      "Cell \u001b[0;32mIn[86], line 2\u001b[0m\n\u001b[1;32m      1\u001b[0m Name\u001b[38;5;241m=\u001b[39m\u001b[38;5;124m'\u001b[39m\u001b[38;5;124mpwskills\u001b[39m\u001b[38;5;124m'\u001b[39m\n\u001b[0;32m----> 2\u001b[0m \u001b[43mName\u001b[49m\u001b[43m[\u001b[49m\u001b[38;5;241;43m0\u001b[39;49m\u001b[43m]\u001b[49m\u001b[38;5;241m=\u001b[39m\u001b[38;5;124m'\u001b[39m\u001b[38;5;124mP\u001b[39m\u001b[38;5;124m'\u001b[39m\n",
      "\u001b[0;31mTypeError\u001b[0m: 'str' object does not support item assignment"
     ]
    }
   ],
   "source": [
    "Name='pwskills'\n",
    "Name[0]='P'"
   ]
  },
  {
   "cell_type": "code",
   "execution_count": 87,
   "id": "81ee189e-1e8e-4001-9018-d2b038848c93",
   "metadata": {},
   "outputs": [
    {
     "data": {
      "text/plain": [
       "True"
      ]
     },
     "execution_count": 87,
     "metadata": {},
     "output_type": "execute_result"
    }
   ],
   "source": [
    "'pwskills'.upper().lower().isalnum()"
   ]
  },
  {
   "cell_type": "code",
   "execution_count": null,
   "id": "15a23a64-fc01-4a21-bdad-0d458451bd72",
   "metadata": {},
   "outputs": [],
   "source": []
  }
 ],
 "metadata": {
  "kernelspec": {
   "display_name": "Python 3 (ipykernel)",
   "language": "python",
   "name": "python3"
  },
  "language_info": {
   "codemirror_mode": {
    "name": "ipython",
    "version": 3
   },
   "file_extension": ".py",
   "mimetype": "text/x-python",
   "name": "python",
   "nbconvert_exporter": "python",
   "pygments_lexer": "ipython3",
   "version": "3.10.8"
  }
 },
 "nbformat": 4,
 "nbformat_minor": 5
}
