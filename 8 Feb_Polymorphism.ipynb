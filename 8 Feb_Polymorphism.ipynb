{
 "cells": [
  {
   "cell_type": "markdown",
   "id": "81af1b08-0da8-4445-bf1b-0b1336b779a9",
   "metadata": {},
   "source": [
    "##What is Polymorphism: The word polymorphism means having many forms. In programming, polymorphism means the same function name (but different signatures) being used for different types. The key difference is the data types and number of arguments used in function."
   ]
  },
  {
   "cell_type": "code",
   "execution_count": 2,
   "id": "8b767e99-6799-434c-ae44-473cee9520bd",
   "metadata": {},
   "outputs": [],
   "source": [
    "def test(a,b):\n",
    "    return a + b"
   ]
  },
  {
   "cell_type": "code",
   "execution_count": 3,
   "id": "b79d650c-a472-4cbe-b5fc-ef29800550a9",
   "metadata": {},
   "outputs": [
    {
     "data": {
      "text/plain": [
       "9"
      ]
     },
     "execution_count": 3,
     "metadata": {},
     "output_type": "execute_result"
    }
   ],
   "source": [
    "test(4,5)"
   ]
  },
  {
   "cell_type": "code",
   "execution_count": 7,
   "id": "dae8224e-ebf1-4c62-ac90-478f556b7300",
   "metadata": {},
   "outputs": [
    {
     "data": {
      "text/plain": [
       "'sudh kumar'"
      ]
     },
     "execution_count": 7,
     "metadata": {},
     "output_type": "execute_result"
    }
   ],
   "source": [
    "test(\"sudh\" , \" kumar\")"
   ]
  },
  {
   "cell_type": "code",
   "execution_count": 9,
   "id": "46a44b29-424f-4bf4-ae3e-56900693f860",
   "metadata": {},
   "outputs": [
    {
     "data": {
      "text/plain": [
       "[2, 3, 4, 5, 5, 4, 2, 3, 1]"
      ]
     },
     "execution_count": 9,
     "metadata": {},
     "output_type": "execute_result"
    }
   ],
   "source": [
    "test([2,3,4,5,5],[4,2,3,1])"
   ]
  },
  {
   "cell_type": "code",
   "execution_count": null,
   "id": "8de8145b-fc1b-4071-b9bd-73bf2d4134f4",
   "metadata": {},
   "outputs": [],
   "source": [
    "## with class and object\n"
   ]
  },
  {
   "cell_type": "code",
   "execution_count": 11,
   "id": "763692f7-2df1-43da-ab66-6fff7582b3f5",
   "metadata": {},
   "outputs": [],
   "source": [
    "\n",
    "class data_science:\n",
    "    def syllabus(self) :\n",
    "        print(\"this is my method for data science syllabus\")"
   ]
  },
  {
   "cell_type": "code",
   "execution_count": 13,
   "id": "80173627-a67b-408b-b450-73a429520392",
   "metadata": {},
   "outputs": [],
   "source": [
    "class web_dev :\n",
    "    def syllabus(self) :\n",
    "        print(\"this is my method for web dev\")"
   ]
  },
  {
   "cell_type": "code",
   "execution_count": 14,
   "id": "8060166d-fd78-47a1-b462-709590475bdd",
   "metadata": {},
   "outputs": [],
   "source": [
    "def class_parcer(class_obj) :\n",
    "    for i in class_obj :\n",
    "        i.syllabus ()"
   ]
  },
  {
   "cell_type": "code",
   "execution_count": 19,
   "id": "8635f524-5fff-446d-a654-e30f29f072a3",
   "metadata": {},
   "outputs": [],
   "source": [
    "obj_data_science =data_science()"
   ]
  },
  {
   "cell_type": "code",
   "execution_count": 16,
   "id": "9c5e9a8b-286b-4ef3-b0c8-9212ee1b9256",
   "metadata": {},
   "outputs": [],
   "source": [
    "obj_web_dev = web_dev()"
   ]
  },
  {
   "cell_type": "code",
   "execution_count": 20,
   "id": "6c7f4d76-5e4c-4dc6-8e09-9cbe07ee1036",
   "metadata": {},
   "outputs": [],
   "source": [
    "class_obj = [obj_data_science, obj_web_dev]"
   ]
  },
  {
   "cell_type": "code",
   "execution_count": 22,
   "id": "30dc4f62-68c9-4f99-85ea-63b150c9c253",
   "metadata": {},
   "outputs": [
    {
     "name": "stdout",
     "output_type": "stream",
     "text": [
      "this is my method for data science syllabus\n",
      "this is my method for web dev\n"
     ]
    }
   ],
   "source": [
    "class_parcer(class_obj)"
   ]
  },
  {
   "cell_type": "code",
   "execution_count": 23,
   "id": "e24345f8-9c95-4341-9066-8f1d26dff594",
   "metadata": {},
   "outputs": [],
   "source": [
    "## with class and object ^^^"
   ]
  },
  {
   "cell_type": "code",
   "execution_count": null,
   "id": "e83fe676-c39e-4477-b258-f658a84ac993",
   "metadata": {},
   "outputs": [],
   "source": []
  }
 ],
 "metadata": {
  "kernelspec": {
   "display_name": "Python 3 (ipykernel)",
   "language": "python",
   "name": "python3"
  },
  "language_info": {
   "codemirror_mode": {
    "name": "ipython",
    "version": 3
   },
   "file_extension": ".py",
   "mimetype": "text/x-python",
   "name": "python",
   "nbconvert_exporter": "python",
   "pygments_lexer": "ipython3",
   "version": "3.10.8"
  }
 },
 "nbformat": 4,
 "nbformat_minor": 5
}
