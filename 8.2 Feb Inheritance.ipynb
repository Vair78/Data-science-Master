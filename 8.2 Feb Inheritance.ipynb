{
 "cells": [
  {
   "cell_type": "markdown",
   "id": "0ba30284-934a-4bf0-aa08-6c9a7ece4359",
   "metadata": {},
   "source": [
    "## Inheritance in Oops"
   ]
  },
  {
   "cell_type": "markdown",
   "id": "631933b5-b7da-4dd8-9f48-efd776377597",
   "metadata": {},
   "source": [
    "## Inheritance in Python\n",
    "One of the core concepts in object-oriented programming (OOP) languages is inheritance. It is a mechanism that allows you to create a hierarchy of classes that share a set of properties and methods by deriving a class from another class. Inheritance is the capability of one class to derive or inherit the properties from another class. \n",
    "\n",
    "Benefits of inheritance are: \n",
    "It represents real-world relationships well.\n",
    "It provides the reusability of a code. We don’t have to write the same code again and again. Also, it allows us to add more features to a class without modifying it.\n",
    "It is transitive in nature, which means that if class B inherits from another class A, then all the subclasses of B would automatically inherit from class A.\n",
    "Inheritance offers a simple, understandable model structure. \n",
    "Less development and maintenance expenses result from an inheritance.\n",
    "\n",
    "## Different types of Inheritance:\n",
    "Single inheritance: When a child class inherits from only one parent class, it is called single inheritance. We saw an example above.\n",
    "Multiple inheritances: When a child class inherits from multiple parent classes, it is called multiple inheritances.\n"
   ]
  },
  {
   "cell_type": "code",
   "execution_count": 1,
   "id": "6620bca2-4a45-41d2-8254-a780c7074ae6",
   "metadata": {},
   "outputs": [],
   "source": [
    "class parent :\n",
    "    def test_parent(self) :\n",
    "        print(\"this is my parent class\")"
   ]
  },
  {
   "cell_type": "code",
   "execution_count": 4,
   "id": "46dba48b-fd3f-4aa9-8177-28cc5260de95",
   "metadata": {},
   "outputs": [],
   "source": [
    "class child(parent) :\n",
    "    pass"
   ]
  },
  {
   "cell_type": "code",
   "execution_count": 5,
   "id": "ea907982-2ade-4551-acf1-00171e971df3",
   "metadata": {},
   "outputs": [],
   "source": [
    "child_obj = child()"
   ]
  },
  {
   "cell_type": "code",
   "execution_count": 8,
   "id": "fa3b7f80-4f2d-4b84-84cf-21593a9979fb",
   "metadata": {},
   "outputs": [
    {
     "name": "stdout",
     "output_type": "stream",
     "text": [
      "this is my parent class\n"
     ]
    }
   ],
   "source": [
    "child_obj.test_parent()"
   ]
  },
  {
   "cell_type": "code",
   "execution_count": 12,
   "id": "95bea589-344f-40ad-8951-097f6cf5f045",
   "metadata": {},
   "outputs": [],
   "source": [
    "## Multileble Inheritance  mean class 3 access calss2, class1.\n",
    "class class1 :\n",
    "    def test_class1(self) :\n",
    "        print(\"this is my class1\")"
   ]
  },
  {
   "cell_type": "code",
   "execution_count": 16,
   "id": "84b57e9a-2fc0-4e5e-8f0e-41ba6343046d",
   "metadata": {},
   "outputs": [],
   "source": [
    "class class2(class1) :\n",
    "    def test_class2(self):\n",
    "        print(\"this is my class2\")"
   ]
  },
  {
   "cell_type": "code",
   "execution_count": 17,
   "id": "7adddd9a-8982-493d-9cf2-5ff8374befcb",
   "metadata": {},
   "outputs": [],
   "source": [
    "class class3 (class2):\n",
    "    def test_class3(self) :\n",
    "        print(\"this is my class3\")"
   ]
  },
  {
   "cell_type": "code",
   "execution_count": 18,
   "id": "9a50c092-ff45-448d-a343-9094b4ac995d",
   "metadata": {},
   "outputs": [],
   "source": [
    "obj_class3  = class3()"
   ]
  },
  {
   "cell_type": "code",
   "execution_count": 19,
   "id": "8983e42a-7fdb-40ba-95a5-b5aa204a3d4c",
   "metadata": {},
   "outputs": [
    {
     "name": "stdout",
     "output_type": "stream",
     "text": [
      "this is my class1\n"
     ]
    }
   ],
   "source": [
    "obj_class3.test_class1()"
   ]
  },
  {
   "cell_type": "code",
   "execution_count": 20,
   "id": "5620244b-a070-40bd-a0fc-866540712a47",
   "metadata": {},
   "outputs": [
    {
     "name": "stdout",
     "output_type": "stream",
     "text": [
      "this is my class2\n"
     ]
    }
   ],
   "source": [
    "obj_class3.test_class2()"
   ]
  },
  {
   "cell_type": "code",
   "execution_count": 21,
   "id": "1d582ae1-cecd-45d7-a3fc-179319afb466",
   "metadata": {},
   "outputs": [
    {
     "name": "stdout",
     "output_type": "stream",
     "text": [
      "this is my class3\n"
     ]
    }
   ],
   "source": [
    "obj_class3.test_class3()"
   ]
  },
  {
   "cell_type": "markdown",
   "id": "8fba0b88-5925-4ca8-9bf9-51f659a4b03b",
   "metadata": {},
   "source": [
    "## Multiple heritance"
   ]
  },
  {
   "cell_type": "code",
   "execution_count": 23,
   "id": "a33966f7-a929-47b6-847f-96acb69611ac",
   "metadata": {},
   "outputs": [],
   "source": [
    "class class1:\n",
    "    def test_class1(self):\n",
    "        print(\"This is my Class 1\")"
   ]
  },
  {
   "cell_type": "code",
   "execution_count": 24,
   "id": "08a3d4f4-3987-451c-a7b7-95b361187ac2",
   "metadata": {},
   "outputs": [],
   "source": [
    "class class2 :\n",
    "    def test_class2(self) :\n",
    "        print(\"This is my Class 2\")"
   ]
  },
  {
   "cell_type": "code",
   "execution_count": 25,
   "id": "f56deff2-c4a2-4892-b219-2fba25b6c99e",
   "metadata": {},
   "outputs": [],
   "source": [
    "class class3 (class1, class2):\n",
    "    pass"
   ]
  },
  {
   "cell_type": "code",
   "execution_count": 26,
   "id": "73bd6ccd-09ab-485c-bc47-99fd7e81ed2b",
   "metadata": {},
   "outputs": [],
   "source": [
    "obj_class3 = class3()"
   ]
  },
  {
   "cell_type": "code",
   "execution_count": 27,
   "id": "0312ed20-e5e9-4481-a70e-b65c950fd278",
   "metadata": {},
   "outputs": [
    {
     "name": "stdout",
     "output_type": "stream",
     "text": [
      "This is my Class 1\n"
     ]
    }
   ],
   "source": [
    "obj_class3.test_class1()"
   ]
  },
  {
   "cell_type": "code",
   "execution_count": 28,
   "id": "4ae09591-00e2-4251-959b-893f316e2288",
   "metadata": {},
   "outputs": [
    {
     "name": "stdout",
     "output_type": "stream",
     "text": [
      "This is my Class 2\n"
     ]
    }
   ],
   "source": [
    "obj_class3.test_class2()"
   ]
  },
  {
   "cell_type": "code",
   "execution_count": null,
   "id": "64362ba6-0e35-4429-8d21-c712827e93b3",
   "metadata": {},
   "outputs": [],
   "source": [
    "# so here above class 3  have access of class 1, Class 2 "
   ]
  }
 ],
 "metadata": {
  "kernelspec": {
   "display_name": "Python 3 (ipykernel)",
   "language": "python",
   "name": "python3"
  },
  "language_info": {
   "codemirror_mode": {
    "name": "ipython",
    "version": 3
   },
   "file_extension": ".py",
   "mimetype": "text/x-python",
   "name": "python",
   "nbconvert_exporter": "python",
   "pygments_lexer": "ipython3",
   "version": "3.10.8"
  }
 },
 "nbformat": 4,
 "nbformat_minor": 5
}
