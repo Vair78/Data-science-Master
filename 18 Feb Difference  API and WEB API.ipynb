{
 "cells": [
  {
   "cell_type": "markdown",
   "id": "6f15fa6c-07df-4158-b8ea-020c1234832c",
   "metadata": {},
   "source": [
    "## Difference B/W API  and WEB API\n",
    "\n",
    "** Key Differences between API and Web Services\n",
    "- Web service is a collection of open source protocols and standards used for exchanging data between systems or applications,whereas API is a software interface that allows two applications to interact with each other without any user involvement.\n",
    "- Web service is used for REST, SOAP, and XML-RPC for communication, while API is used for any style of communication.\n",
    "- Web service supports only HTTP protocol, whereas API supports HTTP/HTTPS protocol.\n",
    "- Web service supports XML, while API supports XML and JSON.\n",
    "- All Web services are APIs, but all APIs are not web services."
   ]
  },
  {
   "cell_type": "markdown",
   "id": "3ab7b9f6-17d7-4c2f-a5b1-d495d23dee4c",
   "metadata": {},
   "source": [
    "\n",
    "## 18.3  Rest and Soap Architecture\n",
    "\n",
    "\n",
    "* SOAP API ***\n",
    "\n",
    "1. Relies on SOAP (Simple Object Access Protocol)\n",
    "2. Transports data in standard XML format\n",
    "3. Because it is XML based and relies on SOAP, it works with WSDL\n",
    "4. Works over HTTP, HTTPS, SMTP, XMPP\n",
    "5. Highly structured/typed\n",
    "6. Designed with large enterprise applications in mind\n",
    "\n",
    "* REST API****\n",
    "1. Relies on REST (Representational State Transfer) architecture using HTTP.\n",
    "2. Generally transports data in JSON. It is based on URI. Because REST follows stateless model, REST does not enforces message format as XML or JSON etc\n",
    "3. It works with GET, POST, PUT, DELETE\n",
    "4. Works over HTTP and HTTPS\n",
    "5. Less structured -> less bulky data\n",
    "6. Designed with mobile devices in mind\n",
    "--------------------------------------------------------------------------------------------------------\n",
    "\n",
    "- There is no direct comparison between SOAP and REST APIs. But there are some points to be listed below which makes you choose better between these two web services. Here are: \n",
    "\n",
    "- SOAP stands for Simple Object Access Protocol and REST stands for Representational State Transfer.Since SOAP is a protocol, it follows a strict standard to allow communication between the client and the server\n",
    "- REST is an architectural style that doesn’t follow any strict standard but follows six constraints defined by Roy Fielding in 2000.\n",
    "\n",
    "- Since SOAP is a protocol, it follows a strict standard to allow communication between the client and the server whereas REST is an architectural style that doesn’t follow any strict standard but follows six constraints defined by Roy Fielding in 2000. Those constraints are – Uniform Interface, Client-Server, Stateless, Cacheable, Layered System, Code on Demand.\n",
    "\n",
    "- SOAP uses only XML for exchanging information in its message format whereas REST is not restricted to XML and its the choice of implementer which Media-Type to use like XML, JSON, Plain-text. Moreover, REST can use SOAP protocol but SOAP cannot use REST.\n",
    "- On behalf of services interfaces to business logic, SOAP uses @WebService whereas REST instead of using interfaces uses URI like @Path.\n",
    "\n",
    "- SOAP is difficult to implement and it requires more bandwidth whereas REST is easy to implement and requires less bandwidth such as smartphones.\n",
    "\n",
    "- Benefits of SOAP over REST as SOAP has ACID compliance transaction. Some of the applications require transaction ability which is accepted by SOAP whereas REST lacks in it.\n",
    "\n",
    "- On the basis of Security, SOAP has SSL( Secure Socket Layer) and WS-security whereas REST has SSL and HTTPS. In the case of Bank Account Password, Card Number, etc. SOAP is preferred over REST. The security issue is all about your application requirement, you have to build security on your own. It’s about what type of protocol you use.\n",
    "\n",
    "- SOAP cannot make use of REST since SOAP is a protocol without any architectural pattern. REST can make use of SOAP because it is an architectural pattern having protocol\n",
    "\n"
   ]
  },
  {
   "cell_type": "code",
   "execution_count": null,
   "id": "7fe5e5af-0bcc-47f6-a18d-a12b50eda0a5",
   "metadata": {},
   "outputs": [],
   "source": []
  }
 ],
 "metadata": {
  "kernelspec": {
   "display_name": "Python 3 (ipykernel)",
   "language": "python",
   "name": "python3"
  },
  "language_info": {
   "codemirror_mode": {
    "name": "ipython",
    "version": 3
   },
   "file_extension": ".py",
   "mimetype": "text/x-python",
   "name": "python",
   "nbconvert_exporter": "python",
   "pygments_lexer": "ipython3",
   "version": "3.10.8"
  }
 },
 "nbformat": 4,
 "nbformat_minor": 5
}
