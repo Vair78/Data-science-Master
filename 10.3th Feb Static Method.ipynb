{
 "cells": [
  {
   "cell_type": "markdown",
   "id": "1a20b9e9-cca2-406b-b952-d8c95bc1ff4f",
   "metadata": {},
   "source": [
    "# What is the Static Method in Python?\n",
    "A static method does not receive an implicit first argument. A static method is also a method that is bound to the class and not the object of the class. This method can’t access or modify the class state. It is present in a class because it makes sense for the method to be present in class."
   ]
  },
  {
   "cell_type": "markdown",
   "id": "9b95d87d-06e0-45ad-9342-f9254457d295",
   "metadata": {},
   "source": [
    "# Syntax Python Static Method: \n",
    "\n",
    "class C(object):\n",
    "    @staticmethod\n",
    "    def fun(arg1, arg2, ...):\n",
    "        ...\n",
    "returns: a static method for function fun.\n",
    "\n",
    "# When to use the class or static method?\n",
    "We generally use the class method to create factory methods. Factory methods return class objects ( similar to a constructor ) for different use cases.\n",
    "We generally use static methods to create utility functions."
   ]
  },
  {
   "cell_type": "code",
   "execution_count": 1,
   "id": "226d34fe-0316-4fad-8e90-0b66eb7408f6",
   "metadata": {},
   "outputs": [],
   "source": [
    "# this is object\n",
    "class pwskills :\n",
    "    def student_details(self, name, mail_id , number) :\n",
    "        print(name, mail_id , number )"
   ]
  },
  {
   "cell_type": "code",
   "execution_count": 2,
   "id": "88c08827-2360-4d7b-8527-63d0b4593d59",
   "metadata": {},
   "outputs": [],
   "source": [
    "pw = pwskills()"
   ]
  },
  {
   "cell_type": "code",
   "execution_count": 3,
   "id": "d117509e-cb8a-4f40-a88e-79ccea7deaa6",
   "metadata": {},
   "outputs": [
    {
     "name": "stdout",
     "output_type": "stream",
     "text": [
      "vai vaibh@gmail.com 4444444\n"
     ]
    }
   ],
   "source": [
    "pw.student_details(\"vai\", \"vaibh@gmail.com\", 4444444)"
   ]
  },
  {
   "cell_type": "code",
   "execution_count": 16,
   "id": "09f3a967-1e64-4ca9-9094-e6a651d247b0",
   "metadata": {},
   "outputs": [],
   "source": [
    "class pwskills1:\n",
    "    def student_details(self, name, mail_id, number) :\n",
    "        print(name, mail_id , number )\n",
    "        \n",
    "    \n",
    "    @staticmethod\n",
    "    def mentor_class (list_mentor):\n",
    "        print(list_mentor)\n",
    "        \n",
    "    def mentor(self,mentor_list) :\n",
    "        print(mentor_list)\n",
    "            "
   ]
  },
  {
   "cell_type": "code",
   "execution_count": 17,
   "id": "ac120952-f447-499e-a816-d112e47af425",
   "metadata": {},
   "outputs": [],
   "source": [
    "pw1 = pwskills1()"
   ]
  },
  {
   "cell_type": "code",
   "execution_count": 18,
   "id": "7a036be4-5ab9-4c99-9d7c-c968e85ae089",
   "metadata": {},
   "outputs": [
    {
     "name": "stdout",
     "output_type": "stream",
     "text": [
      "['vai', 'ybhav']\n"
     ]
    }
   ],
   "source": [
    "pw1.mentor([\"vai\",\"ybhav\"])"
   ]
  },
  {
   "cell_type": "code",
   "execution_count": 13,
   "id": "1241f5e4-7864-4aa5-9569-83b0cedbf116",
   "metadata": {},
   "outputs": [
    {
     "name": "stdout",
     "output_type": "stream",
     "text": [
      "['vai', 'bhav']\n"
     ]
    }
   ],
   "source": [
    "pwskills1.mentor_class([\"vai\",\"bhav\"])"
   ]
  },
  {
   "cell_type": "code",
   "execution_count": 27,
   "id": "89511f91-3bad-465b-8f20-ff41f2a8eb28",
   "metadata": {},
   "outputs": [],
   "source": [
    "class pwskills1:\n",
    "    def student_details(self, name, mail_id, number) :\n",
    "        print(name, mail_id , number )\n",
    "        \n",
    "    \n",
    "    @staticmethod\n",
    "    def mentor_mail_id(mail_id):\n",
    "        print(mail_id)\n",
    "    \n",
    "    @staticmethod\n",
    "    def mentor_class (list_mentor):\n",
    "        print(list_mentor)\n",
    "        pwskills1.mentor_mail_id([\"krishmail@.com\", \"sudh@gmail.com\"])\n",
    "        \n",
    "    \n",
    "    @classmethod\n",
    "    def class_name(cls,class_name):\n",
    "        cls.mentor_class([\"vaib\",\"bhav\"])\n",
    "        \n",
    "    def mentor(self,mentor_list) :\n",
    "        print(mentor_list)\n",
    "        self.mentor_class([\"krish\",\"sudh\"])\n",
    "        \n",
    "            "
   ]
  },
  {
   "cell_type": "code",
   "execution_count": 29,
   "id": "b14ebc27-abca-4e6e-8c11-8dd8fa3bc4a7",
   "metadata": {},
   "outputs": [],
   "source": [
    "pw1 = pwskills1()"
   ]
  },
  {
   "cell_type": "code",
   "execution_count": 30,
   "id": "ada9ccce-b91e-44ee-a77e-e191a3e4fb34",
   "metadata": {},
   "outputs": [
    {
     "name": "stdout",
     "output_type": "stream",
     "text": [
      "mohan mohan@gmail.com 777778888\n"
     ]
    }
   ],
   "source": [
    "pw1.student_details(\"mohan\", \"mohan@gmail.com\", 777778888)"
   ]
  },
  {
   "cell_type": "code",
   "execution_count": 31,
   "id": "6f7cd54a-8162-46f3-bbdd-a7bae748d9e2",
   "metadata": {},
   "outputs": [
    {
     "name": "stdout",
     "output_type": "stream",
     "text": [
      "['krish@gmail.com', 'sudh@gmail.com']\n"
     ]
    }
   ],
   "source": [
    "pw1.mentor_mail_id([\"krish@gmail.com\",\"sudh@gmail.com\"])"
   ]
  },
  {
   "cell_type": "code",
   "execution_count": 32,
   "id": "a4bfc871-360c-4a9c-bbad-16418e488c4c",
   "metadata": {},
   "outputs": [
    {
     "name": "stdout",
     "output_type": "stream",
     "text": [
      "['vaib', 'bhav']\n",
      "['krishmail@.com', 'sudh@gmail.com']\n"
     ]
    }
   ],
   "source": [
    "pw1.class_name(\"data science master\")"
   ]
  },
  {
   "cell_type": "code",
   "execution_count": 25,
   "id": "88a1f7b3-4a36-4352-833a-b04c5f4348c7",
   "metadata": {},
   "outputs": [
    {
     "name": "stdout",
     "output_type": "stream",
     "text": [
      "['krish@gmail.com', 'sudh@gmail.com']\n"
     ]
    }
   ],
   "source": [
    "pwskills1.mentor_mail_id([\"krish@gmail.com\", \"sudh@gmail.com\"])"
   ]
  },
  {
   "cell_type": "code",
   "execution_count": null,
   "id": "2e8b8a4f-192d-4d50-b03d-6f5cbd86abff",
   "metadata": {},
   "outputs": [],
   "source": []
  }
 ],
 "metadata": {
  "kernelspec": {
   "display_name": "Python 3 (ipykernel)",
   "language": "python",
   "name": "python3"
  },
  "language_info": {
   "codemirror_mode": {
    "name": "ipython",
    "version": 3
   },
   "file_extension": ".py",
   "mimetype": "text/x-python",
   "name": "python",
   "nbconvert_exporter": "python",
   "pygments_lexer": "ipython3",
   "version": "3.10.8"
  }
 },
 "nbformat": 4,
 "nbformat_minor": 5
}
