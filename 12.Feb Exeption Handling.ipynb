{
 "cells": [
  {
   "cell_type": "markdown",
   "id": "71fda141-107e-4d38-9634-67fc207f9fec",
   "metadata": {},
   "source": [
    "## Exception Handling Using try"
   ]
  },
  {
   "cell_type": "code",
   "execution_count": 1,
   "id": "9cf2dbae-644d-4d68-b24f-6da41151a946",
   "metadata": {},
   "outputs": [],
   "source": [
    "a = 10"
   ]
  },
  {
   "cell_type": "code",
   "execution_count": 2,
   "id": "767a7170-21ed-4c97-9692-6424245d1739",
   "metadata": {},
   "outputs": [
    {
     "ename": "ZeroDivisionError",
     "evalue": "division by zero",
     "output_type": "error",
     "traceback": [
      "\u001b[0;31m---------------------------------------------------------------------------\u001b[0m",
      "\u001b[0;31mZeroDivisionError\u001b[0m                         Traceback (most recent call last)",
      "Cell \u001b[0;32mIn[2], line 1\u001b[0m\n\u001b[0;32m----> 1\u001b[0m \u001b[43ma\u001b[49m\u001b[43m \u001b[49m\u001b[38;5;241;43m/\u001b[39;49m\u001b[43m \u001b[49m\u001b[38;5;241;43m0\u001b[39;49m\n",
      "\u001b[0;31mZeroDivisionError\u001b[0m: division by zero"
     ]
    }
   ],
   "source": [
    "a / 0"
   ]
  },
  {
   "cell_type": "code",
   "execution_count": 5,
   "id": "61d7816d-65d2-4924-a9d3-93d8fe97f3cb",
   "metadata": {},
   "outputs": [
    {
     "ename": "FileNotFoundError",
     "evalue": "[Errno 2] No such file or directory: 'test.txt'",
     "output_type": "error",
     "traceback": [
      "\u001b[0;31m---------------------------------------------------------------------------\u001b[0m",
      "\u001b[0;31mFileNotFoundError\u001b[0m                         Traceback (most recent call last)",
      "Cell \u001b[0;32mIn[5], line 1\u001b[0m\n\u001b[0;32m----> 1\u001b[0m f \u001b[38;5;241m=\u001b[39m \u001b[38;5;28;43mopen\u001b[39;49m\u001b[43m(\u001b[49m\u001b[38;5;124;43m\"\u001b[39;49m\u001b[38;5;124;43mtest.txt\u001b[39;49m\u001b[38;5;124;43m\"\u001b[39;49m\u001b[43m,\u001b[49m\u001b[43m \u001b[49m\u001b[38;5;124;43m'\u001b[39;49m\u001b[38;5;124;43mr\u001b[39;49m\u001b[38;5;124;43m'\u001b[39;49m\u001b[43m)\u001b[49m      \u001b[38;5;66;03m# becasue there is not any file \u001b[39;00m\n\u001b[1;32m      2\u001b[0m \u001b[38;5;28mprint\u001b[39m(\u001b[38;5;124m\"\u001b[39m\u001b[38;5;124mthis is my print\u001b[39m\u001b[38;5;124m\"\u001b[39m)\n",
      "File \u001b[0;32m/opt/conda/lib/python3.10/site-packages/IPython/core/interactiveshell.py:282\u001b[0m, in \u001b[0;36m_modified_open\u001b[0;34m(file, *args, **kwargs)\u001b[0m\n\u001b[1;32m    275\u001b[0m \u001b[38;5;28;01mif\u001b[39;00m file \u001b[38;5;129;01min\u001b[39;00m {\u001b[38;5;241m0\u001b[39m, \u001b[38;5;241m1\u001b[39m, \u001b[38;5;241m2\u001b[39m}:\n\u001b[1;32m    276\u001b[0m     \u001b[38;5;28;01mraise\u001b[39;00m \u001b[38;5;167;01mValueError\u001b[39;00m(\n\u001b[1;32m    277\u001b[0m         \u001b[38;5;124mf\u001b[39m\u001b[38;5;124m\"\u001b[39m\u001b[38;5;124mIPython won\u001b[39m\u001b[38;5;124m'\u001b[39m\u001b[38;5;124mt let you open fd=\u001b[39m\u001b[38;5;132;01m{\u001b[39;00mfile\u001b[38;5;132;01m}\u001b[39;00m\u001b[38;5;124m by default \u001b[39m\u001b[38;5;124m\"\u001b[39m\n\u001b[1;32m    278\u001b[0m         \u001b[38;5;124m\"\u001b[39m\u001b[38;5;124mas it is likely to crash IPython. If you know what you are doing, \u001b[39m\u001b[38;5;124m\"\u001b[39m\n\u001b[1;32m    279\u001b[0m         \u001b[38;5;124m\"\u001b[39m\u001b[38;5;124myou can use builtins\u001b[39m\u001b[38;5;124m'\u001b[39m\u001b[38;5;124m open.\u001b[39m\u001b[38;5;124m\"\u001b[39m\n\u001b[1;32m    280\u001b[0m     )\n\u001b[0;32m--> 282\u001b[0m \u001b[38;5;28;01mreturn\u001b[39;00m \u001b[43mio_open\u001b[49m\u001b[43m(\u001b[49m\u001b[43mfile\u001b[49m\u001b[43m,\u001b[49m\u001b[43m \u001b[49m\u001b[38;5;241;43m*\u001b[39;49m\u001b[43margs\u001b[49m\u001b[43m,\u001b[49m\u001b[43m \u001b[49m\u001b[38;5;241;43m*\u001b[39;49m\u001b[38;5;241;43m*\u001b[39;49m\u001b[43mkwargs\u001b[49m\u001b[43m)\u001b[49m\n",
      "\u001b[0;31mFileNotFoundError\u001b[0m: [Errno 2] No such file or directory: 'test.txt'"
     ]
    }
   ],
   "source": [
    "f = open(\"test.txt\", 'r')      # becasue there is not any file \n",
    "print(\"this is my print\")"
   ]
  },
  {
   "cell_type": "code",
   "execution_count": 14,
   "id": "f5a3d03c-9ab6-49aa-8f89-7d328d3e4487",
   "metadata": {},
   "outputs": [
    {
     "name": "stdout",
     "output_type": "stream",
     "text": [
      "there is some issue with my code [Errno 2] No such file or directory: 'test.txt'\n"
     ]
    },
    {
     "data": {
      "text/plain": [
       "10"
      ]
     },
     "execution_count": 14,
     "metadata": {},
     "output_type": "execute_result"
    }
   ],
   "source": [
    " try:\n",
    "        f = open(\"test.txt\", 'r')\n",
    "except Exception as e : \n",
    "        print(\"there is some issue with my code\",e )\n",
    "\n",
    "a = 10 \n",
    "a"
   ]
  },
  {
   "cell_type": "code",
   "execution_count": 17,
   "id": "473e0ccf-3374-4934-98ba-68dc1d2b6dde",
   "metadata": {},
   "outputs": [
    {
     "name": "stdout",
     "output_type": "stream",
     "text": [
      "this block will execute once try will execute itself without an exception\n"
     ]
    }
   ],
   "source": [
    " try:\n",
    "        f = open(\"test.txt\", 'w')\n",
    "        f.write(\"this is my msg\")\n",
    "        \n",
    "except Exception as e : \n",
    "        print(\"there is some issue with my code\",e )\n",
    "        \n",
    "else :\n",
    "        f.close()\n",
    "        print(\"this block will execute once try will execute itself without an exception\")"
   ]
  },
  {
   "cell_type": "markdown",
   "id": "7d85cd7e-0268-43c5-b396-af0e10521fe6",
   "metadata": {},
   "source": [
    " ## Above else funciton will only execute if Try funciton is execute properly."
   ]
  },
  {
   "cell_type": "code",
   "execution_count": 18,
   "id": "fb326acc-6af4-4462-9c35-1acbcf678bd3",
   "metadata": {},
   "outputs": [
    {
     "name": "stdout",
     "output_type": "stream",
     "text": [
      "there is some issue with my code [Errno 2] No such file or directory: 'test1.txt'\n"
     ]
    }
   ],
   "source": [
    " try:\n",
    "        f = open(\"test1.txt\", 'r')           # If there is an error in this line the it will go to Except line \n",
    "        f.write(\"this is my msg\")\n",
    "        \n",
    "except Exception as e : \n",
    "        print(\"there is some issue with my code\",e )\n",
    "        \n",
    "else :\n",
    "        f.close()\n",
    "        print(\"this block will execute once try will execute itself without an exception\")"
   ]
  },
  {
   "cell_type": "markdown",
   "id": "78053c95-b2d9-4c44-9380-469277ee03df",
   "metadata": {},
   "source": [
    " 1. In above Code you can see we dont have test1 file because of that Try function couldnot process so it will went to excetp line\n",
    "and then it is printed\n",
    "2. Else line will not execute becasue TRY funciton is not process because of the Error.\n",
    "3. Hence ELSE function here only works when TRY function will process correct without any error."
   ]
  },
  {
   "cell_type": "code",
   "execution_count": null,
   "id": "2bd74853-e5cf-4f20-b797-029f140bf27c",
   "metadata": {},
   "outputs": [],
   "source": [
    "# FINALLY HANDLING\n",
    "1. You have to write those code which you have to RUN or NEED OUTPUT Anyhow / which are mandatroy code \n",
    "2. Finally will direct run the code which are enter after Finally\n"
   ]
  },
  {
   "cell_type": "code",
   "execution_count": 24,
   "id": "7a319c4e-79be-4709-b7b4-b03b7124ef4b",
   "metadata": {},
   "outputs": [
    {
     "name": "stdout",
     "output_type": "stream",
     "text": [
      "this will alwasy execute\n"
     ]
    },
    {
     "ename": "FileNotFoundError",
     "evalue": "[Errno 2] No such file or directory: 'test1.txt'",
     "output_type": "error",
     "traceback": [
      "\u001b[0;31m---------------------------------------------------------------------------\u001b[0m",
      "\u001b[0;31mFileNotFoundError\u001b[0m                         Traceback (most recent call last)",
      "Cell \u001b[0;32mIn[24], line 4\u001b[0m\n\u001b[1;32m      1\u001b[0m \u001b[38;5;66;03m# FINALLY Handling \u001b[39;00m\n\u001b[1;32m      3\u001b[0m \u001b[38;5;28;01mtry\u001b[39;00m:\n\u001b[0;32m----> 4\u001b[0m     f \u001b[38;5;241m=\u001b[39m \u001b[38;5;28;43mopen\u001b[39;49m\u001b[43m(\u001b[49m\u001b[38;5;124;43m\"\u001b[39;49m\u001b[38;5;124;43mtest1.txt\u001b[39;49m\u001b[38;5;124;43m\"\u001b[39;49m\u001b[43m,\u001b[49m\u001b[43m \u001b[49m\u001b[38;5;124;43m'\u001b[39;49m\u001b[38;5;124;43mr\u001b[39;49m\u001b[38;5;124;43m'\u001b[39;49m\u001b[43m)\u001b[49m           \n\u001b[1;32m      5\u001b[0m     f\u001b[38;5;241m.\u001b[39mwrite(\u001b[38;5;124m\"\u001b[39m\u001b[38;5;124mthis is my msg\u001b[39m\u001b[38;5;124m\"\u001b[39m)\n\u001b[1;32m      6\u001b[0m \u001b[38;5;28;01mfinally\u001b[39;00m :\n",
      "File \u001b[0;32m/opt/conda/lib/python3.10/site-packages/IPython/core/interactiveshell.py:282\u001b[0m, in \u001b[0;36m_modified_open\u001b[0;34m(file, *args, **kwargs)\u001b[0m\n\u001b[1;32m    275\u001b[0m \u001b[38;5;28;01mif\u001b[39;00m file \u001b[38;5;129;01min\u001b[39;00m {\u001b[38;5;241m0\u001b[39m, \u001b[38;5;241m1\u001b[39m, \u001b[38;5;241m2\u001b[39m}:\n\u001b[1;32m    276\u001b[0m     \u001b[38;5;28;01mraise\u001b[39;00m \u001b[38;5;167;01mValueError\u001b[39;00m(\n\u001b[1;32m    277\u001b[0m         \u001b[38;5;124mf\u001b[39m\u001b[38;5;124m\"\u001b[39m\u001b[38;5;124mIPython won\u001b[39m\u001b[38;5;124m'\u001b[39m\u001b[38;5;124mt let you open fd=\u001b[39m\u001b[38;5;132;01m{\u001b[39;00mfile\u001b[38;5;132;01m}\u001b[39;00m\u001b[38;5;124m by default \u001b[39m\u001b[38;5;124m\"\u001b[39m\n\u001b[1;32m    278\u001b[0m         \u001b[38;5;124m\"\u001b[39m\u001b[38;5;124mas it is likely to crash IPython. If you know what you are doing, \u001b[39m\u001b[38;5;124m\"\u001b[39m\n\u001b[1;32m    279\u001b[0m         \u001b[38;5;124m\"\u001b[39m\u001b[38;5;124myou can use builtins\u001b[39m\u001b[38;5;124m'\u001b[39m\u001b[38;5;124m open.\u001b[39m\u001b[38;5;124m\"\u001b[39m\n\u001b[1;32m    280\u001b[0m     )\n\u001b[0;32m--> 282\u001b[0m \u001b[38;5;28;01mreturn\u001b[39;00m \u001b[43mio_open\u001b[49m\u001b[43m(\u001b[49m\u001b[43mfile\u001b[49m\u001b[43m,\u001b[49m\u001b[43m \u001b[49m\u001b[38;5;241;43m*\u001b[39;49m\u001b[43margs\u001b[49m\u001b[43m,\u001b[49m\u001b[43m \u001b[49m\u001b[38;5;241;43m*\u001b[39;49m\u001b[38;5;241;43m*\u001b[39;49m\u001b[43mkwargs\u001b[49m\u001b[43m)\u001b[49m\n",
      "\u001b[0;31mFileNotFoundError\u001b[0m: [Errno 2] No such file or directory: 'test1.txt'"
     ]
    }
   ],
   "source": [
    "# FINALLY Handling \n",
    "    \n",
    "try:\n",
    "    f = open(\"test1.txt\", 'r')           \n",
    "    f.write(\"this is my msg\")\n",
    "finally :\n",
    "     print(\"this will alwasy execute\")"
   ]
  },
  {
   "cell_type": "code",
   "execution_count": 27,
   "id": "35bc0406-c15c-4504-925b-8f47075448fa",
   "metadata": {},
   "outputs": [
    {
     "name": "stdout",
     "output_type": "stream",
     "text": [
      "this block will execute once try will execute itself without an exception\n",
      "I will execute Alwasy\n"
     ]
    }
   ],
   "source": [
    " try:\n",
    "        f = open(\"test1.txt\", 'w')           # If there is an error in this line the it will go to Except line \n",
    "        f.write(\"this is my msg\")\n",
    "        \n",
    "except Exception as e :                     # This will run only if there is an ERROR in TRy Function.\n",
    "        print(\"there is some issue with my code\",e )\n",
    "        \n",
    "else :                                       # Else will execute only if TRY Function or code is without ERROR\n",
    "        f.close()\n",
    "        print(\"this block will execute once try will execute itself without an exception\")\n",
    "\n",
    "finally :                                   # This will run alwasy even with ERROR or without ERROR.\n",
    "    print(\"I will execute Alwasy\")"
   ]
  },
  {
   "cell_type": "code",
   "execution_count": null,
   "id": "1fa7bf2b-024c-4f68-b477-053d40e83936",
   "metadata": {},
   "outputs": [],
   "source": []
  }
 ],
 "metadata": {
  "kernelspec": {
   "display_name": "Python 3 (ipykernel)",
   "language": "python",
   "name": "python3"
  },
  "language_info": {
   "codemirror_mode": {
    "name": "ipython",
    "version": 3
   },
   "file_extension": ".py",
   "mimetype": "text/x-python",
   "name": "python",
   "nbconvert_exporter": "python",
   "pygments_lexer": "ipython3",
   "version": "3.10.8"
  }
 },
 "nbformat": 4,
 "nbformat_minor": 5
}
