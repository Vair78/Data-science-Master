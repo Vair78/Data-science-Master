{
 "cells": [
  {
   "cell_type": "markdown",
   "id": "483f4515-7981-4f0d-ad57-9804aac5da62",
   "metadata": {},
   "source": [
    "## Custom Exception Handling in python"
   ]
  },
  {
   "cell_type": "markdown",
   "id": "2bb01a13-d245-4623-a5fe-0d078c91be22",
   "metadata": {},
   "source": [
    "# Note:\n",
    "\n",
    "1. When we are developing a large Python program, it is a good practice to place all the user-defined exceptions that our program raises in a separate file.\n",
    "2. Many standard modules define their exceptions separately as exceptions.py or errors.py (generally but not always)."
   ]
  },
  {
   "cell_type": "code",
   "execution_count": 2,
   "id": "bb15bacd-ee54-430f-ba9b-1a127e5aabb7",
   "metadata": {},
   "outputs": [
    {
     "name": "stdin",
     "output_type": "stream",
     "text": [
      "input your age -22\n"
     ]
    }
   ],
   "source": [
    "age = int(input(\"input your age\"))"
   ]
  },
  {
   "cell_type": "markdown",
   "id": "6eb838c3-a361-4b8d-98fc-4aa0c48ab8a4",
   "metadata": {},
   "source": [
    "# Creating Custom exception Handling CLass #"
   ]
  },
  {
   "cell_type": "code",
   "execution_count": 4,
   "id": "26f5d589-0abf-4f00-aee4-804f14f7feb7",
   "metadata": {},
   "outputs": [],
   "source": [
    "class validateages(Exception) :\n",
    "    def __init__(self, msg) :\n",
    "        self.msg = msg"
   ]
  },
  {
   "cell_type": "code",
   "execution_count": 6,
   "id": "f0414cc1-cb53-4a7e-b1e1-03c7af79ea3f",
   "metadata": {},
   "outputs": [],
   "source": [
    "def validate_age(age):\n",
    "    if age < 0 :\n",
    "        raise validateages(\"Age should not be lesser than Zero\")\n",
    "    elif age > 200 :\n",
    "        raise validateages(\"Age is too high \")\n",
    "        \n",
    "    else :\n",
    "        print(\"Age is Valid\")"
   ]
  },
  {
   "cell_type": "code",
   "execution_count": 9,
   "id": "3c9f3d47-af66-43fd-80a5-2868312b43ea",
   "metadata": {},
   "outputs": [
    {
     "name": "stdin",
     "output_type": "stream",
     "text": [
      "input your age 254\n"
     ]
    },
    {
     "name": "stdout",
     "output_type": "stream",
     "text": [
      "Age is too high \n"
     ]
    }
   ],
   "source": [
    "try : \n",
    "    age = int(input(\"input your age\"))\n",
    "    validate_age(age)\n",
    "    \n",
    "except validateages as e :\n",
    "    print(e)\n"
   ]
  },
  {
   "cell_type": "code",
   "execution_count": null,
   "id": "a026c64e-fe9b-4dab-b465-c91cb442cb62",
   "metadata": {},
   "outputs": [],
   "source": []
  }
 ],
 "metadata": {
  "kernelspec": {
   "display_name": "Python 3 (ipykernel)",
   "language": "python",
   "name": "python3"
  },
  "language_info": {
   "codemirror_mode": {
    "name": "ipython",
    "version": 3
   },
   "file_extension": ".py",
   "mimetype": "text/x-python",
   "name": "python",
   "nbconvert_exporter": "python",
   "pygments_lexer": "ipython3",
   "version": "3.10.8"
  }
 },
 "nbformat": 4,
 "nbformat_minor": 5
}
