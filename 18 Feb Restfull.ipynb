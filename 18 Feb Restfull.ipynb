{
 "cells": [
  {
   "cell_type": "markdown",
   "id": "af352ced-e308-414d-b0d2-bb28a11a23d8",
   "metadata": {},
   "source": [
    "# Restful Service\n",
    "-Restful Services \n",
    "RESTful services, also known as RESTful APIs, are web services that follow the REST architectural style. REST stands for Representational State Transfer, which is a set of principles for building web services that use HTTP (Hypertext Transfer Protocol) as the communication protocol. \n",
    "\n",
    "RESTful services are based on the following principles: \n",
    "\n",
    " \n",
    "- Client-server architecture: The client and server are separated, allowing them to evolve independently. \n",
    "\n",
    "- Stateless: Each request sent to the server contains all the information needed to complete the request. The server does not maintain any client context between requests. \n",
    "\n",
    "- Cacheable: Responses from the server can be cached to improve performance. \n",
    "\n",
    "- Uniform interface: RESTful services use a uniform interface consisting of resources, HTTP verbs (GET, POST, PUT, DELETE), and hypermedia links. \n",
    "- Layered system: RESTful services can be composed of multiple layers, allowing for scalability, flexibility, and security. \n"
   ]
  },
  {
   "cell_type": "code",
   "execution_count": null,
   "id": "ab9cd72b-d42f-4b2b-8f37-db35954180f3",
   "metadata": {},
   "outputs": [],
   "source": []
  }
 ],
 "metadata": {
  "kernelspec": {
   "display_name": "Python 3 (ipykernel)",
   "language": "python",
   "name": "python3"
  },
  "language_info": {
   "codemirror_mode": {
    "name": "ipython",
    "version": 3
   },
   "file_extension": ".py",
   "mimetype": "text/x-python",
   "name": "python",
   "nbconvert_exporter": "python",
   "pygments_lexer": "ipython3",
   "version": "3.10.8"
  }
 },
 "nbformat": 4,
 "nbformat_minor": 5
}
