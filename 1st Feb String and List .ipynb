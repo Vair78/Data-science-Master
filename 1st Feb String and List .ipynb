{
 "cells": [
  {
   "cell_type": "markdown",
   "id": "7829fef9-23ae-4093-a8ca-8b75233d8418",
   "metadata": {},
   "source": [
    "## Strings &  List"
   ]
  },
  {
   "cell_type": "code",
   "execution_count": 135,
   "id": "b999f227-69f4-4523-ba5c-bb04068b7f70",
   "metadata": {},
   "outputs": [
    {
     "data": {
      "text/plain": [
       "'dATA SCIENCE mASTER'"
      ]
     },
     "execution_count": 135,
     "metadata": {},
     "output_type": "execute_result"
    }
   ],
   "source": [
    "name=\"Data science Master\"\n",
    "name.swapcase()"
   ]
  },
  {
   "cell_type": "code",
   "execution_count": 136,
   "id": "0219737c-bea3-4cba-b540-177293fbd676",
   "metadata": {},
   "outputs": [
    {
     "data": {
      "text/plain": [
       "'Data Science Master'"
      ]
     },
     "execution_count": 136,
     "metadata": {},
     "output_type": "execute_result"
    }
   ],
   "source": [
    "name.title()"
   ]
  },
  {
   "cell_type": "code",
   "execution_count": 137,
   "id": "d221b8fa-59e7-425c-a02e-1a2525c985aa",
   "metadata": {},
   "outputs": [
    {
     "data": {
      "text/plain": [
       "'Data science master'"
      ]
     },
     "execution_count": 137,
     "metadata": {},
     "output_type": "execute_result"
    }
   ],
   "source": [
    "name.capitalize()  #First letter Cap then all in small case"
   ]
  },
  {
   "cell_type": "markdown",
   "id": "a0c6ce34-c3c3-445b-9f90-c64b08102e9d",
   "metadata": {},
   "source": [
    "###Reversing a String\n"
   ]
  },
  {
   "cell_type": "code",
   "execution_count": 138,
   "id": "3d05fc44-c28f-42ac-a7e1-ce4caf7eb8cf",
   "metadata": {},
   "outputs": [
    {
     "data": {
      "text/plain": [
       "'retsaM ecneics ataD'"
      ]
     },
     "execution_count": 138,
     "metadata": {},
     "output_type": "execute_result"
    }
   ],
   "source": [
    "name[::-1]  # Reverse the String"
   ]
  },
  {
   "cell_type": "code",
   "execution_count": 139,
   "id": "4a3173f8-7156-4600-a7ba-0fc1aae38508",
   "metadata": {},
   "outputs": [
    {
     "data": {
      "text/plain": [
       "'r e t s a M   e c n e i c s   a t a D'"
      ]
     },
     "execution_count": 139,
     "metadata": {},
     "output_type": "execute_result"
    }
   ],
   "source": [
    "' '.join(reversed(name))"
   ]
  },
  {
   "cell_type": "code",
   "execution_count": 140,
   "id": "c3a43ccd-3f6b-4db0-9f0c-9e41d91bca0f",
   "metadata": {},
   "outputs": [
    {
     "data": {
      "text/plain": [
       "'Nkrishakrishikrishk'"
      ]
     },
     "execution_count": 140,
     "metadata": {},
     "output_type": "execute_result"
    }
   ],
   "source": [
    "\"krish\".join(\"Naik\")   #every charater is join after name N Krish, A Krish, I krish,k Krish"
   ]
  },
  {
   "cell_type": "code",
   "execution_count": 141,
   "id": "046e04f1-a47a-4a60-855c-70d4eb691145",
   "metadata": {},
   "outputs": [
    {
     "data": {
      "text/plain": [
       "'t1n1a'"
      ]
     },
     "execution_count": 141,
     "metadata": {},
     "output_type": "execute_result"
    }
   ],
   "source": [
    "'1'.join(reversed(\"ant\"))"
   ]
  },
  {
   "cell_type": "code",
   "execution_count": 142,
   "id": "d8ea96f2-24af-48cc-8a32-b91b4e709925",
   "metadata": {},
   "outputs": [
    {
     "data": {
      "text/plain": [
       "'a  n  t'"
      ]
     },
     "execution_count": 142,
     "metadata": {},
     "output_type": "execute_result"
    }
   ],
   "source": [
    "'  '.join((\"ant\"))"
   ]
  },
  {
   "cell_type": "code",
   "execution_count": 143,
   "id": "0ee8d167-1605-4461-b6b6-c69cd7d9fbc9",
   "metadata": {},
   "outputs": [],
   "source": [
    "str1=\"PW isa good company\""
   ]
  },
  {
   "cell_type": "code",
   "execution_count": 144,
   "id": "5f30b1d0-792e-46c8-a875-24b64ad867ba",
   "metadata": {},
   "outputs": [
    {
     "data": {
      "text/plain": [
       "'PoWo oiosoao ogooooodo ocooomopoaonoy'"
      ]
     },
     "execution_count": 144,
     "metadata": {},
     "output_type": "execute_result"
    }
   ],
   "source": [
    "'o'.join(str1)"
   ]
  },
  {
   "cell_type": "code",
   "execution_count": 145,
   "id": "8cd80889-9193-4537-92a7-ef7d8de5a5f1",
   "metadata": {},
   "outputs": [
    {
     "data": {
      "text/plain": [
       "['t', 'n', 'a']"
      ]
     },
     "execution_count": 145,
     "metadata": {},
     "output_type": "execute_result"
    }
   ],
   "source": [
    "## Type casting\n",
    "list(reversed(\"ant\"))"
   ]
  },
  {
   "cell_type": "code",
   "execution_count": 146,
   "id": "7e50f934-47fd-40bf-81c3-2fded7a66755",
   "metadata": {},
   "outputs": [
    {
     "name": "stdout",
     "output_type": "stream",
     "text": [
      "r e t s a M   e c n e i c s   a t a D "
     ]
    }
   ],
   "source": [
    "for i in list(reversed(name)):\n",
    "    print(i,end=' ')"
   ]
  },
  {
   "cell_type": "markdown",
   "id": "cd75fe7c-d6ab-4eb0-a03a-2478d020cefc",
   "metadata": {},
   "source": [
    "## Removing Character from the end of the string"
   ]
  },
  {
   "cell_type": "code",
   "execution_count": 147,
   "id": "d828485b-b383-486e-a2fa-35346595df4c",
   "metadata": {},
   "outputs": [],
   "source": [
    "string_a=\" pw skills \""
   ]
  },
  {
   "cell_type": "code",
   "execution_count": 148,
   "id": "d92002a8-e169-42ce-9f84-98d1a8547c7d",
   "metadata": {},
   "outputs": [
    {
     "data": {
      "text/plain": [
       "'pw skills'"
      ]
     },
     "execution_count": 148,
     "metadata": {},
     "output_type": "execute_result"
    }
   ],
   "source": [
    "string_a.strip(\" \")"
   ]
  },
  {
   "cell_type": "code",
   "execution_count": 149,
   "id": "a46c40ab-5977-4f2f-a795-92f1c333953a",
   "metadata": {},
   "outputs": [
    {
     "data": {
      "text/plain": [
       "'pw skills '"
      ]
     },
     "execution_count": 149,
     "metadata": {},
     "output_type": "execute_result"
    }
   ],
   "source": [
    "string_a.lstrip(\" \")       # it will remove left side blank space"
   ]
  },
  {
   "cell_type": "code",
   "execution_count": 150,
   "id": "17823ffd-08e5-4199-9f86-7e8d7424132f",
   "metadata": {},
   "outputs": [
    {
     "data": {
      "text/plain": [
       "' pw skills'"
      ]
     },
     "execution_count": 150,
     "metadata": {},
     "output_type": "execute_result"
    }
   ],
   "source": [
    "string_a.rstrip(\" \")      # it will remove Right side blank space"
   ]
  },
  {
   "cell_type": "code",
   "execution_count": 151,
   "id": "853fdd16-6356-43e2-b2ba-2cb5cf382368",
   "metadata": {},
   "outputs": [
    {
     "data": {
      "text/plain": [
       "'Greeting From Pwskills'"
      ]
     },
     "execution_count": 151,
     "metadata": {},
     "output_type": "execute_result"
    }
   ],
   "source": [
    "string_n=\"Greeting to Pwskills\"            # String are imutable mean cannot change\n",
    "                                # Here we are changing WORD not character we cannot change character in string\n",
    "string_n.replace(\"to\",\"From\")   # Here we replace create new string or replace not change"
   ]
  },
  {
   "cell_type": "code",
   "execution_count": 152,
   "id": "70f6bdab-4f08-49fb-898b-20ce0eea1560",
   "metadata": {},
   "outputs": [
    {
     "data": {
      "text/plain": [
       "'Welcome to Pwskills'"
      ]
     },
     "execution_count": 152,
     "metadata": {},
     "output_type": "execute_result"
    }
   ],
   "source": [
    "string_n.replace(\"Greeting\",\"Welcome\") "
   ]
  },
  {
   "cell_type": "code",
   "execution_count": 153,
   "id": "86a4f15d-6e53-4f69-9461-799470b5e05e",
   "metadata": {},
   "outputs": [],
   "source": [
    "var_a=string_n.replace(\"e\",\"E\") "
   ]
  },
  {
   "cell_type": "code",
   "execution_count": 154,
   "id": "891d3a3a-8388-4624-b238-5db74354328b",
   "metadata": {},
   "outputs": [
    {
     "name": "stdout",
     "output_type": "stream",
     "text": [
      "140555409299280\n",
      "140555962130048\n"
     ]
    }
   ],
   "source": [
    "print(id(string_n))           # below you can see the memory is different in that\n",
    "print(id(var_a))"
   ]
  },
  {
   "cell_type": "code",
   "execution_count": 155,
   "id": "204315ad-a43f-4f51-9f33-20b967cc66cb",
   "metadata": {},
   "outputs": [
    {
     "data": {
      "text/plain": [
       "'hello   wordl'"
      ]
     },
     "execution_count": 155,
     "metadata": {},
     "output_type": "execute_result"
    }
   ],
   "source": [
    "'hello \\twordl'.expandtabs()          # \\t or expandtabs() not \\t will not in output"
   ]
  },
  {
   "cell_type": "code",
   "execution_count": 156,
   "id": "73a71fc4-e4e0-42bd-93fe-8a35783a7e9c",
   "metadata": {},
   "outputs": [],
   "source": [
    "# Question \n",
    "str1=\"Welcome to pwskills .welcome to Dat ceince Masters\""
   ]
  },
  {
   "cell_type": "code",
   "execution_count": 157,
   "id": "5c1bbcb5-ff02-480c-becd-fb17434f00ec",
   "metadata": {},
   "outputs": [
    {
     "data": {
      "text/plain": [
       "'Welcome to pwskills .welcome to Data Science Masters'"
      ]
     },
     "execution_count": 157,
     "metadata": {},
     "output_type": "execute_result"
    }
   ],
   "source": [
    "str1.replace(\"Dat ceince\",\"Data Science\")  # "
   ]
  },
  {
   "cell_type": "code",
   "execution_count": 158,
   "id": "c72bfbc0-c93a-4833-92de-ed7ddc95d0ed",
   "metadata": {},
   "outputs": [
    {
     "data": {
      "text/plain": [
       "'Welcome to pwskills .welcome to Data Science Masters'"
      ]
     },
     "execution_count": 158,
     "metadata": {},
     "output_type": "execute_result"
    }
   ],
   "source": [
    "str1.replace(\"Dat\",\"Data\").replace(\"ceince\",\"Science\")"
   ]
  },
  {
   "cell_type": "code",
   "execution_count": 159,
   "id": "70a66af7-2d65-4edf-9cc4-ede88bbc1d72",
   "metadata": {},
   "outputs": [
    {
     "data": {
      "text/plain": [
       "'Welcome to pwskills .welcome to Dat ceince Masters'"
      ]
     },
     "execution_count": 159,
     "metadata": {},
     "output_type": "execute_result"
    }
   ],
   "source": [
    "str1"
   ]
  },
  {
   "cell_type": "code",
   "execution_count": 160,
   "id": "ffcedf33-519f-4a04-a0d6-17f98bbcd726",
   "metadata": {},
   "outputs": [
    {
     "data": {
      "text/plain": [
       "False"
      ]
     },
     "execution_count": 160,
     "metadata": {},
     "output_type": "execute_result"
    }
   ],
   "source": [
    "str1.isupper()"
   ]
  },
  {
   "cell_type": "code",
   "execution_count": 161,
   "id": "efeba6b4-4e9b-40fd-be2e-da974720b55b",
   "metadata": {},
   "outputs": [
    {
     "data": {
      "text/plain": [
       "True"
      ]
     },
     "execution_count": 161,
     "metadata": {},
     "output_type": "execute_result"
    }
   ],
   "source": [
    "str1=\"KRISH\"\n",
    "str1.isupper()"
   ]
  },
  {
   "cell_type": "code",
   "execution_count": 162,
   "id": "a645841f-0f07-4530-982a-c2c62f680d54",
   "metadata": {},
   "outputs": [
    {
     "data": {
      "text/plain": [
       "False"
      ]
     },
     "execution_count": 162,
     "metadata": {},
     "output_type": "execute_result"
    }
   ],
   "source": [
    "str1.islower()"
   ]
  },
  {
   "cell_type": "code",
   "execution_count": 163,
   "id": "4dcc3bd9-68f4-43a4-9172-fa719b681ca6",
   "metadata": {},
   "outputs": [
    {
     "data": {
      "text/plain": [
       "False"
      ]
     },
     "execution_count": 163,
     "metadata": {},
     "output_type": "execute_result"
    }
   ],
   "source": [
    "str1.isspace()"
   ]
  },
  {
   "cell_type": "code",
   "execution_count": 164,
   "id": "236855d7-a484-4f4a-b0ba-ee7d0f81297c",
   "metadata": {},
   "outputs": [
    {
     "data": {
      "text/plain": [
       "True"
      ]
     },
     "execution_count": 164,
     "metadata": {},
     "output_type": "execute_result"
    }
   ],
   "source": [
    "' '.isspace()"
   ]
  },
  {
   "cell_type": "code",
   "execution_count": 165,
   "id": "e8961111-94fc-4583-ae0f-e2538b17816c",
   "metadata": {},
   "outputs": [
    {
     "name": "stdout",
     "output_type": "stream",
     "text": [
      "Hello\n"
     ]
    }
   ],
   "source": [
    "if\" \".isspace():\n",
    "    print(\"Hello\")"
   ]
  },
  {
   "cell_type": "code",
   "execution_count": 166,
   "id": "72a573ac-0bae-45f1-92b4-47f91c8580f5",
   "metadata": {},
   "outputs": [],
   "source": [
    "str2=\"pwskills\""
   ]
  },
  {
   "cell_type": "code",
   "execution_count": 167,
   "id": "27368127-52e6-41df-9c1b-89b9e138dfdc",
   "metadata": {},
   "outputs": [
    {
     "data": {
      "text/plain": [
       "True"
      ]
     },
     "execution_count": 167,
     "metadata": {},
     "output_type": "execute_result"
    }
   ],
   "source": [
    "str2.endswith('s')   # this say is s is ending then true"
   ]
  },
  {
   "cell_type": "code",
   "execution_count": 168,
   "id": "f4b40373-7683-4ea8-a2ea-67ad26dd48c7",
   "metadata": {},
   "outputs": [
    {
     "data": {
      "text/plain": [
       "True"
      ]
     },
     "execution_count": 168,
     "metadata": {},
     "output_type": "execute_result"
    }
   ],
   "source": [
    "str2.startswith('p')"
   ]
  },
  {
   "cell_type": "code",
   "execution_count": 169,
   "id": "706fad65-9331-4249-ad12-1dc1e0741601",
   "metadata": {},
   "outputs": [
    {
     "data": {
      "text/plain": [
       "True"
      ]
     },
     "execution_count": 169,
     "metadata": {},
     "output_type": "execute_result"
    }
   ],
   "source": [
    "## check if All the char in string are alphanumeric\n",
    "\n",
    "a= \"abcd1234\"\n",
    "a.isalnum()"
   ]
  },
  {
   "cell_type": "code",
   "execution_count": 170,
   "id": "ec8c2161-01f1-4ad3-97b7-e904a48e8e59",
   "metadata": {},
   "outputs": [],
   "source": [
    "## To count the number of character in the Strings"
   ]
  },
  {
   "cell_type": "code",
   "execution_count": 171,
   "id": "40c736c0-d7ec-4eb2-96dd-7a056557c390",
   "metadata": {},
   "outputs": [
    {
     "name": "stdout",
     "output_type": "stream",
     "text": [
      "8\n"
     ]
    }
   ],
   "source": [
    "count=0\n",
    "for i in  str2:\n",
    "    count=count+1\n",
    "    \n",
    "print(count)"
   ]
  },
  {
   "cell_type": "code",
   "execution_count": 172,
   "id": "315d6b66-d195-40bf-b5f2-0dd58e1ace1d",
   "metadata": {},
   "outputs": [
    {
     "data": {
      "text/plain": [
       "8"
      ]
     },
     "execution_count": 172,
     "metadata": {},
     "output_type": "execute_result"
    }
   ],
   "source": [
    "len(str2)"
   ]
  },
  {
   "cell_type": "code",
   "execution_count": 173,
   "id": "c114711a-4c91-4cc8-9cc8-cf0d5b8aa91e",
   "metadata": {},
   "outputs": [
    {
     "data": {
      "text/plain": [
       "'pwskills'"
      ]
     },
     "execution_count": 173,
     "metadata": {},
     "output_type": "execute_result"
    }
   ],
   "source": [
    "str2"
   ]
  },
  {
   "cell_type": "code",
   "execution_count": 174,
   "id": "d8e87d43-6ae5-4845-b0e3-a41d3331d1cd",
   "metadata": {},
   "outputs": [
    {
     "name": "stdout",
     "output_type": "stream",
     "text": [
      "p\n",
      "w\n",
      "s\n",
      "k\n",
      "i\n",
      "l\n",
      "l\n",
      "s\n"
     ]
    }
   ],
   "source": [
    "for i in str2:\n",
    "    print(i)"
   ]
  },
  {
   "cell_type": "code",
   "execution_count": 175,
   "id": "43aa882d-7c99-47c9-b997-456adc299006",
   "metadata": {},
   "outputs": [
    {
     "name": "stdout",
     "output_type": "stream",
     "text": [
      "p\n",
      "w\n",
      "s\n",
      "k\n",
      "i\n",
      "l\n",
      "l\n",
      "s\n"
     ]
    }
   ],
   "source": [
    "for i in range(len(str2)):\n",
    "    print(str2[i])"
   ]
  },
  {
   "cell_type": "code",
   "execution_count": 176,
   "id": "3ced0dd6-e9e9-499c-b988-9b046d1b2a85",
   "metadata": {},
   "outputs": [
    {
     "name": "stdout",
     "output_type": "stream",
     "text": [
      "0 = p\n",
      "1 = w\n",
      "2 = s\n",
      "3 = k\n",
      "4 = i\n",
      "5 = l\n",
      "6 = l\n",
      "7 = s\n"
     ]
    }
   ],
   "source": [
    "for i in range(len(str2)):\n",
    "    print(i,\"=\",str2[i])"
   ]
  },
  {
   "cell_type": "code",
   "execution_count": 177,
   "id": "29f40598-ef69-497d-94ab-94cfce61ce6c",
   "metadata": {},
   "outputs": [],
   "source": [
    "## We can use index to iterate string Reverse direction"
   ]
  },
  {
   "cell_type": "code",
   "execution_count": 178,
   "id": "93e95464-1422-460a-af04-edfe3701fc4c",
   "metadata": {},
   "outputs": [
    {
     "name": "stdout",
     "output_type": "stream",
     "text": [
      "7 = s\n",
      "6 = l\n",
      "5 = l\n",
      "4 = i\n",
      "3 = k\n",
      "2 = s\n",
      "1 = w\n",
      "0 = p\n"
     ]
    }
   ],
   "source": [
    "for i in range(len(str2)-1,-1,-1):\n",
    "    print(i,\"=\",str2[i])"
   ]
  },
  {
   "cell_type": "code",
   "execution_count": 179,
   "id": "cc25d0fd-95d3-41bf-88d8-28d95eb1a543",
   "metadata": {},
   "outputs": [
    {
     "name": "stdout",
     "output_type": "stream",
     "text": [
      "s\n",
      "l\n",
      "k\n",
      "w\n"
     ]
    }
   ],
   "source": [
    "for i in range(len(str2)-1,-1,-2):\n",
    "    print(str2[i])"
   ]
  },
  {
   "cell_type": "code",
   "execution_count": 180,
   "id": "bc2acfb0-3930-4df3-9bfa-ff6258485b9a",
   "metadata": {},
   "outputs": [],
   "source": [
    "string=\"pwskills\"\n",
    "ch=len(string)-1"
   ]
  },
  {
   "cell_type": "code",
   "execution_count": 181,
   "id": "3063b309-d0af-4f09-bb78-bce8844439ef",
   "metadata": {},
   "outputs": [
    {
     "data": {
      "text/plain": [
       "7"
      ]
     },
     "execution_count": 181,
     "metadata": {},
     "output_type": "execute_result"
    }
   ],
   "source": [
    "ch"
   ]
  },
  {
   "cell_type": "code",
   "execution_count": 182,
   "id": "435eb93c-0a70-409b-a364-a630e4b7a5aa",
   "metadata": {},
   "outputs": [
    {
     "name": "stdout",
     "output_type": "stream",
     "text": [
      "s\n",
      "l\n",
      "l\n",
      "i\n",
      "k\n",
      "s\n",
      "w\n",
      "p\n"
     ]
    }
   ],
   "source": [
    "string=\"pwskills\"            #Reverse String \n",
    "ch=len(string)-1\n",
    "while ch>=0:\n",
    "    print(string[ch])\n",
    "    ch=ch-1"
   ]
  },
  {
   "cell_type": "code",
   "execution_count": 183,
   "id": "3b2f2632-321e-4207-af05-b70296c0d29c",
   "metadata": {},
   "outputs": [
    {
     "data": {
      "text/plain": [
       "('s', 'l', 'l', 'i')"
      ]
     },
     "execution_count": 183,
     "metadata": {},
     "output_type": "execute_result"
    }
   ],
   "source": [
    "string[7],string[6],string[5],string[4]"
   ]
  },
  {
   "cell_type": "code",
   "execution_count": 184,
   "id": "dacdba89-5f9c-45a9-bbf1-c62d0ffb5965",
   "metadata": {},
   "outputs": [
    {
     "name": "stdout",
     "output_type": "stream",
     "text": [
      "sllikswp"
     ]
    }
   ],
   "source": [
    "## Best Solution \n",
    "\n",
    "for i in range(len(string)):\n",
    "    print(string[len(string)-(i+1)],end=\"\")"
   ]
  },
  {
   "cell_type": "code",
   "execution_count": 185,
   "id": "70a9ae59-3a1a-42ff-9275-f85d41d73645",
   "metadata": {},
   "outputs": [],
   "source": [
    "Name =\"pwskill\"         # find the vowles\n",
    "vowels=\"AaEeIiOoUu\""
   ]
  },
  {
   "cell_type": "code",
   "execution_count": 186,
   "id": "c1c70ae6-9def-4eab-8659-e722c2b562e4",
   "metadata": {},
   "outputs": [
    {
     "name": "stdout",
     "output_type": "stream",
     "text": [
      "p\n",
      "w\n",
      "s\n",
      "k\n",
      "i\n",
      "l\n",
      "l\n"
     ]
    }
   ],
   "source": [
    "for ch in Name:\n",
    "    print(ch)"
   ]
  },
  {
   "cell_type": "code",
   "execution_count": 187,
   "id": "e9955a1c-f9ca-4657-864d-ae44f092b5c5",
   "metadata": {},
   "outputs": [
    {
     "name": "stdout",
     "output_type": "stream",
     "text": [
      "p i not a vowel\n",
      "w i not a vowel\n",
      "s i not a vowel\n",
      "k i not a vowel\n",
      "i is a vowel\n",
      "l i not a vowel\n",
      "l i not a vowel\n"
     ]
    }
   ],
   "source": [
    "for ch in Name:\n",
    "    if ch in vowels:\n",
    "        print(\"{} is a vowel\".format(ch))\n",
    "    else:\n",
    "            print(\"{} i not a vowel\".format(ch))"
   ]
  },
  {
   "cell_type": "markdown",
   "id": "1f246e0b-3278-4d31-a8f1-66de48dc32a3",
   "metadata": {},
   "source": [
    "## List"
   ]
  },
  {
   "cell_type": "code",
   "execution_count": 188,
   "id": "a81aaa3e-2910-4a59-91c8-5fde6cebeffd",
   "metadata": {},
   "outputs": [
    {
     "data": {
      "text/plain": [
       "list"
      ]
     },
     "execution_count": 188,
     "metadata": {},
     "output_type": "execute_result"
    }
   ],
   "source": [
    "type([])"
   ]
  },
  {
   "cell_type": "code",
   "execution_count": 189,
   "id": "fa95a275-9c37-486b-9d64-e728e4f387c2",
   "metadata": {},
   "outputs": [
    {
     "data": {
      "text/plain": [
       "['Krish', 'Naik', 'Pwskill', 32, 22]"
      ]
     },
     "execution_count": 189,
     "metadata": {},
     "output_type": "execute_result"
    }
   ],
   "source": [
    "[\"Krish\",\"Naik\",\"Pwskill\",32,22]"
   ]
  },
  {
   "cell_type": "code",
   "execution_count": 190,
   "id": "fa537c7e-982a-45f9-ba98-c8b5d240696a",
   "metadata": {},
   "outputs": [
    {
     "data": {
      "text/plain": [
       "[1, 2, 3, 4, 5]"
      ]
     },
     "execution_count": 190,
     "metadata": {},
     "output_type": "execute_result"
    }
   ],
   "source": [
    "list([1,2,3,4,5])"
   ]
  },
  {
   "cell_type": "code",
   "execution_count": 191,
   "id": "2dbd59b8-f4c0-4a1c-b833-65f77f2d9e07",
   "metadata": {},
   "outputs": [
    {
     "data": {
      "text/plain": [
       "'pwskills'"
      ]
     },
     "execution_count": 191,
     "metadata": {},
     "output_type": "execute_result"
    }
   ],
   "source": [
    "str2"
   ]
  },
  {
   "cell_type": "code",
   "execution_count": 192,
   "id": "cad07521-2d3e-4171-b451-5f18a4f957eb",
   "metadata": {},
   "outputs": [
    {
     "data": {
      "text/plain": [
       "['p', 'w', 's', 'k', 'i', 'l', 'l', 's']"
      ]
     },
     "execution_count": 192,
     "metadata": {},
     "output_type": "execute_result"
    }
   ],
   "source": [
    "list(str2)"
   ]
  },
  {
   "cell_type": "code",
   "execution_count": 193,
   "id": "e9b6bff8-183c-4ccc-af66-ed07481e7569",
   "metadata": {},
   "outputs": [],
   "source": [
    "str1= \"PW Skills Data science Master\""
   ]
  },
  {
   "cell_type": "code",
   "execution_count": 194,
   "id": "bdfcb911-ca68-439e-b3ca-5d9b9dae302c",
   "metadata": {},
   "outputs": [
    {
     "data": {
      "text/plain": [
       "['PW', 'Skills', 'Data', 'science', 'Master']"
      ]
     },
     "execution_count": 194,
     "metadata": {},
     "output_type": "execute_result"
    }
   ],
   "source": [
    "list(str1.split(\" \"))         # List is Ordered collection of element "
   ]
  },
  {
   "cell_type": "code",
   "execution_count": 195,
   "id": "acd63b5d-cdb0-4147-b21d-f8b6ee150e2b",
   "metadata": {},
   "outputs": [],
   "source": [
    "lst1=str1.split(\" \")"
   ]
  },
  {
   "cell_type": "code",
   "execution_count": 196,
   "id": "faa361b7-9c99-47b6-8f17-f86e5844d192",
   "metadata": {},
   "outputs": [
    {
     "data": {
      "text/plain": [
       "['Skills', 'Data', 'science', 'Master']"
      ]
     },
     "execution_count": 196,
     "metadata": {},
     "output_type": "execute_result"
    }
   ],
   "source": [
    "lst1[1:]"
   ]
  },
  {
   "cell_type": "code",
   "execution_count": 197,
   "id": "7a70a6a3-7f56-4ecb-80a4-b0bd7fe16cd6",
   "metadata": {},
   "outputs": [],
   "source": [
    "lst1[2]=\"Datas\"        # you change the the word in list"
   ]
  },
  {
   "cell_type": "code",
   "execution_count": 198,
   "id": "0d78ed85-79f6-49b0-91c4-c132a7fe82a3",
   "metadata": {},
   "outputs": [
    {
     "data": {
      "text/plain": [
       "['PW', 'Skills', 'Datas', 'science', 'Master']"
      ]
     },
     "execution_count": 198,
     "metadata": {},
     "output_type": "execute_result"
    }
   ],
   "source": [
    "lst1"
   ]
  },
  {
   "cell_type": "code",
   "execution_count": 199,
   "id": "9f515c23-cf79-437b-a144-e8e8929f9f4b",
   "metadata": {},
   "outputs": [
    {
     "data": {
      "text/plain": [
       "['Skills']"
      ]
     },
     "execution_count": 199,
     "metadata": {},
     "output_type": "execute_result"
    }
   ],
   "source": [
    "lst1[-4::-2]"
   ]
  },
  {
   "cell_type": "markdown",
   "id": "41cfdca1-d8f3-4d9f-9f87-5cd0de5a3303",
   "metadata": {},
   "source": [
    "## Concatenation Operation "
   ]
  },
  {
   "cell_type": "code",
   "execution_count": 200,
   "id": "85f8037b-a5b2-459a-93ab-ff55c9feacd5",
   "metadata": {},
   "outputs": [
    {
     "data": {
      "text/plain": [
       "['PW', 'Skills', 'Datas', 'science', 'Master']"
      ]
     },
     "execution_count": 200,
     "metadata": {},
     "output_type": "execute_result"
    }
   ],
   "source": [
    "lst1"
   ]
  },
  {
   "cell_type": "code",
   "execution_count": 201,
   "id": "eb11bf2c-602b-42c5-b1cf-454df221c36d",
   "metadata": {},
   "outputs": [
    {
     "data": {
      "text/plain": [
       "['PW', 'Skills', 'Datas', 'science', 'Master', 'new element', 3]"
      ]
     },
     "execution_count": 201,
     "metadata": {},
     "output_type": "execute_result"
    }
   ],
   "source": [
    "lst1 + ['new element',3]"
   ]
  },
  {
   "cell_type": "code",
   "execution_count": 202,
   "id": "005de34b-303d-468a-9bb5-c2bfe58c9262",
   "metadata": {},
   "outputs": [],
   "source": [
    "lst2=lst1 + ['new element',3]"
   ]
  },
  {
   "cell_type": "code",
   "execution_count": 203,
   "id": "f6ff66d4-07e0-4d5d-8b03-918af9231695",
   "metadata": {},
   "outputs": [
    {
     "data": {
      "text/plain": [
       "'new element'"
      ]
     },
     "execution_count": 203,
     "metadata": {},
     "output_type": "execute_result"
    }
   ],
   "source": [
    "lst2[-2]"
   ]
  },
  {
   "cell_type": "code",
   "execution_count": 204,
   "id": "95f7c8ac-3630-4ab9-8c1a-cdb2da25ca49",
   "metadata": {},
   "outputs": [
    {
     "data": {
      "text/plain": [
       "['PW',\n",
       " 'Skills',\n",
       " 'Datas',\n",
       " 'science',\n",
       " 'Master',\n",
       " 'PW',\n",
       " 'Skills',\n",
       " 'Datas',\n",
       " 'science',\n",
       " 'Master']"
      ]
     },
     "execution_count": 204,
     "metadata": {},
     "output_type": "execute_result"
    }
   ],
   "source": [
    "lst1 * 2         "
   ]
  },
  {
   "cell_type": "code",
   "execution_count": 205,
   "id": "c6fc819f-f592-4ce6-b4ee-81cef270e7a6",
   "metadata": {},
   "outputs": [
    {
     "data": {
      "text/plain": [
       "['PW', 'Skills', 'Datas', 'science', 'Master']"
      ]
     },
     "execution_count": 205,
     "metadata": {},
     "output_type": "execute_result"
    }
   ],
   "source": [
    "lst1"
   ]
  },
  {
   "cell_type": "code",
   "execution_count": 206,
   "id": "84faf82e-a1c0-45e0-ae72-f561e0ca4eee",
   "metadata": {},
   "outputs": [
    {
     "name": "stdout",
     "output_type": "stream",
     "text": [
      "PW\n",
      "Present\n",
      "Skills\n",
      "Present\n",
      "Datas\n",
      "Present\n",
      "science\n",
      "Present\n",
      "Master\n",
      "Present\n"
     ]
    }
   ],
   "source": [
    "for element in lst1:\n",
    "    print(element)\n",
    "    if \"science\" in lst1:\n",
    "        print(\"Present\")\n",
    "   \n",
    "        \n",
    "        "
   ]
  },
  {
   "cell_type": "code",
   "execution_count": 207,
   "id": "71e6e7db-5bb3-4ca9-a989-c8e6630e46d2",
   "metadata": {},
   "outputs": [
    {
     "name": "stdout",
     "output_type": "stream",
     "text": [
      "Present\n"
     ]
    }
   ],
   "source": [
    " if \"science\" in lst1:\n",
    "        print(\"Present\")"
   ]
  },
  {
   "cell_type": "code",
   "execution_count": 208,
   "id": "4214c7b7-653b-4143-96bb-da2734d9ec17",
   "metadata": {},
   "outputs": [
    {
     "name": "stdout",
     "output_type": "stream",
     "text": [
      "science\n"
     ]
    }
   ],
   "source": [
    "for element in lst1:\n",
    "    if element ==\"science\":\n",
    "        print(element)\n",
    "        break"
   ]
  },
  {
   "cell_type": "code",
   "execution_count": 209,
   "id": "951ac0c0-3b0b-4390-9920-27b46716c291",
   "metadata": {},
   "outputs": [
    {
     "data": {
      "text/plain": [
       "True"
      ]
     },
     "execution_count": 209,
     "metadata": {},
     "output_type": "execute_result"
    }
   ],
   "source": [
    "## Check element inside a list \n",
    "\n",
    "lst=[1,2,3,4,5]\n",
    "5 in lst"
   ]
  },
  {
   "cell_type": "code",
   "execution_count": 210,
   "id": "9431ed78-d858-4b64-80f9-ef550610a43c",
   "metadata": {},
   "outputs": [],
   "source": [
    "lst1=[\"Zebra\",\"Money\",\"Donkey\",\"Lion\"]\n",
    "lst2=[5,6,2,9,5,8,6]"
   ]
  },
  {
   "cell_type": "code",
   "execution_count": 211,
   "id": "babb9818-c4d0-4b8a-98b6-c6781115a16d",
   "metadata": {},
   "outputs": [
    {
     "name": "stdout",
     "output_type": "stream",
     "text": [
      "Zebra\n"
     ]
    }
   ],
   "source": [
    "print(max(lst1))             # ASCII Value Z is high"
   ]
  },
  {
   "cell_type": "code",
   "execution_count": 212,
   "id": "9a6d5ad7-ded0-494a-82a2-18da47fa5123",
   "metadata": {},
   "outputs": [
    {
     "name": "stdout",
     "output_type": "stream",
     "text": [
      "2\n"
     ]
    }
   ],
   "source": [
    "print(min(lst2))"
   ]
  },
  {
   "cell_type": "code",
   "execution_count": 213,
   "id": "e40040ae-e2ae-450b-8f15-ae2672e12a51",
   "metadata": {},
   "outputs": [
    {
     "data": {
      "text/plain": [
       "True"
      ]
     },
     "execution_count": 213,
     "metadata": {},
     "output_type": "execute_result"
    }
   ],
   "source": [
    "lst3 =[9,6,2,9,5,8,6]\n",
    "type(lst3[0])     ## ooutput is Integer\n",
    "type(5.0)            ## output is Float\n",
    "5.0 in lst3      # Output is True"
   ]
  },
  {
   "cell_type": "markdown",
   "id": "4ae7ced8-5ae2-404b-af25-943ec9cd7032",
   "metadata": {},
   "source": [
    "## Append"
   ]
  },
  {
   "cell_type": "code",
   "execution_count": 214,
   "id": "cd9c611d-6af3-4e41-a2cc-25b2381cb567",
   "metadata": {},
   "outputs": [],
   "source": [
    "lst=[1,2,3,4,5,6,7]"
   ]
  },
  {
   "cell_type": "code",
   "execution_count": 215,
   "id": "4a177081-ca7d-49dc-a308-744451e8c341",
   "metadata": {},
   "outputs": [],
   "source": [
    "lst.append(\"Pwskills\")        # Append mean adding value at end"
   ]
  },
  {
   "cell_type": "code",
   "execution_count": 216,
   "id": "4ea03885-0e48-4b5f-8145-04cfc064d32f",
   "metadata": {},
   "outputs": [
    {
     "data": {
      "text/plain": [
       "[1, 2, 3, 4, 5, 6, 7, 'Pwskills']"
      ]
     },
     "execution_count": 216,
     "metadata": {},
     "output_type": "execute_result"
    }
   ],
   "source": [
    "lst"
   ]
  },
  {
   "cell_type": "code",
   "execution_count": 217,
   "id": "2c0e4df4-cab9-4f3e-9e5d-e062b2d6c634",
   "metadata": {},
   "outputs": [],
   "source": [
    "lst.append([\"Data\",\"science\",\"Master\"])"
   ]
  },
  {
   "cell_type": "code",
   "execution_count": 218,
   "id": "17b3f157-1acb-4a01-a236-aab124bf4259",
   "metadata": {},
   "outputs": [
    {
     "data": {
      "text/plain": [
       "[1, 2, 3, 4, 5, 6, 7, 'Pwskills', ['Data', 'science', 'Master']]"
      ]
     },
     "execution_count": 218,
     "metadata": {},
     "output_type": "execute_result"
    }
   ],
   "source": [
    "lst"
   ]
  },
  {
   "cell_type": "code",
   "execution_count": 219,
   "id": "ab719804-85ab-461f-b463-5d2fd659dad5",
   "metadata": {},
   "outputs": [],
   "source": [
    "lst1=[\"Zebra\",\"Money\",\"Donkey\",\"Lion\"]"
   ]
  },
  {
   "cell_type": "code",
   "execution_count": 220,
   "id": "a0ca6596-a3a7-44fe-9985-49674d23e2e8",
   "metadata": {},
   "outputs": [
    {
     "data": {
      "text/plain": [
       "'Lion'"
      ]
     },
     "execution_count": 220,
     "metadata": {},
     "output_type": "execute_result"
    }
   ],
   "source": [
    "lst1.pop()      # It remove the last Value or operation withou index() mean dint give what remove"
   ]
  },
  {
   "cell_type": "code",
   "execution_count": 221,
   "id": "4dc1f9d6-5e97-4636-8e32-cc33abddbb20",
   "metadata": {},
   "outputs": [
    {
     "data": {
      "text/plain": [
       "['Zebra', 'Money', 'Donkey']"
      ]
     },
     "execution_count": 221,
     "metadata": {},
     "output_type": "execute_result"
    }
   ],
   "source": [
    "lst1   # due to Pop() it remove the lion"
   ]
  },
  {
   "cell_type": "code",
   "execution_count": 222,
   "id": "7f41eed7-36c1-41d9-b6bd-91d2e1163b3e",
   "metadata": {},
   "outputs": [
    {
     "data": {
      "text/plain": [
       "'Donkey'"
      ]
     },
     "execution_count": 222,
     "metadata": {},
     "output_type": "execute_result"
    }
   ],
   "source": [
    "lst1.pop(2)    # we give pop(2) mean remove the Donkey(2)"
   ]
  },
  {
   "cell_type": "code",
   "execution_count": 223,
   "id": "306cd8ce-a6d7-4736-8025-49deb7587ad7",
   "metadata": {},
   "outputs": [
    {
     "data": {
      "text/plain": [
       "['Zebra', 'Money']"
      ]
     },
     "execution_count": 223,
     "metadata": {},
     "output_type": "execute_result"
    }
   ],
   "source": [
    "lst1 "
   ]
  },
  {
   "cell_type": "code",
   "execution_count": 224,
   "id": "b54132f7-d235-42b1-b3ae-799fe12d9d2d",
   "metadata": {},
   "outputs": [],
   "source": [
    "lst1=[\"Zebra\",\"Money\",\"Donkey\",\"Lion\"]"
   ]
  },
  {
   "cell_type": "code",
   "execution_count": 225,
   "id": "97bb93b4-0563-4e83-9d9c-375860f7d89d",
   "metadata": {},
   "outputs": [
    {
     "data": {
      "text/plain": [
       "'Zebra'"
      ]
     },
     "execution_count": 225,
     "metadata": {},
     "output_type": "execute_result"
    }
   ],
   "source": [
    "removed_element=lst1.pop(0)         # this is also remove to element which give value\n",
    "removed_element"
   ]
  },
  {
   "cell_type": "code",
   "execution_count": 226,
   "id": "0dcdcceb-6445-4812-8b98-cbef0da7c265",
   "metadata": {},
   "outputs": [
    {
     "data": {
      "text/plain": [
       "['Money', 'Donkey', 'Lion']"
      ]
     },
     "execution_count": 226,
     "metadata": {},
     "output_type": "execute_result"
    }
   ],
   "source": [
    "lst1"
   ]
  },
  {
   "cell_type": "markdown",
   "id": "8095a662-c089-4171-9791-6658e9157588",
   "metadata": {},
   "source": [
    "## Sorting and Reverse Method in List"
   ]
  },
  {
   "cell_type": "code",
   "execution_count": 227,
   "id": "db9eda49-d0af-4d1c-93c6-165c9fffda5f",
   "metadata": {},
   "outputs": [
    {
     "data": {
      "text/plain": [
       "['q', 'e', 'f', 's', 't', 'u']"
      ]
     },
     "execution_count": 227,
     "metadata": {},
     "output_type": "execute_result"
    }
   ],
   "source": [
    "new_list=['q','e','f','s','t','u']\n",
    "new_list"
   ]
  },
  {
   "cell_type": "code",
   "execution_count": 228,
   "id": "ce8e7165-5e3e-4371-839d-d3c4b13aa513",
   "metadata": {},
   "outputs": [
    {
     "data": {
      "text/plain": [
       "['u', 't', 's', 'f', 'e', 'q']"
      ]
     },
     "execution_count": 228,
     "metadata": {},
     "output_type": "execute_result"
    }
   ],
   "source": [
    "new_list[::-1]"
   ]
  },
  {
   "cell_type": "code",
   "execution_count": 229,
   "id": "004f66e2-83ef-4404-a05d-8b4855077736",
   "metadata": {},
   "outputs": [],
   "source": [
    "## Inplace operation mean list is update then and then\n",
    "\n",
    "new_list.reverse()"
   ]
  },
  {
   "cell_type": "code",
   "execution_count": 230,
   "id": "5fbd2e63-22fc-4d1d-812c-9d360d6fca96",
   "metadata": {},
   "outputs": [
    {
     "data": {
      "text/plain": [
       "['u', 't', 's', 'f', 'e', 'q']"
      ]
     },
     "execution_count": 230,
     "metadata": {},
     "output_type": "execute_result"
    }
   ],
   "source": [
    "new_list"
   ]
  },
  {
   "cell_type": "code",
   "execution_count": 231,
   "id": "1d9166f7-cb69-4005-b1b0-ed2ac0ac7402",
   "metadata": {},
   "outputs": [],
   "source": [
    "## Inplace operation mean list is update then and then\n",
    "new_list.sort()"
   ]
  },
  {
   "cell_type": "code",
   "execution_count": 232,
   "id": "b239811e-e599-43da-b73c-766226aabd38",
   "metadata": {},
   "outputs": [
    {
     "data": {
      "text/plain": [
       "['e', 'f', 'q', 's', 't', 'u']"
      ]
     },
     "execution_count": 232,
     "metadata": {},
     "output_type": "execute_result"
    }
   ],
   "source": [
    "new_list"
   ]
  },
  {
   "cell_type": "code",
   "execution_count": 233,
   "id": "7be8f74c-1f18-474d-8abc-0c1313cd6f02",
   "metadata": {},
   "outputs": [],
   "source": [
    "new_list.sort(reverse=True)"
   ]
  },
  {
   "cell_type": "code",
   "execution_count": 234,
   "id": "c055bc06-1d9f-42fa-bd9b-04d0cf198e86",
   "metadata": {},
   "outputs": [
    {
     "data": {
      "text/plain": [
       "['u', 't', 's', 'q', 'f', 'e']"
      ]
     },
     "execution_count": 234,
     "metadata": {},
     "output_type": "execute_result"
    }
   ],
   "source": [
    "new_list"
   ]
  },
  {
   "cell_type": "code",
   "execution_count": 235,
   "id": "d20b6c98-b5f5-4a2a-851e-104105f91262",
   "metadata": {},
   "outputs": [],
   "source": [
    "lst=[1,2,3,4,5,6,7]\n",
    "lst.append(10)"
   ]
  },
  {
   "cell_type": "code",
   "execution_count": 236,
   "id": "ac285526-9d57-48cc-aad1-1a14963777f7",
   "metadata": {},
   "outputs": [],
   "source": [
    "lst.append(['pw','skill'])     ## we added or append the these two new values"
   ]
  },
  {
   "cell_type": "code",
   "execution_count": 237,
   "id": "29616c42-ae7d-49a7-962b-d67b0fc31a1e",
   "metadata": {},
   "outputs": [
    {
     "data": {
      "text/plain": [
       "[1, 2, 3, 4, 5, 6, 7, 10, ['pw', 'skill']]"
      ]
     },
     "execution_count": 237,
     "metadata": {},
     "output_type": "execute_result"
    }
   ],
   "source": [
    "lst"
   ]
  },
  {
   "cell_type": "code",
   "execution_count": 238,
   "id": "6e9f645f-4ded-4cbd-a8de-f582688362c6",
   "metadata": {},
   "outputs": [],
   "source": [
    "lst.extend(['Data','Python'])   # Pw skill i have added two times "
   ]
  },
  {
   "cell_type": "code",
   "execution_count": 239,
   "id": "e0d55f9c-aba3-4d46-9e78-2519af329aff",
   "metadata": {},
   "outputs": [
    {
     "data": {
      "text/plain": [
       "[1, 2, 3, 4, 5, 6, 7, 10, ['pw', 'skill'], 'Data', 'Python']"
      ]
     },
     "execution_count": 239,
     "metadata": {},
     "output_type": "execute_result"
    }
   ],
   "source": [
    "lst"
   ]
  },
  {
   "cell_type": "markdown",
   "id": "8f045fb9-7f84-4846-9be9-54b477cb4a9d",
   "metadata": {},
   "source": [
    "## Nested List"
   ]
  },
  {
   "cell_type": "code",
   "execution_count": 240,
   "id": "7cf70226-0d5a-4b33-b054-2b4ef71d7276",
   "metadata": {},
   "outputs": [],
   "source": [
    "# lets make three list\n",
    "\n",
    "lst_1=[1,2,3]\n",
    "lst_2=[4,5,6]\n",
    "lst_3=[7,8,9]\n",
    "\n",
    "# Make a list of lists to form a Matrix\n",
    "matrix = [lst_1,lst_2,lst_3]"
   ]
  },
  {
   "cell_type": "code",
   "execution_count": 241,
   "id": "0befb426-2396-4f3a-95d5-c79d18eb624d",
   "metadata": {},
   "outputs": [
    {
     "data": {
      "text/plain": [
       "[[1, 2, 3], [4, 5, 6], [7, 8, 9]]"
      ]
     },
     "execution_count": 241,
     "metadata": {},
     "output_type": "execute_result"
    }
   ],
   "source": [
    "matrix"
   ]
  },
  {
   "cell_type": "code",
   "execution_count": 242,
   "id": "0d7991bb-cdb5-498d-9f01-cea5766ea954",
   "metadata": {},
   "outputs": [
    {
     "data": {
      "text/plain": [
       "6"
      ]
     },
     "execution_count": 242,
     "metadata": {},
     "output_type": "execute_result"
    }
   ],
   "source": [
    "matrix[1][2]"
   ]
  },
  {
   "cell_type": "code",
   "execution_count": 243,
   "id": "cba0323b-371d-474d-8d22-cf98573de227",
   "metadata": {},
   "outputs": [
    {
     "data": {
      "text/plain": [
       "[8, 9]"
      ]
     },
     "execution_count": 243,
     "metadata": {},
     "output_type": "execute_result"
    }
   ],
   "source": [
    "matrix[2][1:]"
   ]
  },
  {
   "cell_type": "code",
   "execution_count": 247,
   "id": "ca349a21-5541-4660-924d-eeb8e5db9bf4",
   "metadata": {},
   "outputs": [
    {
     "data": {
      "text/plain": [
       "[0, 1, 2, 3, 4, 5, 6, 7, 8, 9, 10, 11, 12, 13, 14, 15, 16, 17, 18, 19]"
      ]
     },
     "execution_count": 247,
     "metadata": {},
     "output_type": "execute_result"
    }
   ],
   "source": [
    "# if you want 1,4,7 from above matrix \n",
    "\n",
    "## List Comprehension\n",
    "\n",
    "[i for i in range(20)]"
   ]
  },
  {
   "cell_type": "code",
   "execution_count": 258,
   "id": "6bb72590-89be-4514-86f2-d0b5cd0f9353",
   "metadata": {},
   "outputs": [
    {
     "data": {
      "text/plain": [
       "[0,\n",
       " 'ODD',\n",
       " 2,\n",
       " 'ODD',\n",
       " 4,\n",
       " 'ODD',\n",
       " 6,\n",
       " 'ODD',\n",
       " 8,\n",
       " 'ODD',\n",
       " 10,\n",
       " 'ODD',\n",
       " 12,\n",
       " 'ODD',\n",
       " 14,\n",
       " 'ODD',\n",
       " 16,\n",
       " 'ODD',\n",
       " 18,\n",
       " 'ODD']"
      ]
     },
     "execution_count": 258,
     "metadata": {},
     "output_type": "execute_result"
    }
   ],
   "source": [
    "## List Comprehension\n",
    "## Even Number \n",
    "[i if i%2==0 else \"ODD\" for i in range(0,20)]\n",
    " "
   ]
  },
  {
   "cell_type": "code",
   "execution_count": 11,
   "id": "cd7f0068-777b-468a-8cec-1796f3c6ddfd",
   "metadata": {},
   "outputs": [
    {
     "name": "stdout",
     "output_type": "stream",
     "text": [
      "0\n",
      "36\n"
     ]
    }
   ],
   "source": [
    "## Assigment \n",
    "## sum of even numbers and odd numbers\n",
    "\n",
    "lst=[1,2,3,4,5,6,7,8]\n",
    "\n",
    "even_sum = 0\n",
    "odd_sum = 0\n",
    "for i in lst:\n",
    "    if 1 % 2==0:\n",
    "        even_sum +=i\n",
    "    else:\n",
    "        odd_sum +=i\n",
    "        \n",
    "print(even_sum)\n",
    "print(odd_sum)"
   ]
  },
  {
   "cell_type": "code",
   "execution_count": 14,
   "id": "22940dff-41f4-441e-aab8-4bc69957552b",
   "metadata": {},
   "outputs": [
    {
     "name": "stdout",
     "output_type": "stream",
     "text": [
      "0\n",
      "36\n"
     ]
    }
   ],
   "source": [
    "lst=[1,2,3,4,5,6,7,8]        ## Ans i wrong as it wshould be 20 , 16 see below answer\n",
    "\n",
    "even_sum = 0\n",
    "odd_sum = 0\n",
    "for i in lst:\n",
    "    if 1 % 2==0:\n",
    "        even_sum += i\n",
    "    else:\n",
    "        odd_sum += i        \n",
    "print(even_sum)\n",
    "print(odd_sum)"
   ]
  },
  {
   "cell_type": "code",
   "execution_count": 17,
   "id": "61d90a78-681b-41ea-b624-3439c7031470",
   "metadata": {},
   "outputs": [],
   "source": [
    "even_sum=sum([num for num in lst if num%2==0])"
   ]
  },
  {
   "cell_type": "code",
   "execution_count": 18,
   "id": "94ae24a1-b6a2-419c-b52a-4ccd36beaf7a",
   "metadata": {},
   "outputs": [
    {
     "data": {
      "text/plain": [
       "20"
      ]
     },
     "execution_count": 18,
     "metadata": {},
     "output_type": "execute_result"
    }
   ],
   "source": [
    "even_sum"
   ]
  },
  {
   "cell_type": "code",
   "execution_count": 19,
   "id": "c0d537c9-b4fd-4937-a354-bbbaa110901c",
   "metadata": {},
   "outputs": [],
   "source": [
    "odd_sum=sum([num for num in lst if num%2!=0])"
   ]
  },
  {
   "cell_type": "code",
   "execution_count": 20,
   "id": "9646750d-3798-4fc2-b139-da90113da133",
   "metadata": {},
   "outputs": [
    {
     "data": {
      "text/plain": [
       "16"
      ]
     },
     "execution_count": 20,
     "metadata": {},
     "output_type": "execute_result"
    }
   ],
   "source": [
    "odd_sum"
   ]
  },
  {
   "cell_type": "code",
   "execution_count": 25,
   "id": "d67565af-efc9-43c7-b769-da2470ab2e7b",
   "metadata": {},
   "outputs": [
    {
     "data": {
      "text/plain": [
       "[1, 4, 9, 16, 25, 36, 49, 64, 81, 100]"
      ]
     },
     "execution_count": 25,
     "metadata": {},
     "output_type": "execute_result"
    }
   ],
   "source": [
    "lst=[1,2,3,4,5,6,7,8,9,10]    ## for Square **2 \n",
    "[num**2 for num in lst]"
   ]
  },
  {
   "cell_type": "code",
   "execution_count": 28,
   "id": "3e4fe4b5-bfbe-45a9-997b-8604abd6bf0e",
   "metadata": {},
   "outputs": [
    {
     "data": {
      "text/plain": [
       "[1, 2, 3]"
      ]
     },
     "execution_count": 28,
     "metadata": {},
     "output_type": "execute_result"
    }
   ],
   "source": [
    "## Example 2 : Create a list of Only the Positive number from a given list\n",
    "\n",
    "number=[-3,-2,-1,0,1,2,3]\n",
    "[num for num in number if num >0]"
   ]
  },
  {
   "cell_type": "code",
   "execution_count": 29,
   "id": "5d6c0d80-c23c-4f38-8fa7-e02fbd6a8135",
   "metadata": {},
   "outputs": [
    {
     "data": {
      "text/plain": [
       "[-3, -2, -1]"
      ]
     },
     "execution_count": 29,
     "metadata": {},
     "output_type": "execute_result"
    }
   ],
   "source": [
    "## Example 3 : Create a list of Only the Negative(-) number from a given list\n",
    "\n",
    "number=[-3,-2,-1,0,1,2,3]\n",
    "[num for num in number if num <0]"
   ]
  },
  {
   "cell_type": "code",
   "execution_count": 30,
   "id": "92e2f3d0-7d89-4705-a3ee-478f5d446597",
   "metadata": {},
   "outputs": [
    {
     "data": {
      "text/plain": [
       "['a', 'b', 'c', 'd']"
      ]
     },
     "execution_count": 30,
     "metadata": {},
     "output_type": "execute_result"
    }
   ],
   "source": [
    "## Example 4 : Create a list of only the First Letters of Words in a list\n",
    "\n",
    "words =['aaple','banana','cheery','date']\n",
    "[word[0] for word in words]"
   ]
  },
  {
   "cell_type": "code",
   "execution_count": 31,
   "id": "0ba65a83-b968-492f-8f35-6ef09d5b0af2",
   "metadata": {},
   "outputs": [],
   "source": [
    "## COnvert Temp to *Celcicus \n",
    "# formula (9/5)*temp+32\n",
    "\n",
    "## Example 4 : Coever a list of temperature from Celsius to Fohreheit using List comprehsnion\n",
    "\n",
    "Celsius_temperatures=[0, 10, 20, 30, 40, 50]\n"
   ]
  },
  {
   "cell_type": "code",
   "execution_count": 32,
   "id": "174f9637-8bdd-406b-a9dc-da45d4c14e61",
   "metadata": {},
   "outputs": [
    {
     "data": {
      "text/plain": [
       "[32.0, 50.0, 68.0, 86.0, 104.0, 122.0]"
      ]
     },
     "execution_count": 32,
     "metadata": {},
     "output_type": "execute_result"
    }
   ],
   "source": [
    "# Answer is below\n",
    "[(9/5)*temp +32 for temp in Celsius_temperatures]"
   ]
  },
  {
   "cell_type": "code",
   "execution_count": 35,
   "id": "08a2c7d8-9b8f-46b6-b812-7350f9e4e28a",
   "metadata": {},
   "outputs": [],
   "source": [
    "## Examples 6 : Flatten a list of lists into a signle list \n",
    "\n",
    "lists =[[1,2,3],[4,5,6],[7,8,9]]"
   ]
  },
  {
   "cell_type": "code",
   "execution_count": 42,
   "id": "dbedf47f-013b-4a5b-8da0-4ee8249d670a",
   "metadata": {},
   "outputs": [
    {
     "data": {
      "text/plain": [
       "[1, 2, 3, 4, 5, 6, 7, 8, 9]"
      ]
     },
     "execution_count": 42,
     "metadata": {},
     "output_type": "execute_result"
    }
   ],
   "source": [
    "[j for i in lists for j in i]        # list of lists into a signle list"
   ]
  },
  {
   "cell_type": "code",
   "execution_count": 39,
   "id": "e1a44a77-a6f4-4ecd-a698-4e5aad8b930d",
   "metadata": {},
   "outputs": [
    {
     "data": {
      "text/plain": [
       "[1, 2, 3, 4, 5, 6, 7, 8, 9]"
      ]
     },
     "execution_count": 39,
     "metadata": {},
     "output_type": "execute_result"
    }
   ],
   "source": [
    "[num for sublist in lists for num in sublist]  #list of lists into a signle list another Way"
   ]
  },
  {
   "cell_type": "code",
   "execution_count": 43,
   "id": "34158c8a-752c-41a9-a92a-01a1afbc1fff",
   "metadata": {},
   "outputs": [],
   "source": [
    "## Assigment \n",
    "\n",
    "##using both code and list compprehesnion\n",
    "\n",
    "# Example 7 : Create a list of only the prime numbers from a given list\n",
    "numbers =[1,2,3,4,5,6,7,8,9,10]"
   ]
  },
  {
   "cell_type": "code",
   "execution_count": 47,
   "id": "65ec1b58-2d69-40ab-880e-7f762ed559d2",
   "metadata": {},
   "outputs": [
    {
     "name": "stdout",
     "output_type": "stream",
     "text": [
      "[1, 2, 3, 5, 7]\n"
     ]
    }
   ],
   "source": [
    "print([i for i in numbers if 0 not in [i%n for n in range(2, i)]])"
   ]
  },
  {
   "cell_type": "code",
   "execution_count": null,
   "id": "b64cc270-3049-49f7-a414-4133a4aa5cb2",
   "metadata": {},
   "outputs": [],
   "source": [
    "\n",
    "#Example 8 : Create a list of all the possible combinations of 2 elements from a list\n",
    "numbers =[1,2,3,4,5]"
   ]
  }
 ],
 "metadata": {
  "kernelspec": {
   "display_name": "Python 3 (ipykernel)",
   "language": "python",
   "name": "python3"
  },
  "language_info": {
   "codemirror_mode": {
    "name": "ipython",
    "version": 3
   },
   "file_extension": ".py",
   "mimetype": "text/x-python",
   "name": "python",
   "nbconvert_exporter": "python",
   "pygments_lexer": "ipython3",
   "version": "3.10.8"
  }
 },
 "nbformat": 4,
 "nbformat_minor": 5
}
