{
 "cells": [
  {
   "cell_type": "markdown",
   "id": "bc086348-359e-4562-881c-37e1e68a548f",
   "metadata": {},
   "source": [
    "## Function"
   ]
  },
  {
   "cell_type": "code",
   "execution_count": 2,
   "id": "63714ada-95e3-4639-a1d0-77db597b2b7b",
   "metadata": {},
   "outputs": [
    {
     "name": "stdout",
     "output_type": "stream",
     "text": [
      "this is prg\n"
     ]
    }
   ],
   "source": [
    "print(\"this is prg\")"
   ]
  },
  {
   "cell_type": "code",
   "execution_count": 3,
   "id": "097946d4-20f1-4460-a625-35dd9bb4da17",
   "metadata": {},
   "outputs": [],
   "source": [
    "l = [1,2,3,4,5,6]"
   ]
  },
  {
   "cell_type": "code",
   "execution_count": 5,
   "id": "c1922455-af08-4cfe-bef3-ee4ddbf37241",
   "metadata": {},
   "outputs": [
    {
     "data": {
      "text/plain": [
       "6"
      ]
     },
     "execution_count": 5,
     "metadata": {},
     "output_type": "execute_result"
    }
   ],
   "source": [
    "len(l)"
   ]
  },
  {
   "cell_type": "code",
   "execution_count": 6,
   "id": "87a73805-a815-4b93-a7de-61e290919a65",
   "metadata": {},
   "outputs": [
    {
     "ename": "SyntaxError",
     "evalue": "incomplete input (998402543.py, line 1)",
     "output_type": "error",
     "traceback": [
      "\u001b[0;36m  Cell \u001b[0;32mIn[6], line 1\u001b[0;36m\u001b[0m\n\u001b[0;31m    def test():            # test can any name which you want\u001b[0m\n\u001b[0m                                                             ^\u001b[0m\n\u001b[0;31mSyntaxError\u001b[0m\u001b[0;31m:\u001b[0m incomplete input\n"
     ]
    }
   ],
   "source": [
    "def test():            # test can any name which you want. it will show error if you not even values\n"
   ]
  },
  {
   "cell_type": "code",
   "execution_count": 7,
   "id": "7d5b3427-ddef-493a-a1b0-edd05b38379b",
   "metadata": {},
   "outputs": [],
   "source": [
    "def test():      # becasue of pass def will work\n",
    "    pass"
   ]
  },
  {
   "cell_type": "code",
   "execution_count": 12,
   "id": "af378743-5db5-4dbe-ac1d-be0ebce2b4c9",
   "metadata": {},
   "outputs": [],
   "source": [
    "def test1():  \n",
    "    print(\"this is my first function\")"
   ]
  },
  {
   "cell_type": "code",
   "execution_count": 14,
   "id": "80ed516e-f10c-4cff-b8ac-9481b0946348",
   "metadata": {},
   "outputs": [
    {
     "name": "stdout",
     "output_type": "stream",
     "text": [
      "this is my first function\n"
     ]
    }
   ],
   "source": [
    "test1()"
   ]
  },
  {
   "cell_type": "code",
   "execution_count": 15,
   "id": "70f93e51-74a1-4bf1-bb46-268271db99b6",
   "metadata": {},
   "outputs": [
    {
     "name": "stdout",
     "output_type": "stream",
     "text": [
      "this is my first function\n"
     ]
    },
    {
     "ename": "TypeError",
     "evalue": "unsupported operand type(s) for +: 'NoneType' and 'str'",
     "output_type": "error",
     "traceback": [
      "\u001b[0;31m---------------------------------------------------------------------------\u001b[0m",
      "\u001b[0;31mTypeError\u001b[0m                                 Traceback (most recent call last)",
      "Cell \u001b[0;32mIn[15], line 1\u001b[0m\n\u001b[0;32m----> 1\u001b[0m \u001b[43mtest1\u001b[49m\u001b[43m(\u001b[49m\u001b[43m)\u001b[49m\u001b[43m \u001b[49m\u001b[38;5;241;43m+\u001b[39;49m\u001b[43m \u001b[49m\u001b[38;5;124;43m\"\u001b[39;49m\u001b[38;5;124;43mvaibhav\u001b[39;49m\u001b[38;5;124;43m\"\u001b[39;49m\n",
      "\u001b[0;31mTypeError\u001b[0m: unsupported operand type(s) for +: 'NoneType' and 'str'"
     ]
    }
   ],
   "source": [
    "test1() + \"vaibhav\"           #No this operation will perform with string test1() is none type and vaibhavis string\n",
    "                               # Print function is always None Type"
   ]
  },
  {
   "cell_type": "code",
   "execution_count": 16,
   "id": "11d0d4f3-6ae4-4d96-8b5d-1029292e4757",
   "metadata": {},
   "outputs": [],
   "source": [
    "def test2():\n",
    "    return \"This is my fun with return\"         # this otp will is String"
   ]
  },
  {
   "cell_type": "code",
   "execution_count": 17,
   "id": "6a73897a-3554-4858-8847-d01029bcbba9",
   "metadata": {},
   "outputs": [
    {
     "data": {
      "text/plain": [
       "'This is my fun with return'"
      ]
     },
     "execution_count": 17,
     "metadata": {},
     "output_type": "execute_result"
    }
   ],
   "source": [
    "test2()        #becasue of return not test2 fuction is become String\n",
    "                # so alwasy use return insted of Print in Function "
   ]
  },
  {
   "cell_type": "code",
   "execution_count": 18,
   "id": "18ab5b0d-6e6e-44b3-864c-c7d6f60d36d0",
   "metadata": {},
   "outputs": [],
   "source": [
    "def test3():\n",
    "    return 1,4,\"pwskills\",36.56"
   ]
  },
  {
   "cell_type": "code",
   "execution_count": 20,
   "id": "c5c405e9-de53-4647-ba9f-78bbdbc72f00",
   "metadata": {},
   "outputs": [
    {
     "data": {
      "text/plain": [
       "(1, 4, 'pwskills', 36.56)"
      ]
     },
     "execution_count": 20,
     "metadata": {},
     "output_type": "execute_result"
    }
   ],
   "source": [
    "test3()           # you will get multi outcome from function"
   ]
  },
  {
   "cell_type": "code",
   "execution_count": 21,
   "id": "ac3b374c-0bb8-4bce-a83b-a43f6b41e033",
   "metadata": {},
   "outputs": [
    {
     "data": {
      "text/plain": [
       "(1, 2, 3, 4, 5)"
      ]
     },
     "execution_count": 21,
     "metadata": {},
     "output_type": "execute_result"
    }
   ],
   "source": [
    "a =1,2,3,4,5\n",
    "a"
   ]
  },
  {
   "cell_type": "code",
   "execution_count": 24,
   "id": "eb4b4380-1a00-43d3-85a6-ed022aed4ffd",
   "metadata": {},
   "outputs": [],
   "source": [
    "a,b,c,d = 1,2,34.56,True\n"
   ]
  },
  {
   "cell_type": "code",
   "execution_count": 25,
   "id": "7a6d1b34-aad3-4d97-8f34-1212257007f6",
   "metadata": {},
   "outputs": [
    {
     "data": {
      "text/plain": [
       "1"
      ]
     },
     "execution_count": 25,
     "metadata": {},
     "output_type": "execute_result"
    }
   ],
   "source": [
    "a"
   ]
  },
  {
   "cell_type": "code",
   "execution_count": 26,
   "id": "8b908689-e686-47a0-bc51-a1e30841d161",
   "metadata": {},
   "outputs": [
    {
     "data": {
      "text/plain": [
       "True"
      ]
     },
     "execution_count": 26,
     "metadata": {},
     "output_type": "execute_result"
    }
   ],
   "source": [
    "d"
   ]
  },
  {
   "cell_type": "code",
   "execution_count": 27,
   "id": "317319bf-075a-48a8-b70c-60fa26eae9c3",
   "metadata": {},
   "outputs": [
    {
     "data": {
      "text/plain": [
       "34.56"
      ]
     },
     "execution_count": 27,
     "metadata": {},
     "output_type": "execute_result"
    }
   ],
   "source": [
    "c"
   ]
  },
  {
   "cell_type": "code",
   "execution_count": 29,
   "id": "18ea42e4-72c4-4e17-906c-e1a69928683c",
   "metadata": {},
   "outputs": [
    {
     "data": {
      "text/plain": [
       "(1, 4, 'pwskills', 36.56)"
      ]
     },
     "execution_count": 29,
     "metadata": {},
     "output_type": "execute_result"
    }
   ],
   "source": [
    "# multiple data type in function  # its will OPT alway show in tuples\n",
    "\n",
    "test3()"
   ]
  },
  {
   "cell_type": "code",
   "execution_count": 32,
   "id": "7ad375af-d5a6-4fc6-822b-3c3f96ee0b1e",
   "metadata": {},
   "outputs": [
    {
     "data": {
      "text/plain": [
       "int"
      ]
     },
     "execution_count": 32,
     "metadata": {},
     "output_type": "execute_result"
    }
   ],
   "source": [
    "type (test3()[1])        # Return always give original data type in function"
   ]
  },
  {
   "cell_type": "code",
   "execution_count": 33,
   "id": "22714f47-268c-4883-9e47-1fd31034d94c",
   "metadata": {},
   "outputs": [],
   "source": [
    "a,b,c,d = test3()        # you can assign values to function with match count"
   ]
  },
  {
   "cell_type": "code",
   "execution_count": 34,
   "id": "23a93ab9-5628-4cc8-a592-d4e14a730e61",
   "metadata": {},
   "outputs": [
    {
     "data": {
      "text/plain": [
       "4"
      ]
     },
     "execution_count": 34,
     "metadata": {},
     "output_type": "execute_result"
    }
   ],
   "source": [
    "b"
   ]
  },
  {
   "cell_type": "code",
   "execution_count": 39,
   "id": "6be508ac-3ca2-454f-9b98-69415b76018f",
   "metadata": {},
   "outputs": [],
   "source": [
    "def test4():               # You can add any login in that function \n",
    "    a = 3 * 4 + 5\n",
    "    return a"
   ]
  },
  {
   "cell_type": "code",
   "execution_count": 38,
   "id": "54889fa1-d5b2-4bd7-aeb8-6bd84c652b5f",
   "metadata": {},
   "outputs": [
    {
     "data": {
      "text/plain": [
       "17"
      ]
     },
     "execution_count": 38,
     "metadata": {},
     "output_type": "execute_result"
    }
   ],
   "source": [
    "test4()"
   ]
  },
  {
   "cell_type": "code",
   "execution_count": 40,
   "id": "3eaf20f5-1304-40cb-acd7-088915646464",
   "metadata": {},
   "outputs": [],
   "source": [
    "def test5(a,b):             # whatever def fun is should you have to enter any number of return\n",
    "    c= a + b\n",
    "    return c"
   ]
  },
  {
   "cell_type": "code",
   "execution_count": 46,
   "id": "f8d0bbf5-c80e-4747-9307-8e5566d1b21a",
   "metadata": {},
   "outputs": [
    {
     "data": {
      "text/plain": [
       "11"
      ]
     },
     "execution_count": 46,
     "metadata": {},
     "output_type": "execute_result"
    }
   ],
   "source": [
    "test5(5,6)               # you can enter any number or anything insted of a,b "
   ]
  },
  {
   "cell_type": "code",
   "execution_count": 47,
   "id": "1f160866-121d-4ff9-b991-9b825dc260b8",
   "metadata": {},
   "outputs": [
    {
     "data": {
      "text/plain": [
       "'vaibhav'"
      ]
     },
     "execution_count": 47,
     "metadata": {},
     "output_type": "execute_result"
    }
   ],
   "source": [
    "test5(\"vai\",\"bhav\")      # you can add string even"
   ]
  },
  {
   "cell_type": "code",
   "execution_count": 48,
   "id": "c2bd830d-df9c-49b7-afbe-719586d8e60f",
   "metadata": {},
   "outputs": [
    {
     "data": {
      "text/plain": [
       "[1, 2, 3, 4, 4, 5, 6, 7, 8]"
      ]
     },
     "execution_count": 48,
     "metadata": {},
     "output_type": "execute_result"
    }
   ],
   "source": [
    "test5([1,2,3,4],[4,5,6,7,8])       # you can add list "
   ]
  },
  {
   "cell_type": "code",
   "execution_count": 49,
   "id": "6e1b4048-7d10-4530-93a2-622ea4508426",
   "metadata": {},
   "outputs": [
    {
     "data": {
      "text/plain": [
       "'kumar sudh'"
      ]
     },
     "execution_count": 49,
     "metadata": {},
     "output_type": "execute_result"
    }
   ],
   "source": [
    "test5( b = \" sudh\" , a = \"kumar\")         # you can assign the values "
   ]
  },
  {
   "cell_type": "code",
   "execution_count": 3,
   "id": "cb5505b8-6475-4f41-a476-080990639f01",
   "metadata": {},
   "outputs": [],
   "source": [
    "L = [1,2,3,4, \"sudh\", \"pwskills\", [1,2,3,34,45]]"
   ]
  },
  {
   "cell_type": "code",
   "execution_count": 51,
   "id": "1e968ee9-10e8-4ccf-894e-3c391fc3841f",
   "metadata": {},
   "outputs": [],
   "source": [
    "# we have assing list \n",
    "# Create a function which will take list as input and give me a final list with all the nummeric values\n"
   ]
  },
  {
   "cell_type": "code",
   "execution_count": 1,
   "id": "3903e02a-1e44-4b53-aa21-1fc9f764068d",
   "metadata": {},
   "outputs": [],
   "source": [
    "def test6(a):\n",
    "    n = []\n",
    "    for i in a :\n",
    "        if type(i)==int or type(i)== float:\n",
    "            n.append(i)\n",
    "    return n"
   ]
  },
  {
   "cell_type": "code",
   "execution_count": 4,
   "id": "09f88400-9516-491f-b32d-48ed9c580fb8",
   "metadata": {},
   "outputs": [
    {
     "data": {
      "text/plain": [
       "[1, 2, 3, 4]"
      ]
     },
     "execution_count": 4,
     "metadata": {},
     "output_type": "execute_result"
    }
   ],
   "source": [
    "test6(L)"
   ]
  },
  {
   "cell_type": "markdown",
   "id": "ca9229ab-e40b-456a-8867-2af3a40df7a6",
   "metadata": {},
   "source": [
    "# if List is inside List with int and if you need to extract that int from that list "
   ]
  },
  {
   "cell_type": "code",
   "execution_count": 6,
   "id": "2f16af6d-af3e-4beb-b00b-30028208d581",
   "metadata": {},
   "outputs": [
    {
     "data": {
      "text/plain": [
       "[1, 2, 3, 4, 'sudh', 'pwskills', [1, 2, 3, 34, 45]]"
      ]
     },
     "execution_count": 6,
     "metadata": {},
     "output_type": "execute_result"
    }
   ],
   "source": [
    "L"
   ]
  },
  {
   "cell_type": "code",
   "execution_count": 11,
   "id": "1db2f3f4-dbc3-409c-9ace-d1d61839f9db",
   "metadata": {},
   "outputs": [],
   "source": [
    "def test7(a):\n",
    "    n =[]\n",
    "    for i in a :\n",
    "        if type(i)==list:\n",
    "            for j in i :\n",
    "                if type(j) == int or type (j)== float:\n",
    "                    n.append(j)\n",
    "        else :\n",
    "            if type(i) == int or type(i) == float:\n",
    "                n.append(i)\n",
    "    return n"
   ]
  },
  {
   "cell_type": "code",
   "execution_count": 12,
   "id": "89144c45-f52b-4fd7-8d53-dc8e072fc06b",
   "metadata": {},
   "outputs": [
    {
     "data": {
      "text/plain": [
       "[1, 2, 3, 4, 1, 2, 3, 34, 45]"
      ]
     },
     "execution_count": 12,
     "metadata": {},
     "output_type": "execute_result"
    }
   ],
   "source": [
    "test7(L)"
   ]
  },
  {
   "cell_type": "code",
   "execution_count": null,
   "id": "c6831d48-b685-433e-94e2-cc1b1bbba464",
   "metadata": {},
   "outputs": [],
   "source": []
  },
  {
   "cell_type": "markdown",
   "id": "94d591fa-9053-4fe8-a6ad-93699f9e3ddd",
   "metadata": {},
   "source": [
    "# Function Part 2"
   ]
  },
  {
   "cell_type": "code",
   "execution_count": 14,
   "id": "7cb1078d-f31e-4139-a149-1f6e82db4d37",
   "metadata": {},
   "outputs": [],
   "source": [
    "def test(a,b,c,d,e):\n",
    "    pass"
   ]
  },
  {
   "cell_type": "code",
   "execution_count": 15,
   "id": "6fb38cae-d5d5-4993-aa78-61c85234c0df",
   "metadata": {},
   "outputs": [],
   "source": [
    "test(1,2,3,4,5)"
   ]
  },
  {
   "cell_type": "code",
   "execution_count": 17,
   "id": "2f7b207a-a319-4d0f-a80b-eca15f625ed4",
   "metadata": {},
   "outputs": [
    {
     "ename": "TypeError",
     "evalue": "test() takes 5 positional arguments but 7 were given",
     "output_type": "error",
     "traceback": [
      "\u001b[0;31m---------------------------------------------------------------------------\u001b[0m",
      "\u001b[0;31mTypeError\u001b[0m                                 Traceback (most recent call last)",
      "Cell \u001b[0;32mIn[17], line 1\u001b[0m\n\u001b[0;32m----> 1\u001b[0m \u001b[43mtest\u001b[49m\u001b[43m(\u001b[49m\u001b[38;5;241;43m1\u001b[39;49m\u001b[43m,\u001b[49m\u001b[38;5;241;43m2\u001b[39;49m\u001b[43m,\u001b[49m\u001b[38;5;241;43m3\u001b[39;49m\u001b[43m,\u001b[49m\u001b[38;5;241;43m4\u001b[39;49m\u001b[43m,\u001b[49m\u001b[38;5;241;43m5\u001b[39;49m\u001b[43m,\u001b[49m\u001b[38;5;241;43m6\u001b[39;49m\u001b[43m,\u001b[49m\u001b[38;5;241;43m7\u001b[39;49m\u001b[43m)\u001b[49m       \u001b[38;5;66;03m# in fuc you given 5 abcde but in given value are tyring 7\u001b[39;00m\n",
      "\u001b[0;31mTypeError\u001b[0m: test() takes 5 positional arguments but 7 were given"
     ]
    }
   ],
   "source": [
    "test(1,2,3,4,5,6,7)       # in fun you given 5 abcde but in given value are tyring 7"
   ]
  },
  {
   "cell_type": "code",
   "execution_count": 19,
   "id": "908b37e3-0f31-4233-be85-59f397938968",
   "metadata": {},
   "outputs": [],
   "source": [
    "def test1(*args):\n",
    "    return args"
   ]
  },
  {
   "cell_type": "code",
   "execution_count": 20,
   "id": "27d990b9-6e84-4a0b-82f6-a04bfa691003",
   "metadata": {},
   "outputs": [
    {
     "data": {
      "text/plain": [
       "(2,)"
      ]
     },
     "execution_count": 20,
     "metadata": {},
     "output_type": "execute_result"
    }
   ],
   "source": [
    "test1(2)"
   ]
  },
  {
   "cell_type": "code",
   "execution_count": 21,
   "id": "d14458f1-32a8-4fd1-9b0f-bc8b870c87ca",
   "metadata": {},
   "outputs": [
    {
     "data": {
      "text/plain": [
       "(2, 3, 4, 5, 5)"
      ]
     },
     "execution_count": 21,
     "metadata": {},
     "output_type": "execute_result"
    }
   ],
   "source": [
    "test1(2,3,4,5,5)"
   ]
  },
  {
   "cell_type": "code",
   "execution_count": 23,
   "id": "02b77b6b-301e-4dd2-b0b0-ad3d7ba83cb9",
   "metadata": {},
   "outputs": [
    {
     "data": {
      "text/plain": [
       "('sudh', [1, 2, 34, 5], (1, 23, 45, 45))"
      ]
     },
     "execution_count": 23,
     "metadata": {},
     "output_type": "execute_result"
    }
   ],
   "source": [
    "test1(\"sudh\",[1,2,34,5],(1,23,45,45)) # you can add eny type of Agrument (*args) you can add any name insted of args"
   ]
  },
  {
   "cell_type": "code",
   "execution_count": 24,
   "id": "861f97bf-ec58-4945-96d6-dadaad1cf46d",
   "metadata": {},
   "outputs": [],
   "source": [
    "def test2(*vaibh):\n",
    "    return vaibh"
   ]
  },
  {
   "cell_type": "code",
   "execution_count": 25,
   "id": "3fac79ca-8f2a-4f34-8948-22c2e26f7e39",
   "metadata": {},
   "outputs": [
    {
     "data": {
      "text/plain": [
       "(4, 56, 65, 4)"
      ]
     },
     "execution_count": 25,
     "metadata": {},
     "output_type": "execute_result"
    }
   ],
   "source": [
    "test2(4,56,65,4)"
   ]
  },
  {
   "cell_type": "code",
   "execution_count": 28,
   "id": "bb880c15-74c1-497d-88b7-d7313c3de728",
   "metadata": {},
   "outputs": [],
   "source": [
    "def test3(*args, a):\n",
    "    return args,a"
   ]
  },
  {
   "cell_type": "code",
   "execution_count": 29,
   "id": "7f0405d5-2fcb-48d9-b7ed-09ed75f2ddf5",
   "metadata": {},
   "outputs": [
    {
     "ename": "TypeError",
     "evalue": "test3() missing 1 required keyword-only argument: 'a'",
     "output_type": "error",
     "traceback": [
      "\u001b[0;31m---------------------------------------------------------------------------\u001b[0m",
      "\u001b[0;31mTypeError\u001b[0m                                 Traceback (most recent call last)",
      "Cell \u001b[0;32mIn[29], line 1\u001b[0m\n\u001b[0;32m----> 1\u001b[0m \u001b[43mtest3\u001b[49m\u001b[43m(\u001b[49m\u001b[38;5;241;43m3\u001b[39;49m\u001b[43m)\u001b[49m\n",
      "\u001b[0;31mTypeError\u001b[0m: test3() missing 1 required keyword-only argument: 'a'"
     ]
    }
   ],
   "source": [
    "test3(3)"
   ]
  },
  {
   "cell_type": "code",
   "execution_count": 32,
   "id": "5f15214f-c2bf-4c76-ba90-b7db92246cf4",
   "metadata": {},
   "outputs": [
    {
     "data": {
      "text/plain": [
       "((4, 5, 6, 7), 'bhav')"
      ]
     },
     "execution_count": 32,
     "metadata": {},
     "output_type": "execute_result"
    }
   ],
   "source": [
    "test3(4,5,6,7, a = \"bhav\")"
   ]
  },
  {
   "cell_type": "code",
   "execution_count": 34,
   "id": "134028cb-369f-4400-867e-d67ee87fcf01",
   "metadata": {},
   "outputs": [],
   "source": [
    "def test4(*args):\n",
    "    L =[]\n",
    "    for i in args:\n",
    "        if type(i) == list:\n",
    "            L.append(i)\n",
    "            \n",
    "    return L\n",
    "        "
   ]
  },
  {
   "cell_type": "code",
   "execution_count": 37,
   "id": "6aaba0b5-f34c-4853-ab9d-1ac6e33e2d7c",
   "metadata": {},
   "outputs": [
    {
     "data": {
      "text/plain": [
       "[[9, 8, 7, 6], ['v', 'b', 'n', 'm']]"
      ]
     },
     "execution_count": 37,
     "metadata": {},
     "output_type": "execute_result"
    }
   ],
   "source": [
    "test4(1,2,3, [9,8,7,6],(4,5),\"sudh\", ['v','b','n','m'])"
   ]
  },
  {
   "cell_type": "code",
   "execution_count": 38,
   "id": "2978dc03-12c7-436d-ae39-4a5666c6a6b8",
   "metadata": {},
   "outputs": [],
   "source": [
    "## if you n number input in the form of  key and value"
   ]
  },
  {
   "cell_type": "code",
   "execution_count": 43,
   "id": "55fef7fe-c6e7-40d7-8e49-2880fb980fb0",
   "metadata": {},
   "outputs": [],
   "source": [
    "def test5(**kwargs):\n",
    "    return kwargs"
   ]
  },
  {
   "cell_type": "code",
   "execution_count": 44,
   "id": "80290c8b-fee5-438b-8a8d-5c92c796dda8",
   "metadata": {},
   "outputs": [
    {
     "data": {
      "text/plain": [
       "{}"
      ]
     },
     "execution_count": 44,
     "metadata": {},
     "output_type": "execute_result"
    }
   ],
   "source": [
    "test5()"
   ]
  },
  {
   "cell_type": "code",
   "execution_count": 45,
   "id": "9aac9bd4-05d9-4e17-872f-f560b0cdbf93",
   "metadata": {},
   "outputs": [
    {
     "data": {
      "text/plain": [
       "dict"
      ]
     },
     "execution_count": 45,
     "metadata": {},
     "output_type": "execute_result"
    }
   ],
   "source": [
    "type(test5())"
   ]
  },
  {
   "cell_type": "code",
   "execution_count": 46,
   "id": "c058b3e2-ede3-4091-ade9-4514c7344582",
   "metadata": {},
   "outputs": [
    {
     "data": {
      "text/plain": [
       "{'a': 32, 'b': 44, 'c': [1, 23, 45], 'd': ('sudh', ' pwskill')}"
      ]
     },
     "execution_count": 46,
     "metadata": {},
     "output_type": "execute_result"
    }
   ],
   "source": [
    "test5(a=32, b=44, c =[1,23,45],d= (\"sudh\",\" pwskill\"))"
   ]
  },
  {
   "cell_type": "code",
   "execution_count": 47,
   "id": "45052789-e717-45a9-a1d2-901261b2ee32",
   "metadata": {},
   "outputs": [],
   "source": [
    "# you will able to extract the any data from above list"
   ]
  },
  {
   "cell_type": "code",
   "execution_count": 48,
   "id": "ea007607-5f3a-46a8-92ec-027940a068b7",
   "metadata": {},
   "outputs": [],
   "source": [
    "def test6 (**kwargs):\n",
    "    for i in kwargs.keys():\n",
    "        if type(kwargs[i]) == list:\n",
    "            return i, kwargs[i]\n",
    "    "
   ]
  },
  {
   "cell_type": "code",
   "execution_count": 51,
   "id": "f077af45-a2ea-401c-9cc5-e4699c7561ad",
   "metadata": {},
   "outputs": [
    {
     "data": {
      "text/plain": [
       "('c', [1, 23, 45])"
      ]
     },
     "execution_count": 51,
     "metadata": {},
     "output_type": "execute_result"
    }
   ],
   "source": [
    "test6(a=32, b=44, c =[1,23,45],d= (\"sudh\",\" pwskill\"))"
   ]
  },
  {
   "cell_type": "code",
   "execution_count": 52,
   "id": "db5a25b2-6bcd-45e2-b275-48e4c826342f",
   "metadata": {},
   "outputs": [],
   "source": [
    "# below is mean this function Can take N number of Argument and N number of Key's and values at same time.\n",
    "\n",
    "def test7(*args, **kwargs):\n",
    "    return args, kwargs\n",
    "    "
   ]
  },
  {
   "cell_type": "code",
   "execution_count": 54,
   "id": "84ced528-8d80-47b2-a895-7d755ae3a498",
   "metadata": {},
   "outputs": [
    {
     "data": {
      "text/plain": [
       "((2, 3, 4, 5), {'a': 34, 'b': 94})"
      ]
     },
     "execution_count": 54,
     "metadata": {},
     "output_type": "execute_result"
    }
   ],
   "source": [
    "test7(2,3,4,5, a =34, b=94)      # it give tuples and dic in output"
   ]
  },
  {
   "cell_type": "code",
   "execution_count": null,
   "id": "c771ff1a-30b8-48b7-a13f-61ab12f9ddc4",
   "metadata": {},
   "outputs": [],
   "source": []
  },
  {
   "cell_type": "markdown",
   "id": "477e636a-9988-4b87-9c91-a2ce2f7fabed",
   "metadata": {},
   "source": [
    "## Generator Function"
   ]
  },
  {
   "cell_type": "code",
   "execution_count": 1,
   "id": "11307d64-8ec4-410e-8ce3-4cdd3ed690d9",
   "metadata": {},
   "outputs": [
    {
     "data": {
      "text/plain": [
       "range(1, 10)"
      ]
     },
     "execution_count": 1,
     "metadata": {},
     "output_type": "execute_result"
    }
   ],
   "source": [
    "range(1,10)"
   ]
  },
  {
   "cell_type": "code",
   "execution_count": 4,
   "id": "86211228-051b-4b29-8830-b900f359b075",
   "metadata": {},
   "outputs": [
    {
     "name": "stdout",
     "output_type": "stream",
     "text": [
      "1\n",
      "2\n",
      "3\n",
      "4\n",
      "5\n",
      "6\n",
      "7\n",
      "8\n",
      "9\n"
     ]
    }
   ],
   "source": [
    "for i in range(1,10):\n",
    "    print(i)"
   ]
  },
  {
   "cell_type": "code",
   "execution_count": 5,
   "id": "582f2ec8-f89d-4056-8775-925d4f9a6515",
   "metadata": {},
   "outputs": [],
   "source": [
    "L=[1,2,3,4,5,6,7,\"sudh\",\"pwskills\"]"
   ]
  },
  {
   "cell_type": "code",
   "execution_count": 6,
   "id": "7fcf12eb-5f1c-4965-8664-a56264e46fd2",
   "metadata": {},
   "outputs": [],
   "source": [
    "def test1(a):\n",
    "    n =[]\n",
    "    for i in a :\n",
    "        if type(i) == int :\n",
    "            n.append(i)\n",
    "    return n"
   ]
  },
  {
   "cell_type": "code",
   "execution_count": 8,
   "id": "a112aaaa-a13f-4d3b-a4c3-1686b5ebc3dc",
   "metadata": {},
   "outputs": [
    {
     "data": {
      "text/plain": [
       "[1, 2, 3, 4, 5, 6, 7]"
      ]
     },
     "execution_count": 8,
     "metadata": {},
     "output_type": "execute_result"
    }
   ],
   "source": [
    "test1(L)"
   ]
  },
  {
   "cell_type": "code",
   "execution_count": 9,
   "id": "78000d77-9332-4460-923c-8affc51e138a",
   "metadata": {},
   "outputs": [
    {
     "data": {
      "text/plain": [
       "(0, 1, 1, 2, 3, 5, 8, 13, 21, 34)"
      ]
     },
     "execution_count": 9,
     "metadata": {},
     "output_type": "execute_result"
    }
   ],
   "source": [
    "##Fibonacci : its add two previous number then get number\n",
    "\n",
    "0,1,1,2,3,5,8,13,21,34"
   ]
  },
  {
   "cell_type": "code",
   "execution_count": 11,
   "id": "9251f864-a254-4c89-858a-1e0fd59eaf56",
   "metadata": {},
   "outputs": [],
   "source": [
    "def test_fib(n):\n",
    "    a,b=0,1\n",
    "    for i in range(n):\n",
    "        yield a\n",
    "        a,b = b,a+b"
   ]
  },
  {
   "cell_type": "code",
   "execution_count": 12,
   "id": "6e8de766-c5a9-425b-992b-7e00ace8a787",
   "metadata": {},
   "outputs": [
    {
     "data": {
      "text/plain": [
       "<generator object test_fib at 0x7f58100a5af0>"
      ]
     },
     "execution_count": 12,
     "metadata": {},
     "output_type": "execute_result"
    }
   ],
   "source": [
    "test_fib(10)        # for output of fib you  have to use for loop"
   ]
  },
  {
   "cell_type": "code",
   "execution_count": 13,
   "id": "78601d4f-a41d-42a3-985b-dedea2e1ecef",
   "metadata": {},
   "outputs": [
    {
     "name": "stdout",
     "output_type": "stream",
     "text": [
      "0\n",
      "1\n",
      "1\n",
      "2\n",
      "3\n",
      "5\n",
      "8\n",
      "13\n",
      "21\n",
      "34\n"
     ]
    }
   ],
   "source": [
    "for i in test_fib(10):\n",
    "    print(i)"
   ]
  },
  {
   "cell_type": "code",
   "execution_count": null,
   "id": "318d707c-326e-41c1-ad26-007ba6ffb931",
   "metadata": {},
   "outputs": [],
   "source": []
  }
 ],
 "metadata": {
  "kernelspec": {
   "display_name": "Python 3 (ipykernel)",
   "language": "python",
   "name": "python3"
  },
  "language_info": {
   "codemirror_mode": {
    "name": "ipython",
    "version": 3
   },
   "file_extension": ".py",
   "mimetype": "text/x-python",
   "name": "python",
   "nbconvert_exporter": "python",
   "pygments_lexer": "ipython3",
   "version": "3.10.8"
  }
 },
 "nbformat": 4,
 "nbformat_minor": 5
}
