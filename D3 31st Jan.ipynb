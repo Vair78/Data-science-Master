{
 "cells": [
  {
   "cell_type": "markdown",
   "id": "b3246cfa-5640-40ac-aaff-8b2f667f6549",
   "metadata": {},
   "source": [
    "### Logical Operators\n",
    "\n",
    "1. And\n",
    "2. or\n",
    "3. not"
   ]
  },
  {
   "cell_type": "code",
   "execution_count": 3,
   "id": "e42a97ec-3a97-461e-bac3-fac523ce28a4",
   "metadata": {},
   "outputs": [
    {
     "data": {
      "text/plain": [
       "True"
      ]
     },
     "execution_count": 3,
     "metadata": {},
     "output_type": "execute_result"
    }
   ],
   "source": [
    "True and True"
   ]
  },
  {
   "cell_type": "code",
   "execution_count": 4,
   "id": "c9206e1c-a87a-4f56-8d47-66a2c4f36b09",
   "metadata": {},
   "outputs": [
    {
     "data": {
      "text/plain": [
       "True"
      ]
     },
     "execution_count": 4,
     "metadata": {},
     "output_type": "execute_result"
    }
   ],
   "source": [
    "True or Flase"
   ]
  },
  {
   "cell_type": "code",
   "execution_count": null,
   "id": "c1be383e-e822-43cb-a51e-e87d4e71db1e",
   "metadata": {},
   "outputs": [],
   "source": [
    "# les define two variable having bollean \n",
    "START = True\n",
    "STOP = False \n",
    "\n",
    "# print the values as it is \n",
    "print(f\"Defined value of START ={START}\")\n",
    "print(f\"Defined value of STOP ={STOP}\")\n",
    "\n",
    "#if can also be written as \n",
    "print(f\"Defined value of START ={START}\")\n",
    "print(f\"value of STOP by negating START ={int(not(START)}\\n\")"
   ]
  },
  {
   "cell_type": "code",
   "execution_count": 5,
   "id": "851efa0a-6b58-4c51-9f4e-78769e656649",
   "metadata": {},
   "outputs": [
    {
     "data": {
      "text/plain": [
       "False"
      ]
     },
     "execution_count": 5,
     "metadata": {},
     "output_type": "execute_result"
    }
   ],
   "source": [
    "not True"
   ]
  },
  {
   "cell_type": "code",
   "execution_count": 6,
   "id": "ea4b8de7-ee29-470e-b1e6-f7b5d06d7937",
   "metadata": {},
   "outputs": [
    {
     "data": {
      "text/plain": [
       "True"
      ]
     },
     "execution_count": 6,
     "metadata": {},
     "output_type": "execute_result"
    }
   ],
   "source": [
    "not bool(0)"
   ]
  },
  {
   "cell_type": "code",
   "execution_count": 7,
   "id": "e3f98ec1-cad3-408b-b658-cb108cd5defd",
   "metadata": {},
   "outputs": [
    {
     "data": {
      "text/plain": [
       "0"
      ]
     },
     "execution_count": 7,
     "metadata": {},
     "output_type": "execute_result"
    }
   ],
   "source": [
    "int(bool(0))"
   ]
  },
  {
   "cell_type": "code",
   "execution_count": 8,
   "id": "ca91195e-471b-4b9d-99d9-9fcfc92e7d4e",
   "metadata": {},
   "outputs": [
    {
     "data": {
      "text/plain": [
       "True"
      ]
     },
     "execution_count": 8,
     "metadata": {},
     "output_type": "execute_result"
    }
   ],
   "source": [
    "not int(bool(0))"
   ]
  },
  {
   "cell_type": "code",
   "execution_count": 9,
   "id": "e47004ba-322f-40c4-9e58-9747d44ea363",
   "metadata": {},
   "outputs": [
    {
     "data": {
      "text/plain": [
       "True"
      ]
     },
     "execution_count": 9,
     "metadata": {},
     "output_type": "execute_result"
    }
   ],
   "source": [
    "bool(1)"
   ]
  },
  {
   "cell_type": "code",
   "execution_count": 11,
   "id": "9099985a-c721-439d-8bfb-6407b3a53e44",
   "metadata": {},
   "outputs": [
    {
     "data": {
      "text/plain": [
       "1"
      ]
     },
     "execution_count": 11,
     "metadata": {},
     "output_type": "execute_result"
    }
   ],
   "source": [
    "int(bool(1))"
   ]
  },
  {
   "cell_type": "code",
   "execution_count": 12,
   "id": "e2bfd92e-aad0-4f5d-a6ae-cdbfd83c870d",
   "metadata": {},
   "outputs": [
    {
     "data": {
      "text/plain": [
       "False"
      ]
     },
     "execution_count": 12,
     "metadata": {},
     "output_type": "execute_result"
    }
   ],
   "source": [
    "not int(bool(1))"
   ]
  },
  {
   "cell_type": "code",
   "execution_count": 13,
   "id": "0cb64766-840d-4152-8c2c-d551090510e5",
   "metadata": {},
   "outputs": [
    {
     "data": {
      "text/plain": [
       "False"
      ]
     },
     "execution_count": 13,
     "metadata": {},
     "output_type": "execute_result"
    }
   ],
   "source": [
    "not 1"
   ]
  },
  {
   "cell_type": "code",
   "execution_count": 14,
   "id": "22583e04-b33e-483d-babb-5c677a99f8e0",
   "metadata": {},
   "outputs": [
    {
     "data": {
      "text/plain": [
       "True"
      ]
     },
     "execution_count": 14,
     "metadata": {},
     "output_type": "execute_result"
    }
   ],
   "source": [
    "not 0"
   ]
  },
  {
   "cell_type": "code",
   "execution_count": null,
   "id": "0fafbe14-ff5d-401d-a2ef-3eccf43b3664",
   "metadata": {},
   "outputs": [],
   "source": []
  },
  {
   "cell_type": "code",
   "execution_count": null,
   "id": "e46e6316-2459-4a31-af92-4ab7212d6cea",
   "metadata": {},
   "outputs": [],
   "source": []
  },
  {
   "cell_type": "code",
   "execution_count": null,
   "id": "bfe13952-53c5-4ffa-b720-8957f42b1811",
   "metadata": {},
   "outputs": [],
   "source": []
  },
  {
   "cell_type": "code",
   "execution_count": 17,
   "id": "a951f190-9b70-4843-9de7-f7440a8c1eaf",
   "metadata": {},
   "outputs": [
    {
     "name": "stdout",
     "output_type": "stream",
     "text": [
      "boolean value of no. 0 is False\n",
      "bollean value of no.1 is True\n",
      "negation of 0 is True and negation of 1 is False\n",
      "\n",
      "#-----------------------#\n",
      "\n"
     ]
    }
   ],
   "source": [
    "zero =0\n",
    "one =1\n",
    "\n",
    "\n",
    "print(f\"boolean value of no. {zero} is {bool(zero)}\")\n",
    "print(f\"bollean value of no.{one} is {bool(one)}\")\n",
    "print(f\"negation of {zero} is {not zero} and negation of {one} is {not one}\")\n",
    "print(\"\\n#-----------------------#\\n\")"
   ]
  },
  {
   "cell_type": "code",
   "execution_count": 18,
   "id": "0df36a4d-e075-428a-98ab-362b5405666c",
   "metadata": {},
   "outputs": [],
   "source": [
    "Some_negative_integer =-5\n",
    "Some_positive_integer =5\n",
    "\n",
    "print(f\"bollean value of no. {Some_negative_integer}\n",
    "\n",
    "\n",
    "\n",
    "\n",
    "\n",
    "\n",
    "\n",
    "\n",
    "\n",
    "\n",
    "\n",
    "\n"
   ]
  },
  {
   "cell_type": "markdown",
   "id": "a05a214c-cd35-49d8-b901-3f97895ae980",
   "metadata": {},
   "source": [
    "## Logical And"
   ]
  },
  {
   "cell_type": "code",
   "execution_count": 19,
   "id": "b8b96222-fb58-4d89-9a99-bb586b25a91a",
   "metadata": {},
   "outputs": [
    {
     "name": "stdout",
     "output_type": "stream",
     "text": [
      "dish contains VEGETABLE:True\n",
      "dish contains SALT: False\n",
      "Hence dish prepared was good :False\n",
      "\n"
     ]
    }
   ],
   "source": [
    "VEGETABLE = True\n",
    "SALT = False\n",
    "DISH = VEGETABLE and SALT\n",
    "\n",
    "print(f\"dish contains VEGETABLE:{VEGETABLE}\")\n",
    "print(f\"dish contains SALT: {SALT}\")\n",
    "print(f\"Hence dish prepared was good :{DISH}\\n\")"
   ]
  },
  {
   "cell_type": "code",
   "execution_count": 20,
   "id": "971a400a-398a-4aa5-a06f-bb959935ed64",
   "metadata": {},
   "outputs": [
    {
     "data": {
      "text/plain": [
       "0"
      ]
     },
     "execution_count": 20,
     "metadata": {},
     "output_type": "execute_result"
    }
   ],
   "source": [
    "True * False"
   ]
  },
  {
   "cell_type": "code",
   "execution_count": 21,
   "id": "6b66033a-b1c6-4a58-b578-030ed26c613d",
   "metadata": {},
   "outputs": [
    {
     "data": {
      "text/plain": [
       "True"
      ]
     },
     "execution_count": 21,
     "metadata": {},
     "output_type": "execute_result"
    }
   ],
   "source": [
    "not(False)* True"
   ]
  },
  {
   "cell_type": "code",
   "execution_count": 22,
   "id": "093fed77-cd54-49b8-9ffd-91dc06e6f8fa",
   "metadata": {},
   "outputs": [
    {
     "data": {
      "text/plain": [
       "0"
      ]
     },
     "execution_count": 22,
     "metadata": {},
     "output_type": "execute_result"
    }
   ],
   "source": [
    "False * (not(False))"
   ]
  },
  {
   "cell_type": "code",
   "execution_count": 25,
   "id": "d33b5055-559d-47b4-b211-d4eb74c95c9e",
   "metadata": {},
   "outputs": [
    {
     "data": {
      "text/plain": [
       "True"
      ]
     },
     "execution_count": 25,
     "metadata": {},
     "output_type": "execute_result"
    }
   ],
   "source": [
    "not(True) * False   # IMP"
   ]
  },
  {
   "cell_type": "code",
   "execution_count": 24,
   "id": "0e225792-df80-406a-b7f8-b3b75a95e4cb",
   "metadata": {},
   "outputs": [
    {
     "data": {
      "text/plain": [
       "True"
      ]
     },
     "execution_count": 24,
     "metadata": {},
     "output_type": "execute_result"
    }
   ],
   "source": [
    "(not(False))    "
   ]
  },
  {
   "cell_type": "code",
   "execution_count": null,
   "id": "d0310728-1342-4512-9bbb-a8da2924615b",
   "metadata": {},
   "outputs": [],
   "source": [
    "### Please learn Rule of  PEDMAS which stands for Parentheses, Exponents, Division, Multiplication, Addition, and Subtraction\n",
    "The BODMAS rule states we should calculate the \n",
    "Brackets first (2 + 4 = 6), then the Orders (52 = 25), \n",
    "then any Division or Multiplication (3 x 6 (the answer to the brackets) = 18), \n",
    "and finally any Addition or Subtraction (18 + 25 = 43)\n"
   ]
  },
  {
   "cell_type": "code",
   "execution_count": 27,
   "id": "cbe48ac0-7c06-413a-9b9e-0ccb53d71b9b",
   "metadata": {},
   "outputs": [
    {
     "data": {
      "text/plain": [
       "9.2"
      ]
     },
     "execution_count": 27,
     "metadata": {},
     "output_type": "execute_result"
    }
   ],
   "source": [
    "(2*3+40)/5"
   ]
  },
  {
   "cell_type": "code",
   "execution_count": 28,
   "id": "5f7cdd98-1b4e-4b76-a4e1-3af0e8780b56",
   "metadata": {},
   "outputs": [
    {
     "data": {
      "text/plain": [
       "0"
      ]
     },
     "execution_count": 28,
     "metadata": {},
     "output_type": "execute_result"
    }
   ],
   "source": [
    "False * True"
   ]
  },
  {
   "cell_type": "code",
   "execution_count": 30,
   "id": "f33d4dfd-4ac4-43a9-9a1f-4610a4280a29",
   "metadata": {},
   "outputs": [
    {
     "data": {
      "text/plain": [
       "True"
      ]
     },
     "execution_count": 30,
     "metadata": {},
     "output_type": "execute_result"
    }
   ],
   "source": [
    "not(False * True)"
   ]
  },
  {
   "cell_type": "raw",
   "id": "c16b852f-b814-48d9-854a-3d097e622bd4",
   "metadata": {},
   "source": [
    "### 4.1.2 Equality Operation\n",
    "Following operation aer present in pyth0on for equlity check operation\n",
    "Operation                       Meaning\n",
    "is            a is b return tru if varibable /identifiers a and b points to the same object\n",
    "is not        a is not b returns true if variable/identifier a and b points to the diffenent object\n",
    "==            a==b returns true if variable/ identifiers  a and b has same values\n",
    "!=            a != b returns  true if variable /identifers a and b has differnt values\n",
    "\n",
    "\n",
    "\n"
   ]
  },
  {
   "cell_type": "code",
   "execution_count": 5,
   "id": "c9af1442-bf23-43ee-82c5-cbf1fd1babf3",
   "metadata": {},
   "outputs": [],
   "source": [
    "lst_a=[1,2,3,4]\n",
    "lst_b=[1,2,3,4]"
   ]
  },
  {
   "cell_type": "code",
   "execution_count": 6,
   "id": "1169ef73-0a1f-4510-8395-e2cc53ff3d45",
   "metadata": {},
   "outputs": [
    {
     "name": "stdout",
     "output_type": "stream",
     "text": [
      "140468655604288\n",
      "140468707723968\n"
     ]
    }
   ],
   "source": [
    "print(id(lst_a))\n",
    "print(id(lst_b))"
   ]
  },
  {
   "cell_type": "code",
   "execution_count": 7,
   "id": "7fc1ef52-19d4-4cc9-8a28-ecb75e5ba983",
   "metadata": {},
   "outputs": [
    {
     "data": {
      "text/plain": [
       "False"
      ]
     },
     "execution_count": 7,
     "metadata": {},
     "output_type": "execute_result"
    }
   ],
   "source": [
    "lst_a is lst_b"
   ]
  },
  {
   "cell_type": "code",
   "execution_count": 1,
   "id": "1f909ebf-7277-46fe-897f-2900dea7f4bc",
   "metadata": {},
   "outputs": [],
   "source": [
    "lst_a=[1,2,3,4]\n",
    "lst_b=lst_a"
   ]
  },
  {
   "cell_type": "code",
   "execution_count": 2,
   "id": "b7cd7613-fc13-47c0-b9ff-9ec85573873f",
   "metadata": {},
   "outputs": [
    {
     "name": "stdout",
     "output_type": "stream",
     "text": [
      "140468655581568\n",
      "140468655581568\n"
     ]
    }
   ],
   "source": [
    "print(id(lst_a))\n",
    "print(id(lst_b))"
   ]
  },
  {
   "cell_type": "code",
   "execution_count": 3,
   "id": "1ba6e7af-9880-4e14-9473-b2bbdb67917f",
   "metadata": {},
   "outputs": [
    {
     "data": {
      "text/plain": [
       "True"
      ]
     },
     "execution_count": 3,
     "metadata": {},
     "output_type": "execute_result"
    }
   ],
   "source": [
    "lst_a is lst_b"
   ]
  },
  {
   "cell_type": "markdown",
   "id": "b424e3c1-4e64-488d-a5ae-8535c2a00e6c",
   "metadata": {},
   "source": [
    "## IS NOT "
   ]
  },
  {
   "cell_type": "code",
   "execution_count": 8,
   "id": "e7526c7c-e07d-4e05-8ec9-2d2059cee71c",
   "metadata": {},
   "outputs": [
    {
     "data": {
      "text/plain": [
       "True"
      ]
     },
     "execution_count": 8,
     "metadata": {},
     "output_type": "execute_result"
    }
   ],
   "source": [
    "lst_a=[1,2,3,4]\n",
    "lst_b=[1,2,3,4]\n",
    "\n",
    "lst_a is not lst_b"
   ]
  },
  {
   "cell_type": "code",
   "execution_count": 10,
   "id": "3a13ee16-cffe-404e-8b63-99ec6af1fac6",
   "metadata": {},
   "outputs": [
    {
     "data": {
      "text/plain": [
       "True"
      ]
     },
     "execution_count": 10,
     "metadata": {},
     "output_type": "execute_result"
    }
   ],
   "source": [
    "lst_a == lst_b         # it will match the inside valuse then give asnwer"
   ]
  },
  {
   "cell_type": "code",
   "execution_count": 11,
   "id": "d8220f0b-7f5a-4c4f-ba59-58678bbdc2bf",
   "metadata": {},
   "outputs": [],
   "source": [
    "a=2\n",
    "b=2"
   ]
  },
  {
   "cell_type": "code",
   "execution_count": 12,
   "id": "7cc3c717-f53a-4b0e-ab01-2157cf4abb7f",
   "metadata": {},
   "outputs": [
    {
     "name": "stdout",
     "output_type": "stream",
     "text": [
      "140468756316432\n",
      "140468756316432\n"
     ]
    }
   ],
   "source": [
    "print(id(a))\n",
    "print(id(b))\n"
   ]
  },
  {
   "cell_type": "code",
   "execution_count": 13,
   "id": "d52c9627-4c83-4f93-939e-6db11962e52a",
   "metadata": {},
   "outputs": [
    {
     "name": "stdout",
     "output_type": "stream",
     "text": [
      "140468655497328\n",
      "140468655497328\n"
     ]
    }
   ],
   "source": [
    "str1=\"vaibhav\"\n",
    "str2=\"vaibhav\"\n",
    "print(id(str1))\n",
    "print(id(str2))"
   ]
  },
  {
   "cell_type": "markdown",
   "id": "7c94f2df-377f-4769-a0ce-bfc94150c307",
   "metadata": {},
   "source": [
    "##List : collection of element  its mutable mean it can change\n",
    "string = collection of value, string is imutable Mean cannot chagne the value"
   ]
  },
  {
   "cell_type": "code",
   "execution_count": 15,
   "id": "1940a560-ef8d-4a47-95bf-ce33d217e5b7",
   "metadata": {},
   "outputs": [
    {
     "name": "stdout",
     "output_type": "stream",
     "text": [
      "140468655497328\n",
      "140468655498416\n"
     ]
    }
   ],
   "source": [
    "str1=\"vaibhav\"\n",
    "str2=\"vaibhav1\"\n",
    "print(id(str1))\n",
    "print(id(str2))"
   ]
  },
  {
   "cell_type": "code",
   "execution_count": 17,
   "id": "a53e8f9f-2ffd-4be0-adb3-d4ba5d7c766e",
   "metadata": {},
   "outputs": [
    {
     "data": {
      "text/plain": [
       "[1, 2, 3, 4]"
      ]
     },
     "execution_count": 17,
     "metadata": {},
     "output_type": "execute_result"
    }
   ],
   "source": [
    "lst_a"
   ]
  },
  {
   "cell_type": "code",
   "execution_count": 18,
   "id": "f927532f-ce1f-402b-ae8c-b698873c0f2b",
   "metadata": {},
   "outputs": [
    {
     "data": {
      "text/plain": [
       "1"
      ]
     },
     "execution_count": 18,
     "metadata": {},
     "output_type": "execute_result"
    }
   ],
   "source": [
    "lst_a[0]"
   ]
  },
  {
   "cell_type": "code",
   "execution_count": 19,
   "id": "fdc3b78e-bec8-4eb3-8cde-a3cc2e1b02de",
   "metadata": {},
   "outputs": [],
   "source": [
    "lst_a[0]=10"
   ]
  },
  {
   "cell_type": "code",
   "execution_count": 20,
   "id": "b399c1a0-7ad9-4249-b858-682a7b09857d",
   "metadata": {},
   "outputs": [
    {
     "data": {
      "text/plain": [
       "[10, 2, 3, 4]"
      ]
     },
     "execution_count": 20,
     "metadata": {},
     "output_type": "execute_result"
    }
   ],
   "source": [
    "lst_a"
   ]
  },
  {
   "cell_type": "code",
   "execution_count": 21,
   "id": "f0087175-2a0c-47e0-af5e-e80d5d5175a1",
   "metadata": {},
   "outputs": [
    {
     "data": {
      "text/plain": [
       "'v'"
      ]
     },
     "execution_count": 21,
     "metadata": {},
     "output_type": "execute_result"
    }
   ],
   "source": [
    "str1[0]"
   ]
  },
  {
   "cell_type": "code",
   "execution_count": 22,
   "id": "f5aa7a75-f038-4108-a3c4-ac20bbcf089a",
   "metadata": {},
   "outputs": [
    {
     "ename": "SyntaxError",
     "evalue": "unterminated string literal (detected at line 1) (3221956592.py, line 1)",
     "output_type": "error",
     "traceback": [
      "\u001b[0;36m  Cell \u001b[0;32mIn[22], line 1\u001b[0;36m\u001b[0m\n\u001b[0;31m    str1[0]='N\"   ## Imutable\u001b[0m\n\u001b[0m            ^\u001b[0m\n\u001b[0;31mSyntaxError\u001b[0m\u001b[0;31m:\u001b[0m unterminated string literal (detected at line 1)\n"
     ]
    }
   ],
   "source": [
    "str1[0]='N\"   ## Imutable"
   ]
  },
  {
   "cell_type": "markdown",
   "id": "f420a496-b943-45ad-b72b-ccf4b1562a08",
   "metadata": {},
   "source": [
    "### operation\tMeaning\n",
    "<\tLess Than\n",
    "<=\tLess than or equal to\n",
    ">\tGreater than\n",
    ">=\tgreater than or equal to ##\n"
   ]
  },
  {
   "cell_type": "code",
   "execution_count": 26,
   "id": "e9b604d4-a3e3-4ff6-92a8-ad031cea9c4f",
   "metadata": {},
   "outputs": [
    {
     "name": "stdout",
     "output_type": "stream",
     "text": [
      "bike is faster than car:True\n"
     ]
    }
   ],
   "source": [
    "maximum_speed_of_bike =200\n",
    "max_speed_of_car =200\n",
    "\n",
    "print(f\"bike is faster than car:{maximum_speed_of_bike <= max_speed_of_car}\")"
   ]
  },
  {
   "cell_type": "markdown",
   "id": "dc0fa32e-f668-490e-bb91-74de3dcf342e",
   "metadata": {},
   "source": [
    "## Arithmethic Operation\n",
    "\n",
    "+\taddition\n",
    "-\tsubtraction\n",
    "*\tmultiplication\n",
    "/\tTrue division\n",
    "//\tInteger Division\n",
    "%\tthe modulo Operator\n",
    "\n"
   ]
  },
  {
   "cell_type": "code",
   "execution_count": 27,
   "id": "b79e0931-f9de-4f15-88d6-65094fc8b154",
   "metadata": {},
   "outputs": [],
   "source": [
    "a =25\n",
    "b=101"
   ]
  },
  {
   "cell_type": "code",
   "execution_count": 28,
   "id": "cb0eff26-60c1-44af-b703-daf568b723c0",
   "metadata": {},
   "outputs": [
    {
     "data": {
      "text/plain": [
       "2525"
      ]
     },
     "execution_count": 28,
     "metadata": {},
     "output_type": "execute_result"
    }
   ],
   "source": [
    "b*a\n"
   ]
  },
  {
   "cell_type": "code",
   "execution_count": 29,
   "id": "4b2ac37a-d00d-446c-ac48-2e6be4b70ec2",
   "metadata": {},
   "outputs": [
    {
     "data": {
      "text/plain": [
       "126"
      ]
     },
     "execution_count": 29,
     "metadata": {},
     "output_type": "execute_result"
    }
   ],
   "source": [
    "b+a"
   ]
  },
  {
   "cell_type": "code",
   "execution_count": 30,
   "id": "f730573a-0dca-4fa0-94f0-5087f5dddea9",
   "metadata": {},
   "outputs": [
    {
     "data": {
      "text/plain": [
       "4.04"
      ]
     },
     "execution_count": 30,
     "metadata": {},
     "output_type": "execute_result"
    }
   ],
   "source": [
    "b/a"
   ]
  },
  {
   "cell_type": "code",
   "execution_count": 31,
   "id": "f7588261-a862-4d53-897e-c0bca963f957",
   "metadata": {},
   "outputs": [
    {
     "data": {
      "text/plain": [
       "0.24752475247524752"
      ]
     },
     "execution_count": 31,
     "metadata": {},
     "output_type": "execute_result"
    }
   ],
   "source": [
    "a/b"
   ]
  },
  {
   "cell_type": "code",
   "execution_count": 32,
   "id": "e063102a-f5f2-4a02-b52a-52ff6f1ea210",
   "metadata": {},
   "outputs": [
    {
     "data": {
      "text/plain": [
       "0"
      ]
     },
     "execution_count": 32,
     "metadata": {},
     "output_type": "execute_result"
    }
   ],
   "source": [
    "a//b    // its focus of interger it will do round of float "
   ]
  },
  {
   "cell_type": "code",
   "execution_count": 33,
   "id": "55db5d47-97c1-4e51-ab8d-c60fdaaad225",
   "metadata": {},
   "outputs": [
    {
     "data": {
      "text/plain": [
       "1"
      ]
     },
     "execution_count": 33,
     "metadata": {},
     "output_type": "execute_result"
    }
   ],
   "source": [
    "b%a    #modulos operation "
   ]
  },
  {
   "cell_type": "code",
   "execution_count": 36,
   "id": "e03c35d9-c3d1-4458-9849-482b296f3e17",
   "metadata": {},
   "outputs": [
    {
     "data": {
      "text/plain": [
       "25"
      ]
     },
     "execution_count": 36,
     "metadata": {},
     "output_type": "execute_result"
    }
   ],
   "source": [
    "a%b"
   ]
  },
  {
   "cell_type": "markdown",
   "id": "68c2969a-32ac-4170-b6cc-80e0fd97b926",
   "metadata": {},
   "source": [
    "### BItwise Operators ##"
   ]
  },
  {
   "cell_type": "code",
   "execution_count": 39,
   "id": "ab31bb0a-ccdc-4aa6-968d-926ad7d7bd85",
   "metadata": {},
   "outputs": [
    {
     "data": {
      "text/plain": [
       "'0b1010'"
      ]
     },
     "execution_count": 39,
     "metadata": {},
     "output_type": "execute_result"
    }
   ],
   "source": [
    "var=10\n",
    "bin(var)"
   ]
  },
  {
   "cell_type": "code",
   "execution_count": 41,
   "id": "d87f9195-bccd-4833-922b-cc47b2affa3d",
   "metadata": {},
   "outputs": [
    {
     "data": {
      "text/plain": [
       "-11"
      ]
     },
     "execution_count": 41,
     "metadata": {},
     "output_type": "execute_result"
    }
   ],
   "source": [
    "~var"
   ]
  },
  {
   "cell_type": "code",
   "execution_count": 43,
   "id": "971aca80-b00c-4c07-987e-1ed3785d34d0",
   "metadata": {},
   "outputs": [
    {
     "data": {
      "text/plain": [
       "False"
      ]
     },
     "execution_count": 43,
     "metadata": {},
     "output_type": "execute_result"
    }
   ],
   "source": [
    "True & False"
   ]
  },
  {
   "cell_type": "code",
   "execution_count": 44,
   "id": "5b948d62-11a7-4478-bbd0-e9fd346fbfe7",
   "metadata": {},
   "outputs": [
    {
     "data": {
      "text/plain": [
       "True"
      ]
     },
     "execution_count": 44,
     "metadata": {},
     "output_type": "execute_result"
    }
   ],
   "source": [
    "True | False"
   ]
  },
  {
   "cell_type": "code",
   "execution_count": 45,
   "id": "c31ad3c3-13e7-4aeb-b32a-df85fb21453f",
   "metadata": {},
   "outputs": [
    {
     "data": {
      "text/plain": [
       "5"
      ]
     },
     "execution_count": 45,
     "metadata": {},
     "output_type": "execute_result"
    }
   ],
   "source": [
    "var >>1   # 10 is in binary 1010 if we shift 1 at end that will binary 0101 that is 5 "
   ]
  },
  {
   "cell_type": "markdown",
   "id": "e569f32f-b5a5-436b-84a9-9913cb74f6e0",
   "metadata": {},
   "source": [
    "## Please learn bitwise Operation##"
   ]
  },
  {
   "cell_type": "markdown",
   "id": "79953b6e-caf4-43df-9c81-c87ccb934722",
   "metadata": {},
   "source": [
    "## Strings "
   ]
  },
  {
   "cell_type": "code",
   "execution_count": 46,
   "id": "03cb88fe-0131-46b7-8f39-2da3c748b4be",
   "metadata": {},
   "outputs": [
    {
     "data": {
      "text/plain": [
       "'vaibhav'"
      ]
     },
     "execution_count": 46,
     "metadata": {},
     "output_type": "execute_result"
    }
   ],
   "source": [
    "# we will define string in single qoute or double qoute\n",
    "'vaibhav'\n",
    "\"vaibhav\""
   ]
  },
  {
   "cell_type": "code",
   "execution_count": 47,
   "id": "9eca712d-b868-45ff-aa86-79f9b294c40d",
   "metadata": {},
   "outputs": [],
   "source": [
    "str1 =\"welcome to data science master \""
   ]
  },
  {
   "cell_type": "code",
   "execution_count": 49,
   "id": "e87e26fa-2793-4501-8174-21a95200ad83",
   "metadata": {},
   "outputs": [
    {
     "data": {
      "text/plain": [
       "str"
      ]
     },
     "execution_count": 49,
     "metadata": {},
     "output_type": "execute_result"
    }
   ],
   "source": [
    "type(str1)"
   ]
  },
  {
   "cell_type": "code",
   "execution_count": 50,
   "id": "64e73fe1-c5ff-4999-9415-8ba0c3e84882",
   "metadata": {},
   "outputs": [
    {
     "data": {
      "text/plain": [
       "'w'"
      ]
     },
     "execution_count": 50,
     "metadata": {},
     "output_type": "execute_result"
    }
   ],
   "source": [
    "str1[0]    # string is imutable mean unchangeble "
   ]
  },
  {
   "cell_type": "code",
   "execution_count": 51,
   "id": "1ce4a959-fc45-4597-a51b-aef66c57ccf8",
   "metadata": {},
   "outputs": [
    {
     "ename": "TypeError",
     "evalue": "'str' object does not support item assignment",
     "output_type": "error",
     "traceback": [
      "\u001b[0;31m---------------------------------------------------------------------------\u001b[0m",
      "\u001b[0;31mTypeError\u001b[0m                                 Traceback (most recent call last)",
      "Cell \u001b[0;32mIn[51], line 1\u001b[0m\n\u001b[0;32m----> 1\u001b[0m \u001b[43mstr1\u001b[49m\u001b[43m[\u001b[49m\u001b[38;5;241;43m0\u001b[39;49m\u001b[43m]\u001b[49m \u001b[38;5;241m=\u001b[39m \u001b[38;5;241m12\u001b[39m \n",
      "\u001b[0;31mTypeError\u001b[0m: 'str' object does not support item assignment"
     ]
    }
   ],
   "source": [
    "str1[0] = 12 # string is imutable mean unchangeble "
   ]
  },
  {
   "cell_type": "code",
   "execution_count": 52,
   "id": "ffacfade-7d8d-4446-9151-6637253d9c53",
   "metadata": {},
   "outputs": [],
   "source": [
    "str1 =\"krish Naik\"  # we chagne the whole string but not values"
   ]
  },
  {
   "cell_type": "code",
   "execution_count": 53,
   "id": "05878369-1bb0-4626-9bff-48a48748f765",
   "metadata": {},
   "outputs": [
    {
     "data": {
      "text/plain": [
       "'krish Naik'"
      ]
     },
     "execution_count": 53,
     "metadata": {},
     "output_type": "execute_result"
    }
   ],
   "source": [
    "str1"
   ]
  },
  {
   "cell_type": "code",
   "execution_count": 55,
   "id": "d61f33f0-a449-4e3d-aa5a-9317d5b92474",
   "metadata": {},
   "outputs": [],
   "source": [
    "## Slice Operation \n",
    "\n",
    "string = \"Pw Skills Data Science\""
   ]
  },
  {
   "cell_type": "code",
   "execution_count": 56,
   "id": "7e988c36-0cf4-4b58-8a90-e02c29f0e8c8",
   "metadata": {},
   "outputs": [
    {
     "data": {
      "text/plain": [
       "'i'"
      ]
     },
     "execution_count": 56,
     "metadata": {},
     "output_type": "execute_result"
    }
   ],
   "source": [
    "string[5]"
   ]
  },
  {
   "cell_type": "code",
   "execution_count": 57,
   "id": "24aab9da-e17d-47dc-93cb-2eca4e314b2f",
   "metadata": {},
   "outputs": [
    {
     "data": {
      "text/plain": [
       "'ills Data Science'"
      ]
     },
     "execution_count": 57,
     "metadata": {},
     "output_type": "execute_result"
    }
   ],
   "source": [
    "string[5:]"
   ]
  },
  {
   "cell_type": "code",
   "execution_count": 58,
   "id": "72e5366e-37aa-40a4-ba1a-5924babc3bbf",
   "metadata": {},
   "outputs": [
    {
     "data": {
      "text/plain": [
       "'e'"
      ]
     },
     "execution_count": 58,
     "metadata": {},
     "output_type": "execute_result"
    }
   ],
   "source": [
    "string[-1]"
   ]
  },
  {
   "cell_type": "code",
   "execution_count": 60,
   "id": "c6b2b8b7-68b8-46cb-b331-bb7bc9096cbd",
   "metadata": {},
   "outputs": [
    {
     "data": {
      "text/plain": [
       "'nce'"
      ]
     },
     "execution_count": 60,
     "metadata": {},
     "output_type": "execute_result"
    }
   ],
   "source": [
    "string[-3:]"
   ]
  },
  {
   "cell_type": "code",
   "execution_count": 61,
   "id": "fd954cb7-d22e-4d12-89d8-519e0fee5155",
   "metadata": {},
   "outputs": [
    {
     "data": {
      "text/plain": [
       "'Science'"
      ]
     },
     "execution_count": 61,
     "metadata": {},
     "output_type": "execute_result"
    }
   ],
   "source": [
    "string[-7:]"
   ]
  },
  {
   "cell_type": "code",
   "execution_count": 62,
   "id": "6a0cfd7a-9066-4640-a01a-1549c6653ee7",
   "metadata": {},
   "outputs": [
    {
     "data": {
      "text/plain": [
       "'Scie'"
      ]
     },
     "execution_count": 62,
     "metadata": {},
     "output_type": "execute_result"
    }
   ],
   "source": [
    "string[-7:-3]"
   ]
  },
  {
   "cell_type": "code",
   "execution_count": 64,
   "id": "d42fa078-0a0b-4e92-92a6-56ecab981277",
   "metadata": {},
   "outputs": [
    {
     "data": {
      "text/plain": [
       "'Pw Skills Data Science'"
      ]
     },
     "execution_count": 64,
     "metadata": {},
     "output_type": "execute_result"
    }
   ],
   "source": [
    "string[:]"
   ]
  },
  {
   "cell_type": "code",
   "execution_count": 65,
   "id": "ebf60b70-fa08-4758-9916-a1a706edd988",
   "metadata": {},
   "outputs": [
    {
     "data": {
      "text/plain": [
       "'rt'"
      ]
     },
     "execution_count": 65,
     "metadata": {},
     "output_type": "execute_result"
    }
   ],
   "source": [
    "name=\"karthik\"\n",
    "name[-5:4]"
   ]
  },
  {
   "cell_type": "code",
   "execution_count": 67,
   "id": "c3460a80-f543-4fbb-8303-a3aaed75075f",
   "metadata": {},
   "outputs": [
    {
     "data": {
      "text/plain": [
       "'Pw Skills Data Science'"
      ]
     },
     "execution_count": 67,
     "metadata": {},
     "output_type": "execute_result"
    }
   ],
   "source": [
    "string"
   ]
  },
  {
   "cell_type": "code",
   "execution_count": 68,
   "id": "8b9677d7-5564-4fcc-a3a8-29ba5b02dfba",
   "metadata": {},
   "outputs": [
    {
     "data": {
      "text/plain": [
       "'ecneicS ataD sllikS wP'"
      ]
     },
     "execution_count": 68,
     "metadata": {},
     "output_type": "execute_result"
    }
   ],
   "source": [
    "string[::-1]          #::-1 show reverse "
   ]
  },
  {
   "cell_type": "code",
   "execution_count": 72,
   "id": "4ddd3877-f181-48c3-b41c-ab82975c2255",
   "metadata": {},
   "outputs": [
    {
     "data": {
      "text/plain": [
       "'eeSt lSP'"
      ]
     },
     "execution_count": 72,
     "metadata": {},
     "output_type": "execute_result"
    }
   ],
   "source": [
    "string[::-3]"
   ]
  },
  {
   "cell_type": "code",
   "execution_count": 73,
   "id": "821c57c5-9f9c-45a5-ad52-186b7209ecc8",
   "metadata": {},
   "outputs": [
    {
     "data": {
      "text/plain": [
       "'PSl tSee'"
      ]
     },
     "execution_count": 73,
     "metadata": {},
     "output_type": "execute_result"
    }
   ],
   "source": [
    "string[::3]"
   ]
  },
  {
   "cell_type": "code",
   "execution_count": 75,
   "id": "8c03c6d6-47a3-4a05-8b1c-1ddd2bf2b612",
   "metadata": {},
   "outputs": [
    {
     "data": {
      "text/plain": [
       "'hik'"
      ]
     },
     "execution_count": 75,
     "metadata": {},
     "output_type": "execute_result"
    }
   ],
   "source": [
    "name=\"krish\"\n",
    "name[::-2]"
   ]
  },
  {
   "cell_type": "code",
   "execution_count": 76,
   "id": "4628aef9-9dc5-4944-bab4-e93436562691",
   "metadata": {},
   "outputs": [
    {
     "data": {
      "text/plain": [
       "'irk'"
      ]
     },
     "execution_count": 76,
     "metadata": {},
     "output_type": "execute_result"
    }
   ],
   "source": [
    "name[2::-1]"
   ]
  },
  {
   "cell_type": "code",
   "execution_count": 78,
   "id": "ac406d87-3279-42f9-b274-6a1c1e03ab85",
   "metadata": {},
   "outputs": [
    {
     "data": {
      "text/plain": [
       "'si'"
      ]
     },
     "execution_count": 78,
     "metadata": {},
     "output_type": "execute_result"
    }
   ],
   "source": [
    "name[3:1:-1]"
   ]
  },
  {
   "cell_type": "code",
   "execution_count": 80,
   "id": "98abffd3-9a07-4392-9bbc-a2063edadfad",
   "metadata": {},
   "outputs": [],
   "source": [
    "course_name=\"Data science Master\""
   ]
  },
  {
   "cell_type": "code",
   "execution_count": 83,
   "id": "87a21716-a399-40ea-a465-8bc675f499b6",
   "metadata": {},
   "outputs": [
    {
     "data": {
      "text/plain": [
       "'science'"
      ]
     },
     "execution_count": 83,
     "metadata": {},
     "output_type": "execute_result"
    }
   ],
   "source": [
    "course_name[5:12]"
   ]
  },
  {
   "cell_type": "code",
   "execution_count": 87,
   "id": "70301712-fe9f-4f47-a13f-1826fc02e101",
   "metadata": {},
   "outputs": [
    {
     "data": {
      "text/plain": [
       "'ecneics'"
      ]
     },
     "execution_count": 87,
     "metadata": {},
     "output_type": "execute_result"
    }
   ],
   "source": [
    "course_name[11:4:-1]"
   ]
  },
  {
   "cell_type": "code",
   "execution_count": 88,
   "id": "d1a51b61-b35c-49b4-b9af-c0268a69772c",
   "metadata": {},
   "outputs": [
    {
     "data": {
      "text/plain": [
       "'Data science MasterData science MasterData science MasterData science MasterData science Master'"
      ]
     },
     "execution_count": 88,
     "metadata": {},
     "output_type": "execute_result"
    }
   ],
   "source": [
    "course_name*5"
   ]
  },
  {
   "cell_type": "code",
   "execution_count": 89,
   "id": "c0e2446e-a11a-4936-bb90-b378cfe6ce1b",
   "metadata": {},
   "outputs": [
    {
     "data": {
      "text/plain": [
       "19"
      ]
     },
     "execution_count": 89,
     "metadata": {},
     "output_type": "execute_result"
    }
   ],
   "source": [
    "len(course_name)"
   ]
  },
  {
   "cell_type": "code",
   "execution_count": 90,
   "id": "184475c9-723c-41de-a6ff-ff26fbd7cf7a",
   "metadata": {},
   "outputs": [
    {
     "data": {
      "text/plain": [
       "9"
      ]
     },
     "execution_count": 90,
     "metadata": {},
     "output_type": "execute_result"
    }
   ],
   "source": [
    "## Find Function\n",
    "\n",
    "course_name.find(\"n\")"
   ]
  },
  {
   "cell_type": "code",
   "execution_count": null,
   "id": "e9546c16-b769-4707-a7af-60fb98baa4c2",
   "metadata": {},
   "outputs": [],
   "source": [
    "## Find Function\n",
    "\n",
    "course_name.find(\"A\")"
   ]
  }
 ],
 "metadata": {
  "kernelspec": {
   "display_name": "Python 3 (ipykernel)",
   "language": "python",
   "name": "python3"
  },
  "language_info": {
   "codemirror_mode": {
    "name": "ipython",
    "version": 3
   },
   "file_extension": ".py",
   "mimetype": "text/x-python",
   "name": "python",
   "nbconvert_exporter": "python",
   "pygments_lexer": "ipython3",
   "version": "3.10.8"
  }
 },
 "nbformat": 4,
 "nbformat_minor": 5
}
