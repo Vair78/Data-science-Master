{
 "cells": [
  {
   "cell_type": "code",
   "execution_count": 3,
   "id": "1f761a35-5e6f-4273-889c-349aee0d69e3",
   "metadata": {},
   "outputs": [
    {
     "name": "stdout",
     "output_type": "stream",
     "text": [
      "hello World\n"
     ]
    }
   ],
   "source": [
    "print (\"hello World\")"
   ]
  },
  {
   "cell_type": "code",
   "execution_count": 6,
   "id": "e26f12e8-8ff0-475e-bec7-009254893fbf",
   "metadata": {},
   "outputs": [
    {
     "ename": "NameError",
     "evalue": "name 'Print' is not defined",
     "output_type": "error",
     "traceback": [
      "\u001b[0;31m---------------------------------------------------------------------------\u001b[0m",
      "\u001b[0;31mNameError\u001b[0m                                 Traceback (most recent call last)",
      "Cell \u001b[0;32mIn[6], line 1\u001b[0m\n\u001b[0;32m----> 1\u001b[0m \u001b[43mPrint\u001b[49m(\u001b[38;5;124m\"\u001b[39m\u001b[38;5;124mhello world my name is vaibhav i work in \u001b[39m\u001b[38;5;130;01m\\n\u001b[39;00m\u001b[38;5;124m PW skill and wipro\u001b[39m\u001b[38;5;124m\"\u001b[39m)\n",
      "\u001b[0;31mNameError\u001b[0m: name 'Print' is not defined"
     ]
    }
   ],
   "source": [
    "Print(\"hello world my name is vaibhav i work in \\n PW skill and wipro\")"
   ]
  },
  {
   "cell_type": "code",
   "execution_count": 9,
   "id": "af6065cc-af00-4bb5-bd0f-85de3a07ee1e",
   "metadata": {},
   "outputs": [],
   "source": [
    " name =\"Vaibhav\"\n",
    "Company = \"PWskill and wipro\""
   ]
  },
  {
   "cell_type": "code",
   "execution_count": 10,
   "id": "beef7bff-7e17-436c-bb26-a6e37d657f21",
   "metadata": {},
   "outputs": [
    {
     "data": {
      "text/plain": [
       "'Vaibhav'"
      ]
     },
     "execution_count": 10,
     "metadata": {},
     "output_type": "execute_result"
    }
   ],
   "source": [
    "name"
   ]
  },
  {
   "cell_type": "code",
   "execution_count": 11,
   "id": "04b1bdf1-7f83-4ce3-b8d3-5e278efc8627",
   "metadata": {},
   "outputs": [
    {
     "ename": "NameError",
     "evalue": "name 'Type' is not defined",
     "output_type": "error",
     "traceback": [
      "\u001b[0;31m---------------------------------------------------------------------------\u001b[0m",
      "\u001b[0;31mNameError\u001b[0m                                 Traceback (most recent call last)",
      "Cell \u001b[0;32mIn[11], line 1\u001b[0m\n\u001b[0;32m----> 1\u001b[0m \u001b[43mType\u001b[49m(\u001b[38;5;124m\"\u001b[39m\u001b[38;5;124mStllll\u001b[39m\u001b[38;5;124m\"\u001b[39m)\n",
      "\u001b[0;31mNameError\u001b[0m: name 'Type' is not defined"
     ]
    }
   ],
   "source": [
    "Type(\"Stllll\")"
   ]
  },
  {
   "cell_type": "code",
   "execution_count": 13,
   "id": "e5038932-8ded-4d02-b5f9-0f6e741d43d1",
   "metadata": {},
   "outputs": [
    {
     "data": {
      "text/plain": [
       "int"
      ]
     },
     "execution_count": 13,
     "metadata": {},
     "output_type": "execute_result"
    }
   ],
   "source": [
    "number=10\n",
    "type(number)"
   ]
  },
  {
   "cell_type": "code",
   "execution_count": 14,
   "id": "3a87c805-3fa5-4019-b764-37dbc44427f6",
   "metadata": {},
   "outputs": [
    {
     "data": {
      "text/plain": [
       "2.5"
      ]
     },
     "execution_count": 14,
     "metadata": {},
     "output_type": "execute_result"
    }
   ],
   "source": [
    "decimal_num=2.5\n",
    "decimal_num"
   ]
  },
  {
   "cell_type": "code",
   "execution_count": 15,
   "id": "fec600cb-9edd-4974-830e-b8b198d3cac8",
   "metadata": {},
   "outputs": [
    {
     "data": {
      "text/plain": [
       "str"
      ]
     },
     "execution_count": 15,
     "metadata": {},
     "output_type": "execute_result"
    }
   ],
   "source": [
    "type(\"hello\")"
   ]
  },
  {
   "cell_type": "code",
   "execution_count": 18,
   "id": "b45b1864-b501-4b60-a477-6419242f55b6",
   "metadata": {},
   "outputs": [
    {
     "data": {
      "text/plain": [
       "complex"
      ]
     },
     "execution_count": 18,
     "metadata": {},
     "output_type": "execute_result"
    }
   ],
   "source": [
    "type(1 + 2j)"
   ]
  },
  {
   "cell_type": "code",
   "execution_count": 19,
   "id": "03dee42c-266e-4add-82fa-b4783c716e96",
   "metadata": {},
   "outputs": [],
   "source": [
    "number1=23"
   ]
  },
  {
   "cell_type": "code",
   "execution_count": 20,
   "id": "ee9cfcdf-9691-486c-90c1-25041792f2bb",
   "metadata": {},
   "outputs": [
    {
     "name": "stdout",
     "output_type": "stream",
     "text": [
      "pwskill\n",
      "pwskill\n"
     ]
    }
   ],
   "source": [
    "## variables are case sensitive\n",
    "company='inenron'\n",
    "company='pwskill'\n",
    "print(company)\n",
    "print(company)"
   ]
  },
  {
   "cell_type": "code",
   "execution_count": null,
   "id": "c8b09401-6135-4995-a315-26e2503484cb",
   "metadata": {},
   "outputs": [],
   "source": [
    "## resevered Keywords\n",
    "...\n",
    "int,float,len,complex,bool, str, return, yield\n",
    "..."
   ]
  },
  {
   "cell_type": "code",
   "execution_count": 21,
   "id": "7906679a-5daa-481c-8e08-80586f1d071d",
   "metadata": {},
   "outputs": [],
   "source": [
    "float = 32"
   ]
  },
  {
   "cell_type": "code",
   "execution_count": 22,
   "id": "6bce56dd-3560-4797-9a9a-c47f14ac9374",
   "metadata": {},
   "outputs": [
    {
     "ename": "NameError",
     "evalue": "name 'true' is not defined",
     "output_type": "error",
     "traceback": [
      "\u001b[0;31m---------------------------------------------------------------------------\u001b[0m",
      "\u001b[0;31mNameError\u001b[0m                                 Traceback (most recent call last)",
      "Cell \u001b[0;32mIn[22], line 2\u001b[0m\n\u001b[1;32m      1\u001b[0m \u001b[38;5;66;03m## Boolean\u001b[39;00m\n\u001b[0;32m----> 2\u001b[0m \u001b[43mtrue\u001b[49m\n",
      "\u001b[0;31mNameError\u001b[0m: name 'true' is not defined"
     ]
    }
   ],
   "source": [
    "## Boolean\n",
    "true"
   ]
  },
  {
   "cell_type": "code",
   "execution_count": 23,
   "id": "5c8b2703-c6c1-4ec0-a41c-364d513f92d0",
   "metadata": {},
   "outputs": [
    {
     "data": {
      "text/plain": [
       "False"
      ]
     },
     "execution_count": 23,
     "metadata": {},
     "output_type": "execute_result"
    }
   ],
   "source": [
    "True and False"
   ]
  },
  {
   "cell_type": "code",
   "execution_count": 28,
   "id": "ef5a5705-4239-4829-9970-4c94e73d5aad",
   "metadata": {},
   "outputs": [
    {
     "data": {
      "text/plain": [
       "True"
      ]
     },
     "execution_count": 28,
     "metadata": {},
     "output_type": "execute_result"
    }
   ],
   "source": [
    "True or false "
   ]
  },
  {
   "cell_type": "code",
   "execution_count": 26,
   "id": "3d586570-19a6-4473-90f8-8280f4203d79",
   "metadata": {},
   "outputs": [
    {
     "data": {
      "text/plain": [
       "False"
      ]
     },
     "execution_count": 26,
     "metadata": {},
     "output_type": "execute_result"
    }
   ],
   "source": [
    "not True"
   ]
  },
  {
   "cell_type": "code",
   "execution_count": 27,
   "id": "b8b99699-a81b-4a5c-b64c-ee098a5d41a8",
   "metadata": {},
   "outputs": [
    {
     "ename": "NameError",
     "evalue": "name 'Flase' is not defined",
     "output_type": "error",
     "traceback": [
      "\u001b[0;31m---------------------------------------------------------------------------\u001b[0m",
      "\u001b[0;31mNameError\u001b[0m                                 Traceback (most recent call last)",
      "Cell \u001b[0;32mIn[27], line 1\u001b[0m\n\u001b[0;32m----> 1\u001b[0m \u001b[38;5;129;01mnot\u001b[39;00m \u001b[43mFlase\u001b[49m\n",
      "\u001b[0;31mNameError\u001b[0m: name 'Flase' is not defined"
     ]
    }
   ],
   "source": [
    "not False"
   ]
  },
  {
   "cell_type": "code",
   "execution_count": 29,
   "id": "8b573ac2-f2d0-479a-adcb-3d673e2db66b",
   "metadata": {},
   "outputs": [
    {
     "data": {
      "text/plain": [
       "False"
      ]
     },
     "execution_count": 29,
     "metadata": {},
     "output_type": "execute_result"
    }
   ],
   "source": [
    "bool(0)"
   ]
  },
  {
   "cell_type": "code",
   "execution_count": 34,
   "id": "534c5a94-3041-49bd-a8bf-a80b9f30ae08",
   "metadata": {},
   "outputs": [],
   "source": [
    "a=1\n",
    "if type (bool(a))==True:\n",
    "    print(\"True\")"
   ]
  },
  {
   "cell_type": "code",
   "execution_count": 36,
   "id": "e53d2670-cb43-4e6e-97f2-2fd1fdb1db7b",
   "metadata": {},
   "outputs": [
    {
     "name": "stdout",
     "output_type": "stream",
     "text": [
      "True\n"
     ]
    }
   ],
   "source": [
    "print(bool(a))"
   ]
  },
  {
   "cell_type": "code",
   "execution_count": 37,
   "id": "e632837b-11c3-4df9-8eda-c17cbf0f226c",
   "metadata": {},
   "outputs": [
    {
     "data": {
      "text/plain": [
       "'23'"
      ]
     },
     "execution_count": 37,
     "metadata": {},
     "output_type": "execute_result"
    }
   ],
   "source": [
    "str(23)"
   ]
  },
  {
   "cell_type": "code",
   "execution_count": 38,
   "id": "4950be74-c229-49da-b316-18e0d8553dee",
   "metadata": {},
   "outputs": [
    {
     "data": {
      "text/plain": [
       "23"
      ]
     },
     "execution_count": 38,
     "metadata": {},
     "output_type": "execute_result"
    }
   ],
   "source": [
    "int('23')"
   ]
  },
  {
   "cell_type": "code",
   "execution_count": 39,
   "id": "a0d5d8d4-4c2d-4aee-97fc-529da724ed4d",
   "metadata": {},
   "outputs": [
    {
     "data": {
      "text/plain": [
       "int"
      ]
     },
     "execution_count": 39,
     "metadata": {},
     "output_type": "execute_result"
    }
   ],
   "source": [
    "type(int('23'))"
   ]
  },
  {
   "cell_type": "markdown",
   "id": "2666da31-8af4-4ab3-8944-58ed4359c59f",
   "metadata": {},
   "source": [
    "## Dynamic Typic"
   ]
  },
  {
   "cell_type": "code",
   "execution_count": 41,
   "id": "19e76544-1114-4a3f-b8f0-1c93766966dd",
   "metadata": {},
   "outputs": [
    {
     "ename": "SyntaxError",
     "evalue": "unterminated string literal (detected at line 2) (1938253057.py, line 2)",
     "output_type": "error",
     "traceback": [
      "\u001b[0;36m  Cell \u001b[0;32mIn[41], line 2\u001b[0;36m\u001b[0m\n\u001b[0;31m    str1=\"krish'\u001b[0m\n\u001b[0m         ^\u001b[0m\n\u001b[0;31mSyntaxError\u001b[0m\u001b[0;31m:\u001b[0m unterminated string literal (detected at line 2)\n"
     ]
    }
   ],
   "source": [
    "a=12\n",
    "str1=\"krish'\n",
    "a=\"var\""
   ]
  },
  {
   "cell_type": "code",
   "execution_count": 42,
   "id": "e7b7f1a1-d4f8-4f70-b23e-f0c09c7cd1a8",
   "metadata": {},
   "outputs": [
    {
     "name": "stdout",
     "output_type": "stream",
     "text": [
      "<class 'int'>\n"
     ]
    }
   ],
   "source": [
    "print(type(a))"
   ]
  },
  {
   "cell_type": "code",
   "execution_count": 43,
   "id": "e5ee7166-d323-45ae-ad81-dcf09df2dada",
   "metadata": {},
   "outputs": [
    {
     "data": {
      "text/plain": [
       "1"
      ]
     },
     "execution_count": 43,
     "metadata": {},
     "output_type": "execute_result"
    }
   ],
   "source": [
    "int(1.5) "
   ]
  },
  {
   "cell_type": "code",
   "execution_count": 44,
   "id": "f684d514-e5ac-4e7e-ae47-635f156f4c91",
   "metadata": {},
   "outputs": [
    {
     "data": {
      "text/plain": [
       "'11'"
      ]
     },
     "execution_count": 44,
     "metadata": {},
     "output_type": "execute_result"
    }
   ],
   "source": [
    "## Concaternatin between differnet type\n",
    "\"1\"+\"1\""
   ]
  },
  {
   "cell_type": "code",
   "execution_count": 45,
   "id": "74ffc6bc-ce22-4aa0-8629-195e654cb79c",
   "metadata": {},
   "outputs": [
    {
     "ename": "TypeError",
     "evalue": "unsupported operand type(s) for +: 'int' and 'str'",
     "output_type": "error",
     "traceback": [
      "\u001b[0;31m---------------------------------------------------------------------------\u001b[0m",
      "\u001b[0;31mTypeError\u001b[0m                                 Traceback (most recent call last)",
      "Cell \u001b[0;32mIn[45], line 1\u001b[0m\n\u001b[0;32m----> 1\u001b[0m \u001b[38;5;28;43mint\u001b[39;49m\u001b[43m(\u001b[49m\u001b[38;5;124;43m\"\u001b[39;49m\u001b[38;5;124;43m1\u001b[39;49m\u001b[38;5;124;43m\"\u001b[39;49m\u001b[43m)\u001b[49m\u001b[38;5;241;43m+\u001b[39;49m\u001b[43m \u001b[49m\u001b[43m(\u001b[49m\u001b[38;5;124;43m\"\u001b[39;49m\u001b[38;5;124;43m1\u001b[39;49m\u001b[38;5;124;43m\"\u001b[39;49m\u001b[43m)\u001b[49m\n",
      "\u001b[0;31mTypeError\u001b[0m: unsupported operand type(s) for +: 'int' and 'str'"
     ]
    }
   ],
   "source": [
    "int(\"1\")+ (\"1\")"
   ]
  },
  {
   "cell_type": "code",
   "execution_count": 46,
   "id": "af3943b5-615e-4f5b-9734-33350eb54316",
   "metadata": {},
   "outputs": [
    {
     "data": {
      "text/plain": [
       "'1111111111111111111111111111111111111111111111111111111111111111111111111111111111111111111111111111'"
      ]
     },
     "execution_count": 46,
     "metadata": {},
     "output_type": "execute_result"
    }
   ],
   "source": [
    "\"1\" *100"
   ]
  },
  {
   "cell_type": "code",
   "execution_count": 49,
   "id": "53893ab2-ca8a-4084-92af-d4dba4b42512",
   "metadata": {},
   "outputs": [
    {
     "data": {
      "text/plain": [
       "False"
      ]
     },
     "execution_count": 49,
     "metadata": {},
     "output_type": "execute_result"
    }
   ],
   "source": [
    "bool(0)"
   ]
  },
  {
   "cell_type": "code",
   "execution_count": null,
   "id": "8b2c253b-b71d-45bf-9c16-1fe617413d15",
   "metadata": {},
   "outputs": [],
   "source": []
  }
 ],
 "metadata": {
  "kernelspec": {
   "display_name": "Python 3 (ipykernel)",
   "language": "python",
   "name": "python3"
  },
  "language_info": {
   "codemirror_mode": {
    "name": "ipython",
    "version": 3
   },
   "file_extension": ".py",
   "mimetype": "text/x-python",
   "name": "python",
   "nbconvert_exporter": "python",
   "pygments_lexer": "ipython3",
   "version": "3.10.8"
  }
 },
 "nbformat": 4,
 "nbformat_minor": 5
}
